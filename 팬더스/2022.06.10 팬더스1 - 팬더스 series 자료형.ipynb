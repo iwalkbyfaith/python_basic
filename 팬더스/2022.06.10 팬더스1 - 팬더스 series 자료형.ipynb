{
 "cells": [
  {
   "cell_type": "markdown",
   "id": "6b589a60",
   "metadata": {},
   "source": [
    "- 넘파이 > 시리즈 > 데이터 소스"
   ]
  },
  {
   "cell_type": "markdown",
   "id": "cb6f5cf9",
   "metadata": {},
   "source": [
    "# ⬛ Pandas\n",
    "\n",
    "- 데이터 처리 및 분석을 위한 라이브러리\n",
    "- 대용량 데이터를 안정적이면서도 간편하게 처리\n",
    "- 서로 다른 데이터타입으로 열을 구성할 수 있음 <br>\n",
    "(참고) Numpy : 전체 배열 원소를 동일한 타입으로 제한\n",
    "- 주요 기능\n",
    "    - 데이터 입출력 : csv, excel, RDB, JSON 등 다양한 포맷의 데이터를 효율적으로 처리할 수 있는 형식을 사용 💛\n",
    "    - 데이터 가공 : 분리, 결합, 계층, 피봇 등\n",
    "    - 통계 분석 처리 💛 \n",
    "\n",
    "\n",
    "\n",
    "## 자료형\n",
    "- Series <br>\n",
    "\n",
    "    - 1차원 배열과 유사한 자료형\n",
    "    - 색인(index) : 행 번호\n",
    "        - 각각의 데이터에 부여하는 속성으로 기본값은 0부터 1씩 증가하는 숫자 지정\n",
    "        - index 파라미터를 통해 새로운 값으로 변경 가능\n",
    "        - 리스트, 튜플 타입으로 새로운 값을 전달해야하며 다차원 자료형은 사용할 수 없음\n",
    "        - 전달하는 색인의 개수와 데이터의 개수가 일치해야 함\n",
    "    - 각각의 색인과 데이터가 매핑되어 있으므로 dictionary 자료형과 유사\n",
    "    - 여러 가지 데이터 타입 사용 가능\n",
    "    \n",
    "    \n",
    "- (추가) 시리즈보다는 데이터 프레임을 쓴다 => 데이터 프레임 : 시리즈를 중첩한 것\n",
    "\n",
    "\n",
    "\n",
    "<img src=\"img/series_example.png\" width=\"250\" align=\"center\">"
   ]
  },
  {
   "cell_type": "markdown",
   "id": "654b1602",
   "metadata": {},
   "source": [
    "- 인덱스는 0부터 1씩 증가하는 숫자\n",
    "- 라벨을 사용하여 딕셔너리처럼 사용할 수도 있음"
   ]
  },
  {
   "cell_type": "markdown",
   "id": "928fdb67",
   "metadata": {},
   "source": [
    "    "
   ]
  },
  {
   "cell_type": "code",
   "execution_count": 2,
   "id": "7acc15b1",
   "metadata": {},
   "outputs": [],
   "source": [
    "# ⬛ pandas 라이브러리 및 Series, DataFrame 네임 스페이스 불러오기\n",
    "\n",
    "import pandas as pd"
   ]
  },
  {
   "cell_type": "code",
   "execution_count": 3,
   "id": "8511e742",
   "metadata": {},
   "outputs": [
    {
     "name": "stderr",
     "output_type": "stream",
     "text": [
      "<ipython-input-3-b1c90600badc>:3: DeprecationWarning: The default dtype for empty Series will be 'object' instead of 'float64' in a future version. Specify a dtype explicitly to silence this warning.\n",
      "  pd.Series()\n"
     ]
    },
    {
     "data": {
      "text/plain": [
       "Series([], dtype: float64)"
      ]
     },
     "execution_count": 3,
     "metadata": {},
     "output_type": "execute_result"
    }
   ],
   "source": [
    "# 🔴 Series 생성\n",
    "\n",
    "pd.Series()\n",
    "\n",
    "## 결과값 : Series([], dtype: float64)\n",
    "## numpy에서는 array라고 적혀있었고, 여기서는 Series라고 적혀있음"
   ]
  },
  {
   "cell_type": "markdown",
   "id": "c1959440",
   "metadata": {},
   "source": [
    "    "
   ]
  },
  {
   "cell_type": "markdown",
   "id": "ce0aec77",
   "metadata": {},
   "source": [
    "### 1. Series 생성\n",
    "\n",
    "- 하나의 값(숫자, 문자) 또는 자료형(리스트, 튜플, np 배열)으로 데이터 전달\n",
    "\n",
    "### 2. Series 속성\n",
    "\n",
    "- 속성은 소괄호를 붙이지 않음 <<<\n",
    "- index : series 객체의 인덱스 배열을 반환\n",
    "- values : series 객체의 데이터(값) 배열을 반환\n",
    "- name : series 객체의 이름을 반환 \n",
    "- dtype : series 객체의 데이터 타입을 반환\n",
    "- size : series 객체의 데이터 개수(길이)를 반환\n",
    "- shape : series 객체의 구조(행, 열, 차원)를 반환"
   ]
  },
  {
   "cell_type": "code",
   "execution_count": 4,
   "id": "a3118d88",
   "metadata": {},
   "outputs": [
    {
     "data": {
      "text/plain": [
       "0    10\n",
       "dtype: int64"
      ]
     },
     "execution_count": 4,
     "metadata": {},
     "output_type": "execute_result"
    }
   ],
   "source": [
    "# 🔴 숫자 10을 데이터로 가지고 있는 Series\n",
    "\n",
    "## 🔸 결과 해석\n",
    "### ◾ 왼쪽 0 : 자동으로 생성되는 기본 인덱스 번호 ( 0부터 시작 )\n",
    "### ◾ 오른쪽 10 : 입력한 데이터 값\n",
    "\n",
    "s1 = pd.Series(10) ## Series라는 타입의 '생성자'라고 생각하면 됨\n",
    "s1"
   ]
  },
  {
   "cell_type": "code",
   "execution_count": 5,
   "id": "66549549",
   "metadata": {},
   "outputs": [
    {
     "data": {
      "text/plain": [
       "array([10], dtype=int64)"
      ]
     },
     "execution_count": 5,
     "metadata": {},
     "output_type": "execute_result"
    }
   ],
   "source": [
    "## 🔸 데이터 내부에 저장된 값 확인\n",
    "\n",
    "s1.values\n",
    "\n",
    "## 결과값 : array([10], dtype=int64)\n",
    "### array[10]보면 >> 넘파이 배열임을 알 수 있다.💛 "
   ]
  },
  {
   "cell_type": "code",
   "execution_count": 6,
   "id": "42d2485f",
   "metadata": {},
   "outputs": [
    {
     "data": {
      "text/plain": [
       "RangeIndex(start=0, stop=1, step=1)"
      ]
     },
     "execution_count": 6,
     "metadata": {},
     "output_type": "execute_result"
    }
   ],
   "source": [
    "## 🔸 인덱스 번호 확인\n",
    "\n",
    "## RangeIndex : 기본적으로 부여되는 인덱스 번호가 사용되고 있을 때 지정되는 자료형\n",
    "\n",
    "s1.index"
   ]
  },
  {
   "cell_type": "code",
   "execution_count": 7,
   "id": "facd7b6d",
   "metadata": {},
   "outputs": [
    {
     "data": {
      "text/plain": [
       "0    abc\n",
       "dtype: object"
      ]
     },
     "execution_count": 7,
     "metadata": {},
     "output_type": "execute_result"
    }
   ],
   "source": [
    "# 🔴 문자 abc를 데이터로 가지고 있는 Series\n",
    "\n",
    "s2 = pd.Series('abc')\n",
    "s2"
   ]
  },
  {
   "cell_type": "code",
   "execution_count": 8,
   "id": "5e77bbd0",
   "metadata": {},
   "outputs": [
    {
     "data": {
      "text/plain": [
       "array(['abc'], dtype=object)"
      ]
     },
     "execution_count": 8,
     "metadata": {},
     "output_type": "execute_result"
    }
   ],
   "source": [
    "## 🔸 데이터 확인\n",
    "\n",
    "s2.values"
   ]
  },
  {
   "cell_type": "code",
   "execution_count": 9,
   "id": "0280b506",
   "metadata": {},
   "outputs": [
    {
     "data": {
      "text/plain": [
       "RangeIndex(start=0, stop=1, step=1)"
      ]
     },
     "execution_count": 9,
     "metadata": {},
     "output_type": "execute_result"
    }
   ],
   "source": [
    "## 🔸 인덱스 확인\n",
    "\n",
    "s2.index"
   ]
  },
  {
   "cell_type": "code",
   "execution_count": 10,
   "id": "d0b3f47a",
   "metadata": {},
   "outputs": [
    {
     "data": {
      "text/plain": [
       "0    10\n",
       "1    20\n",
       "2    30\n",
       "dtype: int64"
      ]
     },
     "execution_count": 10,
     "metadata": {},
     "output_type": "execute_result"
    }
   ],
   "source": [
    "# 🔴 리스트 자료형을 데이터로 가지고 있는 Series\n",
    "\n",
    "s3 = pd.Series([10, 20, 30])\n",
    "s3"
   ]
  },
  {
   "cell_type": "code",
   "execution_count": 11,
   "id": "6b5aa95d",
   "metadata": {},
   "outputs": [
    {
     "data": {
      "text/plain": [
       "array([10, 20, 30], dtype=int64)"
      ]
     },
     "execution_count": 11,
     "metadata": {},
     "output_type": "execute_result"
    }
   ],
   "source": [
    "## 🔸 데이터 확인\n",
    "\n",
    "s3.values"
   ]
  },
  {
   "cell_type": "code",
   "execution_count": 12,
   "id": "1a2c43db",
   "metadata": {},
   "outputs": [
    {
     "data": {
      "text/plain": [
       "RangeIndex(start=0, stop=3, step=1)"
      ]
     },
     "execution_count": 12,
     "metadata": {},
     "output_type": "execute_result"
    }
   ],
   "source": [
    "## 🔸 인덱스 확인\n",
    "s3.index"
   ]
  },
  {
   "cell_type": "code",
   "execution_count": 13,
   "id": "46fb1b25",
   "metadata": {},
   "outputs": [
    {
     "data": {
      "text/plain": [
       "0    [10, 20, 30]\n",
       "dtype: object"
      ]
     },
     "execution_count": 13,
     "metadata": {},
     "output_type": "execute_result"
    }
   ],
   "source": [
    "# 🔴  [10,20,30]을 하나의 값에 넣고 싶다면 '이중 리스트'로 주면 된다.\n",
    "\n",
    "ss = pd.Series([[10,20,30]])\n",
    "ss"
   ]
  },
  {
   "cell_type": "code",
   "execution_count": 14,
   "id": "f57a55eb",
   "metadata": {},
   "outputs": [
    {
     "data": {
      "text/plain": [
       "0         10.3\n",
       "1         test\n",
       "2          200\n",
       "3    [1, 2, 3]\n",
       "dtype: object"
      ]
     },
     "execution_count": 14,
     "metadata": {},
     "output_type": "execute_result"
    }
   ],
   "source": [
    "# 🔴 데이터 타입이 서로 다른 리스트 자료형\n",
    "\n",
    "s4 = pd.Series([10.3, 'test', 200, [1,2,3]])\n",
    "s4"
   ]
  },
  {
   "cell_type": "code",
   "execution_count": 15,
   "id": "290ebd60",
   "metadata": {},
   "outputs": [
    {
     "data": {
      "text/plain": [
       "array([10.3, 'test', 200, list([1, 2, 3])], dtype=object)"
      ]
     },
     "execution_count": 15,
     "metadata": {},
     "output_type": "execute_result"
    }
   ],
   "source": [
    "# 🔸 데이터 확인\n",
    "\n",
    "s4.values"
   ]
  },
  {
   "cell_type": "code",
   "execution_count": 16,
   "id": "037e5e7e",
   "metadata": {},
   "outputs": [
    {
     "data": {
      "text/plain": [
       "RangeIndex(start=0, stop=4, step=1)"
      ]
     },
     "execution_count": 16,
     "metadata": {},
     "output_type": "execute_result"
    }
   ],
   "source": [
    "# 🔸 인덱스 확인\n",
    "s4.index"
   ]
  },
  {
   "cell_type": "code",
   "execution_count": 17,
   "id": "2f7d02a9",
   "metadata": {},
   "outputs": [
    {
     "data": {
      "text/plain": [
       "0    1.0\n",
       "1    2.0\n",
       "2    3.0\n",
       "3    4.0\n",
       "4    5.0\n",
       "dtype: float64"
      ]
     },
     "execution_count": 17,
     "metadata": {},
     "output_type": "execute_result"
    }
   ],
   "source": [
    "# 🔴 튜플도 리스트처럼 1차원 자료로 주면, 각각 내부자료를 풀어서 집어 넣습니다.\n",
    "\n",
    "s5 = pd.Series((1, 2, 3, 4, 5.0))\n",
    "s5\n",
    "\n",
    "## 통일시킬 수 있는 자료형이 있으면 바꾸어버림!"
   ]
  },
  {
   "cell_type": "code",
   "execution_count": 18,
   "id": "cce5f454",
   "metadata": {},
   "outputs": [
    {
     "name": "stdout",
     "output_type": "stream",
     "text": [
      "[1. 2. 3. 4. 5.]\n",
      "RangeIndex(start=0, stop=5, step=1)\n"
     ]
    }
   ],
   "source": [
    "# 🔸 데이터, 인덱스 확인\n",
    "\n",
    "print(s5.values)\n",
    "print(s5.index)"
   ]
  },
  {
   "cell_type": "code",
   "execution_count": 19,
   "id": "f14260e5",
   "metadata": {},
   "outputs": [
    {
     "data": {
      "text/plain": [
       "array([1., 2., 3., 4., 5.])"
      ]
     },
     "execution_count": 19,
     "metadata": {},
     "output_type": "execute_result"
    }
   ],
   "source": [
    "s5.values"
   ]
  },
  {
   "cell_type": "code",
   "execution_count": 20,
   "id": "c716323d",
   "metadata": {},
   "outputs": [
    {
     "data": {
      "text/plain": [
       "a    10\n",
       "b    20\n",
       "c    30\n",
       "dtype: int64"
      ]
     },
     "execution_count": 20,
     "metadata": {},
     "output_type": "execute_result"
    }
   ],
   "source": [
    "# 🔴 딕셔너리 자료형 ( 자동으로 라벨 부여, key가 index, value가 실제 데이터 )\n",
    "\n",
    "s6 = pd.Series({'a':10, 'b':20, 'c':30})\n",
    "s6"
   ]
  },
  {
   "cell_type": "code",
   "execution_count": 24,
   "id": "46d6a8c0",
   "metadata": {},
   "outputs": [
    {
     "name": "stdout",
     "output_type": "stream",
     "text": [
      "10\n",
      "10\n"
     ]
    }
   ],
   "source": [
    "## 🔸 숫자 인덱싱\n",
    "print(s6[0])\n",
    "\n",
    "## 🔸 라벨 인덱싱\n",
    "print(s6['a'])"
   ]
  },
  {
   "cell_type": "code",
   "execution_count": 25,
   "id": "b4d79720",
   "metadata": {},
   "outputs": [
    {
     "data": {
      "text/plain": [
       "RangeIndex(start=0, stop=5, step=1)"
      ]
     },
     "execution_count": 25,
     "metadata": {},
     "output_type": "execute_result"
    }
   ],
   "source": [
    "# 🔴 인덱스 새롭게 지정하기\n",
    "\n",
    "## 🔸 인덱스 속성(길이)를 참조하여 리스트, 튜플 타입으로 전달\n",
    "### ◾ 라벨 인덱스가 없던 경우 => 새롭게 라벨 인덱스 부여\n",
    "### ◾ 라벨 인덱스가 있던 경우 => 기존에 있던 라벨 인덱스에 덮어 씌우기\n",
    "\n",
    "\n",
    "## 현재 s5에는 숫자만 있고 라벨 인덱스가 없음.\n",
    "s5.index"
   ]
  },
  {
   "cell_type": "code",
   "execution_count": 26,
   "id": "929c81c9",
   "metadata": {},
   "outputs": [],
   "source": [
    "## 🔸 인덱스를 새롭게 지정할 때는 Rangeindex의 벌위만큼 길이를 가지는 리스트를 대입해줍니다.\n",
    "\n",
    "### ◾ 행 개수(데이터 개수)와 동일한 길이의 리스트를 전달해야 합니다. => 라벨 인덱스가 생김\n",
    "s5.index = [2020, 2021, 2022, 2023, 2024]"
   ]
  },
  {
   "cell_type": "code",
   "execution_count": 32,
   "id": "a1139a84",
   "metadata": {},
   "outputs": [
    {
     "name": "stdout",
     "output_type": "stream",
     "text": [
      "2020    1.0\n",
      "2021    2.0\n",
      "2022    3.0\n",
      "2023    4.0\n",
      "2024    5.0\n",
      "dtype: float64\n"
     ]
    }
   ],
   "source": [
    "print(s5)"
   ]
  },
  {
   "cell_type": "code",
   "execution_count": 43,
   "id": "d075e531",
   "metadata": {},
   "outputs": [
    {
     "name": "stdout",
     "output_type": "stream",
     "text": [
      "Int64Index([2020, 2021, 2022, 2023, 2025], dtype='int64')\n",
      "2020\n"
     ]
    }
   ],
   "source": [
    "# 🔴  인덱스를 지정하여 객체 생성\n",
    "\n",
    "## 🔸 인덱스 객체에 대해서 아이템 참조는 가능\n",
    "\n",
    "print(s5.index)\n",
    "print(s5.index[0])"
   ]
  },
  {
   "cell_type": "code",
   "execution_count": 38,
   "id": "f707adfc",
   "metadata": {
    "collapsed": true
   },
   "outputs": [
    {
     "ename": "TypeError",
     "evalue": "Index does not support mutable operations",
     "output_type": "error",
     "traceback": [
      "\u001b[1;31m---------------------------------------------------------------------------\u001b[0m",
      "\u001b[1;31mTypeError\u001b[0m                                 Traceback (most recent call last)",
      "\u001b[1;32m<ipython-input-38-600c37ded353>\u001b[0m in \u001b[0;36m<module>\u001b[1;34m\u001b[0m\n\u001b[0;32m      1\u001b[0m \u001b[1;31m# 인덱스 객체 내부의 단일 라벨 인덱스 하나 딱 잘라서 변경하는 것은 불가능\u001b[0m\u001b[1;33m\u001b[0m\u001b[1;33m\u001b[0m\u001b[1;33m\u001b[0m\u001b[0m\n\u001b[0;32m      2\u001b[0m \u001b[1;33m\u001b[0m\u001b[0m\n\u001b[1;32m----> 3\u001b[1;33m \u001b[0ms5\u001b[0m\u001b[1;33m.\u001b[0m\u001b[0mindex\u001b[0m\u001b[1;33m[\u001b[0m\u001b[1;33m-\u001b[0m\u001b[1;36m1\u001b[0m\u001b[1;33m]\u001b[0m \u001b[1;33m=\u001b[0m \u001b[1;36m2025\u001b[0m\u001b[1;33m\u001b[0m\u001b[1;33m\u001b[0m\u001b[0m\n\u001b[0m",
      "\u001b[1;32mC:\\ProgramData\\Anaconda3\\lib\\site-packages\\pandas\\core\\indexes\\base.py\u001b[0m in \u001b[0;36m__setitem__\u001b[1;34m(self, key, value)\u001b[0m\n\u001b[0;32m   4275\u001b[0m     \u001b[1;33m@\u001b[0m\u001b[0mfinal\u001b[0m\u001b[1;33m\u001b[0m\u001b[1;33m\u001b[0m\u001b[0m\n\u001b[0;32m   4276\u001b[0m     \u001b[1;32mdef\u001b[0m \u001b[0m__setitem__\u001b[0m\u001b[1;33m(\u001b[0m\u001b[0mself\u001b[0m\u001b[1;33m,\u001b[0m \u001b[0mkey\u001b[0m\u001b[1;33m,\u001b[0m \u001b[0mvalue\u001b[0m\u001b[1;33m)\u001b[0m\u001b[1;33m:\u001b[0m\u001b[1;33m\u001b[0m\u001b[1;33m\u001b[0m\u001b[0m\n\u001b[1;32m-> 4277\u001b[1;33m         \u001b[1;32mraise\u001b[0m \u001b[0mTypeError\u001b[0m\u001b[1;33m(\u001b[0m\u001b[1;34m\"Index does not support mutable operations\"\u001b[0m\u001b[1;33m)\u001b[0m\u001b[1;33m\u001b[0m\u001b[1;33m\u001b[0m\u001b[0m\n\u001b[0m\u001b[0;32m   4278\u001b[0m \u001b[1;33m\u001b[0m\u001b[0m\n\u001b[0;32m   4279\u001b[0m     \u001b[1;32mdef\u001b[0m \u001b[0m__getitem__\u001b[0m\u001b[1;33m(\u001b[0m\u001b[0mself\u001b[0m\u001b[1;33m,\u001b[0m \u001b[0mkey\u001b[0m\u001b[1;33m)\u001b[0m\u001b[1;33m:\u001b[0m\u001b[1;33m\u001b[0m\u001b[1;33m\u001b[0m\u001b[0m\n",
      "\u001b[1;31mTypeError\u001b[0m: Index does not support mutable operations"
     ]
    }
   ],
   "source": [
    "# 🔴 (문제) 인덱스 객체 내부의 단일 라벨 인덱스 하나 딱 잘라서 변경하는 것은 불가능 💛 \n",
    "## TypeError: Index does not support mutable operations\n",
    "\n",
    "s5.index[-1] = 2025"
   ]
  },
  {
   "cell_type": "code",
   "execution_count": 39,
   "id": "72d5982d",
   "metadata": {},
   "outputs": [
    {
     "data": {
      "text/plain": [
       "2020    1.0\n",
       "2021    2.0\n",
       "2022    3.0\n",
       "2023    4.0\n",
       "2025    5.0\n",
       "dtype: float64"
      ]
     },
     "execution_count": 39,
     "metadata": {},
     "output_type": "execute_result"
    }
   ],
   "source": [
    "# 🔴 (해결) 인덱스 라벨링 수정시 바꿀 부분만 변경한 '전체 인덱스'를 대입해주어야 한다. 💛\n",
    "\n",
    "s5.index = [2020, 2021, 2022, 2023, 2025]\n",
    "s5"
   ]
  },
  {
   "cell_type": "code",
   "execution_count": 44,
   "id": "d988f35a",
   "metadata": {},
   "outputs": [
    {
     "data": {
      "text/plain": [
       "mon    10\n",
       "tue    20\n",
       "wed    30\n",
       "thu    40\n",
       "dtype: int64"
      ]
     },
     "execution_count": 44,
     "metadata": {},
     "output_type": "execute_result"
    }
   ],
   "source": [
    "# 🔴 Series 함수의 index 파라미터를 이용해 생성 가능\n",
    "\n",
    "## 🔸 pd.Series(data, index=[...])\n",
    "\n",
    "s7 = pd.Series([10, 20, 30, 40], index=['mon', 'tue', 'wed', 'thu'])\n",
    "s7"
   ]
  },
  {
   "cell_type": "code",
   "execution_count": 47,
   "id": "9520ebc0",
   "metadata": {},
   "outputs": [
    {
     "data": {
      "text/plain": [
       "array([10, 20, 30, 40], dtype=int64)"
      ]
     },
     "execution_count": 47,
     "metadata": {},
     "output_type": "execute_result"
    }
   ],
   "source": [
    "## 🔸 데이터 확인\n",
    "\n",
    "s7.values"
   ]
  },
  {
   "cell_type": "code",
   "execution_count": 48,
   "id": "8dd3f6ab",
   "metadata": {},
   "outputs": [
    {
     "data": {
      "text/plain": [
       "Index(['mon', 'tue', 'wed', 'thu'], dtype='object')"
      ]
     },
     "execution_count": 48,
     "metadata": {},
     "output_type": "execute_result"
    }
   ],
   "source": [
    "## 🔸 인덱스 확인\n",
    "\n",
    "s7.index"
   ]
  },
  {
   "cell_type": "code",
   "execution_count": 49,
   "id": "90349da6",
   "metadata": {},
   "outputs": [
    {
     "name": "stdout",
     "output_type": "stream",
     "text": [
      "40\n",
      "40\n"
     ]
    }
   ],
   "source": [
    "# 🔴 자동 부여된 숫자 인덱스도 여전히 사용 가능\n",
    "\n",
    "print(s7[3])\n",
    "print(s7['thu'])"
   ]
  },
  {
   "cell_type": "markdown",
   "id": "214a74ae",
   "metadata": {},
   "source": [
    "### 3. dictionary 자료형과 유사한 Series 자료형"
   ]
  },
  {
   "cell_type": "code",
   "execution_count": 52,
   "id": "580059e8",
   "metadata": {},
   "outputs": [
    {
     "name": "stdout",
     "output_type": "stream",
     "text": [
      "{'서울': 100, '경기': 200, '강원': 300, '부산': 400}\n",
      "서울    100\n",
      "경기    200\n",
      "강원    300\n",
      "부산    400\n",
      "dtype: int64\n"
     ]
    }
   ],
   "source": [
    "# 🔴 dictionary 자료형으로 Series 생성\n",
    "\n",
    "data = {'서울':100, '경기':200, '강원':300, '부산':400}\n",
    "sample =pd.Series(data)\n",
    "\n",
    "print(data)\n",
    "print(sample)"
   ]
  },
  {
   "cell_type": "code",
   "execution_count": 53,
   "id": "9e5338bc",
   "metadata": {},
   "outputs": [],
   "source": [
    "# 딕셔너리와 유사하기 때문에, 딕셔너리에서 쓰는 명령어를 쓸 수 있음."
   ]
  },
  {
   "cell_type": "code",
   "execution_count": 58,
   "id": "dfa0359b",
   "metadata": {},
   "outputs": [
    {
     "name": "stdout",
     "output_type": "stream",
     "text": [
      "True\n",
      "True\n"
     ]
    }
   ],
   "source": [
    "# 🔴 Series 객체와 in 연산자\n",
    "\n",
    "## dictionary와 유사 : in 연산자를 사용해 내부 요소 검사시\n",
    "##                     key값에 해당하는 라벨을 이용해 해당 요소가 있는지 없는지 여부를 True, False로 출력\n",
    "\n",
    "print('서울' in data)   ## 딕셔너리\n",
    "print('서울' in sample) ## 시리즈"
   ]
  },
  {
   "cell_type": "code",
   "execution_count": 59,
   "id": "5669712f",
   "metadata": {},
   "outputs": [
    {
     "name": "stdout",
     "output_type": "stream",
     "text": [
      "서울\n",
      "경기\n",
      "강원\n",
      "부산\n",
      "------------\n",
      "서울\n",
      "경기\n",
      "강원\n",
      "부산\n"
     ]
    }
   ],
   "source": [
    "# 🔴 for문에서 in 연산자로 접근 : Series의 value값을 참조\n",
    "\n",
    "for key in data :\n",
    "    print(key)\n",
    "print(\"------------\")\n",
    "\n",
    "for index in sample.index : ## sample.values를 이용해 value값만 조회도 가능\n",
    "    print(index)"
   ]
  },
  {
   "cell_type": "markdown",
   "id": "1e1eb090",
   "metadata": {},
   "source": [
    "### << 연습문제 >>\n",
    "\n",
    "- 서울, 경기, 강원, 부산 => 서울, 경기, 강원, 제주로 라벨 인덱싱 변경\n",
    "\n",
    "- 지정한 index 기준으로 Series 생성\n",
    "- 사용하는 인덱스에 없는 값은 Series에 NaN 값으로 저장\n",
    "\n",
    "- NaN : Not a Number(결측치) =-> numpy에서 값이 없음을 의미하는 자료\n",
    "-None : 파이썬 기본 자료형에서 값이 없음을 의미하는 자료"
   ]
  },
  {
   "cell_type": "code",
   "execution_count": 60,
   "id": "ff56a953",
   "metadata": {},
   "outputs": [
    {
     "data": {
      "text/plain": [
       "서울    100\n",
       "경기    200\n",
       "강원    300\n",
       "제주    400\n",
       "dtype: int64"
      ]
     },
     "execution_count": 60,
     "metadata": {},
     "output_type": "execute_result"
    }
   ],
   "source": [
    "sample.index = ['서울', '경기', '강원', '제주']\n",
    "sample"
   ]
  },
  {
   "cell_type": "markdown",
   "id": "0223b63c",
   "metadata": {},
   "source": [
    "    "
   ]
  },
  {
   "cell_type": "markdown",
   "id": "b2aded34",
   "metadata": {},
   "source": [
    "### 4. 인덱싱(Indexing)\n",
    "\n",
    "- 하나의 특정 값을 선택하거나 변경\n",
    "- 참조하는 인덱스 : 기본 숫자 인덱스, 라벨 인덱스\n",
    "- 새로운 인덱스를 설정해도 기본 숫자 인덱스 사용 가능"
   ]
  },
  {
   "cell_type": "code",
   "execution_count": 62,
   "id": "68640615",
   "metadata": {},
   "outputs": [
    {
     "data": {
      "text/plain": [
       "a    10\n",
       "b    20\n",
       "c    30\n",
       "dtype: int64"
      ]
     },
     "execution_count": 62,
     "metadata": {},
     "output_type": "execute_result"
    }
   ],
   "source": [
    "s6_data = {'a':10, 'b':20, 'c':30}\n",
    "s6 = pd.Series(s6_data)\n",
    "s6"
   ]
  },
  {
   "cell_type": "code",
   "execution_count": 66,
   "id": "f34027a8",
   "metadata": {},
   "outputs": [
    {
     "name": "stdout",
     "output_type": "stream",
     "text": [
      "a\n",
      "10\n"
     ]
    }
   ],
   "source": [
    "# 🔴 Series s6의 첫 번째 데이터 => 인덱스 0으로 조회\n",
    "\n",
    "## 🔸 Series객체[인덱스번호 or 라벨숫자]\n",
    "print(s6.index[0]) # 인덱스의 0번째는 'a'\n",
    "print(s6[0])       # s6자체 0번째 자료는 10"
   ]
  },
  {
   "cell_type": "code",
   "execution_count": 69,
   "id": "1aca54da",
   "metadata": {},
   "outputs": [
    {
     "name": "stdout",
     "output_type": "stream",
     "text": [
      "10\n"
     ]
    }
   ],
   "source": [
    "# 🔴 Series s6의 인덱스 a에 매칭된 데이터 조회\n",
    "\n",
    "print(s6['a'])"
   ]
  },
  {
   "cell_type": "code",
   "execution_count": 71,
   "id": "a127602a",
   "metadata": {},
   "outputs": [
    {
     "data": {
      "text/plain": [
       "mon     10\n",
       "tue    700\n",
       "wed     30\n",
       "thu     40\n",
       "dtype: int64"
      ]
     },
     "execution_count": 71,
     "metadata": {},
     "output_type": "execute_result"
    }
   ],
   "source": [
    "# 🔴 Series s7의 인덱스tue에 해당하는 데이터 값을 변경\n",
    "\n",
    "## 🔸 인덱스(라벨링)은 개별적으로 하나하나 변경 불가능 💛\n",
    "## 🔸 인덱스에 매칭된 데이터는 개별 데이터별 변경 가능 💛\n",
    "\n",
    "s7['tue'] = 700\n",
    "s7"
   ]
  },
  {
   "cell_type": "code",
   "execution_count": 72,
   "id": "09f0c8ac",
   "metadata": {},
   "outputs": [
    {
     "data": {
      "text/plain": [
       "wed    30\n",
       "mon    10\n",
       "dtype: int64"
      ]
     },
     "execution_count": 72,
     "metadata": {},
     "output_type": "execute_result"
    }
   ],
   "source": [
    "# 🔴 시리즈에서 원하는 로우(행)만 조회하기. 조회할 로우명을 리스트로 묶어서 전달\n",
    "\n",
    "## 🔸 Series s7에서 wed, mon라벨 조회\n",
    "\n",
    "### ◾ 이중 리스트를 사용해 조회해야함. 💛  -> s7['mon', 'wed'] ==> 에러\n",
    "### ◾ 인덱스 순서 조절이 가능하다.\n",
    "\n",
    "s7[['wed', 'mon']]"
   ]
  },
  {
   "cell_type": "markdown",
   "id": "dea39892",
   "metadata": {},
   "source": [
    "    "
   ]
  },
  {
   "cell_type": "markdown",
   "id": "e913efe3",
   "metadata": {},
   "source": [
    "### 5. 슬라이싱(Slicing)\n",
    "\n",
    "- Series객체[시작인덱스 : 끝인덱스 : 간격]\n",
    "- 특정 범위의 값을 선택하거나 변경\n",
    "- 기본 숫자 인덱스 또는 새로운 인덱스 모두 사용 가능\n",
    "\n",
    "\n",
    "- ◾ 기본 숫자 인덱스를 사용해서 슬라이싱 할 때는 ==> 끝 인덱스 미포함\n",
    "- ◾ 라벨 인덱스를 사용해서 슬라이싱 할 떄는   ==> 끝 인덱스까지 모두 포함 💛"
   ]
  },
  {
   "cell_type": "code",
   "execution_count": 74,
   "id": "7b623bef",
   "metadata": {},
   "outputs": [
    {
     "data": {
      "text/plain": [
       "a    10\n",
       "b    20\n",
       "c    30\n",
       "d    40\n",
       "e    50\n",
       "dtype: int64"
      ]
     },
     "execution_count": 74,
     "metadata": {},
     "output_type": "execute_result"
    }
   ],
   "source": [
    "# 🔴 인덱스 0 ~ 2(포함) 까지 조회\n",
    "\n",
    "s1 = pd.Series([10, 20, 30, 40, 50], index=list('abcde'))\n",
    "s1"
   ]
  },
  {
   "cell_type": "code",
   "execution_count": 76,
   "id": "56506a3a",
   "metadata": {},
   "outputs": [
    {
     "data": {
      "text/plain": [
       "a    10\n",
       "b    20\n",
       "dtype: int64"
      ]
     },
     "execution_count": 76,
     "metadata": {},
     "output_type": "execute_result"
    }
   ],
   "source": [
    "## 🔸  RangeIndex = 0,1\n",
    "\n",
    "s1[0:2]"
   ]
  },
  {
   "cell_type": "code",
   "execution_count": 77,
   "id": "1d877d81",
   "metadata": {},
   "outputs": [
    {
     "data": {
      "text/plain": [
       "a    10\n",
       "b    20\n",
       "c    30\n",
       "dtype: int64"
      ]
     },
     "execution_count": 77,
     "metadata": {},
     "output_type": "execute_result"
    }
   ],
   "source": [
    "## 🔸 라벨 'a'에서 라벨'c' (c포함)\n",
    "\n",
    "s1['a':'c']"
   ]
  },
  {
   "cell_type": "code",
   "execution_count": 79,
   "id": "5ec83da3",
   "metadata": {},
   "outputs": [
    {
     "data": {
      "text/plain": [
       "a    10\n",
       "c    30\n",
       "dtype: int64"
      ]
     },
     "execution_count": 79,
     "metadata": {},
     "output_type": "execute_result"
    }
   ],
   "source": [
    "## 🔸 0 ~ 3 범위를 2개 간격으로 인덱싱\n",
    "\n",
    "s1[0:4:2]"
   ]
  },
  {
   "cell_type": "code",
   "execution_count": 80,
   "id": "6e7dea89",
   "metadata": {},
   "outputs": [
    {
     "data": {
      "text/plain": [
       "b    20\n",
       "d    40\n",
       "dtype: int64"
      ]
     },
     "execution_count": 80,
     "metadata": {},
     "output_type": "execute_result"
    }
   ],
   "source": [
    "## 🔸 인덱스 'b'에서 인덱스 'd'(포함)까지 2개 간격으로 조회\n",
    "\n",
    "s1['b':'d':2]"
   ]
  },
  {
   "cell_type": "markdown",
   "id": "04aeece0",
   "metadata": {},
   "source": [
    "### 7. 조건 색인(Boolean Indexing)\n",
    "\n",
    "- 객체에 벡터와 스칼라 연산을 적용하여 True인 데이터만 반환\n",
    "\n",
    "<img src=\"img/conditional_index.png\" width=\"700\" align=\"center\">"
   ]
  },
  {
   "cell_type": "code",
   "execution_count": 83,
   "id": "408536df",
   "metadata": {},
   "outputs": [
    {
     "name": "stdout",
     "output_type": "stream",
     "text": [
      "mon    False\n",
      "tue     True\n",
      "wed    False\n",
      "thu    False\n",
      "dtype: bool\n",
      "--------\n",
      "tue    700\n",
      "dtype: int64\n"
     ]
    }
   ],
   "source": [
    "print(s7 >= 50)\n",
    "print(\"--------\")\n",
    "print(s7[s7>=50])"
   ]
  },
  {
   "cell_type": "code",
   "execution_count": 84,
   "id": "8e848296",
   "metadata": {},
   "outputs": [
    {
     "data": {
      "text/plain": [
       "0     10\n",
       "1     -3\n",
       "2     14\n",
       "3     70\n",
       "4    -44\n",
       "5    -18\n",
       "6     -5\n",
       "7      1\n",
       "8     -2\n",
       "9     12\n",
       "10     5\n",
       "dtype: int64"
      ]
     },
     "execution_count": 84,
     "metadata": {},
     "output_type": "execute_result"
    }
   ],
   "source": [
    "# 🔴 양수와 음수 데이터를 저장하고 있는 Series 생성\n",
    "\n",
    "s2 = pd.Series([10, -3, 14, 70, -44, -18, -5, 1, -2, 12, 5])\n",
    "s2"
   ]
  },
  {
   "cell_type": "code",
   "execution_count": 91,
   "id": "29b5df02",
   "metadata": {},
   "outputs": [
    {
     "data": {
      "text/plain": [
       "0     False\n",
       "1      True\n",
       "2     False\n",
       "3     False\n",
       "4      True\n",
       "5      True\n",
       "6      True\n",
       "7     False\n",
       "8      True\n",
       "9     False\n",
       "10    False\n",
       "dtype: bool"
      ]
     },
     "execution_count": 91,
     "metadata": {},
     "output_type": "execute_result"
    }
   ],
   "source": [
    "# 🔴 음수는 True로, 양수는 False로 스칼라 연산을 통해 출력해보세요\n",
    "\n",
    "s2 < 0"
   ]
  },
  {
   "cell_type": "code",
   "execution_count": 92,
   "id": "86e81641",
   "metadata": {},
   "outputs": [
    {
     "data": {
      "text/plain": [
       "1    -3\n",
       "4   -44\n",
       "5   -18\n",
       "6    -5\n",
       "8    -2\n",
       "dtype: int64"
      ]
     },
     "execution_count": 92,
     "metadata": {},
     "output_type": "execute_result"
    }
   ],
   "source": [
    "# 🔴 위의 스칼라 연산을 확용한 조건 색인으로 s2 중 음수만 남겨보세요\n",
    "\n",
    "s2[s2<0]"
   ]
  },
  {
   "cell_type": "code",
   "execution_count": 95,
   "id": "e4632d6a",
   "metadata": {},
   "outputs": [
    {
     "data": {
      "text/plain": [
       "7     1\n",
       "10    5\n",
       "dtype: int64"
      ]
     },
     "execution_count": 95,
     "metadata": {},
     "output_type": "execute_result"
    }
   ],
   "source": [
    "# 🔴 두 개 이상의 조건 색인을 병렬 형태로 처리하기\n",
    "\n",
    "## 양수이면서 10보다 작은 값만 조건 색인으로 남겨보세요\n",
    "## 두 개 이상의 조건식으로 나열할때는 and, or 키워드가 아닌 &와 |를 사용한다.\n",
    "## 병렬 형식 조건 처리시 각 조건으로 ()로 감싸야 돌아갑니다.\n",
    "\n",
    "s2[(s2>0) & (s2<10)]"
   ]
  },
  {
   "cell_type": "markdown",
   "id": "a505135b",
   "metadata": {},
   "source": [
    "    "
   ]
  },
  {
   "cell_type": "markdown",
   "id": "61259895",
   "metadata": {},
   "source": [
    "### 8. 산술 연산\n",
    "\n",
    "- series 객체와 스칼라 값의 산술연산 => BroadCasting\n",
    "- series 객체 간의 산술연산\n",
    "    - 인덱스의 라벨이 동일한 것끼리 연산 수행, 공통으로 존재하지 않는 경우 NaN 반환\n",
    "    - 라벨이 없는 경우 차례대로 연산 수행, 개수가 동일하지 않는 경우 NaN 반환\n",
    "    - fill_value 인자를 통해 NaN이 아닌 특정 값으로 대체 가능\n",
    "    \n",
    "    <img src=\"img/series_math.png\" width=\"500\" align=\"center\">\n",
    "    \n",
    "    - 3 + null => NaN\n",
    "    - null + 6 => NaN\n",
    "    \n",
    "    \n",
    "    \n",
    "    \n",
    "- 연산의 종류\n",
    "    - 더하기 : +, add()\n",
    "    - 빼기 : -, sub()\n",
    "    - 곱하기 : *, mul()\n",
    "    - 나머지만 반환 : %\n",
    "    - 몫만 반환 : //"
   ]
  },
  {
   "cell_type": "code",
   "execution_count": 100,
   "id": "f09c700e",
   "metadata": {},
   "outputs": [
    {
     "data": {
      "text/plain": [
       "a    1\n",
       "b    2\n",
       "c    3\n",
       "d    4\n",
       "dtype: int64"
      ]
     },
     "execution_count": 100,
     "metadata": {},
     "output_type": "execute_result"
    }
   ],
   "source": [
    "# 🔴 s1 -> 라벨 : a, b, c, d -> 데이터 4개 [1, 2, 3, 4]\n",
    "\n",
    "s1 = pd.Series([1, 2, 3, 4], index=list('abcd'))\n",
    "s1"
   ]
  },
  {
   "cell_type": "code",
   "execution_count": 101,
   "id": "4ec23f35",
   "metadata": {},
   "outputs": [
    {
     "data": {
      "text/plain": [
       "a    10\n",
       "c    20\n",
       "d    30\n",
       "e    40\n",
       "f    50\n",
       "g    60\n",
       "dtype: int64"
      ]
     },
     "execution_count": 101,
     "metadata": {},
     "output_type": "execute_result"
    }
   ],
   "source": [
    "# 🔴 s2 -> 라벨 : a, b, d, e, f, g -> 데이터 6개 [10, 20, 30, 40, 50, 60]\n",
    "\n",
    "s2 = pd.Series([10, 20, 30, 40, 50, 60], index=list('acdefg'))\n",
    "s2"
   ]
  },
  {
   "cell_type": "code",
   "execution_count": 102,
   "id": "9b932b33",
   "metadata": {},
   "outputs": [
    {
     "data": {
      "text/plain": [
       "a     3\n",
       "b     6\n",
       "c     9\n",
       "d    12\n",
       "dtype: int64"
      ]
     },
     "execution_count": 102,
     "metadata": {},
     "output_type": "execute_result"
    }
   ],
   "source": [
    "# 🔴 Series 객체와 스칼라값의 산술연산 : *\n",
    "\n",
    "s1 * 3"
   ]
  },
  {
   "cell_type": "code",
   "execution_count": 108,
   "id": "3f9cd6cf",
   "metadata": {},
   "outputs": [
    {
     "name": "stdout",
     "output_type": "stream",
     "text": [
      "a    1\n",
      "b    2\n",
      "c    3\n",
      "d    4\n",
      "dtype: int64\n",
      "\n",
      "a    10\n",
      "c    20\n",
      "d    30\n",
      "e    40\n",
      "f    50\n",
      "g    60\n",
      "dtype: int64\n",
      "\n",
      "a    11.0\n",
      "b     NaN\n",
      "c    23.0\n",
      "d    34.0\n",
      "e     NaN\n",
      "f     NaN\n",
      "g     NaN\n",
      "dtype: float64\n"
     ]
    }
   ],
   "source": [
    "# 🔴 시리즈끼리 더하기 : +\n",
    "\n",
    "## 🔸 공통 라벨인 a, c, d에만 값 부여, 어느 한 쪽에만 존재하는 라벨들은 NaN\n",
    "\n",
    "print(s1)\n",
    "print()\n",
    "print(s2)\n",
    "print()\n",
    "print(s1 + s2)"
   ]
  },
  {
   "cell_type": "code",
   "execution_count": 109,
   "id": "19f112c6",
   "metadata": {},
   "outputs": [
    {
     "data": {
      "text/plain": [
       "a    11.0\n",
       "b     NaN\n",
       "c    23.0\n",
       "d    34.0\n",
       "e     NaN\n",
       "f     NaN\n",
       "g     NaN\n",
       "dtype: float64"
      ]
     },
     "execution_count": 109,
     "metadata": {},
     "output_type": "execute_result"
    }
   ],
   "source": [
    "# 🔴 fill_value 파라미터 : 공통으로 존재하지 않는 라벨에 대해서 NaN값을 적용하지 않고, 특정값으로 대체해서 사용할 수 있다.\n",
    "\n",
    "## 🔸 Series 메서드를 사용할 때의 파라미터로 입력 가능\n",
    "\n",
    "s1.add(s2)"
   ]
  },
  {
   "cell_type": "code",
   "execution_count": 112,
   "id": "874518eb",
   "metadata": {},
   "outputs": [
    {
     "data": {
      "text/plain": [
       "a    11.0\n",
       "b     2.0\n",
       "c    23.0\n",
       "d    34.0\n",
       "e    40.0\n",
       "f    50.0\n",
       "g    60.0\n",
       "dtype: float64"
      ]
     },
     "execution_count": 112,
     "metadata": {},
     "output_type": "execute_result"
    }
   ],
   "source": [
    "## 🔸 fill_value 사용\n",
    "\n",
    "s1.add(s2, fill_value=0)"
   ]
  },
  {
   "cell_type": "code",
   "execution_count": 113,
   "id": "ac66a0ca",
   "metadata": {},
   "outputs": [
    {
     "data": {
      "text/plain": [
       "a    -9.0\n",
       "b     NaN\n",
       "c   -17.0\n",
       "d   -26.0\n",
       "e     NaN\n",
       "f     NaN\n",
       "g     NaN\n",
       "dtype: float64"
      ]
     },
     "execution_count": 113,
     "metadata": {},
     "output_type": "execute_result"
    }
   ],
   "source": [
    "# 🔴 Series 객체 간의 빼기 연산\n",
    "\n",
    "s1 - s2"
   ]
  },
  {
   "cell_type": "code",
   "execution_count": 115,
   "id": "00dfb477",
   "metadata": {},
   "outputs": [
    {
     "data": {
      "text/plain": [
       "a    -9.0\n",
       "b   -98.0\n",
       "c   -17.0\n",
       "d   -26.0\n",
       "e    60.0\n",
       "f    50.0\n",
       "g    40.0\n",
       "dtype: float64"
      ]
     },
     "execution_count": 115,
     "metadata": {},
     "output_type": "execute_result"
    }
   ],
   "source": [
    "# 🔴 .sub()를 이용해 없는 값을 100을 넣고 빼기를 수행해보세요\n",
    "\n",
    "s1.sub(s2, fill_value=100)"
   ]
  },
  {
   "cell_type": "code",
   "execution_count": 116,
   "id": "7bd112b7",
   "metadata": {},
   "outputs": [
    {
     "data": {
      "text/plain": [
       "a     10.0\n",
       "b      NaN\n",
       "c     60.0\n",
       "d    120.0\n",
       "e      NaN\n",
       "f      NaN\n",
       "g      NaN\n",
       "dtype: float64"
      ]
     },
     "execution_count": 116,
     "metadata": {},
     "output_type": "execute_result"
    }
   ],
   "source": [
    "# 🔴 Serie 객체 간의 곱하기 연산\n",
    "\n",
    "s1 * s2"
   ]
  },
  {
   "cell_type": "code",
   "execution_count": 117,
   "id": "87fd0857",
   "metadata": {},
   "outputs": [
    {
     "data": {
      "text/plain": [
       "a     10.0\n",
       "b      2.0\n",
       "c     60.0\n",
       "d    120.0\n",
       "e     40.0\n",
       "f     50.0\n",
       "g     60.0\n",
       "dtype: float64"
      ]
     },
     "execution_count": 117,
     "metadata": {},
     "output_type": "execute_result"
    }
   ],
   "source": [
    "# 🔴 mul을 이용해서 곱셈은 1을 넣고 해보세요\n",
    "\n",
    "s1.mul(s2, fill_value=1)"
   ]
  },
  {
   "cell_type": "code",
   "execution_count": 118,
   "id": "de213582",
   "metadata": {},
   "outputs": [
    {
     "data": {
      "text/plain": [
       "a    0.100000\n",
       "b         NaN\n",
       "c    0.150000\n",
       "d    0.133333\n",
       "e         NaN\n",
       "f         NaN\n",
       "g         NaN\n",
       "dtype: float64"
      ]
     },
     "execution_count": 118,
     "metadata": {},
     "output_type": "execute_result"
    }
   ],
   "source": [
    "# 🔴 객체간 나누기를 연산자를 이용해서 해보세요\n",
    "\n",
    "s1 / s2"
   ]
  },
  {
   "cell_type": "code",
   "execution_count": 119,
   "id": "4fc8770e",
   "metadata": {},
   "outputs": [
    {
     "data": {
      "text/plain": [
       "a    0.100000\n",
       "b    2.000000\n",
       "c    0.150000\n",
       "d    0.133333\n",
       "e    0.025000\n",
       "f    0.020000\n",
       "g    0.016667\n",
       "dtype: float64"
      ]
     },
     "execution_count": 119,
     "metadata": {},
     "output_type": "execute_result"
    }
   ],
   "source": [
    "# 🔴 .divide를 이용해서 해보세요\n",
    "\n",
    "s1.divide(s2, fill_value=1)"
   ]
  },
  {
   "cell_type": "markdown",
   "id": "21f17f8d",
   "metadata": {},
   "source": [
    "https://pandas.pydata.org/pandas-docs/stable/reference/series.html\n",
    "\n",
    "위 사이트에서 추가적인 fill_value 사용 가능 연산자별 명령어를 확인할 수 있다."
   ]
  },
  {
   "cell_type": "markdown",
   "id": "3ca730f5",
   "metadata": {},
   "source": [
    "- 선생님이 공부하신 책 : \n",
    "    - 파이썬 라이브러리를 활용한 데이터 분석(두더지 책)\n",
    "    - 파이썬 라이브러리를 활용한 머신러닝(도마뱀책)\n",
    "    \n",
    "- 믿고 사도 되는 번역가\n",
    "    - 박해선(번역했거나 쓴 책) => 그냥 믿고 사라고 하심 ㅎ_ㅎ\n",
    "    - 개앞맵시"
   ]
  },
  {
   "cell_type": "code",
   "execution_count": null,
   "id": "b6d328a8",
   "metadata": {},
   "outputs": [],
   "source": []
  },
  {
   "cell_type": "markdown",
   "id": "273b3147",
   "metadata": {},
   "source": [
    "### << 연습 문제 >>\n",
    "\n",
    "#### 1. 실습 데이터 생성 : 1 ~ 100(미만) 사이의 랜덤 정수값을 26개 저장한 series를 생성하고 A ~ Z까지의 알파벳으로 라벨링 설정"
   ]
  },
  {
   "cell_type": "code",
   "execution_count": 121,
   "id": "189824b4",
   "metadata": {},
   "outputs": [],
   "source": [
    "import numpy as np"
   ]
  },
  {
   "cell_type": "code",
   "execution_count": 122,
   "id": "c412b9d7",
   "metadata": {},
   "outputs": [
    {
     "data": {
      "text/plain": [
       "array([77, 19, 99,  5,  7, 35, 57, 55, 84, 15,  8, 77, 82,  9, 26,  4, 54,\n",
       "       33, 80, 61, 52, 17,  4, 99, 27, 80])"
      ]
     },
     "execution_count": 122,
     "metadata": {},
     "output_type": "execute_result"
    }
   ],
   "source": [
    "data = np.random.randint(1, 100, 26)\n",
    "data"
   ]
  },
  {
   "cell_type": "code",
   "execution_count": 127,
   "id": "aa38c184",
   "metadata": {
    "collapsed": true
   },
   "outputs": [
    {
     "data": {
      "text/plain": [
       "A    77\n",
       "B    19\n",
       "C    99\n",
       "D     5\n",
       "E     7\n",
       "F    35\n",
       "G    57\n",
       "H    55\n",
       "I    84\n",
       "J    15\n",
       "K     8\n",
       "L    77\n",
       "M    82\n",
       "N     9\n",
       "O    26\n",
       "P     4\n",
       "Q    54\n",
       "R    33\n",
       "S    80\n",
       "T    61\n",
       "U    52\n",
       "V    17\n",
       "W     4\n",
       "X    99\n",
       "Y    27\n",
       "Z    80\n",
       "dtype: int32"
      ]
     },
     "execution_count": 127,
     "metadata": {},
     "output_type": "execute_result"
    }
   ],
   "source": [
    "s1 = pd.Series(data, index=list('ABCDEFGHIJKLMNOPQRSTUVWXYZ'))\n",
    "s1"
   ]
  },
  {
   "cell_type": "code",
   "execution_count": 126,
   "id": "2440f271",
   "metadata": {},
   "outputs": [
    {
     "data": {
      "text/plain": [
       "26"
      ]
     },
     "execution_count": 126,
     "metadata": {},
     "output_type": "execute_result"
    }
   ],
   "source": [
    "data.size"
   ]
  },
  {
   "cell_type": "markdown",
   "id": "2af58768",
   "metadata": {},
   "source": [
    "#### 2. 인덱스 라벨이 'k'인 항목의 값 출력"
   ]
  },
  {
   "cell_type": "code",
   "execution_count": 133,
   "id": "6f4c7932",
   "metadata": {},
   "outputs": [
    {
     "data": {
      "text/plain": [
       "8"
      ]
     },
     "execution_count": 133,
     "metadata": {},
     "output_type": "execute_result"
    }
   ],
   "source": [
    "s1['K']"
   ]
  },
  {
   "cell_type": "markdown",
   "id": "8427e21b",
   "metadata": {},
   "source": [
    "#### 3. 인덱스 라벨이 A, F C 항목의 값 출력 ==> 이중 리스트"
   ]
  },
  {
   "cell_type": "code",
   "execution_count": 134,
   "id": "170ae167",
   "metadata": {},
   "outputs": [
    {
     "data": {
      "text/plain": [
       "A    77\n",
       "F    35\n",
       "C    99\n",
       "dtype: int32"
      ]
     },
     "execution_count": 134,
     "metadata": {},
     "output_type": "execute_result"
    }
   ],
   "source": [
    "s1[['A', 'F', 'C']]"
   ]
  },
  {
   "cell_type": "markdown",
   "id": "bd398ff1",
   "metadata": {},
   "source": [
    "#### 4. 5번 인덱스부터 15번 인덱스까지 항목 출력"
   ]
  },
  {
   "cell_type": "code",
   "execution_count": 135,
   "id": "5cd683c1",
   "metadata": {},
   "outputs": [
    {
     "data": {
      "text/plain": [
       "F    35\n",
       "G    57\n",
       "H    55\n",
       "I    84\n",
       "J    15\n",
       "K     8\n",
       "L    77\n",
       "M    82\n",
       "N     9\n",
       "O    26\n",
       "P     4\n",
       "dtype: int32"
      ]
     },
     "execution_count": 135,
     "metadata": {},
     "output_type": "execute_result"
    }
   ],
   "source": [
    "s1[5:16]"
   ]
  },
  {
   "cell_type": "markdown",
   "id": "ed1ec9c9",
   "metadata": {},
   "source": [
    "#### 5. 뒤에서 5개 항목 출력"
   ]
  },
  {
   "cell_type": "code",
   "execution_count": 139,
   "id": "9c043c75",
   "metadata": {
    "scrolled": false
   },
   "outputs": [
    {
     "data": {
      "text/plain": [
       "V    17\n",
       "W     4\n",
       "X    99\n",
       "Y    27\n",
       "Z    80\n",
       "dtype: int32"
      ]
     },
     "execution_count": 139,
     "metadata": {},
     "output_type": "execute_result"
    }
   ],
   "source": [
    "s1[-5:]"
   ]
  },
  {
   "cell_type": "markdown",
   "id": "d28b9fb5",
   "metadata": {},
   "source": [
    "#### 6. data의 항목의 개수를 출력 ==> 다른 방법 len(data)"
   ]
  },
  {
   "cell_type": "code",
   "execution_count": 140,
   "id": "0752bcd8",
   "metadata": {},
   "outputs": [
    {
     "data": {
      "text/plain": [
       "26"
      ]
     },
     "execution_count": 140,
     "metadata": {},
     "output_type": "execute_result"
    }
   ],
   "source": [
    "data.size"
   ]
  },
  {
   "cell_type": "markdown",
   "id": "2fcd7a46",
   "metadata": {},
   "source": [
    "#### 7. data 항목 값의 평균보다 큰 항목만 출력 => data라고 해서 data로 구했는데 선생님은 s1으로 하심"
   ]
  },
  {
   "cell_type": "code",
   "execution_count": 155,
   "id": "8ffff590",
   "metadata": {},
   "outputs": [
    {
     "data": {
      "text/plain": [
       "A    77\n",
       "C    99\n",
       "G    57\n",
       "H    55\n",
       "I    84\n",
       "L    77\n",
       "M    82\n",
       "Q    54\n",
       "S    80\n",
       "T    61\n",
       "U    52\n",
       "X    99\n",
       "Z    80\n",
       "dtype: int32"
      ]
     },
     "execution_count": 155,
     "metadata": {},
     "output_type": "execute_result"
    }
   ],
   "source": [
    "s1[s1>s1.mean()]"
   ]
  },
  {
   "cell_type": "markdown",
   "id": "bddc8d68",
   "metadata": {},
   "source": [
    "#### 8. data 항목 중 50 있는지 확인 -> T/ F"
   ]
  },
  {
   "cell_type": "code",
   "execution_count": 154,
   "id": "6cb9fda5",
   "metadata": {},
   "outputs": [
    {
     "name": "stdout",
     "output_type": "stream",
     "text": [
      "False\n"
     ]
    }
   ],
   "source": [
    "print(50 in data)"
   ]
  }
 ],
 "metadata": {
  "kernelspec": {
   "display_name": "Python 3",
   "language": "python",
   "name": "python3"
  },
  "language_info": {
   "codemirror_mode": {
    "name": "ipython",
    "version": 3
   },
   "file_extension": ".py",
   "mimetype": "text/x-python",
   "name": "python",
   "nbconvert_exporter": "python",
   "pygments_lexer": "ipython3",
   "version": "3.8.8"
  }
 },
 "nbformat": 4,
 "nbformat_minor": 5
}
