{
 "cells": [
  {
   "cell_type": "markdown",
   "id": "1bff54a1",
   "metadata": {},
   "source": [
    "주피터 노트북 사용법<br>\n",
    "\n",
    "셀을 클릭하면 녹색으로 선택 영역이 지정됨<br/>\n",
    "녹색으로 선택된 셀에는 키보드 입력시 코드/입력문이 직접 입력됨\n",
    "녹색으로 선택된 셀에 esc를 입력하거나 혹은 셀만 선택시 파란색으로 선택됨.\n",
    "\n",
    "파란색으로 선택된 셀에\n",
    "    - b 입력  : 선택된 셀 아래에 입력용 셀 추가\n",
    "    - a 입력  : 선택된 셀 위에 입력용 셀 추가\n",
    "    - dd 입력 : 선택된 셀 삭제\n",
    "        \n",
    "\n",
    "m => 선택된 셀을 코드 입력용이 아닌 필기용으로 전환 ( m = 마크다운 )\n",
    "y => 선택된 셀을 필기용에서 코드 입력용으로 전환 ( 왼쪽에 In[]이 붙어있으면 코드입력용 )\n",
    "\n",
    "필기용 셀은 쉬프트 + 엔터를 누르면 필기가 완료된 것으로 간주합니다.\n",
    "엔터키를 적절히 활용하고 싶으면 <br/> 태그를 사용해야한다."
   ]
  },
  {
   "cell_type": "markdown",
   "id": "469c1c80",
   "metadata": {},
   "source": [
    "# 주피터 노트북 필기\n",
    "\n",
    "## #키를 이용하면 글씨 크기 조절이 가능합니다.\n",
    "\n",
    "### 세개를 쓰면 이렇ㄱㅔ 됩니다\n",
    "\n",
    "#### #의 개수가 많아지면 많아질 수록 크기가 작아집니다\n",
    "\n",
    "##### 5개째!\n",
    "\n",
    "###### #은 6개까지 쓸 수 있습니다"
   ]
  },
  {
   "cell_type": "markdown",
   "id": "f1d7ca0f",
   "metadata": {},
   "source": [
    "- 나열해서 필기하고 싶다면\n",
    "- -한칸 뒤에 필기를 합니다.\n",
    "- 이렇게 나열이 됩니다."
   ]
  },
  {
   "cell_type": "markdown",
   "id": "d56954ee",
   "metadata": {},
   "source": [
    "- 띄어쓰기 네번 + -를 붙이면?\n",
    "    - 도트 하위 항목으로 간주됩니다.\n",
    "    - 하위 항목으로 간주간주\n",
    "        - 하위 항목에서 다시 띄어쓰기를 4번하고 -를 붙이면? <br/>\n",
    "        - 하위의 하위 항목이 됩니다~!"
   ]
  },
  {
   "cell_type": "code",
   "execution_count": null,
   "id": "4cb6d382",
   "metadata": {},
   "outputs": [],
   "source": []
  }
 ],
 "metadata": {
  "kernelspec": {
   "display_name": "Python 3",
   "language": "python",
   "name": "python3"
  },
  "language_info": {
   "codemirror_mode": {
    "name": "ipython",
    "version": 3
   },
   "file_extension": ".py",
   "mimetype": "text/x-python",
   "name": "python",
   "nbconvert_exporter": "python",
   "pygments_lexer": "ipython3",
   "version": "3.8.8"
  }
 },
 "nbformat": 4,
 "nbformat_minor": 5
}
