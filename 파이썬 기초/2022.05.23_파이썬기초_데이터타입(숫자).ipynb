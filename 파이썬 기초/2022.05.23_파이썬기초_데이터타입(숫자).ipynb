{
 "cells": [
  {
   "cell_type": "markdown",
   "id": "bc1229f1",
   "metadata": {},
   "source": [
    "# 데이터 타입\n",
    "\n",
    "## > 1. 숫자형\n",
    "\n",
    "- 종류\n",
    "    - 정수 : 0, 양수, 음수인 숫자\n",
    "    - 실수 : 소수점을 포하ㅁ하는 숫ㅈㅏ\n",
    "    - 8진수 : (0o 또는 00(왼쪽숫자0, 오른쪽 알파벳 o)로 시작 : 0o34, 0o25\n",
    "    - 16진수 : (0x로 시작) : 0x2A, 0xFF"
   ]
  },
  {
   "cell_type": "markdown",
   "id": "fc469ae7",
   "metadata": {},
   "source": [
    "### 1.1 정수형"
   ]
  },
  {
   "cell_type": "code",
   "execution_count": 2,
   "id": "58c5da09",
   "metadata": {},
   "outputs": [],
   "source": [
    "# 양수, 음수, 0\n",
    "    # 파이썬은 동적 자료형이라서 자료형을 선언하지 않고, 나중에 넣어주면 그때부터.\n",
    "\n",
    "a = 10\n",
    "b = -20\n",
    "c = 0"
   ]
  },
  {
   "cell_type": "markdown",
   "id": "dfc4d4e5",
   "metadata": {},
   "source": [
    "컨트롤 + 엔터 => 컨트롤과 엔터를 눌러야 코드 실행이 가능함"
   ]
  },
  {
   "cell_type": "code",
   "execution_count": 4,
   "id": "c163b7e1",
   "metadata": {},
   "outputs": [
    {
     "data": {
      "text/plain": [
       "int"
      ]
     },
     "execution_count": 4,
     "metadata": {},
     "output_type": "execute_result"
    }
   ],
   "source": [
    "# 정수 타입 : 타입(데이터 종류를 확인하는 내장함수 type()\n",
    "    # 가장 마지막 줄 하나만 실행\n",
    "\n",
    "type(a)\n",
    "type(b)"
   ]
  },
  {
   "cell_type": "code",
   "execution_count": 5,
   "id": "d6255f49",
   "metadata": {},
   "outputs": [
    {
     "name": "stdout",
     "output_type": "stream",
     "text": [
      "Hello World\n"
     ]
    }
   ],
   "source": [
    "# 프린트 구문도 사용할 수 있음.\n",
    "\n",
    "print(\"Hello World\")"
   ]
  },
  {
   "cell_type": "code",
   "execution_count": 8,
   "id": "5398109d",
   "metadata": {},
   "outputs": [
    {
     "name": "stdout",
     "output_type": "stream",
     "text": [
      "<class 'int'> <class 'int'> <class 'int'>\n"
     ]
    }
   ],
   "source": [
    "# 뒤에 세미콜론(;)을 찍지 않아도 실행이 된다.\n",
    "\n",
    "print(type(a), type(b), type(c))"
   ]
  },
  {
   "cell_type": "markdown",
   "id": "fed4738f",
   "metadata": {},
   "source": [
    "# 1.2 실수형"
   ]
  },
  {
   "cell_type": "code",
   "execution_count": 11,
   "id": "4ebedbe0",
   "metadata": {},
   "outputs": [],
   "source": [
    "# 양의 실수, 음의 실수 : float\n",
    "\n",
    "a = 1.3\n",
    "b = -2.4\n",
    "c = 0.0"
   ]
  },
  {
   "cell_type": "code",
   "execution_count": 12,
   "id": "c21fb73f",
   "metadata": {},
   "outputs": [
    {
     "name": "stdout",
     "output_type": "stream",
     "text": [
      "<class 'float'> <class 'float'> <class 'float'>\n"
     ]
    }
   ],
   "source": [
    "# 타입 확인\n",
    "    # 0은 int, 0.0은 float\n",
    "\n",
    "print(type(a), type(b), type(c))"
   ]
  },
  {
   "cell_type": "markdown",
   "id": "c75f1ff0",
   "metadata": {},
   "source": [
    "## > 2. 연산자\n",
    "\n",
    "- 산술 : +, -, *, /, //(몫), %(나머지), **(제곱)\n",
    "- 비교 : ==(같은지), !=(다른지), <=, >=, >, <\n",
    "- 논리 : and, or\n",
    "- 할당 : =, +=(누적합), -=(누적차), +=(누적곱), /=(몫만 남기기), %=(나머지만 남기기)"
   ]
  },
  {
   "cell_type": "markdown",
   "id": "55f4a3f9",
   "metadata": {},
   "source": [
    "### 2-1) 산술 연산자 : 숫자를 계산하기 위한 문법 기호\n",
    "\n",
    "#### 정수/정수 => 실수(ㅇ_ㅇ..!)\n",
    "#### 정수/정수 효과를 내는 연산자가 따로 있음\n",
    "\n",
    "#### 2**3 => 2의 3승이라는 뜻\n"
   ]
  },
  {
   "cell_type": "code",
   "execution_count": 55,
   "id": "676f1ba0",
   "metadata": {},
   "outputs": [
    {
     "data": {
      "text/plain": [
       "13.4"
      ]
     },
     "execution_count": 55,
     "metadata": {},
     "output_type": "execute_result"
    }
   ],
   "source": [
    "# 더하기 : +\n",
    "\n",
    "\n",
    "#정수 + 정수 => 정수로 출력\n",
    "10 + 3\n",
    "\n",
    "#실수 + 실수 => 실수(정확하게 딱 떨어지지 않는다)\n",
    "13.3 + 2.4 \n",
    "\n",
    "# 정수 + 실수 => 실수\n",
    "10 + 3.4 "
   ]
  },
  {
   "cell_type": "code",
   "execution_count": 20,
   "id": "3ed28cf3",
   "metadata": {},
   "outputs": [
    {
     "data": {
      "text/plain": [
       "-4.7"
      ]
     },
     "execution_count": 20,
     "metadata": {},
     "output_type": "execute_result"
    }
   ],
   "source": [
    "# 빼기 : -\n",
    "\n",
    "\n",
    "# 정수 - 정수 => 정수로 출력\n",
    "10-3\n",
    "\n",
    "# 정수 - 실수 => 실수로 출력\n",
    "3-7.7"
   ]
  },
  {
   "cell_type": "code",
   "execution_count": 25,
   "id": "2b927d83",
   "metadata": {},
   "outputs": [
    {
     "data": {
      "text/plain": [
       "2.0"
      ]
     },
     "execution_count": 25,
     "metadata": {},
     "output_type": "execute_result"
    }
   ],
   "source": [
    "# 나누기 : /\n",
    "\n",
    "\n",
    "# 나누기의 결과는 정수 / 정수여도 실수로 간주됨 ( 중요 ! )\n",
    "3/3 # 결과값 : 1.0\n",
    "\n",
    "7/2 # 결과값 : 3.5\n",
    "\n",
    "5/2.5 # 결과값 : 2.0"
   ]
  },
  {
   "cell_type": "code",
   "execution_count": 31,
   "id": "7e51ad2f",
   "metadata": {},
   "outputs": [
    {
     "data": {
      "text/plain": [
       "-5"
      ]
     },
     "execution_count": 31,
     "metadata": {},
     "output_type": "execute_result"
    }
   ],
   "source": [
    "# 곱하기 : *\n",
    "\n",
    "3 * 4\n",
    "-3 * 4\n",
    "\n",
    "# 괄호를 이용해서 조절하는 것 가틍\n",
    "(3 - 4 ) * 5"
   ]
  },
  {
   "cell_type": "code",
   "execution_count": 32,
   "id": "ada8d18f",
   "metadata": {},
   "outputs": [
    {
     "data": {
      "text/plain": [
       "-2"
      ]
     },
     "execution_count": 32,
     "metadata": {},
     "output_type": "execute_result"
    }
   ],
   "source": [
    "# 정수의 몫만 반환 : //\n",
    "\n",
    "# 나눗셈의 결과값보다 작은 정수 중에 가장 큰 정수 ★\n",
    "\n",
    "# 음수\n",
    "-5//4"
   ]
  },
  {
   "cell_type": "code",
   "execution_count": 33,
   "id": "9269bc92",
   "metadata": {},
   "outputs": [
    {
     "data": {
      "text/plain": [
       "1"
      ]
     },
     "execution_count": 33,
     "metadata": {},
     "output_type": "execute_result"
    }
   ],
   "source": [
    "# 양수\n",
    "4//3"
   ]
  },
  {
   "cell_type": "code",
   "execution_count": 34,
   "id": "2d0ccd73",
   "metadata": {},
   "outputs": [
    {
     "data": {
      "text/plain": [
       "3"
      ]
     },
     "execution_count": 34,
     "metadata": {},
     "output_type": "execute_result"
    }
   ],
   "source": [
    "# 정수 몫을 구하고 남은 나머지만 반환 : %\n",
    "\n",
    "3 % 4"
   ]
  },
  {
   "cell_type": "code",
   "execution_count": 37,
   "id": "bda34d5e",
   "metadata": {},
   "outputs": [
    {
     "data": {
      "text/plain": [
       "1.4142135623730951"
      ]
     },
     "execution_count": 37,
     "metadata": {},
     "output_type": "execute_result"
    }
   ],
   "source": [
    "# 지수 : **\n",
    "\n",
    "2**3     # 결과값 : 8\n",
    "2 ** 0.5 # 결과값 : 루트로 잡혀서 1.4142..."
   ]
  },
  {
   "cell_type": "markdown",
   "id": "5a162455",
   "metadata": {},
   "source": [
    "### 2-2) 비교 연산자 : 자료를 비교하기 위한 문법 기호\n",
    "    - 결과가 숫자가 아닌 bool type의 결과를 가진다\n",
    "    \n",
    "> ##### bool type\n",
    "    - true : 0이 아닌 숫자, 참인 조건식 등\n",
    "    - False : 0, 거짓인 조건식 등\n",
    "\n",
    "- 값에 대한 비교 : ==, !=\n",
    "- 크기에 대한 비교 : <, >, >=, <="
   ]
  },
  {
   "cell_type": "code",
   "execution_count": 38,
   "id": "e8c06957",
   "metadata": {},
   "outputs": [
    {
     "data": {
      "text/plain": [
       "True"
      ]
     },
     "execution_count": 38,
     "metadata": {},
     "output_type": "execute_result"
    }
   ],
   "source": [
    "# 두 값이 같은지 비교 : ==\n",
    "#(결과) 두 값이 같으면 True, 다르면 False\n",
    "\n",
    "# 결과값 : True (자바랑 똑같음)\n",
    "0 == 0.0  "
   ]
  },
  {
   "cell_type": "code",
   "execution_count": 40,
   "id": "b53ad809",
   "metadata": {},
   "outputs": [
    {
     "data": {
      "text/plain": [
       "False"
      ]
     },
     "execution_count": 40,
     "metadata": {},
     "output_type": "execute_result"
    }
   ],
   "source": [
    "#결과값 : False\n",
    "type(0) == type(0.0)  "
   ]
  },
  {
   "cell_type": "code",
   "execution_count": 42,
   "id": "a2a04b16",
   "metadata": {},
   "outputs": [
    {
     "data": {
      "text/plain": [
       "True"
      ]
     },
     "execution_count": 42,
     "metadata": {},
     "output_type": "execute_result"
    }
   ],
   "source": [
    "# 두 값이 다른지 비교 : !=\n",
    "\n",
    "# 두 값이 다르면 True, 같으면 False\n",
    "\n",
    "# 결과값 : True(다릅니다)\n",
    "type(0) != type(0.0)"
   ]
  },
  {
   "cell_type": "code",
   "execution_count": 43,
   "id": "d7836a00",
   "metadata": {},
   "outputs": [
    {
     "data": {
      "text/plain": [
       "True"
      ]
     },
     "execution_count": 43,
     "metadata": {},
     "output_type": "execute_result"
    }
   ],
   "source": [
    "# 두 값의 크기를 비교 : >=, <=, <, >\n",
    "\n",
    "10 >= 3"
   ]
  },
  {
   "cell_type": "markdown",
   "id": "cd4147d9",
   "metadata": {},
   "source": [
    "### 2-3) 논리 연산자\n",
    "    - 여러개의 조건식을 활용하기 위한 명령어\n",
    "    - bool type 결과 반환 : True, False"
   ]
  },
  {
   "cell_type": "code",
   "execution_count": null,
   "id": "7549a3c8",
   "metadata": {},
   "outputs": [],
   "source": [
    "# and 연산자 : 조건식1 and 조건식2\n",
    "\n",
    "# 조건식1과 조건식2가 모두 True라면 최종 결과도 True\n",
    "# 둘 중 하나만 False여도 최종 결과는 False\n",
    "# 둘 다 False라면 최종 결과는 False"
   ]
  },
  {
   "cell_type": "code",
   "execution_count": 44,
   "id": "f57bf5ef",
   "metadata": {},
   "outputs": [
    {
     "data": {
      "text/plain": [
       "True"
      ]
     },
     "execution_count": 44,
     "metadata": {},
     "output_type": "execute_result"
    }
   ],
   "source": [
    "10 < 12"
   ]
  },
  {
   "cell_type": "code",
   "execution_count": 45,
   "id": "6a1f9a25",
   "metadata": {},
   "outputs": [
    {
     "data": {
      "text/plain": [
       "True"
      ]
     },
     "execution_count": 45,
     "metadata": {},
     "output_type": "execute_result"
    }
   ],
   "source": [
    "# 결과값 : True\n",
    "\n",
    "10 < 12 and 0 > -3"
   ]
  },
  {
   "cell_type": "code",
   "execution_count": 47,
   "id": "c945455d",
   "metadata": {},
   "outputs": [
    {
     "data": {
      "text/plain": [
       "False"
      ]
     },
     "execution_count": 47,
     "metadata": {},
     "output_type": "execute_result"
    }
   ],
   "source": [
    "# 숫자0은 False, 이외의 모든 숫자는 True로 간주함\n",
    "\n",
    "# bool(자료)는 자료의 참/거짓을 판단해줍니다\n",
    "\n",
    "# 결과값 : False\n",
    "bool(0)"
   ]
  },
  {
   "cell_type": "code",
   "execution_count": 48,
   "id": "1bbfa8b6",
   "metadata": {},
   "outputs": [
    {
     "data": {
      "text/plain": [
       "True"
      ]
     },
     "execution_count": 48,
     "metadata": {},
     "output_type": "execute_result"
    }
   ],
   "source": [
    "bool(292)"
   ]
  },
  {
   "cell_type": "code",
   "execution_count": 49,
   "id": "cbbe41b7",
   "metadata": {},
   "outputs": [
    {
     "data": {
      "text/plain": [
       "True"
      ]
     },
     "execution_count": 49,
     "metadata": {},
     "output_type": "execute_result"
    }
   ],
   "source": [
    "bool(-229)"
   ]
  },
  {
   "cell_type": "code",
   "execution_count": 51,
   "id": "5c8c79d7",
   "metadata": {},
   "outputs": [
    {
     "data": {
      "text/plain": [
       "False"
      ]
     },
     "execution_count": 51,
     "metadata": {},
     "output_type": "execute_result"
    }
   ],
   "source": [
    "# 0이 False로 사용되는 예시\n",
    "\n",
    "# 0 -> False, 10>3 -> True => and 연산자의 결과 : False\n",
    "bool(0 and 10>3)"
   ]
  },
  {
   "cell_type": "code",
   "execution_count": 52,
   "id": "e9513f1b",
   "metadata": {},
   "outputs": [
    {
     "data": {
      "text/plain": [
       "True"
      ]
     },
     "execution_count": 52,
     "metadata": {},
     "output_type": "execute_result"
    }
   ],
   "source": [
    "# or 연산자\n",
    "\n",
    "# 조건식1 or 조건식2\n",
    "\n",
    "# 둘 중 하나만 True여도 최종 결과 True\n",
    "# 둘 다 False일 때 최종 결과 False\n",
    "\n",
    "bool(0 or 10>3)"
   ]
  },
  {
   "cell_type": "markdown",
   "id": "89da917d",
   "metadata": {},
   "source": [
    "### 2-4) 할당 연산자\n",
    "\n",
    "- 변수 할당\n",
    "- 누적 연산"
   ]
  },
  {
   "cell_type": "code",
   "execution_count": 53,
   "id": "7566d895",
   "metadata": {},
   "outputs": [],
   "source": [
    "# 변수명(왼쪽)에 변수값(오른쪽)을 할당/선언/저장/대입 : =\n",
    "\n",
    "x = 10"
   ]
  },
  {
   "cell_type": "code",
   "execution_count": 54,
   "id": "a85c89b0",
   "metadata": {},
   "outputs": [
    {
     "data": {
      "text/plain": [
       "10"
      ]
     },
     "execution_count": 54,
     "metadata": {},
     "output_type": "execute_result"
    }
   ],
   "source": [
    "# 숫자형의 누적합 +=\n",
    "\n",
    "#result라는 변수에 누적합을 저장하기\n",
    "result = 0\n",
    "\n",
    "#result에 x만큼 더해서 저장하기 위해 원래 사용하던 코드\n",
    "result += x # result = result + x\n",
    "result"
   ]
  },
  {
   "cell_type": "code",
   "execution_count": 57,
   "id": "8fae3ee4",
   "metadata": {},
   "outputs": [
    {
     "name": "stdout",
     "output_type": "stream",
     "text": [
      "55\n"
     ]
    }
   ],
   "source": [
    "# 1 ~ 10까지 누적합을 구해보세요 : 1 + 2 + 3 + 4 + 5 + 6 + 7 + 8 + 9 + 10\n",
    "\n",
    "result = 0\n",
    "\n",
    "#반복문을 이용해 result 변수에 1~10까지 누적해 더하는 코드\n",
    "\n",
    "## range의 오른쪽은 끝나는 숫자 + 1. 즉 끝나는 번호는 10인 것.\n",
    "## 즉, 1부터 10까지하고 싶으면 1, 11이라고 적어야하는 것.\n",
    "for i in range(1, 11):\n",
    "    result += i\n",
    "\n",
    "print(result)"
   ]
  },
  {
   "cell_type": "code",
   "execution_count": 58,
   "id": "27e46add",
   "metadata": {},
   "outputs": [
    {
     "data": {
      "text/plain": [
       "54"
      ]
     },
     "execution_count": 58,
     "metadata": {},
     "output_type": "execute_result"
    }
   ],
   "source": [
    "# 숫자형의 누적차\n",
    "\n",
    "result -= 1\n",
    "\n",
    "# 결과값:54\n",
    "result"
   ]
  },
  {
   "cell_type": "code",
   "execution_count": 59,
   "id": "2b70a662",
   "metadata": {},
   "outputs": [
    {
     "data": {
      "text/plain": [
       "108"
      ]
     },
     "execution_count": 59,
     "metadata": {},
     "output_type": "execute_result"
    }
   ],
   "source": [
    "# 누적곱\n",
    "\n",
    "result *= 2\n",
    "\n",
    "# 결과값:108\n",
    "result"
   ]
  },
  {
   "cell_type": "markdown",
   "id": "b3f4eaba",
   "metadata": {},
   "source": [
    "### 1. 홍길동의 시험 성적 평균을 구하세요\n",
    "\n",
    "\n",
    "영어 : 80, 국어 72, 수학 90, 사회 66\n",
    "\n",
    "* 변수를 사용해서 과목의 평균을 구해보세요\n",
    "* 출력 양식 : <br>\n",
    "\n",
    "총합 308<br>\n",
    "평균 77"
   ]
  },
  {
   "cell_type": "markdown",
   "id": "cb43bfb8",
   "metadata": {},
   "source": [
    "### 2. 반지름이 7인 원의 넓이를 구해주세요\n",
    "\n",
    "(참고) 원 넓이 = (반지름 ** 2) * 3.14\n",
    "\n",
    "- 반지름과 원 넓이는 모두 변수로 저장해줍니다\n",
    "- 출력양식 <br>\n",
    "반지름 : 3\n",
    "원넓이 : 27(소수점 없이 정수로 출력)"
   ]
  },
  {
   "cell_type": "markdown",
   "id": "93159c3e",
   "metadata": {},
   "source": [
    "### 3. 여러분들이 직접 임의의 변수에 원하는 숫자를 집어 넣고 그 숫자의 제곱근과 세제곱 값을 출력해주세요"
   ]
  },
  {
   "cell_type": "code",
   "execution_count": 6,
   "id": "aef9ba89",
   "metadata": {},
   "outputs": [],
   "source": [
    "en = 80\n",
    "ko = 72\n",
    "ma = 90\n",
    "so = 66"
   ]
  },
  {
   "cell_type": "code",
   "execution_count": 7,
   "id": "bdc37b32",
   "metadata": {},
   "outputs": [
    {
     "data": {
      "text/plain": [
       "308"
      ]
     },
     "execution_count": 7,
     "metadata": {},
     "output_type": "execute_result"
    }
   ],
   "source": [
    "# 총합\n",
    "\n",
    "total = en + ko + ma + so\n",
    "\n",
    "total"
   ]
  },
  {
   "cell_type": "code",
   "execution_count": 8,
   "id": "ac0c9c66",
   "metadata": {},
   "outputs": [
    {
     "data": {
      "text/plain": [
       "77.0"
      ]
     },
     "execution_count": 8,
     "metadata": {},
     "output_type": "execute_result"
    }
   ],
   "source": [
    "total/4"
   ]
  },
  {
   "cell_type": "code",
   "execution_count": 5,
   "id": "522fdbb9",
   "metadata": {},
   "outputs": [
    {
     "data": {
      "text/plain": [
       "77"
      ]
     },
     "execution_count": 5,
     "metadata": {},
     "output_type": "execute_result"
    }
   ],
   "source": [
    "# 평균\n",
    "\n",
    "int(total/4)"
   ]
  },
  {
   "cell_type": "code",
   "execution_count": 15,
   "id": "5004e3a0",
   "metadata": {},
   "outputs": [],
   "source": [
    "r = 7\n",
    "pi = 3.14"
   ]
  },
  {
   "cell_type": "code",
   "execution_count": 19,
   "id": "44b741dc",
   "metadata": {},
   "outputs": [
    {
     "name": "stdout",
     "output_type": "stream",
     "text": [
      "반지름 7\n",
      "원넓이 153\n"
     ]
    }
   ],
   "source": [
    "print(\"반지름\", r)\n",
    "print(\"원넓이\", int(r ** 2 * pi))\n",
    "\n",
    "# 파이썬에서는 정수로 바꾸고 싶다면 int + 괄호로 감싸면 된다"
   ]
  },
  {
   "cell_type": "code",
   "execution_count": 23,
   "id": "13d34f16",
   "metadata": {},
   "outputs": [],
   "source": [
    "apple = 5"
   ]
  },
  {
   "cell_type": "code",
   "execution_count": 12,
   "id": "fc518b3f",
   "metadata": {},
   "outputs": [
    {
     "data": {
      "text/plain": [
       "2.23606797749979"
      ]
     },
     "execution_count": 12,
     "metadata": {},
     "output_type": "execute_result"
    }
   ],
   "source": [
    "apple ** 0.5"
   ]
  },
  {
   "cell_type": "code",
   "execution_count": 4,
   "id": "610db4b0",
   "metadata": {},
   "outputs": [
    {
     "data": {
      "text/plain": [
       "64"
      ]
     },
     "execution_count": 4,
     "metadata": {},
     "output_type": "execute_result"
    }
   ],
   "source": [
    "banana ** 3"
   ]
  },
  {
   "cell_type": "code",
   "execution_count": 20,
   "id": "baaefba0",
   "metadata": {},
   "outputs": [
    {
     "name": "stdout",
     "output_type": "stream",
     "text": [
      "제곱근 2.23606797749979\n"
     ]
    }
   ],
   "source": [
    "# 출력1\n",
    "print(\"제곱근\", apple ** 0.5)"
   ]
  },
  {
   "cell_type": "code",
   "execution_count": 21,
   "id": "0b4b3ec2",
   "metadata": {},
   "outputs": [
    {
     "name": "stdout",
     "output_type": "stream",
     "text": [
      "제곱근 2.23606797749979\n"
     ]
    }
   ],
   "source": [
    "# 출력2\n",
    "print(\"제곱근\", apple ** (1/2))"
   ]
  },
  {
   "cell_type": "code",
   "execution_count": 25,
   "id": "b53e485f",
   "metadata": {},
   "outputs": [
    {
     "name": "stdout",
     "output_type": "stream",
     "text": [
      "세제곱근 1.7099759466766968\n"
     ]
    }
   ],
   "source": [
    "#세제곱근\n",
    "\n",
    "print(\"세제곱근\", apple ** (1/3))"
   ]
  }
 ],
 "metadata": {
  "kernelspec": {
   "display_name": "Python 3",
   "language": "python",
   "name": "python3"
  },
  "language_info": {
   "codemirror_mode": {
    "name": "ipython",
    "version": 3
   },
   "file_extension": ".py",
   "mimetype": "text/x-python",
   "name": "python",
   "nbconvert_exporter": "python",
   "pygments_lexer": "ipython3",
   "version": "3.8.8"
  }
 },
 "nbformat": 4,
 "nbformat_minor": 5
}
