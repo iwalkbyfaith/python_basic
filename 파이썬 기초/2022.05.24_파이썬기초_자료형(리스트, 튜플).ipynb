{
 "cells": [
  {
   "cell_type": "markdown",
   "id": "a9d5ae58",
   "metadata": {},
   "source": [
    "# 자료형\n",
    "\n",
    "- 여러 개의 아이템들을 저장하는 객체 = 여러 개의 값(데이터타입)을 저장하는 그릇\n",
    "\n",
    "## 1. 리스트(List)\n",
    "\n",
    "▶ 문법 기호 : [아이템1, 아이템2, 아이템3 .... ]\n",
    "\n",
    "\n",
    "▶ 용어 : 아이템 = 요소\n",
    "\n",
    "\n",
    "▶ 아이템으로 가질 수 있는 데이터 타입 : 문자, 숫자, 리스트, 딕셔너리 ...\n",
    "\n",
    "\n",
    "▶ 종류\n",
    "\n",
    "     * 아이템이 없는 리스트\n",
    "         - 그냥 빈 리스트\n",
    "    \n",
    "     * 1차원 리스트\n",
    "         - 0, 1, 2, 3, ..\n",
    "    \n",
    "     * 다차원 리스트 \n",
    "         - 리스트 안의 리스트\n",
    "    \n",
    "    \n",
    "▶ 특징\n",
    "\n",
    "     * 인덱스 활용\n",
    "    \n",
    "     * 다차원 리스트의 구조에 대한 이해"
   ]
  },
  {
   "cell_type": "markdown",
   "id": "27e25446",
   "metadata": {},
   "source": [
    "### 1.1 생성하기"
   ]
  },
  {
   "cell_type": "code",
   "execution_count": 2,
   "id": "ca8bae88",
   "metadata": {},
   "outputs": [
    {
     "name": "stdout",
     "output_type": "stream",
     "text": [
      "<class 'list'> <class 'list'>\n",
      "[] []\n"
     ]
    }
   ],
   "source": [
    "# 빈 리스트 생성하기 = 아이템이 없는 리스트\n",
    "\n",
    "## 문법 기호 : []\n",
    "## 함수 : list()\n",
    "\n",
    "a = []\n",
    "a2 = list()\n",
    "\n",
    "print(type(a), type(a2))\n",
    "print(a, a2)"
   ]
  },
  {
   "cell_type": "code",
   "execution_count": 3,
   "id": "ab6ee5df",
   "metadata": {},
   "outputs": [
    {
     "data": {
      "text/plain": [
       "['a', 10, 1.1, [1, 23.1, 'a']]"
      ]
     },
     "execution_count": 3,
     "metadata": {},
     "output_type": "execute_result"
    }
   ],
   "source": [
    "# 모든 데이터 타입을 아이템으로 가질 수 있다. (정수, 실수, 문자, 리스트)\n",
    "\n",
    "a3 = ['a', 10, 1.1, [1, 23.1, 'a']]\n",
    "a3"
   ]
  },
  {
   "cell_type": "code",
   "execution_count": null,
   "id": "14a05845",
   "metadata": {},
   "outputs": [],
   "source": [
    "# 2차원 배열이며, 인덱스를 2개를 써야 하나의 값을 타겟으로 잡을 수 있다."
   ]
  },
  {
   "cell_type": "code",
   "execution_count": 9,
   "id": "dd8ab85e",
   "metadata": {},
   "outputs": [
    {
     "data": {
      "text/plain": [
       "'a'"
      ]
     },
     "execution_count": 9,
     "metadata": {},
     "output_type": "execute_result"
    }
   ],
   "source": [
    "a3[0]"
   ]
  },
  {
   "cell_type": "code",
   "execution_count": 10,
   "id": "740dfbb3",
   "metadata": {},
   "outputs": [
    {
     "data": {
      "text/plain": [
       "[1, 23.1, 'a']"
      ]
     },
     "execution_count": 10,
     "metadata": {},
     "output_type": "execute_result"
    }
   ],
   "source": [
    "a3[3]"
   ]
  },
  {
   "cell_type": "code",
   "execution_count": 11,
   "id": "c1c0a8cb",
   "metadata": {},
   "outputs": [
    {
     "data": {
      "text/plain": [
       "23.1"
      ]
     },
     "execution_count": 11,
     "metadata": {},
     "output_type": "execute_result"
    }
   ],
   "source": [
    "a3[3][1]"
   ]
  },
  {
   "cell_type": "code",
   "execution_count": 12,
   "id": "6d9b8266",
   "metadata": {},
   "outputs": [
    {
     "data": {
      "text/plain": [
       "[1, 2, 3, [1, 2, 3, [10, 20]]]"
      ]
     },
     "execution_count": 12,
     "metadata": {},
     "output_type": "execute_result"
    }
   ],
   "source": [
    "# 3차원 배열 예시\n",
    "\n",
    "a4 = [1, 2, 3, [1, 2, 3, [10, 20]]]\n",
    "a4"
   ]
  },
  {
   "cell_type": "code",
   "execution_count": 13,
   "id": "93c11b68",
   "metadata": {},
   "outputs": [
    {
     "data": {
      "text/plain": [
       "20"
      ]
     },
     "execution_count": 13,
     "metadata": {},
     "output_type": "execute_result"
    }
   ],
   "source": [
    "a4[3][3][1]"
   ]
  },
  {
   "cell_type": "markdown",
   "id": "c742cf96",
   "metadata": {},
   "source": [
    "### 1-2 인덱싱, 슬라이싱\n",
    "\n",
    "- 리스트를 인덱스 번호로 접근하면 해당하는 위치의 값(아이템) 가져온다.\n",
    "\n",
    "- ※ 복습\n",
    "    - 첫 번째 인덱스 번호는? =  0번 인덱스 = 첫 번째 아이템\n",
    "    - 마지막 인덱스 번호는?  = -1번 인덱스 = 마지막 아이템\n",
    "    "
   ]
  },
  {
   "cell_type": "markdown",
   "id": "7aeaf36e",
   "metadata": {},
   "source": [
    "### 1-2-1 인덱싱(Indexing)\n",
    "\n",
    "- ※ 정의 복습 : 특정 위치에 있는 하나의 아이템에 접근한다. = 하나의 값을 가져온다."
   ]
  },
  {
   "cell_type": "code",
   "execution_count": 14,
   "id": "3e3afe42",
   "metadata": {},
   "outputs": [
    {
     "data": {
      "text/plain": [
       "[1, 2, 3, 4, 5, 6, 7, 8, 9]"
      ]
     },
     "execution_count": 14,
     "metadata": {},
     "output_type": "execute_result"
    }
   ],
   "source": [
    "# 리스트 생성하기\n",
    "\n",
    "a = [1, 2, 3, 4, 5, 6, 7, 8, 9]\n",
    "a"
   ]
  },
  {
   "cell_type": "code",
   "execution_count": 15,
   "id": "d6d26fff",
   "metadata": {},
   "outputs": [
    {
     "data": {
      "text/plain": [
       "1"
      ]
     },
     "execution_count": 15,
     "metadata": {},
     "output_type": "execute_result"
    }
   ],
   "source": [
    "# 첫 번째 아이템 인덱스 번호 : 0\n",
    "\n",
    "## 인덱싱 문법 : 객체[인덱스번호]\n",
    "\n",
    "a[0]"
   ]
  },
  {
   "cell_type": "code",
   "execution_count": 16,
   "id": "1e37a249",
   "metadata": {},
   "outputs": [
    {
     "data": {
      "text/plain": [
       "6"
      ]
     },
     "execution_count": 16,
     "metadata": {},
     "output_type": "execute_result"
    }
   ],
   "source": [
    "## 리스트에서 6이라는 아이템 가져오기\n",
    "a[5]"
   ]
  },
  {
   "cell_type": "code",
   "execution_count": 17,
   "id": "01ab1dc2",
   "metadata": {},
   "outputs": [
    {
     "data": {
      "text/plain": [
       "9"
      ]
     },
     "execution_count": 17,
     "metadata": {},
     "output_type": "execute_result"
    }
   ],
   "source": [
    "# 리스트의 마지막 값 확인학\n",
    "a[-1]"
   ]
  },
  {
   "cell_type": "code",
   "execution_count": 18,
   "id": "af77cdc9",
   "metadata": {},
   "outputs": [
    {
     "data": {
      "text/plain": [
       "9"
      ]
     },
     "execution_count": 18,
     "metadata": {},
     "output_type": "execute_result"
    }
   ],
   "source": [
    "# len()으로 길이 확인 가능\n",
    "\n",
    "len(a)"
   ]
  },
  {
   "cell_type": "markdown",
   "id": "a24356b0",
   "metadata": {},
   "source": [
    "### 1-2-2 슬라이싱(Slicing)\n",
    "\n",
    "- ※ 정의 복습 : 연속된 범위에 있는 하나 또는 하나 이상의 여러개 아이템에 접근한다.\n",
    "- ※ 문법 기호 : 대상 객체(문자열, 리스트)[시작번호:끝번호:간격] => 끝번호는 포함하지 않는다."
   ]
  },
  {
   "cell_type": "code",
   "execution_count": 19,
   "id": "64d555bb",
   "metadata": {},
   "outputs": [
    {
     "data": {
      "text/plain": [
       "[1, 2, 3, 4, 5, 6, 7, 8, 9]"
      ]
     },
     "execution_count": 19,
     "metadata": {},
     "output_type": "execute_result"
    }
   ],
   "source": [
    "a"
   ]
  },
  {
   "cell_type": "code",
   "execution_count": 20,
   "id": "78566727",
   "metadata": {},
   "outputs": [
    {
     "data": {
      "text/plain": [
       "[1, 2, 3]"
      ]
     },
     "execution_count": 20,
     "metadata": {},
     "output_type": "execute_result"
    }
   ],
   "source": [
    "# 리스트의 0~2번째 아이템까지 확인하기\n",
    "\n",
    "## 시작 번호 : 0\n",
    "## 끝 번호 : 2니까 3이라고 적어야 함\n",
    "\n",
    "a[0:3]"
   ]
  },
  {
   "cell_type": "code",
   "execution_count": 21,
   "id": "7714ed63",
   "metadata": {},
   "outputs": [
    {
     "data": {
      "text/plain": [
       "[4, 5, 6, 7, 8, 9]"
      ]
     },
     "execution_count": 21,
     "metadata": {},
     "output_type": "execute_result"
    }
   ],
   "source": [
    "# 리스트의 3번째 아이템부터 마지막 아이템까지 확인하기\n",
    "\n",
    "## 시작 번호 : 3\n",
    "## 끝 번호 : 생략\n",
    "\n",
    "a[3:]"
   ]
  },
  {
   "cell_type": "markdown",
   "id": "7e3c1ba0",
   "metadata": {},
   "source": [
    "### << 연습문제 >>\n",
    "\n",
    "다음의 4차원 리스트에서 아래 조건에 맞는 값을 출력해주세요.\n",
    "\n",
    "         a = [1,2,3, ['a', [100, 200, ['강남', '서울'], 300,], 'b', 'c']]\n",
    "         \n",
    "         출력 결과 = 강남 & 300 & c"
   ]
  },
  {
   "cell_type": "code",
   "execution_count": 22,
   "id": "ea8da10b",
   "metadata": {},
   "outputs": [],
   "source": [
    "a = [1,2,3, ['a', [100, 200, ['강남', '서울'], 300,], 'b', 'c']]"
   ]
  },
  {
   "cell_type": "code",
   "execution_count": 33,
   "id": "5195b8c9",
   "metadata": {},
   "outputs": [],
   "source": [
    "a1 = a[3][1][2][0]"
   ]
  },
  {
   "cell_type": "code",
   "execution_count": 34,
   "id": "7bf2f4de",
   "metadata": {},
   "outputs": [],
   "source": [
    "a2 = a[3][1][3]"
   ]
  },
  {
   "cell_type": "code",
   "execution_count": 35,
   "id": "a08c1c28",
   "metadata": {},
   "outputs": [],
   "source": [
    "a3 = a[3][3]"
   ]
  },
  {
   "cell_type": "code",
   "execution_count": 39,
   "id": "656c7705",
   "metadata": {},
   "outputs": [
    {
     "name": "stdout",
     "output_type": "stream",
     "text": [
      "출력 결과 = 강남 & 300 & c\n"
     ]
    }
   ],
   "source": [
    "print(\"출력 결과 =\", a1, \"&\" , a2, \"&\", a3 )"
   ]
  },
  {
   "cell_type": "code",
   "execution_count": 43,
   "id": "5e09fdb9",
   "metadata": {},
   "outputs": [
    {
     "name": "stdout",
     "output_type": "stream",
     "text": [
      "출력 결과 =  강남 & 300 & c\n"
     ]
    }
   ],
   "source": [
    "# 포매팅 사용\n",
    "\n",
    "print(\"출력 결과 =  %s & %s & %s\" %(a1, a2, a3))"
   ]
  },
  {
   "cell_type": "markdown",
   "id": "fda004fc",
   "metadata": {},
   "source": [
    "### 1-3 아이템 추가하기 : 연산자와 함수를 이용한 리스트 아이템 추가\n",
    "\n",
    "- 1) 산술 연산자 : +, *\n",
    "- 2) 리스트의 함수(메서드) : ★리스트.append(), 리스트.extend(), 리스트.insert()"
   ]
  },
  {
   "cell_type": "markdown",
   "id": "951373de",
   "metadata": {},
   "source": [
    "#### 1-3-1 산술 연산자\n",
    "\n",
    "- 종류 : +, *\n",
    "- 특징 : 원본에 반영되지 않는다."
   ]
  },
  {
   "cell_type": "code",
   "execution_count": 44,
   "id": "5756fef9",
   "metadata": {},
   "outputs": [],
   "source": [
    "# 리스트끼리 연결 : +\n",
    "\n",
    "a = [1,2,3]\n",
    "b = [4,5,6]"
   ]
  },
  {
   "cell_type": "code",
   "execution_count": 45,
   "id": "5342de69",
   "metadata": {},
   "outputs": [
    {
     "data": {
      "text/plain": [
       "[1, 2, 3, 4, 5, 6]"
      ]
     },
     "execution_count": 45,
     "metadata": {},
     "output_type": "execute_result"
    }
   ],
   "source": [
    "a + b"
   ]
  },
  {
   "cell_type": "code",
   "execution_count": 46,
   "id": "69bacb5f",
   "metadata": {},
   "outputs": [
    {
     "name": "stdout",
     "output_type": "stream",
     "text": [
      "[1, 2, 3] [4, 5, 6]\n"
     ]
    }
   ],
   "source": [
    "print(a, b)"
   ]
  },
  {
   "cell_type": "code",
   "execution_count": 47,
   "id": "351ce912",
   "metadata": {},
   "outputs": [
    {
     "data": {
      "text/plain": [
       "[4, 5, 6, 4, 5, 6, 4, 5, 6]"
      ]
     },
     "execution_count": 47,
     "metadata": {},
     "output_type": "execute_result"
    }
   ],
   "source": [
    "# 리스트 대상 곱하기 : *\n",
    "\n",
    "b * 3 "
   ]
  },
  {
   "cell_type": "markdown",
   "id": "cb5a358c",
   "metadata": {},
   "source": [
    "### 1-4. 리스트 타입의 함수 (method)\n",
    "\n",
    "- 종류\n",
    "\n",
    "    - 리스트.append(추가할 아이템) : 인자값을 통채로 리스트의 마지막 아이템으로 추가, 인자값은 1개만 받음 = 1개의 아이템만 추가 가능\n",
    "    - 리스트.extend(추가할 아이템) : 인자값의 아이템을 뽑아서 리스트의 마지막 아이템으로 추가, 인자값은 1개만 받음, 단 여러 개의 아이템 \n",
    "    <br/>\n",
    "\n",
    "\n",
    "\n",
    "- 추가 가능\n",
    "    \n",
    "    - 리스트.insert(인덱스번호, 추가할 아이템) : 위치를 지정해서 아이템을 삽입할 수 있음, 통채로 아이템을 추가\n",
    "    - 특징 : 원본에 바로 적용이 됨\n",
    "    <br/>\n",
    "    \n",
    "    \n",
    "    \n",
    "- 참고 연산자 : in 연산자 (결과값은 bool type)"
   ]
  },
  {
   "cell_type": "code",
   "execution_count": null,
   "id": "bac1fe53",
   "metadata": {},
   "outputs": [],
   "source": []
  },
  {
   "cell_type": "code",
   "execution_count": 63,
   "id": "74f19101",
   "metadata": {},
   "outputs": [
    {
     "data": {
      "text/plain": [
       "[1, 2, 3]"
      ]
     },
     "execution_count": 63,
     "metadata": {},
     "output_type": "execute_result"
    }
   ],
   "source": [
    "# 리스트 생성하기\n",
    "\n",
    "a = [1,2,3]\n",
    "\n",
    "a"
   ]
  },
  {
   "cell_type": "code",
   "execution_count": 49,
   "id": "673b6714",
   "metadata": {},
   "outputs": [],
   "source": [
    "# append()\n",
    "\n",
    "## 문법 : 리스트.append(추가할 아이템)\n",
    "## 추가되는 위치 : 가장 마지막 인덱스 바로 뒤"
   ]
  },
  {
   "cell_type": "code",
   "execution_count": 64,
   "id": "1cd12575",
   "metadata": {},
   "outputs": [
    {
     "data": {
      "text/plain": [
       "[1, 2, 3, 4]"
      ]
     },
     "execution_count": 64,
     "metadata": {},
     "output_type": "execute_result"
    }
   ],
   "source": [
    "a.append(4)\n",
    "a"
   ]
  },
  {
   "cell_type": "code",
   "execution_count": 65,
   "id": "0ef5f336",
   "metadata": {},
   "outputs": [
    {
     "data": {
      "text/plain": [
       "[1, 2, 3, 4, [5, 6]]"
      ]
     },
     "execution_count": 65,
     "metadata": {},
     "output_type": "execute_result"
    }
   ],
   "source": [
    "## 추가 할 자료로 [5, 6]을 제공한다면?\n",
    "\n",
    "a.append([5, 6])\n",
    "a"
   ]
  },
  {
   "cell_type": "code",
   "execution_count": 66,
   "id": "3eaaa69a",
   "metadata": {},
   "outputs": [
    {
     "data": {
      "text/plain": [
       "[5, 6]"
      ]
     },
     "execution_count": 66,
     "metadata": {},
     "output_type": "execute_result"
    }
   ],
   "source": [
    "### ===> (결과) 무조건 한 인덱스에 다 때려넣기 때문에 이차원 배열이 되었다.\n",
    "\n",
    "a[4]"
   ]
  },
  {
   "cell_type": "code",
   "execution_count": 67,
   "id": "816a91ac",
   "metadata": {},
   "outputs": [
    {
     "data": {
      "text/plain": [
       "[1, 2, 3, 4, [5, 6], 7, 8, 9]"
      ]
     },
     "execution_count": 67,
     "metadata": {},
     "output_type": "execute_result"
    }
   ],
   "source": [
    "# extend()\n",
    "\n",
    "## 문법 : 대상리스트.extend(리스트)\n",
    "## append()와의 차이점 : 인자값으로 리스트만 받을 수 있다.\n",
    "## 리스트 길이만큼 인덱스가 연장된다 (append는 무조건 +1만큼만 연장되지만..)\n",
    "\n",
    "a.extend([7, 8, 9])\n",
    "a"
   ]
  },
  {
   "cell_type": "code",
   "execution_count": 61,
   "id": "db43fd8e",
   "metadata": {},
   "outputs": [
    {
     "ename": "TypeError",
     "evalue": "'int' object is not iterable",
     "output_type": "error",
     "traceback": [
      "\u001b[1;31m---------------------------------------------------------------------------\u001b[0m",
      "\u001b[1;31mTypeError\u001b[0m                                 Traceback (most recent call last)",
      "\u001b[1;32m<ipython-input-61-cc7250ee3f32>\u001b[0m in \u001b[0;36m<module>\u001b[1;34m\u001b[0m\n\u001b[1;32m----> 1\u001b[1;33m \u001b[0ma\u001b[0m\u001b[1;33m.\u001b[0m\u001b[0mextend\u001b[0m\u001b[1;33m(\u001b[0m\u001b[1;36m9\u001b[0m\u001b[1;33m)\u001b[0m\u001b[1;33m\u001b[0m\u001b[1;33m\u001b[0m\u001b[0m\n\u001b[0m\u001b[0;32m      2\u001b[0m \u001b[0ma\u001b[0m\u001b[1;33m\u001b[0m\u001b[1;33m\u001b[0m\u001b[0m\n",
      "\u001b[1;31mTypeError\u001b[0m: 'int' object is not iterable"
     ]
    }
   ],
   "source": [
    "## 리스트만 받을 수 있음. => TypeError: 'int' object is not iterable\n",
    "\n",
    "a.extend(9)\n",
    "a"
   ]
  },
  {
   "cell_type": "code",
   "execution_count": 68,
   "id": "d7d37787",
   "metadata": {},
   "outputs": [
    {
     "data": {
      "text/plain": [
       "[1, 2, 3, 4, [5, 6], 7, 8, 9, 10]"
      ]
     },
     "execution_count": 68,
     "metadata": {},
     "output_type": "execute_result"
    }
   ],
   "source": [
    "## 이렇게는 가능. 즉, 하나를 넣어도 리스트[] 형식으로 넣어야한다.\n",
    "\n",
    "a.extend([10])\n",
    "a"
   ]
  },
  {
   "cell_type": "code",
   "execution_count": 69,
   "id": "bb377578",
   "metadata": {},
   "outputs": [
    {
     "data": {
      "text/plain": [
       "[100, 1, 2, 3, 4, [5, 6], 7, 8, 9, 10]"
      ]
     },
     "execution_count": 69,
     "metadata": {},
     "output_type": "execute_result"
    }
   ],
   "source": [
    "# insert()\n",
    "\n",
    "## 문법 : 대상리스트.insert(인덱스번호, 추가할아이템)\n",
    "## 다른 함수와의 차이점 : 아이템 추가가 마지막 인덱스가 아닌 지정한 인덱스를 기준으로\n",
    "## append와의 유사점 : 하나의 인덱스에 다 때려박음(append는 넣을 위치를 지정할 수 없다.)\n",
    "\n",
    "a.insert(0, 100)\n",
    "a\n",
    "\n",
    "### 기존의 값 : [1, 2, 3, 4, [5, 6], 7, 8, 9, 10]\n",
    "### 변경된 값 : [100, 1, 2, 3, 4, [5, 6], 7, 8, 9, 10]"
   ]
  },
  {
   "cell_type": "code",
   "execution_count": 70,
   "id": "c80f5057",
   "metadata": {},
   "outputs": [
    {
     "data": {
      "text/plain": [
       "[[98, 99], 100, 1, 2, 3, 4, [5, 6], 7, 8, 9, 10]"
      ]
     },
     "execution_count": 70,
     "metadata": {},
     "output_type": "execute_result"
    }
   ],
   "source": [
    "## 하나의 인덱스에 다 넣기 때문에, 리스트를 넣어도 하나의 인덱스에 들어감.\n",
    "\n",
    "a.insert(0, [98, 99])\n",
    "a\n",
    "\n",
    "### 기존의 값 : [100, 1, 2, 3, 4, [5, 6], 7, 8, 9, 10]\n",
    "### 변경된 값 :  [[98, 99], 100, 1, 2, 3, 4, [5, 6], 7, 8, 9, 10]"
   ]
  },
  {
   "cell_type": "code",
   "execution_count": 71,
   "id": "3e7da482",
   "metadata": {},
   "outputs": [
    {
     "data": {
      "text/plain": [
       "False"
      ]
     },
     "execution_count": 71,
     "metadata": {},
     "output_type": "execute_result"
    }
   ],
   "source": [
    "# in 키워드는 특정 요소가 리스트 내에 있는지 없는지 여부를 물어봅니다.\n",
    "\n",
    "# 값 in 리스트\n",
    "# 값 100이 a 리스트 내에 존재하나요? => 100 in a\n",
    "\n",
    "99 in a\n",
    "\n",
    "## 결과값 : false => a는 99가 없다. [98, 99]가 있을 뿐 ,,,,"
   ]
  },
  {
   "cell_type": "code",
   "execution_count": 73,
   "id": "6379f136",
   "metadata": {},
   "outputs": [
    {
     "data": {
      "text/plain": [
       "True"
      ]
     },
     "execution_count": 73,
     "metadata": {},
     "output_type": "execute_result"
    }
   ],
   "source": [
    "## a의 0번째에 99가 있나요?\n",
    "\n",
    "99 in a[0]\n",
    "\n",
    "## 결과값 : true => a[0] = [98, 99]이기 때문"
   ]
  },
  {
   "cell_type": "code",
   "execution_count": 74,
   "id": "f314d076",
   "metadata": {},
   "outputs": [
    {
     "data": {
      "text/plain": [
       "False"
      ]
     },
     "execution_count": 74,
     "metadata": {},
     "output_type": "execute_result"
    }
   ],
   "source": [
    "# not in 키워드는 특정 요소가 리스트 내부에 없는지를 물어봅니다.\n",
    "\n",
    "# 값 not in 리스트\n",
    "\n",
    "## 50이 a 리스트에 없습니까? -> 50 not in a\n",
    "\n",
    "10 not in a\n",
    "\n",
    "## 결과값 : false => a 안에 있기 때문"
   ]
  },
  {
   "cell_type": "markdown",
   "id": "976573e7",
   "metadata": {},
   "source": [
    "### <<연습문제>>\n",
    "\n",
    "아래의 순서에 맞추어 직접 실행\n",
    "\n",
    "1) 빈 리스트 생성 <br/>\n",
    "2) 1에 1,2,3 추가 <br/>\n",
    "3) 2의 3번째에 문자 100 추가 <br/>\n",
    "4) 3에 문자 A, B를 아이템으로 가진 리스트를 추가 <br/>\n",
    "5) 4를 2번 반복한 리스트 출력 <br/>"
   ]
  },
  {
   "cell_type": "code",
   "execution_count": 96,
   "id": "6dca0c11",
   "metadata": {},
   "outputs": [
    {
     "data": {
      "text/plain": [
       "[]"
      ]
     },
     "execution_count": 96,
     "metadata": {},
     "output_type": "execute_result"
    }
   ],
   "source": [
    "list = []\n",
    "list"
   ]
  },
  {
   "cell_type": "code",
   "execution_count": 97,
   "id": "fccc24f1",
   "metadata": {},
   "outputs": [
    {
     "data": {
      "text/plain": [
       "[1, 2, 3]"
      ]
     },
     "execution_count": 97,
     "metadata": {},
     "output_type": "execute_result"
    }
   ],
   "source": [
    "list.extend([1,2,3])\n",
    "list"
   ]
  },
  {
   "cell_type": "code",
   "execution_count": 98,
   "id": "c48ee5b1",
   "metadata": {},
   "outputs": [
    {
     "data": {
      "text/plain": [
       "[1, 2, '100', 3]"
      ]
     },
     "execution_count": 98,
     "metadata": {},
     "output_type": "execute_result"
    }
   ],
   "source": [
    "list.insert(2, '100')\n",
    "list"
   ]
  },
  {
   "cell_type": "code",
   "execution_count": 99,
   "id": "23333156",
   "metadata": {},
   "outputs": [
    {
     "data": {
      "text/plain": [
       "[1, 2, '100', 3, ['A', 'B']]"
      ]
     },
     "execution_count": 99,
     "metadata": {},
     "output_type": "execute_result"
    }
   ],
   "source": [
    "list.append(['A', 'B'])\n",
    "list"
   ]
  },
  {
   "cell_type": "code",
   "execution_count": 93,
   "id": "d3314d06",
   "metadata": {},
   "outputs": [],
   "source": [
    "newList = []"
   ]
  },
  {
   "cell_type": "code",
   "execution_count": 91,
   "id": "382fc541",
   "metadata": {},
   "outputs": [],
   "source": [
    "newList.append(list)"
   ]
  },
  {
   "cell_type": "code",
   "execution_count": 92,
   "id": "a0cd4073",
   "metadata": {},
   "outputs": [
    {
     "data": {
      "text/plain": [
       "[[1, 2, 100, 3, ['A', 'B']], [1, 2, 100, 3, ['A', 'B']]]"
      ]
     },
     "execution_count": 92,
     "metadata": {},
     "output_type": "execute_result"
    }
   ],
   "source": [
    "newList"
   ]
  },
  {
   "cell_type": "code",
   "execution_count": 100,
   "id": "87c339c8",
   "metadata": {},
   "outputs": [
    {
     "data": {
      "text/plain": [
       "[1, 2, '100', 3, ['A', 'B'], 1, 2, '100', 3, ['A', 'B']]"
      ]
     },
     "execution_count": 100,
     "metadata": {},
     "output_type": "execute_result"
    }
   ],
   "source": [
    "list * 2"
   ]
  },
  {
   "cell_type": "code",
   "execution_count": null,
   "id": "28e13574",
   "metadata": {},
   "outputs": [],
   "source": []
  },
  {
   "cell_type": "markdown",
   "id": "18fb019c",
   "metadata": {},
   "source": [
    "여기부터 05.25 수업"
   ]
  },
  {
   "cell_type": "markdown",
   "id": "90621dce",
   "metadata": {},
   "source": [
    "### 1-5. 아이템 수정하기\n",
    "\n",
    "- 인덱싱, 슬라이싱을 이용해서 아이템을 수정할 수 있다."
   ]
  },
  {
   "cell_type": "code",
   "execution_count": 1,
   "id": "4957cd7d",
   "metadata": {},
   "outputs": [],
   "source": [
    "# 리스트 생성하기\n",
    "\n",
    "a = [1, 2, 3, 4]"
   ]
  },
  {
   "cell_type": "code",
   "execution_count": 2,
   "id": "e2f2eb81",
   "metadata": {},
   "outputs": [
    {
     "data": {
      "text/plain": [
       "[[10, 20], 2, 3, 4]"
      ]
     },
     "execution_count": 2,
     "metadata": {},
     "output_type": "execute_result"
    }
   ],
   "source": [
    "# 하나의 아이템 수정하기\n",
    "\n",
    "## 0 번 인덱스에 있는 값을 [10, 20]으로 수정하기\n",
    "## 결과 : [[10,20], 2, 3, 4]\n",
    "\n",
    "a[0] = [10,20]\n",
    "a\n",
    "\n",
    "## ★ 인덱스로 집어넣으면 하나의 인덱스에 때려 넣는다."
   ]
  },
  {
   "cell_type": "code",
   "execution_count": 6,
   "id": "b0297ea9",
   "metadata": {},
   "outputs": [],
   "source": [
    "# 연속된 범위의 여러 아이템 수정하기\n",
    "\n",
    "## 0번 인덱스만 선택 => 슬라이싱으로 선택\n",
    "\n",
    "a2 = [1, 2, 3, 4]"
   ]
  },
  {
   "cell_type": "code",
   "execution_count": 8,
   "id": "fd6a2216",
   "metadata": {},
   "outputs": [],
   "source": [
    "a2[0:1] = [10, 20] # 0번째부터 0(1-1)번째까지\n",
    "\n",
    "## 슬라이싱은 마지막 숫자-1을 해야함.\n",
    "## 따라서 위에 있는 것과 차이가 없다.\n",
    "\n",
    "## ★ 슬라이싱으로 넣으면, 리스트를 하나하나 풀어서 넣는다(extends와 유사)"
   ]
  },
  {
   "cell_type": "code",
   "execution_count": 9,
   "id": "74596506",
   "metadata": {},
   "outputs": [
    {
     "data": {
      "text/plain": [
       "[10, 20, 2, 3, 4]"
      ]
     },
     "execution_count": 9,
     "metadata": {},
     "output_type": "execute_result"
    }
   ],
   "source": [
    "a2"
   ]
  },
  {
   "cell_type": "code",
   "execution_count": 11,
   "id": "aefb34f2",
   "metadata": {},
   "outputs": [
    {
     "data": {
      "text/plain": [
       "[10]"
      ]
     },
     "execution_count": 11,
     "metadata": {},
     "output_type": "execute_result"
    }
   ],
   "source": [
    "## 리스트를 슬라이싱으로 조회하면 무조건 리스트 형태로 나옴\n",
    "\n",
    "a2[0:1]"
   ]
  },
  {
   "cell_type": "markdown",
   "id": "a94af218",
   "metadata": {},
   "source": [
    "### 정리\n",
    "\n",
    "- 인덱스로 값 넣기 : 하나의 인덱스에 값이 입력됨\n",
    "- 슬라이싱으로 값 넣기 : 하나하나 풀어서 넣어줌, 무조건 [리스트]의 형태로 넣어준다."
   ]
  },
  {
   "cell_type": "code",
   "execution_count": 12,
   "id": "8225fcc9",
   "metadata": {},
   "outputs": [
    {
     "ename": "TypeError",
     "evalue": "can only assign an iterable",
     "output_type": "error",
     "traceback": [
      "\u001b[1;31m---------------------------------------------------------------------------\u001b[0m",
      "\u001b[1;31mTypeError\u001b[0m                                 Traceback (most recent call last)",
      "\u001b[1;32m<ipython-input-12-9e6c7b2489ca>\u001b[0m in \u001b[0;36m<module>\u001b[1;34m\u001b[0m\n\u001b[0;32m      1\u001b[0m \u001b[1;31m# 슬라이싱으로 값을 할당할 때의 주의점 : 전달하는 값은 1개여도 리스트로\u001b[0m\u001b[1;33m\u001b[0m\u001b[1;33m\u001b[0m\u001b[1;33m\u001b[0m\u001b[0m\n\u001b[0;32m      2\u001b[0m \u001b[1;33m\u001b[0m\u001b[0m\n\u001b[1;32m----> 3\u001b[1;33m \u001b[0ma2\u001b[0m\u001b[1;33m[\u001b[0m\u001b[1;36m0\u001b[0m\u001b[1;33m:\u001b[0m\u001b[1;36m1\u001b[0m\u001b[1;33m]\u001b[0m \u001b[1;33m=\u001b[0m \u001b[1;36m100\u001b[0m\u001b[1;33m\u001b[0m\u001b[1;33m\u001b[0m\u001b[0m\n\u001b[0m",
      "\u001b[1;31mTypeError\u001b[0m: can only assign an iterable"
     ]
    }
   ],
   "source": [
    "# 슬라이싱으로 값을 할당할 때의 주의점 : 전달하는 값은 1개여도 리스트로 => TypeError: can only assign an iterable\n",
    "\n",
    "a2[0:1] = 100"
   ]
  },
  {
   "cell_type": "code",
   "execution_count": 13,
   "id": "8fc0906f",
   "metadata": {},
   "outputs": [],
   "source": [
    "## 슬라이싱으로 할당할떄는 무조건 [리스트]로 넣어주어야 함\n",
    "\n",
    "a2[0:1] = [100]"
   ]
  },
  {
   "cell_type": "code",
   "execution_count": 14,
   "id": "d7b09a2b",
   "metadata": {},
   "outputs": [
    {
     "data": {
      "text/plain": [
       "[100, 20, 2, 3, 4]"
      ]
     },
     "execution_count": 14,
     "metadata": {},
     "output_type": "execute_result"
    }
   ],
   "source": [
    "a2"
   ]
  },
  {
   "cell_type": "markdown",
   "id": "2499a3aa",
   "metadata": {},
   "source": [
    "### <<연습 문제>>\n",
    "\n",
    "- 아래 조건에 맞추어 리스트를 수정하세요\n",
    "\n",
    "    [ 10, 99, 3, '사과', 73, '바나나' ]\n",
    "    \n",
    "- 조건1) '사과'를 'apple'로 수정\n",
    "\n",
    "- 조건2) 99, 3을 9, 33으로 수정 ( 슬라이싱을 사용 )\n",
    "\n",
    "- 조건3) 73을 [73, 74]로 수정"
   ]
  },
  {
   "cell_type": "code",
   "execution_count": 17,
   "id": "c623f9b5",
   "metadata": {},
   "outputs": [
    {
     "data": {
      "text/plain": [
       "[10, 99, 3, '사과', 73, '바나나']"
      ]
     },
     "execution_count": 17,
     "metadata": {},
     "output_type": "execute_result"
    }
   ],
   "source": [
    "aa = [ 10, 99, 3, '사과', 73, '바나나' ]\n",
    "aa"
   ]
  },
  {
   "cell_type": "code",
   "execution_count": 20,
   "id": "41a09582",
   "metadata": {},
   "outputs": [
    {
     "data": {
      "text/plain": [
       "[10, 99, 3, 'apple', 73, '바나나']"
      ]
     },
     "execution_count": 20,
     "metadata": {},
     "output_type": "execute_result"
    }
   ],
   "source": [
    "aa[3] = 'apple'\n",
    "aa"
   ]
  },
  {
   "cell_type": "code",
   "execution_count": 21,
   "id": "1fe5d8d4",
   "metadata": {},
   "outputs": [
    {
     "data": {
      "text/plain": [
       "[10, 9, 33, 'apple', 73, '바나나']"
      ]
     },
     "execution_count": 21,
     "metadata": {},
     "output_type": "execute_result"
    }
   ],
   "source": [
    "aa[1:3] = [9, 33]\n",
    "aa\n",
    "\n",
    "## 헷갈린다면 aa[1:(2+1)] 이런식으로 해도되긴 함"
   ]
  },
  {
   "cell_type": "code",
   "execution_count": 22,
   "id": "7349d5a7",
   "metadata": {},
   "outputs": [],
   "source": [
    "aa[4] = [73, 74]"
   ]
  },
  {
   "cell_type": "code",
   "execution_count": 23,
   "id": "28a08fc8",
   "metadata": {},
   "outputs": [
    {
     "data": {
      "text/plain": [
       "[10, 9, 33, 'apple', [73, 74], '바나나']"
      ]
     },
     "execution_count": 23,
     "metadata": {},
     "output_type": "execute_result"
    }
   ],
   "source": [
    "aa"
   ]
  },
  {
   "cell_type": "code",
   "execution_count": null,
   "id": "530afbcd",
   "metadata": {},
   "outputs": [],
   "source": []
  },
  {
   "cell_type": "markdown",
   "id": "09e11de1",
   "metadata": {},
   "source": [
    "### 1-6. 아이템 삭제하기\n",
    "\n",
    "* 슬라이싱\n",
    "\n",
    "* del 키워드 + 인덱싱 / 슬라이싱\n",
    "\n",
    "* remove() 메서드 : 값을 기준으로 삭제 (인덱스가 아님!)\n",
    "\n",
    "* pop()\n",
    "    - 인자값에 아무것도 입력하지 않거나 -1을 입력하면 마지막 인덱스를 삭제\n",
    "    - 특정 인덱스를 지정하여 삭제"
   ]
  },
  {
   "cell_type": "code",
   "execution_count": 24,
   "id": "30902652",
   "metadata": {},
   "outputs": [],
   "source": [
    "# 리스트 생성하기"
   ]
  },
  {
   "cell_type": "code",
   "execution_count": 30,
   "id": "15603149",
   "metadata": {},
   "outputs": [],
   "source": [
    "a1 = [10, 20, 30, 40, 50]\n",
    "a2 = [10, 20, 30, 40, 50]"
   ]
  },
  {
   "cell_type": "code",
   "execution_count": 31,
   "id": "51c83a24",
   "metadata": {},
   "outputs": [
    {
     "data": {
      "text/plain": [
       "[20, 30, 40, 50]"
      ]
     },
     "execution_count": 31,
     "metadata": {},
     "output_type": "execute_result"
    }
   ],
   "source": [
    "# 하나의 아이템 삭제하기1 : 슬라이싱 + 빈 리스트 대입\n",
    "\n",
    "## 0번 인덱스 값 삭제하기\n",
    "\n",
    "a1[0:1] = []\n",
    "a1"
   ]
  },
  {
   "cell_type": "code",
   "execution_count": 32,
   "id": "5f97e381",
   "metadata": {},
   "outputs": [
    {
     "data": {
      "text/plain": [
       "[[], 20, 30, 40, 50]"
      ]
     },
     "execution_count": 32,
     "metadata": {},
     "output_type": "execute_result"
    }
   ],
   "source": [
    "# 만약 슬라이싱이 아닌 인덱싱을 이용한 빈 리스트 대입시는, 빈 리스트가 해당 번호에 대입(삭제가 아님)\n",
    "\n",
    "a2[0] = []\n",
    "a2"
   ]
  },
  {
   "cell_type": "code",
   "execution_count": 33,
   "id": "f0ec81cf",
   "metadata": {},
   "outputs": [
    {
     "data": {
      "text/plain": [
       "[20, 30, 40]"
      ]
     },
     "execution_count": 33,
     "metadata": {},
     "output_type": "execute_result"
    }
   ],
   "source": [
    "# 하나의 아이템 삭제하기2 : del 키워드 + 인덱싱\n",
    "\n",
    "del a1[-1]\n",
    "a1"
   ]
  },
  {
   "cell_type": "code",
   "execution_count": 34,
   "id": "efbf0486",
   "metadata": {},
   "outputs": [
    {
     "ename": "NameError",
     "evalue": "name 'a2' is not defined",
     "output_type": "error",
     "traceback": [
      "\u001b[1;31m---------------------------------------------------------------------------\u001b[0m",
      "\u001b[1;31mNameError\u001b[0m                                 Traceback (most recent call last)",
      "\u001b[1;32m<ipython-input-34-364d1a964432>\u001b[0m in \u001b[0;36m<module>\u001b[1;34m\u001b[0m\n\u001b[0;32m      4\u001b[0m \u001b[1;33m\u001b[0m\u001b[0m\n\u001b[0;32m      5\u001b[0m \u001b[1;32mdel\u001b[0m \u001b[0ma2\u001b[0m\u001b[1;33m\u001b[0m\u001b[1;33m\u001b[0m\u001b[0m\n\u001b[1;32m----> 6\u001b[1;33m \u001b[0ma2\u001b[0m\u001b[1;33m\u001b[0m\u001b[1;33m\u001b[0m\u001b[0m\n\u001b[0m",
      "\u001b[1;31mNameError\u001b[0m: name 'a2' is not defined"
     ]
    }
   ],
   "source": [
    "## del 키워드는 원래 해당 변수나 자료를 삭제해버립니다.\n",
    "\n",
    "## 리스트 전체를 del 키워드로 걸면, 리스트가 전부 삭제됩니다.\n",
    "\n",
    "del a2\n",
    "a2\n",
    "\n",
    "### NameError: name 'a2' is not defined"
   ]
  },
  {
   "cell_type": "code",
   "execution_count": 35,
   "id": "3e1a8ee6",
   "metadata": {},
   "outputs": [],
   "source": [
    "# 하나의 아이템 삭제하기3 : remove()메서드\n",
    "\n",
    "## 문법 : 리스트.remove(삭제할 자료를 직접 기입)  ★ 인덱스가 아님 !!!\n",
    "\n",
    "z = [1, 2, 3, 3, 3, 4, 5]"
   ]
  },
  {
   "cell_type": "code",
   "execution_count": 36,
   "id": "6210a64d",
   "metadata": {},
   "outputs": [],
   "source": [
    "## 5라는 값을 삭제(인덱스 번호로는 6)\n",
    "z.remove(5)\n",
    "\n",
    "### 5번 인덱스의 값이 삭제되는 것이 아니라 '5'라고 되어 있는 것이 삭제된다."
   ]
  },
  {
   "cell_type": "code",
   "execution_count": 37,
   "id": "f77b2222",
   "metadata": {},
   "outputs": [
    {
     "data": {
      "text/plain": [
       "[1, 2, 3, 3, 3, 4]"
      ]
     },
     "execution_count": 37,
     "metadata": {},
     "output_type": "execute_result"
    }
   ],
   "source": [
    "z"
   ]
  },
  {
   "cell_type": "code",
   "execution_count": 38,
   "id": "1e5c9234",
   "metadata": {},
   "outputs": [
    {
     "data": {
      "text/plain": [
       "[1, 2, 3, 3, 4]"
      ]
     },
     "execution_count": 38,
     "metadata": {},
     "output_type": "execute_result"
    }
   ],
   "source": [
    "## 중복된 아이템이 존재하면 가장 앞서는 인덱스 자료 하나만 삭제\n",
    "\n",
    "### 다 삭제하는 것이 아니라 인덱스0에서 가장 가까운 것 하나만 삭제된다.\n",
    "\n",
    "z.remove(3)\n",
    "z"
   ]
  },
  {
   "cell_type": "code",
   "execution_count": 39,
   "id": "625e102a",
   "metadata": {},
   "outputs": [
    {
     "data": {
      "text/plain": [
       "[1, 2]"
      ]
     },
     "execution_count": 39,
     "metadata": {},
     "output_type": "execute_result"
    }
   ],
   "source": [
    "# del 키워드는 단일 자료뿐만 아니라 연속된 버무이(슬라이싱) 자료도 삭제 가능하다\n",
    "\n",
    "del z[2:]\n",
    "\n",
    "## 두 번쨰 이후 모든 자료를 삭제하겠다\n",
    "z"
   ]
  },
  {
   "cell_type": "code",
   "execution_count": 40,
   "id": "63500aae",
   "metadata": {},
   "outputs": [
    {
     "data": {
      "text/plain": [
       "[1, 2, 3, 4, 5, 6]"
      ]
     },
     "execution_count": 40,
     "metadata": {},
     "output_type": "execute_result"
    }
   ],
   "source": [
    "# 하나의 아이템 삭제하기 4 : pop() 메서드\n",
    "\n",
    "## 마지막에 위치한 값이 몇이었는지 확인 시켜주고 삭제함\n",
    "\n",
    "x = [1, 2, 3, 4, 5]\n",
    "\n",
    "x.append(6)\n",
    "x"
   ]
  },
  {
   "cell_type": "code",
   "execution_count": 41,
   "id": "12da298e",
   "metadata": {},
   "outputs": [
    {
     "data": {
      "text/plain": [
       "6"
      ]
     },
     "execution_count": 41,
     "metadata": {},
     "output_type": "execute_result"
    }
   ],
   "source": [
    "## 인덱스 번호를 미기입하면 마지막 인덱스 자료 삭제( 6 삭제 )\n",
    "\n",
    "x.pop()"
   ]
  },
  {
   "cell_type": "code",
   "execution_count": 42,
   "id": "dfda4fd0",
   "metadata": {},
   "outputs": [
    {
     "data": {
      "text/plain": [
       "[1, 2, 3, 4, 5]"
      ]
     },
     "execution_count": 42,
     "metadata": {},
     "output_type": "execute_result"
    }
   ],
   "source": [
    "x"
   ]
  },
  {
   "cell_type": "code",
   "execution_count": 44,
   "id": "77608d56",
   "metadata": {},
   "outputs": [
    {
     "data": {
      "text/plain": [
       "3"
      ]
     },
     "execution_count": 44,
     "metadata": {},
     "output_type": "execute_result"
    }
   ],
   "source": [
    "## 삭제하려는 인덱스 번호 지정시, 마지막이 아닌 입력된 인덱스 자료 삭제\n",
    "\n",
    "x.pop(2)"
   ]
  },
  {
   "cell_type": "code",
   "execution_count": 45,
   "id": "a23d6b76",
   "metadata": {},
   "outputs": [
    {
     "data": {
      "text/plain": [
       "[1, 2, 4, 5]"
      ]
     },
     "execution_count": 45,
     "metadata": {},
     "output_type": "execute_result"
    }
   ],
   "source": [
    "x"
   ]
  },
  {
   "cell_type": "markdown",
   "id": "5f5bf0a8",
   "metadata": {},
   "source": [
    "### 1-7 아이템 정렬하기\n",
    "\n",
    "* 함수\n",
    "    - sort() : 기본동작 = 오름차순 정렬(작은값이 먼저 오고 큰 값이 나중에)  ==> 원본이 변경\n",
    "    \n",
    "    - reverse() : 기존 리스트의 처음과 마지막 순서를 뒤집어서 나열"
   ]
  },
  {
   "cell_type": "code",
   "execution_count": 46,
   "id": "23895d67",
   "metadata": {},
   "outputs": [],
   "source": [
    "a = [10, -30, 57, -33, 71, 1, 34, -2]"
   ]
  },
  {
   "cell_type": "code",
   "execution_count": 47,
   "id": "09ecd966",
   "metadata": {},
   "outputs": [],
   "source": [
    "# 값을 오름차순으로 정렬 : sort() 기본 동작 / sort (reverse = False)\n",
    "\n",
    "## *** 원본 리스트가 시뮬레이션이 아니라 아예 '변경'됩니다.\n",
    "\n",
    "a.sort()"
   ]
  },
  {
   "cell_type": "code",
   "execution_count": 48,
   "id": "0e3d8ff5",
   "metadata": {},
   "outputs": [
    {
     "data": {
      "text/plain": [
       "[-33, -30, -2, 1, 10, 34, 57, 71]"
      ]
     },
     "execution_count": 48,
     "metadata": {},
     "output_type": "execute_result"
    }
   ],
   "source": [
    "a"
   ]
  },
  {
   "cell_type": "code",
   "execution_count": 49,
   "id": "f912d69a",
   "metadata": {},
   "outputs": [
    {
     "data": {
      "text/plain": [
       "[71, 57, 34, 10, 1, -2, -30, -33]"
      ]
     },
     "execution_count": 49,
     "metadata": {},
     "output_type": "execute_result"
    }
   ],
   "source": [
    "# 값을 오름차순이 아닌 내림차순으로 정렬하는 경우 : .sert(reverse=True)\n",
    "\n",
    "a.sort(reverse=True)\n",
    "a"
   ]
  },
  {
   "cell_type": "code",
   "execution_count": 50,
   "id": "3849da2e",
   "metadata": {},
   "outputs": [],
   "source": [
    "# 값을 인덱스 기준으로 반대로 뒤집기 : reverse()\n",
    "\n",
    "b = [10, 71, 32, 46, 5, 95]"
   ]
  },
  {
   "cell_type": "code",
   "execution_count": 51,
   "id": "0cbf7c4f",
   "metadata": {},
   "outputs": [
    {
     "data": {
      "text/plain": [
       "[95, 5, 46, 32, 71, 10]"
      ]
     },
     "execution_count": 51,
     "metadata": {},
     "output_type": "execute_result"
    }
   ],
   "source": [
    "b.reverse()\n",
    "b"
   ]
  },
  {
   "cell_type": "markdown",
   "id": "b53173b8",
   "metadata": {},
   "source": [
    "### 1-8 아이템 개수 세기\n",
    "\n",
    "* 함수\n",
    "    - 리스트.count(값) : 값이 리스트에 몇 개 있는지 개수를 반환 => 특정 아이템 개수를 반환\n",
    "    - len() : 파이썬 내장함수, 인자값으로 전달받은 객체의 길이 => 전체 아이템의 개수를 반환"
   ]
  },
  {
   "cell_type": "code",
   "execution_count": 52,
   "id": "7c5e2d87",
   "metadata": {},
   "outputs": [],
   "source": [
    "a = [1, 2, 3, 3, 3, 4, 5, 6]"
   ]
  },
  {
   "cell_type": "code",
   "execution_count": 53,
   "id": "2acd04cf",
   "metadata": {},
   "outputs": [
    {
     "data": {
      "text/plain": [
       "1"
      ]
     },
     "execution_count": 53,
     "metadata": {},
     "output_type": "execute_result"
    }
   ],
   "source": [
    "# 특정 아이템의 개수 : count(6)\n",
    "\n",
    "a.count(6)"
   ]
  },
  {
   "cell_type": "code",
   "execution_count": 54,
   "id": "c9657ffe",
   "metadata": {},
   "outputs": [
    {
     "data": {
      "text/plain": [
       "3"
      ]
     },
     "execution_count": 54,
     "metadata": {},
     "output_type": "execute_result"
    }
   ],
   "source": [
    "a.count(3)"
   ]
  },
  {
   "cell_type": "code",
   "execution_count": 55,
   "id": "d6ff74d4",
   "metadata": {},
   "outputs": [
    {
     "data": {
      "text/plain": [
       "0"
      ]
     },
     "execution_count": 55,
     "metadata": {},
     "output_type": "execute_result"
    }
   ],
   "source": [
    "a.count(7)"
   ]
  },
  {
   "cell_type": "code",
   "execution_count": 56,
   "id": "08cb6aee",
   "metadata": {},
   "outputs": [
    {
     "data": {
      "text/plain": [
       "8"
      ]
     },
     "execution_count": 56,
     "metadata": {},
     "output_type": "execute_result"
    }
   ],
   "source": [
    "# 전체 아이템의 개수 : len()\n",
    "\n",
    "len(a)"
   ]
  },
  {
   "cell_type": "markdown",
   "id": "663a62b1",
   "metadata": {},
   "source": [
    "### 1-9 리스트 복사하기\n",
    "\n",
    "* 할당기호(=)    ==> 같은 주소 복사 (같은 번지수)\n",
    "* copy() 메서드  ==> 깊은 복사      (다른 번지수)\n",
    "* list()         ==> 깊은 복사      (다른 번지수)\n",
    "* 슬라이싱       ==> 깊은 복사      (다른 번지수)"
   ]
  },
  {
   "cell_type": "code",
   "execution_count": 57,
   "id": "ca843a37",
   "metadata": {},
   "outputs": [],
   "source": [
    "# 1. 할당기호(=)로 복사하기\n",
    "\n",
    "a = [1, 2, 3, 4, 5]\n",
    "b = a"
   ]
  },
  {
   "cell_type": "code",
   "execution_count": 58,
   "id": "de1e1ec6",
   "metadata": {},
   "outputs": [
    {
     "name": "stdout",
     "output_type": "stream",
     "text": [
      "[1, 2, 3, 4, 5] [1, 2, 3, 4, 5]\n"
     ]
    }
   ],
   "source": [
    "print(a, b)"
   ]
  },
  {
   "cell_type": "code",
   "execution_count": null,
   "id": "a5614c7a",
   "metadata": {},
   "outputs": [],
   "source": [
    "## 파이썬도 스택과 힙을 가지고 있음\n",
    "\n",
    "### 메인 메서드가 없어서 스택에 자동으로 저장된다.\n",
    "### 스택에 변수 a를 만들고 힙에 1, 2, 3, 4, 5(100번지)를 저장하고 주소지를 a에 저장한다.\n",
    "### b에다가 대입해주는 것은 100번지를 저장하는 것\n",
    "\n",
    "### 찍을때는 당연히 print(a, b)는 둘 다 100번지를 출력하게 되는 것"
   ]
  },
  {
   "cell_type": "code",
   "execution_count": 59,
   "id": "cb2f0343",
   "metadata": {},
   "outputs": [
    {
     "name": "stdout",
     "output_type": "stream",
     "text": [
      "[10, 2, 3, 4, 5] [10, 2, 3, 4, 5]\n"
     ]
    }
   ],
   "source": [
    "# = 를 이용해 복사한 요소는 동일한 지점을 가리키는 복사이다.\n",
    "\n",
    "a[0] = 10\n",
    "\n",
    "print(a, b)"
   ]
  },
  {
   "cell_type": "code",
   "execution_count": 60,
   "id": "75796e13",
   "metadata": {},
   "outputs": [
    {
     "data": {
      "text/plain": [
       "[10, 2, 3, 4, 5]"
      ]
     },
     "execution_count": 60,
     "metadata": {},
     "output_type": "execute_result"
    }
   ],
   "source": [
    "# 2. .copy() 메서드로 복사하기 ( 깊은 복사 )\n",
    "\n",
    "c = a.copy()\n",
    "c"
   ]
  },
  {
   "cell_type": "code",
   "execution_count": null,
   "id": "a8e78d25",
   "metadata": {},
   "outputs": [],
   "source": [
    "## 깊은 복사 = 힙에 있는 데이터 자체를 복사해서, 힙에다 동일한 데이터를 다른 번지수로 할당함"
   ]
  },
  {
   "cell_type": "code",
   "execution_count": 63,
   "id": "227fea7d",
   "metadata": {},
   "outputs": [
    {
     "name": "stdout",
     "output_type": "stream",
     "text": [
      "a, b의 번지수-> 1547075626048 1547075626048\n",
      "c의 번지수-> 1547075500800\n"
     ]
    }
   ],
   "source": [
    "## 파이썬에서는 id(자료)를 이용해 저장된 번지수 주소를 조회할 수 있다.\n",
    "\n",
    "print(\"a, b의 번지수->\", id(a), id(b))\n",
    "print(\"c의 번지수->\", id(c))"
   ]
  },
  {
   "cell_type": "code",
   "execution_count": 64,
   "id": "91106d3f",
   "metadata": {},
   "outputs": [
    {
     "name": "stdout",
     "output_type": "stream",
     "text": [
      "[10, 2, 20, 4, 5] [10, 2, 20, 4, 5] [10, 2, 3, 4, 5]\n"
     ]
    }
   ],
   "source": [
    "## 그래서 이제는 a를 변경해도 c는 영향을 받지 않는다\n",
    "\n",
    "a[2] = 20"
   ]
  },
  {
   "cell_type": "code",
   "execution_count": 66,
   "id": "b892d74a",
   "metadata": {},
   "outputs": [
    {
     "name": "stdout",
     "output_type": "stream",
     "text": [
      "[10, 2, 20, 4, 5]\n",
      "[10, 2, 20, 4, 5]\n",
      "[10, 2, 3, 4, 5]\n"
     ]
    }
   ],
   "source": [
    "print(a)\n",
    "print(b)\n",
    "print(c)"
   ]
  },
  {
   "cell_type": "code",
   "execution_count": null,
   "id": "4de4a97e",
   "metadata": {},
   "outputs": [],
   "source": [
    "# 3. list()로 복사하기\n",
    "\n",
    "## list(자료)를 넣으면 그 자료를 힙에 새롭게 할당해 리스트화한다."
   ]
  },
  {
   "cell_type": "code",
   "execution_count": 68,
   "id": "46dd5e5d",
   "metadata": {},
   "outputs": [],
   "source": [
    "d = list(c)"
   ]
  },
  {
   "cell_type": "code",
   "execution_count": 69,
   "id": "c5239133",
   "metadata": {},
   "outputs": [
    {
     "name": "stdout",
     "output_type": "stream",
     "text": [
      "[10, 2, 3, 4, 5]\n",
      "[10, 2, 3, 4, 5]\n"
     ]
    }
   ],
   "source": [
    "print(c)\n",
    "print(d)"
   ]
  },
  {
   "cell_type": "code",
   "execution_count": 70,
   "id": "993a04a4",
   "metadata": {},
   "outputs": [
    {
     "name": "stdout",
     "output_type": "stream",
     "text": [
      "1547075500800 1547076469952\n"
     ]
    }
   ],
   "source": [
    "## 깊은 복사 여부 확인 ==> 번지수가 다르다\n",
    "\n",
    "print(id(c), id(d))"
   ]
  },
  {
   "cell_type": "code",
   "execution_count": 71,
   "id": "da49e60b",
   "metadata": {},
   "outputs": [
    {
     "name": "stdout",
     "output_type": "stream",
     "text": [
      "1547076415680 1547076469952\n"
     ]
    }
   ],
   "source": [
    "# 4. 슬라이싱으로 복사하기 ==> 번지수가 다르다.\n",
    "\n",
    "## d의 전체 범위 복사\n",
    "\n",
    "e = d[:]\n",
    "print(id(e), id(d))"
   ]
  },
  {
   "cell_type": "markdown",
   "id": "3efae246",
   "metadata": {},
   "source": [
    "### << 연습 문제 >>\n",
    "\n",
    "1. a 리스트를 이용하여 다음과 같은 문자열을 출력하시오.\n",
    "\n",
    "출력문 : you too"
   ]
  },
  {
   "cell_type": "code",
   "execution_count": 81,
   "id": "4abed7bd",
   "metadata": {},
   "outputs": [],
   "source": [
    "a = ['Life', 'is', 'too', 'short', 'you', 'need', 'python']"
   ]
  },
  {
   "cell_type": "code",
   "execution_count": 82,
   "id": "f2e400c0",
   "metadata": {},
   "outputs": [
    {
     "name": "stdout",
     "output_type": "stream",
     "text": [
      "you too\n"
     ]
    }
   ],
   "source": [
    "print(a[4], a[2])"
   ]
  },
  {
   "cell_type": "code",
   "execution_count": 83,
   "id": "dcc2fd1e",
   "metadata": {},
   "outputs": [
    {
     "data": {
      "text/plain": [
       "7"
      ]
     },
     "execution_count": 83,
     "metadata": {},
     "output_type": "execute_result"
    }
   ],
   "source": [
    "# 리스트의 길이 구하기\n",
    "\n",
    "len(a)"
   ]
  },
  {
   "cell_type": "code",
   "execution_count": 86,
   "id": "3b8b13a9",
   "metadata": {},
   "outputs": [],
   "source": [
    "# a 리스트의 첫번째 아이템에 길이를 추가하세요\n",
    "\n",
    "a.insert(0, len(a))"
   ]
  },
  {
   "cell_type": "code",
   "execution_count": 87,
   "id": "aa5dd16e",
   "metadata": {},
   "outputs": [
    {
     "data": {
      "text/plain": [
       "[7, 'Life', 'is', 'too', 'short', 'you', 'need', 'python']"
      ]
     },
     "execution_count": 87,
     "metadata": {},
     "output_type": "execute_result"
    }
   ],
   "source": [
    "a"
   ]
  },
  {
   "cell_type": "markdown",
   "id": "972dc90a",
   "metadata": {},
   "source": [
    "4. 아래와 같이 크기 순서가 없는 리스트를 만들고 내림차순 정렬로 바꿔보세요\n",
    "\n",
    "[1, 4, 9, 2, 6, 10]"
   ]
  },
  {
   "cell_type": "code",
   "execution_count": 93,
   "id": "5f496afe",
   "metadata": {},
   "outputs": [
    {
     "data": {
      "text/plain": [
       "[1, 4, 9, 2, 6, 10]"
      ]
     },
     "execution_count": 93,
     "metadata": {},
     "output_type": "execute_result"
    }
   ],
   "source": [
    "a = [1, 4, 9, 2, 6, 10]\n",
    "a"
   ]
  },
  {
   "cell_type": "code",
   "execution_count": 95,
   "id": "cfa4170f",
   "metadata": {},
   "outputs": [
    {
     "data": {
      "text/plain": [
       "[1, 2, 4, 6, 9, 10]"
      ]
     },
     "execution_count": 95,
     "metadata": {},
     "output_type": "execute_result"
    }
   ],
   "source": [
    "a.sort()\n",
    "a"
   ]
  },
  {
   "cell_type": "code",
   "execution_count": 96,
   "id": "298959a9",
   "metadata": {},
   "outputs": [
    {
     "data": {
      "text/plain": [
       "[10, 9, 6, 4, 2, 1]"
      ]
     },
     "execution_count": 96,
     "metadata": {},
     "output_type": "execute_result"
    }
   ],
   "source": [
    "a.reverse()\n",
    "a"
   ]
  },
  {
   "cell_type": "code",
   "execution_count": 98,
   "id": "37abee3c",
   "metadata": {},
   "outputs": [
    {
     "data": {
      "text/plain": [
       "[10, 9, 6, 4, 2, 1]"
      ]
     },
     "execution_count": 98,
     "metadata": {},
     "output_type": "execute_result"
    }
   ],
   "source": [
    "# 위의 두 줄을 한번에\n",
    "\n",
    "b = [1, 4, 9, 2, 6, 10]\n",
    "b.sort(reverse=True)\n",
    "b"
   ]
  },
  {
   "cell_type": "markdown",
   "id": "ebf70d23",
   "metadata": {},
   "source": [
    "5. 다음과 같은 아이템을 가지는 리스트를 만들고 아이템을 삭제해보세요 ( 슬라이싱 숫자 3개)\n",
    "[1, 2, 3, 4, 5, 6, 7, 8, 9, 10]"
   ]
  },
  {
   "cell_type": "code",
   "execution_count": 99,
   "id": "a87d740a",
   "metadata": {},
   "outputs": [
    {
     "data": {
      "text/plain": [
       "[1, 2, 3, 4, 5, 6, 7, 8, 9, 10]"
      ]
     },
     "execution_count": 99,
     "metadata": {},
     "output_type": "execute_result"
    }
   ],
   "source": [
    "a = [1, 2, 3, 4, 5, 6, 7, 8, 9, 10]\n",
    "a"
   ]
  },
  {
   "cell_type": "code",
   "execution_count": 100,
   "id": "5867e2e0",
   "metadata": {},
   "outputs": [
    {
     "data": {
      "text/plain": [
       "[1, 3, 5, 7, 9]"
      ]
     },
     "execution_count": 100,
     "metadata": {},
     "output_type": "execute_result"
    }
   ],
   "source": [
    "a[::2]"
   ]
  },
  {
   "cell_type": "code",
   "execution_count": 101,
   "id": "9822c910",
   "metadata": {},
   "outputs": [
    {
     "data": {
      "text/plain": [
       "[2, 4, 6, 8, 10]"
      ]
     },
     "execution_count": 101,
     "metadata": {},
     "output_type": "execute_result"
    }
   ],
   "source": [
    "del a[::2]\n",
    "a"
   ]
  },
  {
   "cell_type": "code",
   "execution_count": null,
   "id": "50a6aceb",
   "metadata": {},
   "outputs": [],
   "source": []
  },
  {
   "cell_type": "code",
   "execution_count": null,
   "id": "33945a3c",
   "metadata": {},
   "outputs": [],
   "source": []
  },
  {
   "cell_type": "code",
   "execution_count": null,
   "id": "86070266",
   "metadata": {},
   "outputs": [],
   "source": []
  },
  {
   "cell_type": "markdown",
   "id": "e840675b",
   "metadata": {},
   "source": [
    "## 2. 튜플 Tuple\n",
    "\n",
    "- 생성 문법 기호 : ()\n",
    "- 아이템을 수정/삭제할 수 없기 때문에 실수로 데이터가 변경되거나 삭제되는 위험이 적다.\n",
    "- 객체를 저장하는데 더 적은 메모리를 사용한다.\n",
    "- dictionary 자료형의 key로 활용할 수 있다.\n",
    "- 함수의 인자는 tuple 자료형으로 전달된다."
   ]
  },
  {
   "cell_type": "markdown",
   "id": "19e63700",
   "metadata": {},
   "source": [
    "### 2.1 튜플 생성하기"
   ]
  },
  {
   "cell_type": "code",
   "execution_count": 102,
   "id": "c5a87064",
   "metadata": {},
   "outputs": [
    {
     "data": {
      "text/plain": [
       "list"
      ]
     },
     "execution_count": 102,
     "metadata": {},
     "output_type": "execute_result"
    }
   ],
   "source": [
    "# 하나의 아이템을 가진 리스트"
   ]
  },
  {
   "cell_type": "code",
   "execution_count": 103,
   "id": "9e108bee",
   "metadata": {},
   "outputs": [
    {
     "data": {
      "text/plain": [
       "list"
      ]
     },
     "execution_count": 103,
     "metadata": {},
     "output_type": "execute_result"
    }
   ],
   "source": [
    "a = [1]\n",
    "type(a)"
   ]
  },
  {
   "cell_type": "code",
   "execution_count": 104,
   "id": "cdbb8cf3",
   "metadata": {},
   "outputs": [],
   "source": [
    "# 튜플 만들기"
   ]
  },
  {
   "cell_type": "code",
   "execution_count": 105,
   "id": "5bc8ee33",
   "metadata": {},
   "outputs": [
    {
     "data": {
      "text/plain": [
       "int"
      ]
     },
     "execution_count": 105,
     "metadata": {},
     "output_type": "execute_result"
    }
   ],
   "source": [
    "## 문법기호 : 튜플은 ()을 이용해 생성하되, 생략이 가능함. ★단, 쉼표는 무조건 1개 이상 들어감\n",
    "\n",
    "tu = 1\n",
    "type(tu)"
   ]
  },
  {
   "cell_type": "code",
   "execution_count": 106,
   "id": "fdf5d081",
   "metadata": {},
   "outputs": [
    {
     "data": {
      "text/plain": [
       "int"
      ]
     },
     "execution_count": 106,
     "metadata": {},
     "output_type": "execute_result"
    }
   ],
   "source": [
    "tu1 = (1)\n",
    "type(tu1)"
   ]
  },
  {
   "cell_type": "code",
   "execution_count": 107,
   "id": "0b193cdd",
   "metadata": {},
   "outputs": [],
   "source": [
    "## 왜 괄호로 감싸서 만들어도 int로 나오는 것일까?\n",
    "\n",
    "### (1+3) = (4) 와 같음\n",
    "### 연산 우선순위로 쓰는 괄호"
   ]
  },
  {
   "cell_type": "code",
   "execution_count": 109,
   "id": "c0bb7cf4",
   "metadata": {},
   "outputs": [
    {
     "data": {
      "text/plain": [
       "tuple"
      ]
     },
     "execution_count": 109,
     "metadata": {},
     "output_type": "execute_result"
    }
   ],
   "source": [
    "### 두 개 이상을 집어 넣는다면?\n",
    "\n",
    "tu2 = (1,2)\n",
    "type(tu2)\n",
    "\n",
    "### 그럼 무조건 두 개 이상을 넣어야할까? NO ! "
   ]
  },
  {
   "cell_type": "code",
   "execution_count": 110,
   "id": "41148c3b",
   "metadata": {},
   "outputs": [
    {
     "data": {
      "text/plain": [
       "tuple"
      ]
     },
     "execution_count": 110,
     "metadata": {},
     "output_type": "execute_result"
    }
   ],
   "source": [
    "# 콤마를 넣으면 무조건 생성 가능 ~_~\n",
    "\n",
    "tu3 = (1,)\n",
    "type(tu3)"
   ]
  },
  {
   "cell_type": "code",
   "execution_count": null,
   "id": "79c0d8df",
   "metadata": {},
   "outputs": [],
   "source": [
    "## 콤마(,)를 적는 것 만으로도 튜플임을 명시하는 것과 같다."
   ]
  },
  {
   "cell_type": "code",
   "execution_count": 111,
   "id": "3bd69366",
   "metadata": {},
   "outputs": [
    {
     "data": {
      "text/plain": [
       "tuple"
      ]
     },
     "execution_count": 111,
     "metadata": {},
     "output_type": "execute_result"
    }
   ],
   "source": [
    "## 심지어 소과ㄹ호를 생략해도 됨\n",
    "\n",
    "tu4 = 1,\n",
    "type(tu4)"
   ]
  },
  {
   "cell_type": "code",
   "execution_count": 112,
   "id": "676331e3",
   "metadata": {},
   "outputs": [
    {
     "data": {
      "text/plain": [
       "tuple"
      ]
     },
     "execution_count": 112,
     "metadata": {},
     "output_type": "execute_result"
    }
   ],
   "source": [
    "tu5 = 1, 2, 3\n",
    "type(tu5)"
   ]
  },
  {
   "cell_type": "code",
   "execution_count": 113,
   "id": "2e6a7fac",
   "metadata": {},
   "outputs": [
    {
     "name": "stdout",
     "output_type": "stream",
     "text": [
      "<class 'list'> <class 'tuple'>\n"
     ]
    }
   ],
   "source": [
    "# tuple(리스트)로 처리하면 리스트를 튜플로 변환할 수 있따.\n",
    "\n",
    "b = tuple(a)\n",
    "print(type(a), type(b))"
   ]
  },
  {
   "cell_type": "code",
   "execution_count": 114,
   "id": "fc8e5939",
   "metadata": {},
   "outputs": [
    {
     "data": {
      "text/plain": [
       "[1]"
      ]
     },
     "execution_count": 114,
     "metadata": {},
     "output_type": "execute_result"
    }
   ],
   "source": [
    "a"
   ]
  },
  {
   "cell_type": "code",
   "execution_count": null,
   "id": "56820a1d",
   "metadata": {},
   "outputs": [],
   "source": [
    "## 그럼 리스트와 튜플의 차이가 뭐지?\n",
    "\n",
    "### 튜플은 아이템을 수정/삭제할 수 없다 ㅠ\n",
    "### DB같은데서 데이터를 꺼내올 때, 실수로 데이터를 변경하거나 삭제할 수 없으니 원본이 보장?된다.\n",
    "### 사용할 수 있는 기능이 적다 = 기능을 로딩하는 시간이 줄어든다."
   ]
  },
  {
   "cell_type": "code",
   "execution_count": 115,
   "id": "fd09e0e0",
   "metadata": {},
   "outputs": [],
   "source": [
    "# 변수 하나에 여러 값을 대입하면 튜플로 간주된다."
   ]
  },
  {
   "cell_type": "code",
   "execution_count": 116,
   "id": "00047f94",
   "metadata": {},
   "outputs": [
    {
     "data": {
      "text/plain": [
       "(56, 76, 29, 10)"
      ]
     },
     "execution_count": 116,
     "metadata": {},
     "output_type": "execute_result"
    }
   ],
   "source": [
    "x = 56, 76, 29, 10\n",
    "x"
   ]
  },
  {
   "cell_type": "code",
   "execution_count": 117,
   "id": "e8fad33d",
   "metadata": {},
   "outputs": [
    {
     "name": "stdout",
     "output_type": "stream",
     "text": [
      "1 2 3\n"
     ]
    }
   ],
   "source": [
    "# 튜플 내부의 자료 개수만큼 변수를 대입해주면 하나씩 나눠서 값을 받는다.\n",
    "\n",
    "x1, x2, x3 = 1, 2, 3\n",
    "\n",
    "print(x1, x2, x3)"
   ]
  },
  {
   "cell_type": "code",
   "execution_count": 118,
   "id": "f1902f5f",
   "metadata": {},
   "outputs": [
    {
     "ename": "ValueError",
     "evalue": "too many values to unpack (expected 3)",
     "output_type": "error",
     "traceback": [
      "\u001b[1;31m---------------------------------------------------------------------------\u001b[0m",
      "\u001b[1;31mValueError\u001b[0m                                Traceback (most recent call last)",
      "\u001b[1;32m<ipython-input-118-d627205190f5>\u001b[0m in \u001b[0;36m<module>\u001b[1;34m\u001b[0m\n\u001b[0;32m      1\u001b[0m \u001b[1;31m## 자료를 여러개 넣는다면? => 에러\u001b[0m\u001b[1;33m\u001b[0m\u001b[1;33m\u001b[0m\u001b[1;33m\u001b[0m\u001b[0m\n\u001b[0;32m      2\u001b[0m \u001b[1;33m\u001b[0m\u001b[0m\n\u001b[1;32m----> 3\u001b[1;33m \u001b[0mx1\u001b[0m\u001b[1;33m,\u001b[0m \u001b[0mx2\u001b[0m\u001b[1;33m,\u001b[0m \u001b[0mx3\u001b[0m \u001b[1;33m=\u001b[0m \u001b[1;36m1\u001b[0m\u001b[1;33m,\u001b[0m \u001b[1;36m2\u001b[0m\u001b[1;33m,\u001b[0m \u001b[1;36m3\u001b[0m\u001b[1;33m,\u001b[0m \u001b[1;36m4\u001b[0m\u001b[1;33m,\u001b[0m \u001b[1;36m5\u001b[0m\u001b[1;33m,\u001b[0m \u001b[1;36m6\u001b[0m\u001b[1;33m\u001b[0m\u001b[1;33m\u001b[0m\u001b[0m\n\u001b[0m",
      "\u001b[1;31mValueError\u001b[0m: too many values to unpack (expected 3)"
     ]
    }
   ],
   "source": [
    "## 자료를 여러개 넣는다면? => 에러 ValueError: too many values to unpack (expected 3)\n",
    "\n",
    "x1, x2, x3 = 1, 2, 3, 4, 5, 6"
   ]
  },
  {
   "cell_type": "markdown",
   "id": "4b94a700",
   "metadata": {},
   "source": [
    "### 2.2 튜플 인덱싱"
   ]
  },
  {
   "cell_type": "code",
   "execution_count": null,
   "id": "e4e85784",
   "metadata": {},
   "outputs": [],
   "source": [
    "# 튜플도 인덱싱이 된다.(리스트랑 큰 차이는 없다.)"
   ]
  },
  {
   "cell_type": "code",
   "execution_count": 119,
   "id": "c66ace9e",
   "metadata": {},
   "outputs": [
    {
     "data": {
      "text/plain": [
       "56"
      ]
     },
     "execution_count": 119,
     "metadata": {},
     "output_type": "execute_result"
    }
   ],
   "source": [
    "x[0]"
   ]
  },
  {
   "cell_type": "code",
   "execution_count": 120,
   "id": "aae16f81",
   "metadata": {},
   "outputs": [
    {
     "data": {
      "text/plain": [
       "(56, 76, 29)"
      ]
     },
     "execution_count": 120,
     "metadata": {},
     "output_type": "execute_result"
    }
   ],
   "source": [
    "x[0:3]"
   ]
  },
  {
   "cell_type": "code",
   "execution_count": 124,
   "id": "69e9e6f5",
   "metadata": {},
   "outputs": [
    {
     "data": {
      "text/plain": [
       "(56,)"
      ]
     },
     "execution_count": 124,
     "metadata": {},
     "output_type": "execute_result"
    }
   ],
   "source": [
    "x[0:1]"
   ]
  },
  {
   "cell_type": "markdown",
   "id": "2b34675a",
   "metadata": {},
   "source": [
    "### 2.3 튜플 연산자\n",
    "\n",
    "* 산술 연산자 : +, *"
   ]
  },
  {
   "cell_type": "code",
   "execution_count": 125,
   "id": "6188f14f",
   "metadata": {},
   "outputs": [],
   "source": [
    "# 여러개의 튜플 아이템을 합쳐서 새로운 튜플로 구성하기 : +"
   ]
  },
  {
   "cell_type": "code",
   "execution_count": 126,
   "id": "414606b6",
   "metadata": {},
   "outputs": [
    {
     "data": {
      "text/plain": [
       "(56, 76, 29, 10, 56, 76, 29, 10)"
      ]
     },
     "execution_count": 126,
     "metadata": {},
     "output_type": "execute_result"
    }
   ],
   "source": [
    "x + x"
   ]
  },
  {
   "cell_type": "code",
   "execution_count": 127,
   "id": "411d12c4",
   "metadata": {},
   "outputs": [],
   "source": [
    "# 한 개의 튜플을 반복해서 확장해서 새로운 튜플 만들기 : *"
   ]
  },
  {
   "cell_type": "code",
   "execution_count": 128,
   "id": "952d6f12",
   "metadata": {},
   "outputs": [
    {
     "data": {
      "text/plain": [
       "(56, 76, 29, 10, 56, 76, 29, 10, 56, 76, 29, 10, 56, 76, 29, 10)"
      ]
     },
     "execution_count": 128,
     "metadata": {},
     "output_type": "execute_result"
    }
   ],
   "source": [
    "x * 4"
   ]
  },
  {
   "cell_type": "markdown",
   "id": "e9cc58ef",
   "metadata": {},
   "source": [
    "### 2.4 튜플은 수정/삭제가 안됨"
   ]
  },
  {
   "cell_type": "code",
   "execution_count": 129,
   "id": "97587d9c",
   "metadata": {},
   "outputs": [
    {
     "ename": "TypeError",
     "evalue": "'tuple' object does not support item assignment",
     "output_type": "error",
     "traceback": [
      "\u001b[1;31m---------------------------------------------------------------------------\u001b[0m",
      "\u001b[1;31mTypeError\u001b[0m                                 Traceback (most recent call last)",
      "\u001b[1;32m<ipython-input-129-0c56234a01de>\u001b[0m in \u001b[0;36m<module>\u001b[1;34m\u001b[0m\n\u001b[0;32m      1\u001b[0m \u001b[1;31m# 수정하기 -> 인덱싱으로 하나의 아이템에 접근해서 수정\u001b[0m\u001b[1;33m\u001b[0m\u001b[1;33m\u001b[0m\u001b[1;33m\u001b[0m\u001b[0m\n\u001b[0;32m      2\u001b[0m \u001b[1;33m\u001b[0m\u001b[0m\n\u001b[1;32m----> 3\u001b[1;33m \u001b[0mx\u001b[0m\u001b[1;33m[\u001b[0m\u001b[1;36m0\u001b[0m\u001b[1;33m]\u001b[0m \u001b[1;33m=\u001b[0m \u001b[1;36m0\u001b[0m\u001b[1;33m\u001b[0m\u001b[1;33m\u001b[0m\u001b[0m\n\u001b[0m",
      "\u001b[1;31mTypeError\u001b[0m: 'tuple' object does not support item assignment"
     ]
    }
   ],
   "source": [
    "# 수정하기 -> 인덱싱으로 하나의 아이템에 접근해서 수정\n",
    "\n",
    "## TypeError: 'tuple' object does not support item assignment\n",
    "\n",
    "x[0] = 0"
   ]
  },
  {
   "cell_type": "code",
   "execution_count": 130,
   "id": "ad9988ff",
   "metadata": {},
   "outputs": [
    {
     "ename": "TypeError",
     "evalue": "'tuple' object doesn't support item deletion",
     "output_type": "error",
     "traceback": [
      "\u001b[1;31m---------------------------------------------------------------------------\u001b[0m",
      "\u001b[1;31mTypeError\u001b[0m                                 Traceback (most recent call last)",
      "\u001b[1;32m<ipython-input-130-586cc9e6f8c2>\u001b[0m in \u001b[0;36m<module>\u001b[1;34m\u001b[0m\n\u001b[0;32m      1\u001b[0m \u001b[1;31m# 삭제하기 -> del + 인덱싱\u001b[0m\u001b[1;33m\u001b[0m\u001b[1;33m\u001b[0m\u001b[1;33m\u001b[0m\u001b[0m\n\u001b[0;32m      2\u001b[0m \u001b[1;33m\u001b[0m\u001b[0m\n\u001b[1;32m----> 3\u001b[1;33m \u001b[1;32mdel\u001b[0m \u001b[0mx\u001b[0m\u001b[1;33m[\u001b[0m\u001b[1;36m0\u001b[0m\u001b[1;33m]\u001b[0m\u001b[1;33m\u001b[0m\u001b[1;33m\u001b[0m\u001b[0m\n\u001b[0m",
      "\u001b[1;31mTypeError\u001b[0m: 'tuple' object doesn't support item deletion"
     ]
    }
   ],
   "source": [
    "# 삭제하기 -> del + 인덱싱\n",
    "\n",
    "## TypeError: 'tuple' object doesn't support item deletion\n",
    "\n",
    "del x[0]"
   ]
  },
  {
   "cell_type": "code",
   "execution_count": null,
   "id": "4a9ecdc9",
   "metadata": {},
   "outputs": [],
   "source": []
  },
  {
   "cell_type": "code",
   "execution_count": null,
   "id": "4a45b2d4",
   "metadata": {},
   "outputs": [],
   "source": []
  },
  {
   "cell_type": "code",
   "execution_count": null,
   "id": "b63f607b",
   "metadata": {},
   "outputs": [],
   "source": []
  },
  {
   "cell_type": "code",
   "execution_count": null,
   "id": "de102b62",
   "metadata": {},
   "outputs": [],
   "source": []
  },
  {
   "cell_type": "code",
   "execution_count": null,
   "id": "58257ffe",
   "metadata": {},
   "outputs": [],
   "source": []
  },
  {
   "cell_type": "code",
   "execution_count": null,
   "id": "8819ec9b",
   "metadata": {},
   "outputs": [],
   "source": []
  },
  {
   "cell_type": "code",
   "execution_count": null,
   "id": "536f8c41",
   "metadata": {},
   "outputs": [],
   "source": []
  },
  {
   "cell_type": "code",
   "execution_count": null,
   "id": "b4a43bea",
   "metadata": {},
   "outputs": [],
   "source": []
  }
 ],
 "metadata": {
  "kernelspec": {
   "display_name": "Python 3",
   "language": "python",
   "name": "python3"
  },
  "language_info": {
   "codemirror_mode": {
    "name": "ipython",
    "version": 3
   },
   "file_extension": ".py",
   "mimetype": "text/x-python",
   "name": "python",
   "nbconvert_exporter": "python",
   "pygments_lexer": "ipython3",
   "version": "3.8.8"
  }
 },
 "nbformat": 4,
 "nbformat_minor": 5
}
