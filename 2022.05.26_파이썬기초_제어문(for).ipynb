{
 "cells": [
  {
   "cell_type": "markdown",
   "id": "e22b6de7",
   "metadata": {},
   "source": [
    "# << 제어문 >>\n",
    "\n",
    "\n",
    "\n",
    "## 3. for 반복문\n",
    "\n",
    "자료형(리스트, 튜플, 문자열)의 모든 아이템에 대하여 처음부터 마지막까지 차례대로 접근하여 실행문을 적용한다.\n",
    "    - 자바로 따지면 향상된 for문이라고 생각하면 된다.\n",
    "\n",
    "▶ 기본 문법 \n",
    "\n",
    "        for 임시변수 in 자료형 :\n",
    "            수행할 문장1\n",
    "            수행할 문장2\n",
    "            ...\n",
    "            \n",
    "\n",
    "▶ 임시변수 \n",
    "\n",
    "        - for 반복문이 실행되면 자료형의 아이템이 차례대로 임시변수에 할당된다.\n",
    "        \n",
    "        - 기본적으로 변수는 할당문이 존재해야 하지만 임시변수는 할당문이 필요 없는 객체이다.\n",
    "            - = 대입 연산자 이퀄을 이용해서 안 받아도, 자동으로 데이터가 들어간다는 뜻\n",
    "        \n",
    "        - '임시변수' 이름은 적고 싶은 아무거나 적으면 되고, '자료형'에는 리스트가 온다."
   ]
  },
  {
   "cell_type": "markdown",
   "id": "a71fbaf3",
   "metadata": {},
   "source": [
    "　"
   ]
  },
  {
   "cell_type": "code",
   "execution_count": 1,
   "id": "fea298af",
   "metadata": {},
   "outputs": [],
   "source": [
    "# 하나의 아이템에 접근 : 리스트 자료형\n",
    "\n",
    "a = [1, 2, 3]"
   ]
  },
  {
   "cell_type": "code",
   "execution_count": 4,
   "id": "e780b8e7",
   "metadata": {},
   "outputs": [
    {
     "name": "stdout",
     "output_type": "stream",
     "text": [
      "Hello World 1\n",
      "---------------\n",
      "Hello World 2\n",
      "---------------\n",
      "Hello World 3\n",
      "---------------\n"
     ]
    }
   ],
   "source": [
    "for i in a :\n",
    "    print(\"Hello World\", i)\n",
    "    print(\"---------------\")"
   ]
  },
  {
   "cell_type": "code",
   "execution_count": 6,
   "id": "8c24c1f9",
   "metadata": {},
   "outputs": [],
   "source": [
    "## 리스트에 들어있는 데이터의 개수만큼 돌게 된다.\n",
    "\n",
    "    ### 첫 번째 바퀴에는 i에 1이 들어간채로 프린트문을 돌림\n",
    "    ### 두 번째 바취에는 i에 2..\n",
    "    ### 마지막 바퀴에는 i에 3.."
   ]
  },
  {
   "cell_type": "markdown",
   "id": "ac89c6a5",
   "metadata": {},
   "source": [
    "　"
   ]
  },
  {
   "cell_type": "code",
   "execution_count": 5,
   "id": "1a4d5c96",
   "metadata": {},
   "outputs": [
    {
     "name": "stdout",
     "output_type": "stream",
     "text": [
      "10\n",
      "20\n",
      "30\n"
     ]
    }
   ],
   "source": [
    "# 하나의 아이템에 접근 : 튜플 자료형\n",
    "\n",
    "tu = 10, 20, 30\n",
    "\n",
    "for i in tu:\n",
    "    print(i)"
   ]
  },
  {
   "cell_type": "markdown",
   "id": "3bfd3b29",
   "metadata": {},
   "source": [
    "　"
   ]
  },
  {
   "cell_type": "code",
   "execution_count": 7,
   "id": "3f172a9d",
   "metadata": {},
   "outputs": [
    {
     "name": "stdout",
     "output_type": "stream",
     "text": [
      "a\n",
      "b\n",
      "c\n",
      "d\n"
     ]
    }
   ],
   "source": [
    "# 하나의 아이템에 접근 : 문자열\n",
    "\n",
    "for t in 'abcd' :\n",
    "    print(t)"
   ]
  },
  {
   "cell_type": "code",
   "execution_count": 8,
   "id": "57ab483e",
   "metadata": {},
   "outputs": [
    {
     "data": {
      "text/plain": [
       "{'a': 1, 'b': 2, 'c': 3}"
      ]
     },
     "execution_count": 8,
     "metadata": {},
     "output_type": "execute_result"
    }
   ],
   "source": [
    "# 하나의 아이템에 접근 : 딕셔너리 자료형\n",
    "\n",
    "    ## 딕셔너리 자료형에 대해서는 반복문 접근시 key값 기준으로 접근됨\n",
    "    ## 따라서 딕셔너리 접근은 .keys()의 요소에 접근하는 것과 결과가 동일함\n",
    "\n",
    "d1 = {'a':1, 'b':2, 'c':3}\n",
    "d1"
   ]
  },
  {
   "cell_type": "code",
   "execution_count": 10,
   "id": "9d106200",
   "metadata": {},
   "outputs": [
    {
     "name": "stdout",
     "output_type": "stream",
     "text": [
      "a\n",
      "b\n",
      "c\n"
     ]
    }
   ],
   "source": [
    "for key in d1 :\n",
    "    print(key)"
   ]
  },
  {
   "cell_type": "code",
   "execution_count": 11,
   "id": "413bb3a8",
   "metadata": {},
   "outputs": [
    {
     "name": "stdout",
     "output_type": "stream",
     "text": [
      "a\n",
      "b\n",
      "c\n"
     ]
    }
   ],
   "source": [
    "for k in d1.keys() :\n",
    "    print(k)"
   ]
  },
  {
   "cell_type": "code",
   "execution_count": 12,
   "id": "56865d73",
   "metadata": {},
   "outputs": [
    {
     "name": "stdout",
     "output_type": "stream",
     "text": [
      "1\n",
      "2\n",
      "3\n"
     ]
    }
   ],
   "source": [
    "for v in d1.values() :\n",
    "    print(v)"
   ]
  },
  {
   "cell_type": "code",
   "execution_count": 13,
   "id": "98400820",
   "metadata": {},
   "outputs": [
    {
     "name": "stdout",
     "output_type": "stream",
     "text": [
      "a 1\n",
      "b 2\n",
      "c 3\n"
     ]
    }
   ],
   "source": [
    "## dic 타입에서 value값 가져오기 (.value()를 사용하지 않고 가져오기)\n",
    "\n",
    "\n",
    "for k in d1 :\n",
    "    print(k, d1[k])"
   ]
  },
  {
   "cell_type": "code",
   "execution_count": 18,
   "id": "b3762925",
   "metadata": {},
   "outputs": [
    {
     "name": "stdout",
     "output_type": "stream",
     "text": [
      "1\n",
      "2\n",
      "3\n"
     ]
    }
   ],
   "source": [
    "## values()를 이용해서 value값만 조회\n",
    "\n",
    "for k in d1.values() :\n",
    "    print(k)"
   ]
  },
  {
   "cell_type": "code",
   "execution_count": null,
   "id": "0a34b442",
   "metadata": {},
   "outputs": [],
   "source": []
  }
 ],
 "metadata": {
  "kernelspec": {
   "display_name": "Python 3",
   "language": "python",
   "name": "python3"
  },
  "language_info": {
   "codemirror_mode": {
    "name": "ipython",
    "version": 3
   },
   "file_extension": ".py",
   "mimetype": "text/x-python",
   "name": "python",
   "nbconvert_exporter": "python",
   "pygments_lexer": "ipython3",
   "version": "3.8.8"
  }
 },
 "nbformat": 4,
 "nbformat_minor": 5
}
