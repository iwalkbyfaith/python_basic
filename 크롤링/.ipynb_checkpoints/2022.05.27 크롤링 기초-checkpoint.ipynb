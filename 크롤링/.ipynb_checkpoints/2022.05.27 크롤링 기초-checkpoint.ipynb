{
 "cells": [
  {
   "cell_type": "markdown",
   "id": "5d26aad3",
   "metadata": {},
   "source": [
    "# 크롤링\n",
    "\n",
    "- 웹에서 원하는 자료를 컴퓨터에게 수집해오도록 명령을 내리는 기술\n",
    "\n",
    "\n",
    "- requests 라이브러리를 활용한 다이렉트 크롤링\n",
    "    - 로그인해야하는 것들을 가져오기 어렵다는 단점이 있다.\n",
    "    - 특정 사이트에 있는 자료를 가져오는 방법\n",
    "\n",
    "\n",
    "- selenium 라이브러리를 활용한 간접 크롤링 등이 있다.\n",
    "    - 아까 설치한 .exe 파일을 이용해, 파이썬으로 그 사이트의 데이터를 가져온다.\n",
    "\n",
    "\n",
    "- 크롤러의 역할은 원하는 정보를 가져오는 것 까지이며, 실제 원하는 정보를 용도에 맞게 가공하는 것은 beautifulsoup가 담당한다.\n",
    "    - 정제 되지 않은 데이터를 가져와 뷰티풀수프;; 라는 것으로 정제하는 것\n"
   ]
  },
  {
   "cell_type": "code",
   "execution_count": 1,
   "id": "5f522a83",
   "metadata": {},
   "outputs": [],
   "source": [
    "# 크롤링 작업을 위한 라이브러리 임포트"
   ]
  },
  {
   "cell_type": "code",
   "execution_count": 2,
   "id": "3bc9de40",
   "metadata": {},
   "outputs": [],
   "source": [
    "## 이전에 jar 임포트 하는 것과 비슷하다고 생각하면 됨\n",
    "\n",
    "from bs4 import BeautifulSoup"
   ]
  },
  {
   "cell_type": "code",
   "execution_count": 3,
   "id": "c8aa1fe8",
   "metadata": {},
   "outputs": [],
   "source": [
    "from selenium import webdriver"
   ]
  },
  {
   "cell_type": "code",
   "execution_count": 4,
   "id": "c418de17",
   "metadata": {},
   "outputs": [],
   "source": [
    "import requests"
   ]
  },
  {
   "cell_type": "markdown",
   "id": "af38b506",
   "metadata": {},
   "source": [
    "위의 import에서 에러가 났음\n",
    "\n",
    "아나콘다를 열어서 > Environments > base(root) 옆의 ▶ 눌러서 오픈 터미널\n",
    "\n",
    "- pip install selenium\n",
    "- pip install requests\n",
    "- exit로 빠져나옴\n",
    "\n",
    "Environments에서 selenium이 안보인다면 update index 버튼을 누른다 (-> import는 되는 상태였지만, 안 보여서 업데이트 누르니까 보임)"
   ]
  },
  {
   "cell_type": "code",
   "execution_count": null,
   "id": "0140e95d",
   "metadata": {},
   "outputs": [],
   "source": []
  },
  {
   "cell_type": "markdown",
   "id": "05fbe93c",
   "metadata": {},
   "source": [
    "# selenium 설치\n",
    "\n",
    "1. Anaconda Navigator의 좌측 Environments 클릭\n",
    "2. 가운데 base(root) 사이에 있는 ▶ 클릭 후 open terminal 클릭\n",
    "3. 나온 cmd창에서 pip install selenium 입력 후 다운 완료되면 껏다 켜기"
   ]
  },
  {
   "cell_type": "markdown",
   "id": "a2284a4d",
   "metadata": {},
   "source": [
    "# 크롬드라이버 다운받기\n",
    "\n",
    "1. 크롬창 우측 상단 메뉴 클릭 \n",
    "2. 밑에서 두 번째에 있는 \"도움말\" 항목에 마우스 갖다대기\n",
    "3. Chrome정보 클릭하기\n",
    "4. Chrome정보에 나온 버전(강사 컴퓨터는 현재 크롬 101버전 사용중) 확인하기\n",
    "5. https://chromedriver.chromium.org/downloads\n",
    "   위 주소로 접속해서 버전에 맞는 다운로드 링크로 가기\n",
    "6. chromedriver zip파일 받아서 내부 chromedriver.exe파일에 대한 압축을 주피터노트북 코드가 있는 쪽에 풀기\n",
    "    - window는 window32 받으면 됨"
   ]
  },
  {
   "cell_type": "code",
   "execution_count": 5,
   "id": "462590f0",
   "metadata": {},
   "outputs": [
    {
     "name": "stderr",
     "output_type": "stream",
     "text": [
      "<ipython-input-5-34972720f88d>:1: DeprecationWarning: executable_path has been deprecated, please pass in a Service object\n",
      "  browser = webdriver.Chrome('chromedriver.exe')\n"
     ]
    }
   ],
   "source": [
    "browser = webdriver.Chrome('chromedriver.exe')"
   ]
  },
  {
   "cell_type": "code",
   "execution_count": null,
   "id": "7388dd79",
   "metadata": {},
   "outputs": [],
   "source": []
  }
 ],
 "metadata": {
  "kernelspec": {
   "display_name": "Python 3",
   "language": "python",
   "name": "python3"
  },
  "language_info": {
   "codemirror_mode": {
    "name": "ipython",
    "version": 3
   },
   "file_extension": ".py",
   "mimetype": "text/x-python",
   "name": "python",
   "nbconvert_exporter": "python",
   "pygments_lexer": "ipython3",
   "version": "3.8.8"
  }
 },
 "nbformat": 4,
 "nbformat_minor": 5
}
