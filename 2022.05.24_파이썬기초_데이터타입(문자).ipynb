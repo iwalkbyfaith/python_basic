{
 "cells": [
  {
   "cell_type": "markdown",
   "id": "315bdc54",
   "metadata": {},
   "source": [
    "# 데이터 타입 (문자형)"
   ]
  },
  {
   "cell_type": "markdown",
   "id": "77f28e6c",
   "metadata": {},
   "source": [
    "# > 1. 생성하기\n",
    "\n",
    "> 여닫는 따옴표는 반드시 문자의 앞 뒤에 한 쌍으로 완성해야 한다.\n",
    "\n",
    "### 1-1) 한 줄 문자열 : ', \"\n",
    "\n",
    "    자바에서 홑따옴표는 char 였고, 쌍따옴표는 String이었지만, 파이썬은 똑같음\n",
    "    파이썬에서는 따옴표들이 같은 줄에 있어야한다."
   ]
  },
  {
   "cell_type": "code",
   "execution_count": 1,
   "id": "10cb3d15",
   "metadata": {},
   "outputs": [
    {
     "data": {
      "text/plain": [
       "10"
      ]
     },
     "execution_count": 1,
     "metadata": {},
     "output_type": "execute_result"
    }
   ],
   "source": [
    "# 정수\n",
    "10"
   ]
  },
  {
   "cell_type": "code",
   "execution_count": 2,
   "id": "b732c5b8",
   "metadata": {},
   "outputs": [
    {
     "data": {
      "text/plain": [
       "'10'"
      ]
     },
     "execution_count": 2,
     "metadata": {},
     "output_type": "execute_result"
    }
   ],
   "source": [
    "# 문자\n",
    "'10'"
   ]
  },
  {
   "cell_type": "code",
   "execution_count": 3,
   "id": "10f47eef",
   "metadata": {
    "collapsed": true
   },
   "outputs": [
    {
     "ename": "SyntaxError",
     "evalue": "EOL while scanning string literal (<ipython-input-3-5dafb2e66d37>, line 2)",
     "output_type": "error",
     "traceback": [
      "\u001b[1;36m  File \u001b[1;32m\"<ipython-input-3-5dafb2e66d37>\"\u001b[1;36m, line \u001b[1;32m2\u001b[0m\n\u001b[1;33m    a = '안녕하세요\u001b[0m\n\u001b[1;37m              ^\u001b[0m\n\u001b[1;31mSyntaxError\u001b[0m\u001b[1;31m:\u001b[0m EOL while scanning string literal\n"
     ]
    }
   ],
   "source": [
    "# 이렇게 하면 안됨 => SyntaxError\n",
    "a = '안녕하세요\n",
    "반갑습니다'"
   ]
  },
  {
   "cell_type": "markdown",
   "id": "47418229",
   "metadata": {},
   "source": [
    "- 에러난 구문이 보기 싫다면?\n",
    "\n",
    "    - 에러가 나와있는 구문의 왼쪽을 더블 클릭한다."
   ]
  },
  {
   "cell_type": "code",
   "execution_count": 4,
   "id": "d434c4a5",
   "metadata": {},
   "outputs": [
    {
     "name": "stdout",
     "output_type": "stream",
     "text": [
      "안녕하세요 \n",
      " 반갑습니다\n"
     ]
    }
   ],
   "source": [
    "# 두 줄에 걸쳐서 쓰고 싶다면?\n",
    "\n",
    "## 역슬래시 + n 사용\n",
    "\n",
    "a = '안녕하세요 \\n 반갑습니다'\n",
    "print(a)"
   ]
  },
  {
   "cell_type": "code",
   "execution_count": 6,
   "id": "8b819b70",
   "metadata": {},
   "outputs": [
    {
     "name": "stdout",
     "output_type": "stream",
     "text": [
      "안녕하세요 \\n반갑습니다.\n"
     ]
    }
   ],
   "source": [
    "## \\n을 문자로 인식하고 싶다면? => \\ 두 개 연달아 붙임\n",
    "\n",
    "b = '안녕하세요 \\\\n반갑습니다.'\n",
    "print(b)"
   ]
  },
  {
   "cell_type": "markdown",
   "id": "088f20db",
   "metadata": {},
   "source": [
    "### 1-2) 여러 줄 문자열 : ''', \"\"\"\n",
    "\n",
    "- print()를 했을때 줄바꿈(enter)가 그대로 반영되는 문자열로 처리 가능\n",
    "    - 단 화면에서 보기를 하면(print없이 마지막 줄에 변수 넣고 셀을 실행해서 보면)\n",
    "    - 줄바꿈이 바로 나타나지 않고 엔터키가 쳐진 줄바꿈 구간은 \\n으로 대신 표현됩니다"
   ]
  },
  {
   "cell_type": "code",
   "execution_count": 7,
   "id": "d5e2da00",
   "metadata": {},
   "outputs": [
    {
     "data": {
      "text/plain": [
       "'안녕하세요\\n반갑습니다~!~!'"
      ]
     },
     "execution_count": 7,
     "metadata": {},
     "output_type": "execute_result"
    }
   ],
   "source": [
    "hi = \"\"\"안녕하세요\n",
    "반갑습니다~!~!\"\"\"\n",
    "\n",
    "# 그냥 보면? 엔터친 부분이 \\n으로 표시됨\n",
    "hi"
   ]
  },
  {
   "cell_type": "code",
   "execution_count": 8,
   "id": "f5e68e0c",
   "metadata": {},
   "outputs": [
    {
     "name": "stdout",
     "output_type": "stream",
     "text": [
      "안녕하세요\n",
      "반갑습니다~!~!\n"
     ]
    }
   ],
   "source": [
    "# 프린트로 보면?\n",
    "\n",
    "print(hi)"
   ]
  },
  {
   "cell_type": "markdown",
   "id": "cb12deb9",
   "metadata": {},
   "source": [
    "### 1-3) 문자 속에 문자열 기호 사용하기\n",
    "- 문자열에서 자주 쓰는 기호 : ', \""
   ]
  },
  {
   "cell_type": "code",
   "execution_count": 10,
   "id": "6ee2ae1b",
   "metadata": {},
   "outputs": [],
   "source": [
    "# 언어, 문자에서 많이 쓰이는 기호 : she's(소유격), \"설렁탕을 사왔는데 왜 먹지를 못하니..\"(대화)"
   ]
  },
  {
   "cell_type": "code",
   "execution_count": 11,
   "id": "abc2149b",
   "metadata": {},
   "outputs": [
    {
     "name": "stdout",
     "output_type": "stream",
     "text": [
      "She's Happy.\n"
     ]
    }
   ],
   "source": [
    "# 문자 내부에서 사용하고 싶다면? 종류가 다른 것으로 여닫으면 된다.\n",
    "\n",
    "z = \"She's Happy.\"\n",
    "print(z)"
   ]
  },
  {
   "cell_type": "code",
   "execution_count": 12,
   "id": "5a93daca",
   "metadata": {},
   "outputs": [
    {
     "name": "stdout",
     "output_type": "stream",
     "text": [
      "\"점심에는 냉면을 먹을지 떡볶이에 튀김을 먹을지 고민이다\"\n"
     ]
    }
   ],
   "source": [
    "title = '\"점심에는 냉면을 먹을지 떡볶이에 튀김을 먹을지 고민이다\"'\n",
    "print(title)"
   ]
  },
  {
   "cell_type": "code",
   "execution_count": 16,
   "id": "f92ccf0b",
   "metadata": {},
   "outputs": [
    {
     "name": "stdout",
     "output_type": "stream",
     "text": [
      "She's happy.\n"
     ]
    }
   ],
   "source": [
    "# 여닫는 용도가 아니라 문자로써 판단할 수 있는 방법 => \\ 사용\n",
    "b = 'She\\'s happy.'\n",
    "print(b)"
   ]
  },
  {
   "cell_type": "code",
   "execution_count": 17,
   "id": "ce967faa",
   "metadata": {},
   "outputs": [
    {
     "name": "stdout",
     "output_type": "stream",
     "text": [
      "aaaaaaaaaaaaaaaaaaaaaaaaaaaaaaaaaaaaaaaaaaaaaaaaaaaaaaaaaaaaaaaaaaaaaaaaaaaaaaaaaaaaaaaaaaaaaaaaaaaaaaaaaaaaaaaaaaaaaaaaaaaaaaaaaaaaaaaaaaaaaaaaaaaaaaaaaaaaaaaaaaaaaaaaaaaaaaaaaaaaaaaaaaaaaaaaaaaaaaaaaaaaaaaaaaaaaaaaaaaaaaaaaaaaaaaaaaaaaaaaaaaaaaaaaaaaaaaaaaaaaaaaaaaaaaaaaaaaaaaaaaaaaaaaaaaaaaa\n"
     ]
    }
   ],
   "source": [
    "# Q) 화면이 넘어가서 불편한 경우는? (한 줄 문자열)\n",
    "\n",
    "c = 'aaaaaaaaaaaaaaaaaaaaaaaaaaaaaaaaaaaaaaaaaaaaaaaaaaaaaaaaaaaaaaaaaaaaaaaaaaaaaaaaaaaaaaaaaaaaaaaaaaaaaaaaaaaaaaaaaaaaaaaaaaaaaaaaaaaaaaaaaaaaaaaaaaaaaaaaaaaaaaaaaaaaaaaaaaaaaaaaaaaaaaaaaaaaaaaaaaaaaaaaaaaaaaaaaaaaaaaaaaaaaaaaaaaaaaaaaaaaaaaaaaaaaaaaaaaaaaaaaaaaaaaaaaaaaaaaaaaaaaaaaaaaaaaaaaaaaaa'\n",
    "\n",
    "print(c)"
   ]
  },
  {
   "cell_type": "code",
   "execution_count": 18,
   "id": "802ed330",
   "metadata": {},
   "outputs": [
    {
     "name": "stdout",
     "output_type": "stream",
     "text": [
      "aaaaaaaaaaaaaaaaaaaaaaaaaaaaaaaaaaaaaaaaaaaaaaaaaaaaaaaaaaaaaaaaaaaaaaaaaaaaaaaaaaaaaaaaaaaaaaaaaaaaaaaaaaaaaaaaaaaaaaaaaaaaaaaaaaaaaaaaaaaaaaaaaaaaaaaaaaaaaaaaaaaaaaaaaaaaaaaaaaaaaaaaaaaaaaaaaaaaaaaaaaaaaaaaaaaaaaaaaaaaaaaaaaaaaaaaaaaaaaaaaaaaaaaaaaaaaaaaaaaaaaaaaaaaaaaaaaaaaaaaaaaaaaaaaaaaaaaa\n"
     ]
    }
   ],
   "source": [
    "# A) 중간에 역슬래시 \\ 를 붙여주면 된다 => 가독성 측면에서 좋음\n",
    "\n",
    "cc = 'aaaaaaaaaaaaaaaaaaaaaaaaaaaaaaaaaaaaaaaaaaaaaaaaa\\\n",
    "aaaaaaaaaaaaaaaaaaaaaaaaaaaaaaaaaaaaaaaaaaaaaaaaaaaaaaa\\\n",
    "aaaaaaaaaaaaaaaaaaaaaaaaaaaaaaaaaaaaaaaaaaaaaaaaaaaaaaa\\\n",
    "aaaaaaaaaaaaaaaaaaaaaaaaaaaaaaaaaaaaaaaaaaaaaaaaaaaaaaa\\\n",
    "aaaaaaaaaaaaaaaaaaaaaaaaaaaaaaaaaaaaaaaaaaaaaaaaaaaaaaa\\\n",
    "aaaaaaaaaaaaaaaaaaaaaaaaaaa'\n",
    "\n",
    "print(cc)"
   ]
  },
  {
   "cell_type": "markdown",
   "id": "27c86239",
   "metadata": {},
   "source": [
    "# <<연습 문제>>\n",
    "\n",
    "### 1. 아래와 같은 여러 줄의 문장을 문자열로 만들어서 lines라는 변수에 할당하세요\n",
    "\n",
    "> 파이썬도 배우고 <br/> \n",
    "> 장고도 배우고 <br/>\n",
    "> 할 게 너무 많아 <br/>\n",
    "\n",
    "방법 1) 여러 줄 문자열 활용하기(lines 변수에 할당) <br/>\n",
    "방법 2) 한 줄 문자열 내부에 \\n을 사이사이에 활용하기 (line 변수에 할당)"
   ]
  },
  {
   "cell_type": "code",
   "execution_count": 19,
   "id": "d859a314",
   "metadata": {},
   "outputs": [
    {
     "name": "stdout",
     "output_type": "stream",
     "text": [
      "파이썬도 배우고\n",
      "장고도 배우고\n",
      "할 게 너무 많아\n"
     ]
    }
   ],
   "source": [
    "lines = \"\"\"파이썬도 배우고\n",
    "장고도 배우고\n",
    "할 게 너무 많아\"\"\"\n",
    "\n",
    "print(lines)"
   ]
  },
  {
   "cell_type": "code",
   "execution_count": 21,
   "id": "b4eb9542",
   "metadata": {},
   "outputs": [
    {
     "name": "stdout",
     "output_type": "stream",
     "text": [
      "파이썬도 배우고 \n",
      "장고도 배우고 \n",
      "할 게 너무 많아\n"
     ]
    }
   ],
   "source": [
    "line =\"파이썬도 배우고 \\n장고도 배우고 \\n할 게 너무 많아\"\n",
    "\n",
    "print(line)"
   ]
  },
  {
   "cell_type": "markdown",
   "id": "1ea9ec1b",
   "metadata": {},
   "source": [
    "# > 2. 연산하기\n",
    "\n",
    "### 2-1) 산술 연산자 : 문자, 숫자를 함께 연산하기 위한 문법 기호\n",
    "\n",
    "- 문자와 문자를 연결\n",
    "- 동일한 문자를 반복해서 연결\n",
    "- 자바에서는 문자와 문자를 연결하면 자동으로 문자로 변환 해줬는데, 파이썬에서는 일일이 문자로 변환해서 연결해야한다."
   ]
  },
  {
   "cell_type": "code",
   "execution_count": 23,
   "id": "004109b4",
   "metadata": {},
   "outputs": [
    {
     "data": {
      "text/plain": [
       "'가나'"
      ]
     },
     "execution_count": 23,
     "metadata": {},
     "output_type": "execute_result"
    }
   ],
   "source": [
    "# 문자와 문자를 연결 : +\n",
    "\n",
    "'가' + '나'"
   ]
  },
  {
   "cell_type": "code",
   "execution_count": 25,
   "id": "d7863fe2",
   "metadata": {},
   "outputs": [
    {
     "data": {
      "text/plain": [
       "'가 나'"
      ]
     },
     "execution_count": 25,
     "metadata": {},
     "output_type": "execute_result"
    }
   ],
   "source": [
    "## 1. 문자열 자체에 공백 추가하기 ('가 나'로 출력되게 만들기)\n",
    "\n",
    "'가' + ' ' + '나'"
   ]
  },
  {
   "cell_type": "code",
   "execution_count": 27,
   "id": "045e4031",
   "metadata": {
    "collapsed": true
   },
   "outputs": [
    {
     "ename": "TypeError",
     "evalue": "can only concatenate str (not \"int\") to str",
     "output_type": "error",
     "traceback": [
      "\u001b[1;31m---------------------------------------------------------------------------\u001b[0m",
      "\u001b[1;31mTypeError\u001b[0m                                 Traceback (most recent call last)",
      "\u001b[1;32m<ipython-input-27-8f71f4eab132>\u001b[0m in \u001b[0;36m<module>\u001b[1;34m\u001b[0m\n\u001b[0;32m      1\u001b[0m \u001b[1;31m## 2. 문자 + 문자가 안니 자료형(ex 숫자) => Error\u001b[0m\u001b[1;33m\u001b[0m\u001b[1;33m\u001b[0m\u001b[1;33m\u001b[0m\u001b[0m\n\u001b[0;32m      2\u001b[0m \u001b[1;33m\u001b[0m\u001b[0m\n\u001b[1;32m----> 3\u001b[1;33m \u001b[1;34m'가'\u001b[0m \u001b[1;33m+\u001b[0m \u001b[1;36m1\u001b[0m\u001b[1;33m\u001b[0m\u001b[1;33m\u001b[0m\u001b[0m\n\u001b[0m",
      "\u001b[1;31mTypeError\u001b[0m: can only concatenate str (not \"int\") to str"
     ]
    }
   ],
   "source": [
    "## 2. 문자 + 문자가 아닌 자료형(ex 숫자) => TypeError\n",
    "\n",
    "'가' + 1"
   ]
  },
  {
   "cell_type": "code",
   "execution_count": 28,
   "id": "438b886a",
   "metadata": {},
   "outputs": [
    {
     "data": {
      "text/plain": [
       "'abcabcabc'"
      ]
     },
     "execution_count": 28,
     "metadata": {},
     "output_type": "execute_result"
    }
   ],
   "source": [
    "## 3. 문자를 여러번 반복하기 : *\n",
    "\n",
    "### 동일한 문자열을 여러 번 반복 연결시켜줌\n",
    "\n",
    "'abc' * 3"
   ]
  },
  {
   "cell_type": "code",
   "execution_count": 29,
   "id": "9ba12897",
   "metadata": {
    "collapsed": true
   },
   "outputs": [
    {
     "ename": "TypeError",
     "evalue": "can't multiply sequence by non-int of type 'str'",
     "output_type": "error",
     "traceback": [
      "\u001b[1;31m---------------------------------------------------------------------------\u001b[0m",
      "\u001b[1;31mTypeError\u001b[0m                                 Traceback (most recent call last)",
      "\u001b[1;32m<ipython-input-29-459c0735c580>\u001b[0m in \u001b[0;36m<module>\u001b[1;34m\u001b[0m\n\u001b[0;32m      1\u001b[0m \u001b[1;31m## 4. 문자 * 문자 = Error\u001b[0m\u001b[1;33m\u001b[0m\u001b[1;33m\u001b[0m\u001b[1;33m\u001b[0m\u001b[0m\n\u001b[0;32m      2\u001b[0m \u001b[1;33m\u001b[0m\u001b[0m\n\u001b[1;32m----> 3\u001b[1;33m \u001b[1;34m'abc'\u001b[0m \u001b[1;33m*\u001b[0m \u001b[1;34m'a'\u001b[0m\u001b[1;33m\u001b[0m\u001b[1;33m\u001b[0m\u001b[0m\n\u001b[0m",
      "\u001b[1;31mTypeError\u001b[0m: can't multiply sequence by non-int of type 'str'"
     ]
    }
   ],
   "source": [
    "## 4. 문자 * 문자 = TypeError \n",
    "\n",
    "'abc' * 'a'"
   ]
  },
  {
   "cell_type": "markdown",
   "id": "fca5e143",
   "metadata": {},
   "source": [
    "### 2-2) 비교 연산자 : 문자의 크기를 비교하기 위한 문법 기호\n",
    "\n",
    "> 문자의 비교\n",
    "\n",
    "* 대문자 vs 소문자 : 대문자 < 소문자 크기가 더 크다 ( 아스키코드 A = 65, a = 97 )\n",
    "* 알파벳 : 알파벳 순서가 뒤에 있을 수록 ( a보다는 z가 ) 크기가 더 크다\n",
    "* 문자 길이 : 문자열의 길이가 길 수록 크기가 더 크다 (len()으로 확인 가능)"
   ]
  },
  {
   "cell_type": "code",
   "execution_count": 30,
   "id": "37014498",
   "metadata": {},
   "outputs": [
    {
     "data": {
      "text/plain": [
       "True"
      ]
     },
     "execution_count": 30,
     "metadata": {},
     "output_type": "execute_result"
    }
   ],
   "source": [
    "# 대문자 vs 소문자 : 비교 연산자 (==, !=, <, >)로 확인 가능\n",
    "\n",
    "'A' < 'a'"
   ]
  },
  {
   "cell_type": "code",
   "execution_count": 31,
   "id": "30b93ddd",
   "metadata": {},
   "outputs": [
    {
     "data": {
      "text/plain": [
       "True"
      ]
     },
     "execution_count": 31,
     "metadata": {},
     "output_type": "execute_result"
    }
   ],
   "source": [
    "# 알파벳\n",
    "\n",
    "'a' < 'z'"
   ]
  },
  {
   "cell_type": "code",
   "execution_count": 33,
   "id": "269c9c73",
   "metadata": {},
   "outputs": [
    {
     "data": {
      "text/plain": [
       "False"
      ]
     },
     "execution_count": 33,
     "metadata": {},
     "output_type": "execute_result"
    }
   ],
   "source": [
    "# 문자열을 대상으로 할 때에는 무조건 '첫 글자'끼리만 비교한다.\n",
    "# 문자 길이는 실제 크기 비교에 영향을 미치지 않음\n",
    "\n",
    "'b' < 'BUS'"
   ]
  },
  {
   "cell_type": "code",
   "execution_count": 34,
   "id": "82c7c376",
   "metadata": {},
   "outputs": [
    {
     "data": {
      "text/plain": [
       "True"
      ]
     },
     "execution_count": 34,
     "metadata": {},
     "output_type": "execute_result"
    }
   ],
   "source": [
    "# 문자 길이는 len(문자열) 형식으로 볼 수 있다\n",
    "len('b') < len('BUS')"
   ]
  },
  {
   "cell_type": "code",
   "execution_count": 35,
   "id": "57cdae13",
   "metadata": {},
   "outputs": [
    {
     "data": {
      "text/plain": [
       "True"
      ]
     },
     "execution_count": 35,
     "metadata": {},
     "output_type": "execute_result"
    }
   ],
   "source": [
    "# 영문자와 영문자 이외의 다른 문자간 비교는 무조건 영문자가 작게 나온다.\n",
    "\n",
    "# ascii code(1바이트) vs unicode(2바이트)\n",
    "\n",
    "'B' < '가'"
   ]
  },
  {
   "cell_type": "markdown",
   "id": "062e7688",
   "metadata": {},
   "source": [
    "# > 3\n",
    "\n",
    "## 3-1) 인덱싱\n",
    "\n",
    "- 아이템(대상이 가지고 있는 최소 단위의 값)의 위치를 나타내는 고유한 번호\n",
    "- 첫 번째 위치는 0부터 시작\n",
    "- 마지막 위치는 -1부터 시작 (※ 파이썬의 특징 )"
   ]
  },
  {
   "cell_type": "code",
   "execution_count": 44,
   "id": "bdedc6cb",
   "metadata": {},
   "outputs": [],
   "source": [
    "# banana라는 문자열에 대해 인덱싱\n",
    "\n",
    "text = 'banana'"
   ]
  },
  {
   "cell_type": "code",
   "execution_count": 45,
   "id": "f9cca2cb",
   "metadata": {},
   "outputs": [
    {
     "data": {
      "text/plain": [
       "'b'"
      ]
     },
     "execution_count": 45,
     "metadata": {},
     "output_type": "execute_result"
    }
   ],
   "source": [
    "# banana라는 문자열에서 첫 번째 아이템 0번째 인덱스 번호로 접근\n",
    "# 인덱싱 문법 : 객체(대상 : 값, 자료형)[인덱스 번호]\n",
    "\n",
    "text[0]"
   ]
  },
  {
   "cell_type": "code",
   "execution_count": 46,
   "id": "ed728a12",
   "metadata": {},
   "outputs": [
    {
     "data": {
      "text/plain": [
       "'a'"
      ]
     },
     "execution_count": 46,
     "metadata": {},
     "output_type": "execute_result"
    }
   ],
   "source": [
    "# 마지막 아이템인 'a'에 접근시켜보세요\n",
    "text[-1] # 혹은 text[5]"
   ]
  },
  {
   "cell_type": "markdown",
   "id": "885652c2",
   "metadata": {},
   "source": [
    "## 3-2) 슬라이싱 : 연속된 범위의 여러 아이템에 접근\n",
    "\n",
    "* 대상 객체[처음인덱스 : 마지막인덱스( : 간격)]\n",
    "* 처음 인덱스 번호는 포함(n부터~)\n",
    "* 마지막 인덱스 번호는 포함하지 않음(m-1까지)\n",
    "* 간격 조정은 할 수도 있고, 하지 않을 수도 있음(기본은 1씩 증가)"
   ]
  },
  {
   "cell_type": "code",
   "execution_count": 49,
   "id": "5ab6a2a2",
   "metadata": {},
   "outputs": [],
   "source": [
    "# 문자열 생성\n",
    "\n",
    "text = \"hello python world\""
   ]
  },
  {
   "cell_type": "code",
   "execution_count": 50,
   "id": "3dccfa1b",
   "metadata": {},
   "outputs": [
    {
     "data": {
      "text/plain": [
       "'hello python'"
      ]
     },
     "execution_count": 50,
     "metadata": {},
     "output_type": "execute_result"
    }
   ],
   "source": [
    "# 처음부터 특정 위치까지 ~python\n",
    "\n",
    "## 처음 인덱스 : 0\n",
    "## 마지막 인덱스 : python의 n 다음 문자가 몇번쨰인지 확인\n",
    "\n",
    "text[0:12]"
   ]
  },
  {
   "cell_type": "code",
   "execution_count": 51,
   "id": "9a84cd11",
   "metadata": {},
   "outputs": [
    {
     "data": {
      "text/plain": [
       "'hello python'"
      ]
     },
     "execution_count": 51,
     "metadata": {},
     "output_type": "execute_result"
    }
   ],
   "source": [
    "# 처음부터 특정 위치까지 : ~python\n",
    "\n",
    "## 처음 인덱스 : 0\n",
    "## 마지막 인덱스 : -7(뒤에서 6번째까지를 가져와야하므로 실제로는 -6을 타겟으로)\n",
    "\n",
    "text[0:-6]"
   ]
  },
  {
   "cell_type": "code",
   "execution_count": 52,
   "id": "50964ca3",
   "metadata": {},
   "outputs": [
    {
     "data": {
      "text/plain": [
       "'h'"
      ]
     },
     "execution_count": 52,
     "metadata": {},
     "output_type": "execute_result"
    }
   ],
   "source": [
    "text[0]"
   ]
  },
  {
   "cell_type": "code",
   "execution_count": 53,
   "id": "b3d83f9d",
   "metadata": {},
   "outputs": [
    {
     "data": {
      "text/plain": [
       "' '"
      ]
     },
     "execution_count": 53,
     "metadata": {},
     "output_type": "execute_result"
    }
   ],
   "source": [
    "text[-6]"
   ]
  },
  {
   "cell_type": "code",
   "execution_count": 54,
   "id": "ba83e460",
   "metadata": {},
   "outputs": [
    {
     "data": {
      "text/plain": [
       "'hello python'"
      ]
     },
     "execution_count": 54,
     "metadata": {},
     "output_type": "execute_result"
    }
   ],
   "source": [
    "# 첫 인덱스가 0으로 시작하면 생략 가능\n",
    "\n",
    "text[:-6]"
   ]
  },
  {
   "cell_type": "code",
   "execution_count": 55,
   "id": "9143a4f7",
   "metadata": {},
   "outputs": [
    {
     "data": {
      "text/plain": [
       "'python'"
      ]
     },
     "execution_count": 55,
     "metadata": {},
     "output_type": "execute_result"
    }
   ],
   "source": [
    "# 특정 위치부터 마지막 아이템까지 : python\n",
    "\n",
    "## 처음 인덱스는 : 6\n",
    "## 마지막 인덱스는 : -6\n",
    "# 간격 : 기본값 1\n",
    "\n",
    "text[6:-6:1]"
   ]
  },
  {
   "cell_type": "code",
   "execution_count": 56,
   "id": "04ec2abd",
   "metadata": {},
   "outputs": [
    {
     "data": {
      "text/plain": [
       "'hello python world'"
      ]
     },
     "execution_count": 56,
     "metadata": {},
     "output_type": "execute_result"
    }
   ],
   "source": [
    "# 전체 가져오기 : 처음 인덱스, 마지막 인덱스를 모두 쓰지 않으면 전체 아이템을 모두 가져오는 결과\n",
    "\n",
    "## 처음 인덱스 기본값 : 0\n",
    "## 마지막 인덱스 기본값 : 마지막까지\n",
    "\n",
    "text[:]"
   ]
  },
  {
   "cell_type": "code",
   "execution_count": 57,
   "id": "fc55958b",
   "metadata": {},
   "outputs": [
    {
     "data": {
      "text/plain": [
       "'hlopto ol'"
      ]
     },
     "execution_count": 57,
     "metadata": {},
     "output_type": "execute_result"
    }
   ],
   "source": [
    "# 간격을 2로 주려면 :을 두 개 쓰고 가장 오른쪽에 증감분을 적습니다.\n",
    "\n",
    "text[::2]"
   ]
  },
  {
   "cell_type": "markdown",
   "id": "0093a95c",
   "metadata": {},
   "source": [
    "## > 연습문제\n",
    "\n",
    "### 20220524미세먼지양호함\n",
    "#### 위의 문장을 weather 변수에 저장한 다음\n",
    "#### 날짜는 date 변수에 슬라이싱으로 받아오고 micro 변수에 미세먼지 정도를 슬라이싱으로 받아오도록 만들어 출력해주세요\n",
    "\n",
    "\n",
    "출력 양식 : <br>\n",
    "날짜 : 20220524 <br/>\n",
    "날씨 : \"미세먼지양호함\"\n"
   ]
  },
  {
   "cell_type": "code",
   "execution_count": 58,
   "id": "10e19ba6",
   "metadata": {},
   "outputs": [],
   "source": [
    "weather=\"20220524미세먼지양호함\""
   ]
  },
  {
   "cell_type": "code",
   "execution_count": 61,
   "id": "6f5bf4cf",
   "metadata": {},
   "outputs": [
    {
     "data": {
      "text/plain": [
       "'20220524'"
      ]
     },
     "execution_count": 61,
     "metadata": {},
     "output_type": "execute_result"
    }
   ],
   "source": [
    "date = weather[0:8]\n",
    "\n",
    "date"
   ]
  },
  {
   "cell_type": "code",
   "execution_count": 63,
   "id": "3be70d41",
   "metadata": {},
   "outputs": [
    {
     "data": {
      "text/plain": [
       "'미세먼지양호함'"
      ]
     },
     "execution_count": 63,
     "metadata": {},
     "output_type": "execute_result"
    }
   ],
   "source": [
    "micro = weather[8:]\n",
    "micro"
   ]
  },
  {
   "cell_type": "code",
   "execution_count": 67,
   "id": "eb863007",
   "metadata": {},
   "outputs": [
    {
     "name": "stdout",
     "output_type": "stream",
     "text": [
      "날짜 : 20220524\n",
      "날씨 : \"미세먼지양호함\"\n"
     ]
    }
   ],
   "source": [
    "print(\"날짜 :\", date)\n",
    "print(\"날씨 :\", '\"' + micro + '\"')"
   ]
  },
  {
   "cell_type": "markdown",
   "id": "bdf66080",
   "metadata": {},
   "source": [
    "# > 4) 포매팅(formatting)\n",
    "\n",
    "- 특정 값만 바뀌고 일정한 형식을 가지는 문자열을 작성할 수 있는 기법\n",
    "\n",
    "## 1. % 포매팅\n",
    "    - 데이터 타입에 따른 분류 : 정수, 실수, 문자\n",
    "    - 옵션 길이 : 문자열 길이, 표현할 아이템 개수, 정렬, 공백\n",
    "    \n",
    "### 1.1 숫자값 대입"
   ]
  },
  {
   "cell_type": "code",
   "execution_count": null,
   "id": "a8e79a82",
   "metadata": {},
   "outputs": [],
   "source": [
    "# 1. 가변자료가 들어갈 자리(땡댕..에 해당하는)에 구멍(%자료형)을 낸다.\n",
    "# 2. 구멍이 뚫린 문자열 뒤에 %로 연결한 다음 집어넣을 값을 적는다."
   ]
  },
  {
   "cell_type": "code",
   "execution_count": 74,
   "id": "e8c4e8be",
   "metadata": {},
   "outputs": [
    {
     "data": {
      "text/plain": [
       "'오늘은 24일입니다.'"
      ]
     },
     "execution_count": 74,
     "metadata": {},
     "output_type": "execute_result"
    }
   ],
   "source": [
    "# 정수 값 포매팅 : 정수(int) -> %d\n",
    "\n",
    "'오늘은 %d일입니다.' % 24\n",
    "\n",
    "# d의 의미 = decimal(십진수). 정수만 들어오는 것"
   ]
  },
  {
   "cell_type": "code",
   "execution_count": 70,
   "id": "de0c95c1",
   "metadata": {},
   "outputs": [
    {
     "name": "stdout",
     "output_type": "stream",
     "text": [
      "오늘은 25도입니다.\n"
     ]
    }
   ],
   "source": [
    "온도 = 25\n",
    "\n",
    "if 온도 == 24:\n",
    "    print(\"오늘은 24도입니다.\")\n",
    "elif 온도 == 25:\n",
    "    print(\"오늘은 25도입니다.\")\n",
    "    \n",
    "    \n",
    "# 이 렇 게 하 지 말 고 ! ! ! 위와 같이 양식을 만들자는 얘기"
   ]
  },
  {
   "cell_type": "code",
   "execution_count": 75,
   "id": "51c195b7",
   "metadata": {},
   "outputs": [
    {
     "data": {
      "text/plain": [
       "'오늘은 16일입니다.'"
      ]
     },
     "execution_count": 75,
     "metadata": {},
     "output_type": "execute_result"
    }
   ],
   "source": [
    "# 정수 자리의 의미 : 출력되는 형식이 정수라는 의미\n",
    "# 반올림이 아니라 소수점 아래를 '버린' 결과를 출력한다.\n",
    "\n",
    "'오늘은 %d일입니다.' %16.324234"
   ]
  },
  {
   "cell_type": "code",
   "execution_count": 76,
   "id": "2594cb1d",
   "metadata": {},
   "outputs": [
    {
     "data": {
      "text/plain": [
       "'오늘의 온도는 28.900000도 입니다.'"
      ]
     },
     "execution_count": 76,
     "metadata": {},
     "output_type": "execute_result"
    }
   ],
   "source": [
    "# 실수(float)값 포매팅\n",
    "\n",
    "# %f를 이용하여 값에 대한 구멍을 낸다\n",
    "# %f는 기본적으로 소수점 6자리까지 표현\n",
    "\n",
    "\"오늘의 온도는 %f도 입니다.\" %28.9"
   ]
  },
  {
   "cell_type": "code",
   "execution_count": 77,
   "id": "4b49716b",
   "metadata": {},
   "outputs": [
    {
     "data": {
      "text/plain": [
       "'당신의 점수는 92.123457점 입니다.'"
      ]
     },
     "execution_count": 77,
     "metadata": {},
     "output_type": "execute_result"
    }
   ],
   "source": [
    "# 실수값 포매팅2 : 집어넣는 값을 실수로 적용\n",
    "\n",
    "# 실수값 포매팅은 반올림이 적용된다.\n",
    "# 소수점 아래 6자리까지 표현을 해준다. => 7번째 자리에서 반올림\n",
    "\n",
    "'당신의 점수는 %f점 입니다.' % 92.123456789"
   ]
  },
  {
   "cell_type": "code",
   "execution_count": 78,
   "id": "326da575",
   "metadata": {},
   "outputs": [
    {
     "data": {
      "text/plain": [
       "'당신의 점수는 92.123점 입니다.'"
      ]
     },
     "execution_count": 78,
     "metadata": {},
     "output_type": "execute_result"
    }
   ],
   "source": [
    "# 옵션 : 소수점 아래 자리를 몇 자리까지 출력할지 정할 수 있음\n",
    "\n",
    "# %0.nf : 소수점 아래 n자리까지만 표현하는 실수\n",
    "\n",
    "'당신의 점수는 %0.3f점 입니다.' % 92.123456789"
   ]
  },
  {
   "cell_type": "code",
   "execution_count": 79,
   "id": "30dc293d",
   "metadata": {},
   "outputs": [
    {
     "data": {
      "text/plain": [
       "'오늘은 5월 24일 입니다.'"
      ]
     },
     "execution_count": 79,
     "metadata": {},
     "output_type": "execute_result"
    }
   ],
   "source": [
    "# 가변자료를 2개 이상 넣는 케이스\n",
    "\n",
    "## 집어넣는 값은 왼쪽부터 하나씩 전달됨\n",
    "## 2개 이상을 집어넣는 경우는 %(1번째값, 2번째값..)과 같이 ()로 감싸서 전달한다.\n",
    "\n",
    "'오늘은 %d월 %d일 입니다.' %(5, 24)"
   ]
  },
  {
   "cell_type": "code",
   "execution_count": 80,
   "id": "6088a33e",
   "metadata": {
    "collapsed": true
   },
   "outputs": [
    {
     "ename": "TypeError",
     "evalue": "%d format: a number is required, not str",
     "output_type": "error",
     "traceback": [
      "\u001b[1;31m---------------------------------------------------------------------------\u001b[0m",
      "\u001b[1;31mTypeError\u001b[0m                                 Traceback (most recent call last)",
      "\u001b[1;32m<ipython-input-80-4ddcbba133d9>\u001b[0m in \u001b[0;36m<module>\u001b[1;34m\u001b[0m\n\u001b[0;32m      1\u001b[0m \u001b[1;31m# %d, %f에 숫자가 아닌 자료를 넣으면 에러가 발생합니다.\u001b[0m\u001b[1;33m\u001b[0m\u001b[1;33m\u001b[0m\u001b[1;33m\u001b[0m\u001b[0m\n\u001b[0;32m      2\u001b[0m \u001b[1;33m\u001b[0m\u001b[0m\n\u001b[1;32m----> 3\u001b[1;33m \u001b[1;34m'오늘은 %d월 %d일 입니다.'\u001b[0m \u001b[1;33m%\u001b[0m\u001b[1;33m(\u001b[0m\u001b[1;34m'5'\u001b[0m\u001b[1;33m,\u001b[0m \u001b[1;34m'24'\u001b[0m\u001b[1;33m)\u001b[0m\u001b[1;33m\u001b[0m\u001b[1;33m\u001b[0m\u001b[0m\n\u001b[0m",
      "\u001b[1;31mTypeError\u001b[0m: %d format: a number is required, not str"
     ]
    }
   ],
   "source": [
    "# %d, %f에 숫자가 아닌 자료를 넣으면 에러가 발생합니다. => TypeError: %d format: a number is required, not str\n",
    "\n",
    "'오늘은 %d월 %d일 입니다.' %('5', '24')"
   ]
  },
  {
   "cell_type": "markdown",
   "id": "f715ff9d",
   "metadata": {},
   "source": [
    "### 1.2 문자값 대입\n",
    "\n",
    "- %s로 구멍 뚤기\n",
    "- 집어넣는 값에 대해서는 제한이 없다.\n",
    "- 만능 포매팅"
   ]
  },
  {
   "cell_type": "code",
   "execution_count": 81,
   "id": "8fa506a2",
   "metadata": {},
   "outputs": [
    {
     "data": {
      "text/plain": [
       "'dani님 접속을 환영합니다'"
      ]
     },
     "execution_count": 81,
     "metadata": {},
     "output_type": "execute_result"
    }
   ],
   "source": [
    "# 집어 넣는 값 : 문자 타입\n",
    "\n",
    "'%s님 접속을 환영합니다'  %'dani'"
   ]
  },
  {
   "cell_type": "code",
   "execution_count": 82,
   "id": "2d807f8b",
   "metadata": {},
   "outputs": [
    {
     "data": {
      "text/plain": [
       "'2.25, 숫자도 입력 가능'"
      ]
     },
     "execution_count": 82,
     "metadata": {},
     "output_type": "execute_result"
    }
   ],
   "source": [
    "# 문자 이외의 타입도 가능 (만능 포매팅)\n",
    "\n",
    "'%s, 숫자도 입력 가능' %2.25"
   ]
  },
  {
   "cell_type": "markdown",
   "id": "917936c8",
   "metadata": {},
   "source": [
    "# <<연습 문제>>\n",
    "\n",
    "### 아래 문장에 대해 조건을 만족하는 포매팅을 작성해주세요\n",
    "\n",
    "\"날짜 : 2022-05-24 / 출석률 : 88%\"\n",
    "\n",
    "    - 전달하는 값 : 4개\n",
    "    - 출석한 학생 수 : 16명\n",
    "    - 총 학생 수 : 18명\n",
    "    - 출석률은 소수점 첫 번째 자리가 보이게 반올림 적용\n",
    "    \n",
    "    - 포매팅이기 때문에 %를 적으면 포매팅을 사용하려는 것처럼 인식을 함\n",
    "        - 이를 해결하기 위해 %를 연달아 두 번 %% 사용하면 됨"
   ]
  },
  {
   "cell_type": "code",
   "execution_count": 105,
   "id": "9fa377bc",
   "metadata": {},
   "outputs": [
    {
     "data": {
      "text/plain": [
       "'날짜 : 2022-05-24 / 출석률 : 88.9 %'"
      ]
     },
     "execution_count": 105,
     "metadata": {},
     "output_type": "execute_result"
    }
   ],
   "source": [
    "# 이렇게 하는게 더 좋은 방법이라고 하심\n",
    "\n",
    "'날짜 : %d-%s-%d / 출석률 : %0.1f %%' %(2022, '05', 24, (16/18)*100)"
   ]
  },
  {
   "cell_type": "code",
   "execution_count": 106,
   "id": "f1929e61",
   "metadata": {},
   "outputs": [
    {
     "data": {
      "text/plain": [
       "'날짜 : 2022-05-24 / 출석률 : 88.9 %'"
      ]
     },
     "execution_count": 106,
     "metadata": {},
     "output_type": "execute_result"
    }
   ],
   "source": [
    "# 이 방법도 있음\n",
    "\n",
    "'날짜 : %d-0%d-%d / 출석률 : %0.1f %%' %(2022, 5, 24, (16/18)*100)"
   ]
  },
  {
   "cell_type": "markdown",
   "id": "f9350933",
   "metadata": {},
   "source": [
    "# > 5) 문자열 내장함수* = 문자열 메서드\n",
    "\n",
    "    └≫ 내장함수 : 특정 데이터 타입이 자체적으로 가지고 있는 속성으로 존재하는 함수\n",
    "    └≫ 문법 : 변수(데이터타입값).함수명()\n",
    "\n",
    "\n",
    "* count( ) : 특정 문자의 개수\n",
    "    - 크롤링 할 때 많이 씀.\n",
    "    - ex) 기사 수집시 기사 제목에서 '손흥민'이 들어간 기사만 수집\n",
    "\n",
    "\n",
    "* find( ) :특정 문자의 인덱스 번호(위치)\n",
    "    - 있으면 몇 번 인덱스에 있다. 없으면 없다.\n",
    "\n",
    "\n",
    "* join( ) : 특정 기호를 문자열 아이템 사이에 입력\n",
    "\n",
    "\n",
    "* upper( ) : 문자열을 대문자로 변경\n",
    "\n",
    "\n",
    "* lower( ) : 문자열을 소문자로 변경\n",
    "\n",
    "\n",
    "* capitalize( ) : 문자열의 첫 글자를 대문자로\n",
    "\n",
    "\n",
    "* swapcase( ) : 대문자는 소문자로, 소문자는 대문자로 전환\n",
    "    - upper() ~ swapcase() 까지 코테에서 많이 씀\n",
    "\n",
    "\n",
    "* lstrip( ) / rstrip( ) / strip( ) : 좌 / 우 / 앞뒤 공백(기본) 및 특정 문자 지우기\n",
    "    - ★ 크롤링 할 때 많이 씀\n",
    "\n",
    "\n",
    "* replace( ) : 기존 문자를 새로운 문자로 바꾸기\n",
    "\n",
    "\n",
    "* split( ) : 특정 기호를 기준으로 문자열을 아이템 단위로 나누어 리스트로 반환\n",
    "\n",
    "\n",
    "* center( ) : 문자열 길이를 지정하여 대상 문자열을 중앙 정렬\n",
    "\n",
    "\n",
    "* ljust( ) : 문자열 길이를 지정하여 대상 문자열을 왼쪽 정렬\n",
    "\n",
    "\n",
    "* rjust( ) : 문자열 길이를 지정하여 대상 문자열을 오른쪽 정렬"
   ]
  },
  {
   "cell_type": "code",
   "execution_count": 107,
   "id": "d9f58dd1",
   "metadata": {},
   "outputs": [],
   "source": [
    "# 문자열 생성\n",
    "\n",
    "text = 'tomato juice'"
   ]
  },
  {
   "cell_type": "code",
   "execution_count": 109,
   "id": "763b5a86",
   "metadata": {},
   "outputs": [
    {
     "data": {
      "text/plain": [
       "1"
      ]
     },
     "execution_count": 109,
     "metadata": {},
     "output_type": "execute_result"
    }
   ],
   "source": [
    "# count()\n",
    "\n",
    "## text문자열에서의 a의 개수\n",
    "text.count('a')"
   ]
  },
  {
   "cell_type": "code",
   "execution_count": 110,
   "id": "bea99c85",
   "metadata": {},
   "outputs": [
    {
     "data": {
      "text/plain": [
       "2"
      ]
     },
     "execution_count": 110,
     "metadata": {},
     "output_type": "execute_result"
    }
   ],
   "source": [
    "text.count('o')"
   ]
  },
  {
   "cell_type": "code",
   "execution_count": 111,
   "id": "68452e67",
   "metadata": {},
   "outputs": [
    {
     "data": {
      "text/plain": [
       "2"
      ]
     },
     "execution_count": 111,
     "metadata": {},
     "output_type": "execute_result"
    }
   ],
   "source": [
    "text.count('to')"
   ]
  },
  {
   "cell_type": "code",
   "execution_count": 113,
   "id": "fb67cf42",
   "metadata": {},
   "outputs": [
    {
     "data": {
      "text/plain": [
       "0"
      ]
     },
     "execution_count": 113,
     "metadata": {},
     "output_type": "execute_result"
    }
   ],
   "source": [
    "## 없는 것을 넣으면 없다고 나옴\n",
    "text.count('x')"
   ]
  },
  {
   "cell_type": "code",
   "execution_count": 114,
   "id": "0ee88ce8",
   "metadata": {},
   "outputs": [
    {
     "data": {
      "text/plain": [
       "1"
      ]
     },
     "execution_count": 114,
     "metadata": {},
     "output_type": "execute_result"
    }
   ],
   "source": [
    "# find() : 특정 값의 인덱스 번호를 반환\n",
    "\n",
    "## text 문자열에서의 a의 인덱스 번호 (0번에서 가장 가까운 애 하나만 찾아줌)\n",
    "text.find('o')"
   ]
  },
  {
   "cell_type": "code",
   "execution_count": 115,
   "id": "f93c2902",
   "metadata": {},
   "outputs": [
    {
     "data": {
      "text/plain": [
       "5"
      ]
     },
     "execution_count": 115,
     "metadata": {},
     "output_type": "execute_result"
    }
   ],
   "source": [
    "## 두번째 o는 어디에 있니\n",
    "\n",
    "## find('찾을 자료', 시작인덱스) 를 적어주면 특정 인덱스부터만 찾아볼 수도 있음\n",
    "text.find('o', 2)"
   ]
  },
  {
   "cell_type": "code",
   "execution_count": 116,
   "id": "55ca393a",
   "metadata": {},
   "outputs": [
    {
     "data": {
      "text/plain": [
       "-1"
      ]
     },
     "execution_count": 116,
     "metadata": {},
     "output_type": "execute_result"
    }
   ],
   "source": [
    "## 없는 자료 조회시 -1이라는 인덱스를 리턴\n",
    "\n",
    "text.find('z', 2)"
   ]
  },
  {
   "cell_type": "code",
   "execution_count": 119,
   "id": "f0b4b24e",
   "metadata": {},
   "outputs": [
    {
     "data": {
      "text/plain": [
       "4"
      ]
     },
     "execution_count": 119,
     "metadata": {},
     "output_type": "execute_result"
    }
   ],
   "source": [
    "## 여러 글자도 됨 = 단어를 찾을 수도 있다는 뜻\n",
    "\n",
    "text.find('to', 1) # 첫 번째 to는 인덱스 0, 두 번째 to는 인덱스 4"
   ]
  },
  {
   "cell_type": "code",
   "execution_count": 120,
   "id": "66c6b5da",
   "metadata": {},
   "outputs": [
    {
     "data": {
      "text/plain": [
       "'TOMATO JUICE'"
      ]
     },
     "execution_count": 120,
     "metadata": {},
     "output_type": "execute_result"
    }
   ],
   "source": [
    "# upper()\n",
    "\n",
    "## 변경한 결과를 시뮬레이션해서 보여줌(원본 자료는 변경되지 않음)\n",
    "## 바뀌면 이렇게 되겠지? 정도만 보여주는 것\n",
    "\n",
    "text.upper()"
   ]
  },
  {
   "cell_type": "code",
   "execution_count": 121,
   "id": "a18c4b96",
   "metadata": {},
   "outputs": [
    {
     "data": {
      "text/plain": [
       "'tomato juice'"
      ]
     },
     "execution_count": 121,
     "metadata": {},
     "output_type": "execute_result"
    }
   ],
   "source": [
    "## 바뀌었나 확인 => 안 바뀜\n",
    "\n",
    "text"
   ]
  },
  {
   "cell_type": "code",
   "execution_count": 122,
   "id": "80932169",
   "metadata": {},
   "outputs": [
    {
     "data": {
      "text/plain": [
       "'TOMATO JUICE'"
      ]
     },
     "execution_count": 122,
     "metadata": {},
     "output_type": "execute_result"
    }
   ],
   "source": [
    "# lower()\n",
    "\n",
    "text2 = text.upper()\n",
    "text2"
   ]
  },
  {
   "cell_type": "code",
   "execution_count": 124,
   "id": "5a3fe95a",
   "metadata": {},
   "outputs": [
    {
     "data": {
      "text/plain": [
       "'tomato juice'"
      ]
     },
     "execution_count": 124,
     "metadata": {},
     "output_type": "execute_result"
    }
   ],
   "source": [
    "text2.lower()"
   ]
  },
  {
   "cell_type": "code",
   "execution_count": 125,
   "id": "2cebe4de",
   "metadata": {},
   "outputs": [
    {
     "data": {
      "text/plain": [
       "'                          123             123                           '"
      ]
     },
     "execution_count": 125,
     "metadata": {},
     "output_type": "execute_result"
    }
   ],
   "source": [
    "# 공백 만들기\n",
    "\n",
    "text = '                          123             123                           '\n",
    "text"
   ]
  },
  {
   "cell_type": "code",
   "execution_count": null,
   "id": "ce135254",
   "metadata": {},
   "outputs": [],
   "source": [
    "# 공백처리 lstrip(), rstrip()\n",
    "\n",
    "## 문자열의 왼쪽/오른쪽에 있는 공백 전부 제거(가운데는 제거 안함)\n",
    "## 임시적인 결과만 보여줌(원본 변형 X)\n",
    "\n",
    "## 나중에 크롤링을 할 때 이 부분이 빡세다고 하심 ㅠ"
   ]
  },
  {
   "cell_type": "code",
   "execution_count": 126,
   "id": "c35ca59f",
   "metadata": {},
   "outputs": [
    {
     "data": {
      "text/plain": [
       "'123             123                           '"
      ]
     },
     "execution_count": 126,
     "metadata": {},
     "output_type": "execute_result"
    }
   ],
   "source": [
    "text.lstrip()"
   ]
  },
  {
   "cell_type": "code",
   "execution_count": 127,
   "id": "f85d53d0",
   "metadata": {},
   "outputs": [
    {
     "data": {
      "text/plain": [
       "'                          123             123'"
      ]
     },
     "execution_count": 127,
     "metadata": {},
     "output_type": "execute_result"
    }
   ],
   "source": [
    "text.rstrip()"
   ]
  },
  {
   "cell_type": "code",
   "execution_count": 128,
   "id": "90cde042",
   "metadata": {},
   "outputs": [],
   "source": [
    "## 양 쪽을 다 없애고 싶다면? strip()"
   ]
  },
  {
   "cell_type": "code",
   "execution_count": 129,
   "id": "e3fe6696",
   "metadata": {},
   "outputs": [
    {
     "data": {
      "text/plain": [
       "'123             123'"
      ]
     },
     "execution_count": 129,
     "metadata": {},
     "output_type": "execute_result"
    }
   ],
   "source": [
    "text.strip()"
   ]
  },
  {
   "cell_type": "code",
   "execution_count": 130,
   "id": "eba0fde7",
   "metadata": {},
   "outputs": [
    {
     "data": {
      "text/plain": [
       "'                          456             456                           '"
      ]
     },
     "execution_count": 130,
     "metadata": {},
     "output_type": "execute_result"
    }
   ],
   "source": [
    "# replace(old, new)\n",
    "\n",
    "## 찾아 바꾸기. 문자열 내에서 old에 해당하는 문자를 찾아 new로 싹 다 교체\n",
    "## 공백 찾아 없애기에 쓸 수 있음.\n",
    "## 역시 원본 자료에 바로 저장되지 않고 일시적으로 변경된 결과만 보여줌\n",
    "\n",
    "text.replace('123', '456')"
   ]
  },
  {
   "cell_type": "code",
   "execution_count": 131,
   "id": "e5f7bf89",
   "metadata": {},
   "outputs": [
    {
     "data": {
      "text/plain": [
       "'                          123             123                           '"
      ]
     },
     "execution_count": 131,
     "metadata": {},
     "output_type": "execute_result"
    }
   ],
   "source": [
    "## 원본은 역시 안 변함\n",
    "\n",
    "text"
   ]
  },
  {
   "cell_type": "code",
   "execution_count": 132,
   "id": "e0f1f65d",
   "metadata": {},
   "outputs": [
    {
     "data": {
      "text/plain": [
       "'123123'"
      ]
     },
     "execution_count": 132,
     "metadata": {},
     "output_type": "execute_result"
    }
   ],
   "source": [
    "## text 내부 공백을 싹 다 없애보세요\n",
    "\n",
    "text.replace(' ', '')"
   ]
  },
  {
   "cell_type": "code",
   "execution_count": 133,
   "id": "4156bcce",
   "metadata": {},
   "outputs": [
    {
     "data": {
      "text/plain": [
       "'                          123             123                           '"
      ]
     },
     "execution_count": 133,
     "metadata": {},
     "output_type": "execute_result"
    }
   ],
   "source": [
    "## 역시 원본은 안 변함\n",
    "\n",
    "text"
   ]
  },
  {
   "cell_type": "code",
   "execution_count": 134,
   "id": "90894ea4",
   "metadata": {},
   "outputs": [],
   "source": [
    "text2 = 'a b c'"
   ]
  },
  {
   "cell_type": "code",
   "execution_count": 135,
   "id": "01b32faf",
   "metadata": {},
   "outputs": [],
   "source": [
    "#.split(\"기준\")\n",
    "\n",
    "## 쪼개기\n",
    "## 기준 입력시 기준점을 기준으로 쪼개고 입력 안 하면 ' ', \\n, \\t 등을 기준으로 쪼개줌"
   ]
  },
  {
   "cell_type": "code",
   "execution_count": 136,
   "id": "63319ecc",
   "metadata": {},
   "outputs": [
    {
     "data": {
      "text/plain": [
       "['a', 'b', 'c']"
      ]
     },
     "execution_count": 136,
     "metadata": {},
     "output_type": "execute_result"
    }
   ],
   "source": [
    "text2.split()"
   ]
  },
  {
   "cell_type": "code",
   "execution_count": 137,
   "id": "b609a537",
   "metadata": {},
   "outputs": [
    {
     "data": {
      "text/plain": [
       "'a b c'"
      ]
     },
     "execution_count": 137,
     "metadata": {},
     "output_type": "execute_result"
    }
   ],
   "source": [
    "## 역시 원본은 안 변함\n",
    "text2"
   ]
  },
  {
   "cell_type": "code",
   "execution_count": 138,
   "id": "4cd53880",
   "metadata": {},
   "outputs": [],
   "source": [
    "## 기준점이 있는 것으로 한 번 더\n",
    "\n",
    "text3 = 'a,b,c,ddes'"
   ]
  },
  {
   "cell_type": "code",
   "execution_count": 139,
   "id": "ab7c10b6",
   "metadata": {},
   "outputs": [
    {
     "data": {
      "text/plain": [
       "['a,b,c,ddes']"
      ]
     },
     "execution_count": 139,
     "metadata": {},
     "output_type": "execute_result"
    }
   ],
   "source": [
    "## 기준 설정시 공백이 아닌 기준 문자를 직접 입력해 쪼개기\n",
    "\n",
    "text3.split()"
   ]
  },
  {
   "cell_type": "code",
   "execution_count": 140,
   "id": "ea13696a",
   "metadata": {},
   "outputs": [
    {
     "data": {
      "text/plain": [
       "['a', 'b', 'c', 'ddes']"
      ]
     },
     "execution_count": 140,
     "metadata": {},
     "output_type": "execute_result"
    }
   ],
   "source": [
    "## \",\"를 대상으로 쪼갤 경우 나오는 text3의 결과물은 4개\n",
    "\n",
    "text3.split(\",\")"
   ]
  },
  {
   "cell_type": "code",
   "execution_count": 141,
   "id": "dbfa7b38",
   "metadata": {},
   "outputs": [],
   "source": [
    "# join ★ 어려움\n",
    "\n",
    "## 왼쪽에 있는 요소를 .join(자료)의\n",
    "## 자료 인덱스 사이사이에 입력해줌\n",
    "\n",
    "text = 'abc'"
   ]
  },
  {
   "cell_type": "code",
   "execution_count": 142,
   "id": "1c18f18a",
   "metadata": {},
   "outputs": [
    {
     "data": {
      "text/plain": [
       "'a,b,c'"
      ]
     },
     "execution_count": 142,
     "metadata": {},
     "output_type": "execute_result"
    }
   ],
   "source": [
    "## 인덱스 012의 사이에 0,1,2 .. 이렇게 들어간다는 것\n",
    "\n",
    "\",\".join(text)"
   ]
  },
  {
   "cell_type": "code",
   "execution_count": 144,
   "id": "92443c37",
   "metadata": {},
   "outputs": [
    {
     "data": {
      "text/plain": [
       "'a배고파b배고파c'"
      ]
     },
     "execution_count": 144,
     "metadata": {},
     "output_type": "execute_result"
    }
   ],
   "source": [
    "## 여러개도 됨\n",
    "\n",
    "\"배고파\".join(text)"
   ]
  },
  {
   "cell_type": "code",
   "execution_count": 146,
   "id": "eccd2b9a",
   "metadata": {},
   "outputs": [
    {
     "data": {
      "text/plain": [
       "'배'"
      ]
     },
     "execution_count": 146,
     "metadata": {},
     "output_type": "execute_result"
    }
   ],
   "source": [
    "## 조인의 결과물에 대한 인덱스 번호도 변한다\n",
    "\n",
    "\"배고파\".join(text)[1]"
   ]
  },
  {
   "cell_type": "code",
   "execution_count": null,
   "id": "447d4235",
   "metadata": {},
   "outputs": [],
   "source": [
    "# 마지막 인덱스 번호는 \n",
    "\n",
    "## -1을 써도 되고\n",
    "## len(문자열)-1을 해도 된다."
   ]
  },
  {
   "cell_type": "code",
   "execution_count": 147,
   "id": "a2c1173b",
   "metadata": {},
   "outputs": [],
   "source": [
    "## 예시\n",
    "\n",
    "x = 'abcdefg'"
   ]
  },
  {
   "cell_type": "code",
   "execution_count": 148,
   "id": "ab495ab8",
   "metadata": {},
   "outputs": [
    {
     "data": {
      "text/plain": [
       "'g'"
      ]
     },
     "execution_count": 148,
     "metadata": {},
     "output_type": "execute_result"
    }
   ],
   "source": [
    "x[-1]"
   ]
  },
  {
   "cell_type": "code",
   "execution_count": 149,
   "id": "edd61168",
   "metadata": {},
   "outputs": [
    {
     "data": {
      "text/plain": [
       "'g'"
      ]
     },
     "execution_count": 149,
     "metadata": {},
     "output_type": "execute_result"
    }
   ],
   "source": [
    "x[len(x)-1]"
   ]
  },
  {
   "cell_type": "code",
   "execution_count": 150,
   "id": "8371c5c9",
   "metadata": {},
   "outputs": [
    {
     "data": {
      "text/plain": [
       "7"
      ]
     },
     "execution_count": 150,
     "metadata": {},
     "output_type": "execute_result"
    }
   ],
   "source": [
    "len(x)"
   ]
  }
 ],
 "metadata": {
  "kernelspec": {
   "display_name": "Python 3",
   "language": "python",
   "name": "python3"
  },
  "language_info": {
   "codemirror_mode": {
    "name": "ipython",
    "version": 3
   },
   "file_extension": ".py",
   "mimetype": "text/x-python",
   "name": "python",
   "nbconvert_exporter": "python",
   "pygments_lexer": "ipython3",
   "version": "3.8.8"
  }
 },
 "nbformat": 4,
 "nbformat_minor": 5
}
