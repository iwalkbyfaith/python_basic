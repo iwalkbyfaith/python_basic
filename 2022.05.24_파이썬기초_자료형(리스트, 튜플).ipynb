{
 "cells": [
  {
   "cell_type": "markdown",
   "id": "a9d5ae58",
   "metadata": {},
   "source": [
    "# 자료형\n",
    "\n",
    "- 여러 개의 아이템들을 저장하는 객체 = 여러 개의 값(데이터타입)을 저장하는 그릇\n",
    "\n",
    "## 1. 리스트(List)\n",
    "\n",
    "▶ 문법 기호 : [아이템1, 아이템2, 아이템3 .... ]\n",
    "\n",
    "\n",
    "▶ 용어 : 아이템 = 요소\n",
    "\n",
    "\n",
    "▶ 아이템으로 가질 수 있는 데이터 타입 : 문자, 숫자, 리스트, 딕셔너리 ...\n",
    "\n",
    "\n",
    "▶ 종류\n",
    "\n",
    "     * 아이템이 없는 리스트\n",
    "         - 그냥 빈 리스트\n",
    "    \n",
    "     * 1차원 리스트\n",
    "         - 0, 1, 2, 3, ..\n",
    "    \n",
    "     * 다차원 리스트 \n",
    "         - 리스트 안의 리스트\n",
    "    \n",
    "    \n",
    "▶ 특징\n",
    "\n",
    "     * 인덱스 활용\n",
    "    \n",
    "     * 다차원 리스트의 구조에 대한 이해"
   ]
  },
  {
   "cell_type": "markdown",
   "id": "27e25446",
   "metadata": {},
   "source": [
    "### 1.1 생성하기"
   ]
  },
  {
   "cell_type": "code",
   "execution_count": 2,
   "id": "ca8bae88",
   "metadata": {},
   "outputs": [
    {
     "name": "stdout",
     "output_type": "stream",
     "text": [
      "<class 'list'> <class 'list'>\n",
      "[] []\n"
     ]
    }
   ],
   "source": [
    "# 빈 리스트 생성하기 = 아이템이 없는 리스트\n",
    "\n",
    "## 문법 기호 : []\n",
    "## 함수 : list()\n",
    "\n",
    "a = []\n",
    "a2 = list()\n",
    "\n",
    "print(type(a), type(a2))\n",
    "print(a, a2)"
   ]
  },
  {
   "cell_type": "code",
   "execution_count": 3,
   "id": "ab6ee5df",
   "metadata": {},
   "outputs": [
    {
     "data": {
      "text/plain": [
       "['a', 10, 1.1, [1, 23.1, 'a']]"
      ]
     },
     "execution_count": 3,
     "metadata": {},
     "output_type": "execute_result"
    }
   ],
   "source": [
    "# 모든 데이터 타입을 아이템으로 가질 수 있다. (정수, 실수, 문자, 리스트)\n",
    "\n",
    "a3 = ['a', 10, 1.1, [1, 23.1, 'a']]\n",
    "a3"
   ]
  },
  {
   "cell_type": "code",
   "execution_count": null,
   "id": "14a05845",
   "metadata": {},
   "outputs": [],
   "source": [
    "# 2차원 배열이며, 인덱스를 2개를 써야 하나의 값을 타겟으로 잡을 수 있다."
   ]
  },
  {
   "cell_type": "code",
   "execution_count": 9,
   "id": "dd8ab85e",
   "metadata": {},
   "outputs": [
    {
     "data": {
      "text/plain": [
       "'a'"
      ]
     },
     "execution_count": 9,
     "metadata": {},
     "output_type": "execute_result"
    }
   ],
   "source": [
    "a3[0]"
   ]
  },
  {
   "cell_type": "code",
   "execution_count": 10,
   "id": "740dfbb3",
   "metadata": {},
   "outputs": [
    {
     "data": {
      "text/plain": [
       "[1, 23.1, 'a']"
      ]
     },
     "execution_count": 10,
     "metadata": {},
     "output_type": "execute_result"
    }
   ],
   "source": [
    "a3[3]"
   ]
  },
  {
   "cell_type": "code",
   "execution_count": 11,
   "id": "c1c0a8cb",
   "metadata": {},
   "outputs": [
    {
     "data": {
      "text/plain": [
       "23.1"
      ]
     },
     "execution_count": 11,
     "metadata": {},
     "output_type": "execute_result"
    }
   ],
   "source": [
    "a3[3][1]"
   ]
  },
  {
   "cell_type": "code",
   "execution_count": 12,
   "id": "6d9b8266",
   "metadata": {},
   "outputs": [
    {
     "data": {
      "text/plain": [
       "[1, 2, 3, [1, 2, 3, [10, 20]]]"
      ]
     },
     "execution_count": 12,
     "metadata": {},
     "output_type": "execute_result"
    }
   ],
   "source": [
    "# 3차원 배열 예시\n",
    "\n",
    "a4 = [1, 2, 3, [1, 2, 3, [10, 20]]]\n",
    "a4"
   ]
  },
  {
   "cell_type": "code",
   "execution_count": 13,
   "id": "93c11b68",
   "metadata": {},
   "outputs": [
    {
     "data": {
      "text/plain": [
       "20"
      ]
     },
     "execution_count": 13,
     "metadata": {},
     "output_type": "execute_result"
    }
   ],
   "source": [
    "a4[3][3][1]"
   ]
  },
  {
   "cell_type": "markdown",
   "id": "c742cf96",
   "metadata": {},
   "source": [
    "### 1-2 인덱싱, 슬라이싱\n",
    "\n",
    "- 리스트를 인덱스 번호로 접근하면 해당하는 위치의 값(아이템) 가져온다.\n",
    "\n",
    "- ※ 복습\n",
    "    - 첫 번째 인덱스 번호는? =  0번 인덱스 = 첫 번째 아이템\n",
    "    - 마지막 인덱스 번호는?  = -1번 인덱스 = 마지막 아이템\n",
    "    "
   ]
  },
  {
   "cell_type": "markdown",
   "id": "7aeaf36e",
   "metadata": {},
   "source": [
    "### 1-2-1 인덱싱(Indexing)\n",
    "\n",
    "- ※ 정의 복습 : 특정 위치에 있는 하나의 아이템에 접근한다. = 하나의 값을 가져온다."
   ]
  },
  {
   "cell_type": "code",
   "execution_count": 14,
   "id": "3e3afe42",
   "metadata": {},
   "outputs": [
    {
     "data": {
      "text/plain": [
       "[1, 2, 3, 4, 5, 6, 7, 8, 9]"
      ]
     },
     "execution_count": 14,
     "metadata": {},
     "output_type": "execute_result"
    }
   ],
   "source": [
    "# 리스트 생성하기\n",
    "\n",
    "a = [1, 2, 3, 4, 5, 6, 7, 8, 9]\n",
    "a"
   ]
  },
  {
   "cell_type": "code",
   "execution_count": 15,
   "id": "d6d26fff",
   "metadata": {},
   "outputs": [
    {
     "data": {
      "text/plain": [
       "1"
      ]
     },
     "execution_count": 15,
     "metadata": {},
     "output_type": "execute_result"
    }
   ],
   "source": [
    "# 첫 번째 아이템 인덱스 번호 : 0\n",
    "\n",
    "## 인덱싱 문법 : 객체[인덱스번호]\n",
    "\n",
    "a[0]"
   ]
  },
  {
   "cell_type": "code",
   "execution_count": 16,
   "id": "1e37a249",
   "metadata": {},
   "outputs": [
    {
     "data": {
      "text/plain": [
       "6"
      ]
     },
     "execution_count": 16,
     "metadata": {},
     "output_type": "execute_result"
    }
   ],
   "source": [
    "## 리스트에서 6이라는 아이템 가져오기\n",
    "a[5]"
   ]
  },
  {
   "cell_type": "code",
   "execution_count": 17,
   "id": "01ab1dc2",
   "metadata": {},
   "outputs": [
    {
     "data": {
      "text/plain": [
       "9"
      ]
     },
     "execution_count": 17,
     "metadata": {},
     "output_type": "execute_result"
    }
   ],
   "source": [
    "# 리스트의 마지막 값 확인학\n",
    "a[-1]"
   ]
  },
  {
   "cell_type": "code",
   "execution_count": 18,
   "id": "af77cdc9",
   "metadata": {},
   "outputs": [
    {
     "data": {
      "text/plain": [
       "9"
      ]
     },
     "execution_count": 18,
     "metadata": {},
     "output_type": "execute_result"
    }
   ],
   "source": [
    "# len()으로 길이 확인 가능\n",
    "\n",
    "len(a)"
   ]
  },
  {
   "cell_type": "markdown",
   "id": "a24356b0",
   "metadata": {},
   "source": [
    "### 1-2-2 슬라이싱(Slicing)\n",
    "\n",
    "- ※ 정의 복습 : 연속된 범위에 있는 하나 또는 하나 이상의 여러개 아이템에 접근한다.\n",
    "- ※ 문법 기호 : 대상 객체(문자열, 리스트)[시작번호:끝번호:간격] => 끝번호는 포함하지 않는다."
   ]
  },
  {
   "cell_type": "code",
   "execution_count": 19,
   "id": "64d555bb",
   "metadata": {},
   "outputs": [
    {
     "data": {
      "text/plain": [
       "[1, 2, 3, 4, 5, 6, 7, 8, 9]"
      ]
     },
     "execution_count": 19,
     "metadata": {},
     "output_type": "execute_result"
    }
   ],
   "source": [
    "a"
   ]
  },
  {
   "cell_type": "code",
   "execution_count": 20,
   "id": "78566727",
   "metadata": {},
   "outputs": [
    {
     "data": {
      "text/plain": [
       "[1, 2, 3]"
      ]
     },
     "execution_count": 20,
     "metadata": {},
     "output_type": "execute_result"
    }
   ],
   "source": [
    "# 리스트의 0~2번째 아이템까지 확인하기\n",
    "\n",
    "## 시작 번호 : 0\n",
    "## 끝 번호 : 2니까 3이라고 적어야 함\n",
    "\n",
    "a[0:3]"
   ]
  },
  {
   "cell_type": "code",
   "execution_count": 21,
   "id": "7714ed63",
   "metadata": {},
   "outputs": [
    {
     "data": {
      "text/plain": [
       "[4, 5, 6, 7, 8, 9]"
      ]
     },
     "execution_count": 21,
     "metadata": {},
     "output_type": "execute_result"
    }
   ],
   "source": [
    "# 리스트의 3번째 아이템부터 마지막 아이템까지 확인하기\n",
    "\n",
    "## 시작 번호 : 3\n",
    "## 끝 번호 : 생략\n",
    "\n",
    "a[3:]"
   ]
  },
  {
   "cell_type": "markdown",
   "id": "7e3c1ba0",
   "metadata": {},
   "source": [
    "### << 연습문제 >>\n",
    "\n",
    "다음의 4차원 리스트에서 아래 조건에 맞는 값을 출력해주세요.\n",
    "\n",
    "         a = [1,2,3, ['a', [100, 200, ['강남', '서울'], 300,], 'b', 'c']]\n",
    "         \n",
    "         출력 결과 = 강남 & 300 & c"
   ]
  },
  {
   "cell_type": "code",
   "execution_count": 22,
   "id": "ea8da10b",
   "metadata": {},
   "outputs": [],
   "source": [
    "a = [1,2,3, ['a', [100, 200, ['강남', '서울'], 300,], 'b', 'c']]"
   ]
  },
  {
   "cell_type": "code",
   "execution_count": 33,
   "id": "5195b8c9",
   "metadata": {},
   "outputs": [],
   "source": [
    "a1 = a[3][1][2][0]"
   ]
  },
  {
   "cell_type": "code",
   "execution_count": 34,
   "id": "7bf2f4de",
   "metadata": {},
   "outputs": [],
   "source": [
    "a2 = a[3][1][3]"
   ]
  },
  {
   "cell_type": "code",
   "execution_count": 35,
   "id": "a08c1c28",
   "metadata": {},
   "outputs": [],
   "source": [
    "a3 = a[3][3]"
   ]
  },
  {
   "cell_type": "code",
   "execution_count": 39,
   "id": "656c7705",
   "metadata": {},
   "outputs": [
    {
     "name": "stdout",
     "output_type": "stream",
     "text": [
      "출력 결과 = 강남 & 300 & c\n"
     ]
    }
   ],
   "source": [
    "print(\"출력 결과 =\", a1, \"&\" , a2, \"&\", a3 )"
   ]
  },
  {
   "cell_type": "code",
   "execution_count": 43,
   "id": "5e09fdb9",
   "metadata": {},
   "outputs": [
    {
     "name": "stdout",
     "output_type": "stream",
     "text": [
      "출력 결과 =  강남 & 300 & c\n"
     ]
    }
   ],
   "source": [
    "# 포매팅 사용\n",
    "\n",
    "print(\"출력 결과 =  %s & %s & %s\" %(a1, a2, a3))"
   ]
  },
  {
   "cell_type": "markdown",
   "id": "fda004fc",
   "metadata": {},
   "source": [
    "### 1-3 아이템 추가하기 : 연산자와 함수를 이용한 리스트 아이템 추가\n",
    "\n",
    "- 1) 산술 연산자 : +, *\n",
    "- 2) 리스트의 함수(메서드) : ★리스트.append(), 리스트.extend(), 리스트.insert()"
   ]
  },
  {
   "cell_type": "markdown",
   "id": "951373de",
   "metadata": {},
   "source": [
    "#### 1-3-1 산술 연산자\n",
    "\n",
    "- 종류 : +, *\n",
    "- 특징 : 원본에 반영되지 않는다."
   ]
  },
  {
   "cell_type": "code",
   "execution_count": 44,
   "id": "5756fef9",
   "metadata": {},
   "outputs": [],
   "source": [
    "# 리스트끼리 연결 : +\n",
    "\n",
    "a = [1,2,3]\n",
    "b = [4,5,6]"
   ]
  },
  {
   "cell_type": "code",
   "execution_count": 45,
   "id": "5342de69",
   "metadata": {},
   "outputs": [
    {
     "data": {
      "text/plain": [
       "[1, 2, 3, 4, 5, 6]"
      ]
     },
     "execution_count": 45,
     "metadata": {},
     "output_type": "execute_result"
    }
   ],
   "source": [
    "a + b"
   ]
  },
  {
   "cell_type": "code",
   "execution_count": 46,
   "id": "69bacb5f",
   "metadata": {},
   "outputs": [
    {
     "name": "stdout",
     "output_type": "stream",
     "text": [
      "[1, 2, 3] [4, 5, 6]\n"
     ]
    }
   ],
   "source": [
    "print(a, b)"
   ]
  },
  {
   "cell_type": "code",
   "execution_count": 47,
   "id": "351ce912",
   "metadata": {},
   "outputs": [
    {
     "data": {
      "text/plain": [
       "[4, 5, 6, 4, 5, 6, 4, 5, 6]"
      ]
     },
     "execution_count": 47,
     "metadata": {},
     "output_type": "execute_result"
    }
   ],
   "source": [
    "# 리스트 대상 곱하기 : *\n",
    "\n",
    "b * 3 "
   ]
  },
  {
   "cell_type": "markdown",
   "id": "cb5a358c",
   "metadata": {},
   "source": [
    "### 4. 리스트 타입의 함수 (method)\n",
    "\n",
    "- 종류\n",
    "\n",
    "    - 리스트.append(추가할 아이템) : 인자값을 통채로 리스트의 마지막 아이템으로 추가, 인자값은 1개만 받음 = 1개의 아이템만 추가 가능\n",
    "    - 리스트.extend(추가할 아이템) : 인자값의 아이템을 뽑아서 리스트의 마지막 아이템으로 추가, 인자값은 1개만 받음, 단 여러 개의 아이템 \n",
    "    <br/>\n",
    "\n",
    "\n",
    "\n",
    "- 추가 가능\n",
    "    \n",
    "    - 리스트.insert(인덱스번호, 추가할 아이템) : 위치를 지정해서 아이템을 삽입할 수 있음, 통채로 아이템을 추가\n",
    "    - 특징 : 원본에 바로 적용이 됨\n",
    "    <br/>\n",
    "    \n",
    "    \n",
    "    \n",
    "- 참고 연산자 : in 연산자 (결과값은 bool type)"
   ]
  },
  {
   "cell_type": "code",
   "execution_count": 63,
   "id": "74f19101",
   "metadata": {},
   "outputs": [
    {
     "data": {
      "text/plain": [
       "[1, 2, 3]"
      ]
     },
     "execution_count": 63,
     "metadata": {},
     "output_type": "execute_result"
    }
   ],
   "source": [
    "# 리스트 생성하기\n",
    "\n",
    "a = [1,2,3]\n",
    "\n",
    "a"
   ]
  },
  {
   "cell_type": "code",
   "execution_count": 49,
   "id": "673b6714",
   "metadata": {},
   "outputs": [],
   "source": [
    "# append()\n",
    "\n",
    "## 문법 : 리스트.append(추가할 아이템)\n",
    "## 추가되는 위치 : 가장 마지막 인덱스 바로 뒤"
   ]
  },
  {
   "cell_type": "code",
   "execution_count": 64,
   "id": "1cd12575",
   "metadata": {},
   "outputs": [
    {
     "data": {
      "text/plain": [
       "[1, 2, 3, 4]"
      ]
     },
     "execution_count": 64,
     "metadata": {},
     "output_type": "execute_result"
    }
   ],
   "source": [
    "a.append(4)\n",
    "a"
   ]
  },
  {
   "cell_type": "code",
   "execution_count": 65,
   "id": "0ef5f336",
   "metadata": {},
   "outputs": [
    {
     "data": {
      "text/plain": [
       "[1, 2, 3, 4, [5, 6]]"
      ]
     },
     "execution_count": 65,
     "metadata": {},
     "output_type": "execute_result"
    }
   ],
   "source": [
    "## 추가 할 자료로 [5, 6]을 제공한다면?\n",
    "\n",
    "a.append([5, 6])\n",
    "a"
   ]
  },
  {
   "cell_type": "code",
   "execution_count": 66,
   "id": "3eaaa69a",
   "metadata": {},
   "outputs": [
    {
     "data": {
      "text/plain": [
       "[5, 6]"
      ]
     },
     "execution_count": 66,
     "metadata": {},
     "output_type": "execute_result"
    }
   ],
   "source": [
    "### ===> (결과) 무조건 한 인덱스에 다 때려넣기 때문에 이차원 배열이 되었다.\n",
    "\n",
    "a[4]"
   ]
  },
  {
   "cell_type": "code",
   "execution_count": 67,
   "id": "816a91ac",
   "metadata": {},
   "outputs": [
    {
     "data": {
      "text/plain": [
       "[1, 2, 3, 4, [5, 6], 7, 8, 9]"
      ]
     },
     "execution_count": 67,
     "metadata": {},
     "output_type": "execute_result"
    }
   ],
   "source": [
    "# extend()\n",
    "\n",
    "## 문법 : 대상리스트.extend(리스트)\n",
    "## append()와의 차이점 : 인자값으로 리스트만 받을 수 있다.\n",
    "## 리스트 길이만큼 인덱스가 연장된다 (append는 무조건 +1만큼만 연장되지만..)\n",
    "\n",
    "a.extend([7, 8, 9])\n",
    "a"
   ]
  },
  {
   "cell_type": "code",
   "execution_count": 61,
   "id": "db43fd8e",
   "metadata": {},
   "outputs": [
    {
     "ename": "TypeError",
     "evalue": "'int' object is not iterable",
     "output_type": "error",
     "traceback": [
      "\u001b[1;31m---------------------------------------------------------------------------\u001b[0m",
      "\u001b[1;31mTypeError\u001b[0m                                 Traceback (most recent call last)",
      "\u001b[1;32m<ipython-input-61-cc7250ee3f32>\u001b[0m in \u001b[0;36m<module>\u001b[1;34m\u001b[0m\n\u001b[1;32m----> 1\u001b[1;33m \u001b[0ma\u001b[0m\u001b[1;33m.\u001b[0m\u001b[0mextend\u001b[0m\u001b[1;33m(\u001b[0m\u001b[1;36m9\u001b[0m\u001b[1;33m)\u001b[0m\u001b[1;33m\u001b[0m\u001b[1;33m\u001b[0m\u001b[0m\n\u001b[0m\u001b[0;32m      2\u001b[0m \u001b[0ma\u001b[0m\u001b[1;33m\u001b[0m\u001b[1;33m\u001b[0m\u001b[0m\n",
      "\u001b[1;31mTypeError\u001b[0m: 'int' object is not iterable"
     ]
    }
   ],
   "source": [
    "## 리스트만 받을 수 있음. => TypeError: 'int' object is not iterable\n",
    "\n",
    "a.extend(9)\n",
    "a"
   ]
  },
  {
   "cell_type": "code",
   "execution_count": 68,
   "id": "d7d37787",
   "metadata": {},
   "outputs": [
    {
     "data": {
      "text/plain": [
       "[1, 2, 3, 4, [5, 6], 7, 8, 9, 10]"
      ]
     },
     "execution_count": 68,
     "metadata": {},
     "output_type": "execute_result"
    }
   ],
   "source": [
    "## 이렇게는 가능. 즉, 하나를 넣어도 리스트[] 형식으로 넣어야한다.\n",
    "\n",
    "a.extend([10])\n",
    "a"
   ]
  },
  {
   "cell_type": "code",
   "execution_count": 69,
   "id": "bb377578",
   "metadata": {},
   "outputs": [
    {
     "data": {
      "text/plain": [
       "[100, 1, 2, 3, 4, [5, 6], 7, 8, 9, 10]"
      ]
     },
     "execution_count": 69,
     "metadata": {},
     "output_type": "execute_result"
    }
   ],
   "source": [
    "# insert()\n",
    "\n",
    "## 문법 : 대상리스트.insert(인덱스번호, 추가할아이템)\n",
    "## 다른 함수와의 차이점 : 아이템 추가가 마지막 인덱스가 아닌 지정한 인덱스를 기준으로\n",
    "## append와의 유사점 : 하나의 인덱스에 다 때려박음(append는 넣을 위치를 지정할 수 없다.)\n",
    "\n",
    "a.insert(0, 100)\n",
    "a\n",
    "\n",
    "### 기존의 값 : [1, 2, 3, 4, [5, 6], 7, 8, 9, 10]\n",
    "### 변경된 값 : [100, 1, 2, 3, 4, [5, 6], 7, 8, 9, 10]"
   ]
  },
  {
   "cell_type": "code",
   "execution_count": 70,
   "id": "c80f5057",
   "metadata": {},
   "outputs": [
    {
     "data": {
      "text/plain": [
       "[[98, 99], 100, 1, 2, 3, 4, [5, 6], 7, 8, 9, 10]"
      ]
     },
     "execution_count": 70,
     "metadata": {},
     "output_type": "execute_result"
    }
   ],
   "source": [
    "## 하나의 인덱스에 다 넣기 때문에, 리스트를 넣어도 하나의 인덱스에 들어감.\n",
    "\n",
    "a.insert(0, [98, 99])\n",
    "a\n",
    "\n",
    "### 기존의 값 : [100, 1, 2, 3, 4, [5, 6], 7, 8, 9, 10]\n",
    "### 변경된 값 :  [[98, 99], 100, 1, 2, 3, 4, [5, 6], 7, 8, 9, 10]"
   ]
  },
  {
   "cell_type": "code",
   "execution_count": 71,
   "id": "3e7da482",
   "metadata": {},
   "outputs": [
    {
     "data": {
      "text/plain": [
       "False"
      ]
     },
     "execution_count": 71,
     "metadata": {},
     "output_type": "execute_result"
    }
   ],
   "source": [
    "# in 키워드는 특정 요소가 리스트 내에 있는지 없는지 여부를 물어봅니다.\n",
    "\n",
    "# 값 in 리스트\n",
    "# 값 100이 a 리스트 내에 존재하나요? => 100 in a\n",
    "\n",
    "99 in a\n",
    "\n",
    "## 결과값 : false => a는 99가 없다. [98, 99]가 있을 뿐 ,,,,"
   ]
  },
  {
   "cell_type": "code",
   "execution_count": 73,
   "id": "6379f136",
   "metadata": {},
   "outputs": [
    {
     "data": {
      "text/plain": [
       "True"
      ]
     },
     "execution_count": 73,
     "metadata": {},
     "output_type": "execute_result"
    }
   ],
   "source": [
    "## a의 0번째에 99가 있나요?\n",
    "\n",
    "99 in a[0]\n",
    "\n",
    "## 결과값 : true => a[0] = [98, 99]이기 때문"
   ]
  },
  {
   "cell_type": "code",
   "execution_count": 74,
   "id": "f314d076",
   "metadata": {},
   "outputs": [
    {
     "data": {
      "text/plain": [
       "False"
      ]
     },
     "execution_count": 74,
     "metadata": {},
     "output_type": "execute_result"
    }
   ],
   "source": [
    "# not in 키워드는 특정 요소가 리스트 내부에 없는지를 물어봅니다.\n",
    "\n",
    "# 값 not in 리스트\n",
    "\n",
    "## 50이 a 리스트에 없습니까? -> 50 not in a\n",
    "\n",
    "10 not in a\n",
    "\n",
    "## 결과값 : false => a 안에 있기 때문"
   ]
  },
  {
   "cell_type": "markdown",
   "id": "976573e7",
   "metadata": {},
   "source": [
    "### <<연습문제>>\n",
    "\n",
    "아래의 순서에 맞추어 직접 실행\n",
    "\n",
    "1) 빈 리스트 생성 <br/>\n",
    "2) 1에 1,2,3 추가 <br/>\n",
    "3) 2의 3번째에 문자 100 추가 <br/>\n",
    "4) 3에 문자 A, B를 아이템으로 가진 리스트를 추가 <br/>\n",
    "5) 4를 2번 반복한 리스트 출력 <br/>"
   ]
  },
  {
   "cell_type": "code",
   "execution_count": 96,
   "id": "6dca0c11",
   "metadata": {},
   "outputs": [
    {
     "data": {
      "text/plain": [
       "[]"
      ]
     },
     "execution_count": 96,
     "metadata": {},
     "output_type": "execute_result"
    }
   ],
   "source": [
    "list = []\n",
    "list"
   ]
  },
  {
   "cell_type": "code",
   "execution_count": 97,
   "id": "fccc24f1",
   "metadata": {},
   "outputs": [
    {
     "data": {
      "text/plain": [
       "[1, 2, 3]"
      ]
     },
     "execution_count": 97,
     "metadata": {},
     "output_type": "execute_result"
    }
   ],
   "source": [
    "list.extend([1,2,3])\n",
    "list"
   ]
  },
  {
   "cell_type": "code",
   "execution_count": 98,
   "id": "c48ee5b1",
   "metadata": {},
   "outputs": [
    {
     "data": {
      "text/plain": [
       "[1, 2, '100', 3]"
      ]
     },
     "execution_count": 98,
     "metadata": {},
     "output_type": "execute_result"
    }
   ],
   "source": [
    "list.insert(2, '100')\n",
    "list"
   ]
  },
  {
   "cell_type": "code",
   "execution_count": 99,
   "id": "23333156",
   "metadata": {},
   "outputs": [
    {
     "data": {
      "text/plain": [
       "[1, 2, '100', 3, ['A', 'B']]"
      ]
     },
     "execution_count": 99,
     "metadata": {},
     "output_type": "execute_result"
    }
   ],
   "source": [
    "list.append(['A', 'B'])\n",
    "list"
   ]
  },
  {
   "cell_type": "code",
   "execution_count": 93,
   "id": "d3314d06",
   "metadata": {},
   "outputs": [],
   "source": [
    "newList = []"
   ]
  },
  {
   "cell_type": "code",
   "execution_count": 91,
   "id": "382fc541",
   "metadata": {},
   "outputs": [],
   "source": [
    "newList.append(list)"
   ]
  },
  {
   "cell_type": "code",
   "execution_count": 92,
   "id": "a0cd4073",
   "metadata": {},
   "outputs": [
    {
     "data": {
      "text/plain": [
       "[[1, 2, 100, 3, ['A', 'B']], [1, 2, 100, 3, ['A', 'B']]]"
      ]
     },
     "execution_count": 92,
     "metadata": {},
     "output_type": "execute_result"
    }
   ],
   "source": [
    "newList"
   ]
  },
  {
   "cell_type": "code",
   "execution_count": 100,
   "id": "87c339c8",
   "metadata": {},
   "outputs": [
    {
     "data": {
      "text/plain": [
       "[1, 2, '100', 3, ['A', 'B'], 1, 2, '100', 3, ['A', 'B']]"
      ]
     },
     "execution_count": 100,
     "metadata": {},
     "output_type": "execute_result"
    }
   ],
   "source": [
    "list * 2"
   ]
  },
  {
   "cell_type": "code",
   "execution_count": null,
   "id": "28e13574",
   "metadata": {},
   "outputs": [],
   "source": []
  },
  {
   "cell_type": "code",
   "execution_count": null,
   "id": "36730021",
   "metadata": {},
   "outputs": [],
   "source": []
  },
  {
   "cell_type": "code",
   "execution_count": null,
   "id": "4957cd7d",
   "metadata": {},
   "outputs": [],
   "source": []
  }
 ],
 "metadata": {
  "kernelspec": {
   "display_name": "Python 3",
   "language": "python",
   "name": "python3"
  },
  "language_info": {
   "codemirror_mode": {
    "name": "ipython",
    "version": 3
   },
   "file_extension": ".py",
   "mimetype": "text/x-python",
   "name": "python",
   "nbconvert_exporter": "python",
   "pygments_lexer": "ipython3",
   "version": "3.8.8"
  }
 },
 "nbformat": 4,
 "nbformat_minor": 5
}
