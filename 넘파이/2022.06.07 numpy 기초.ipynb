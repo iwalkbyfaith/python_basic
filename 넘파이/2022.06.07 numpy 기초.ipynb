{
 "cells": [
  {
   "cell_type": "markdown",
   "id": "33943f71",
   "metadata": {},
   "source": [
    "# Numpy\n",
    "\n",
    "- Numeriacal Python\n",
    "\n",
    "- 파이썬 머신러닝 패키지인 scikit-learn에서 기본 데이터 구조로 사용되어 Numpy 배열 형태의 데이터를 사용\n",
    "\n",
    "- 파이썬 기반 데이터 분석 환경에서 행렬 및 벡터 연산에 필요한 다양한 함수를 제공\n",
    "\n",
    "- 메모리 소모가 많은 반복문 없이 전체 데이터 배열에 빠른 연산을 처리할 수 있는 표준 수학 함수\n",
    "\n",
    "> 배열 : 동일한 특성(데이터 타입) 및 일정한 규칙을 가지는 여러 개의 요소가 나열되어 있는 데이터 집합\n",
    "\n",
    "- 파이썬 list 객체를 사용할 때 보다 Numpy의 ndarray 객체를 사용하면 연산 속도가 개선되어 더 많은 데이터를 더 빠르게 처리"
   ]
  },
  {
   "cell_type": "code",
   "execution_count": null,
   "id": "7fe9f564",
   "metadata": {},
   "outputs": [],
   "source": [
    "# 수치 데이터를 다루기 위한 라이브러리"
   ]
  },
  {
   "cell_type": "code",
   "execution_count": 1,
   "id": "042d0bbe",
   "metadata": {},
   "outputs": [],
   "source": [
    "# 1. 라이브러리 가져오기 : Numpy \n",
    "\n",
    "## as 별칭 선언 이후에는 별칭으로 해당 라이브러리의 기능을 쓸 수 있다.\n",
    "## import 라이브러리명 (as 별칭)\n",
    "\n",
    "import numpy as np"
   ]
  },
  {
   "cell_type": "code",
   "execution_count": 2,
   "id": "00d6c22d",
   "metadata": {},
   "outputs": [
    {
     "data": {
      "text/plain": [
       "'1.20.1'"
      ]
     },
     "execution_count": 2,
     "metadata": {},
     "output_type": "execute_result"
    }
   ],
   "source": [
    "# 2. 라이브러리 버전 확인하기\n",
    "\n",
    "np.__version__"
   ]
  },
  {
   "cell_type": "markdown",
   "id": "5a832dc4",
   "metadata": {},
   "source": [
    " "
   ]
  },
  {
   "cell_type": "markdown",
   "id": "729203ab",
   "metadata": {},
   "source": [
    "## Numpy 배열 : numpy.ndarray\n",
    "\n",
    "- 다차원 배열(1차원, 2차원, 3차원)으로 입체적인 데이터 구조를 구성하고 여러 개의 데이터 방향을 가진다.\n",
    "\n",
    "- 배열 속성 : shape, ndim, dtype 등\n",
    "\n",
    "- 데이터 방향 : axis = 0(행/높이), 1(열/폭), 2(채널/깊이)\n",
    "\n",
    "\n",
    "\n",
    "\n",
    "- 사진을 집어넣을때는 img태그 를 사용합니다\n",
    "    - axis(액시즈) : 축 (우선순위: 가로축 > 세로축 )\n",
    "    - (오타)axis 3이 아니고 axis2임\n",
    "\n",
    "<img src='img/nparr1.jpg' width='600' height='400' align='left'>"
   ]
  },
  {
   "cell_type": "markdown",
   "id": "f5ecca67",
   "metadata": {},
   "source": [
    "### 1. 배열 생성\n",
    "\n",
    "- np.array(data)\n",
    "\n",
    "    - 파이썬 list객체(data)를 전달받아 numpy list로 교환해주는 명령어\n",
    "    \n",
    "    - 배열 속성\n",
    "        - shape : 구조 (행, 열, 차원)\n",
    "        - ndim : 차원\n",
    "        - dtype : 데이터 타입(정수, 실수, bool ..)\n",
    "        - size : 요소 개수 = 행 * 열 * 차원 (내부에 데이터가 몇 개가 있냐)\n",
    "        \n",
    "    - 배열 메서드\n",
    "        - astype() : 데이터 타입 변환(문자를 숫자로 라던지, 정수->실수 ..)\n",
    "        \n",
    "    - 파이썬 내장함수를 사용한 속성값\n",
    "        - type() : 객체의 자료형 확인\n",
    "        - len() : 요소 내부의 자료 길이. (배열의 길이. 몇 번 인덱스까지를 받아줄 수 있는지를 따져주는 개념)\n",
    "        \n",
    "    - Numpy 함수를 사용한 속성(꽤 많이 씀)\n",
    "        - reshape(row, column) : 배열 재배치(1 * 12를 3 * 4 형태로 바꾼다던지...) (총 개수가 맞아야한다!)\n",
    "        \n",
    "    - kind : 데이터 종류에 대한 구분 기호\n",
    "        - b boolean\n",
    "        - i 정수(int)\n",
    "        - u 부호없는 정수(unsigned int, +- 개념 없이 절대값만 존재)\n",
    "        - f 실수\n",
    "        - c 복소 부동소수점\n",
    "        - O 객체\n",
    "        - S 바이트 문자열(ascii 코드, 영문자, 일부특문, 숫자)\n",
    "        - U 유니코드 문자열(한글, 중국어, 태국어, 아랍어 등 영어와 다른 문자)"
   ]
  },
  {
   "cell_type": "code",
   "execution_count": 6,
   "id": "f8b95bf2",
   "metadata": {},
   "outputs": [],
   "source": [
    "# 🟥 파이썬 1차원 리스트를 Numpy 배열로 교환하기"
   ]
  },
  {
   "cell_type": "code",
   "execution_count": 7,
   "id": "247f5b98",
   "metadata": {},
   "outputs": [
    {
     "data": {
      "text/plain": [
       "array([1, 2, 3, 4, 5, 6])"
      ]
     },
     "execution_count": 7,
     "metadata": {},
     "output_type": "execute_result"
    }
   ],
   "source": [
    "tmp = [1, 2, 3, 4, 5, 6]\n",
    "\n",
    "arr = np.array(tmp)\n",
    "arr"
   ]
  },
  {
   "cell_type": "code",
   "execution_count": 8,
   "id": "0ff64547",
   "metadata": {},
   "outputs": [
    {
     "name": "stdout",
     "output_type": "stream",
     "text": [
      "<class 'numpy.ndarray'> <class 'list'>\n"
     ]
    }
   ],
   "source": [
    "# 🔴 배열 객체의 속성 - 타입(자료형)\n",
    "\n",
    "print(type(arr), type(tmp))"
   ]
  },
  {
   "cell_type": "code",
   "execution_count": 9,
   "id": "4d781937",
   "metadata": {},
   "outputs": [
    {
     "data": {
      "text/plain": [
       "(6,)"
      ]
     },
     "execution_count": 9,
     "metadata": {},
     "output_type": "execute_result"
    }
   ],
   "source": [
    "# 🔴 배열 객체의 속성 : 구조 확인하기 - shape(행(row), 열(column), 차원(면))\n",
    "\n",
    "## (정수,) : 정수 개수의 아이템을 가진 리스트가 배열로 변환된 결과물\n",
    "\n",
    "arr.shape\n",
    "\n",
    "## 결과값 : (6, ) => 1차원 배열, 데이터가 6개밖에 없다는 뜻."
   ]
  },
  {
   "cell_type": "code",
   "execution_count": 10,
   "id": "eed07ce1",
   "metadata": {},
   "outputs": [
    {
     "data": {
      "text/plain": [
       "6"
      ]
     },
     "execution_count": 10,
     "metadata": {},
     "output_type": "execute_result"
    }
   ],
   "source": [
    "# 🔴 배열 객체의 속성 - 길이 => (n,)\n",
    "\n",
    "## [1DArray] : 아이템의 개수'\n",
    "\n",
    "len(arr)"
   ]
  },
  {
   "cell_type": "code",
   "execution_count": 11,
   "id": "4561da81",
   "metadata": {},
   "outputs": [
    {
     "data": {
      "text/plain": [
       "1"
      ]
     },
     "execution_count": 11,
     "metadata": {},
     "output_type": "execute_result"
    }
   ],
   "source": [
    "# 🔴 배열 객체의 속성 - 차원\n",
    "\n",
    "arr.ndim"
   ]
  },
  {
   "cell_type": "code",
   "execution_count": 12,
   "id": "bdf8310f",
   "metadata": {},
   "outputs": [
    {
     "data": {
      "text/plain": [
       "6"
      ]
     },
     "execution_count": 12,
     "metadata": {},
     "output_type": "execute_result"
    }
   ],
   "source": [
    "# 🔴 배열 요소의 속성 - 요소 개수\n",
    "\n",
    "## size는 배열 내부에 저장할 수 있는 '총 개수'임\n",
    "arr.size"
   ]
  },
  {
   "cell_type": "code",
   "execution_count": 13,
   "id": "37de5aaf",
   "metadata": {},
   "outputs": [
    {
     "name": "stdout",
     "output_type": "stream",
     "text": [
      "int32 float64\n"
     ]
    }
   ],
   "source": [
    "# 🔴 배열 객체의 속성 - 데이터 타입의 변환 :astype => 원본 데이터 유지\n",
    "\n",
    "arr2 = arr.astype(float)\n",
    "print(arr.dtype, arr2.dtype)"
   ]
  },
  {
   "cell_type": "code",
   "execution_count": 14,
   "id": "659193ce",
   "metadata": {},
   "outputs": [
    {
     "data": {
      "text/plain": [
       "array([1., 2., 3., 4., 5., 6.])"
      ]
     },
     "execution_count": 14,
     "metadata": {},
     "output_type": "execute_result"
    }
   ],
   "source": [
    "## arr2 출력 => . 뒤에 0은 생략해서 나온 것.\n",
    "arr2"
   ]
  },
  {
   "cell_type": "code",
   "execution_count": 16,
   "id": "e5881aba",
   "metadata": {},
   "outputs": [
    {
     "data": {
      "text/plain": [
       "array([[1, 2],\n",
       "       [3, 4],\n",
       "       [5, 6]])"
      ]
     },
     "execution_count": 16,
     "metadata": {},
     "output_type": "execute_result"
    }
   ],
   "source": [
    "# 🔴 배열 구조 변환\n",
    "\n",
    "## 기존 배열의 요소 총 개수(1 x 6)와 변환하려는 구조의 총 개수(6개)는 일치해야한다.\n",
    "\n",
    "## 2 * 3 = 6이므로 가능. reshape(row, column)\n",
    "arr.reshape(3,2)"
   ]
  },
  {
   "cell_type": "code",
   "execution_count": 3,
   "id": "b2e397d5",
   "metadata": {},
   "outputs": [],
   "source": [
    "# 🔴 numpy 객체 정보를 좀 더 편하게 확인하기 위한 사용자 함수 정의\n",
    "\n",
    "## 객체 타입, 구조, 차원, 데이터 타입, 내부자료\n",
    "## 를 확인하기 위해 커스텀 함수를 정의한다(기본 기능이 아님)\n",
    "\n",
    "def np_print(arr):\n",
    "    text = '''\n",
    "    type : %s\n",
    "    shape : %s\n",
    "    ndim : %s\n",
    "    dtype : %s\n",
    "    array data : \\n %s''' % (type(arr), arr.shape, arr.ndim, arr.dtype, arr)\n",
    "    print(text)"
   ]
  },
  {
   "cell_type": "code",
   "execution_count": null,
   "id": "549eb6e2",
   "metadata": {},
   "outputs": [],
   "source": [
    "# 🔴 리스트 요소 타입이 일관되지 않으면 우선순위에 따라 내부 데이터의 dtype이 통일된다.\n",
    "\n",
    "## 우선순위 : str(가장높음) > float > int(가장 낮음)"
   ]
  },
  {
   "cell_type": "code",
   "execution_count": 24,
   "id": "1064776f",
   "metadata": {},
   "outputs": [
    {
     "name": "stdout",
     "output_type": "stream",
     "text": [
      "[1, 2, 3, '4']\n"
     ]
    },
    {
     "data": {
      "text/plain": [
       "array(['1', '2', '3', '4'], dtype='<U11')"
      ]
     },
     "execution_count": 24,
     "metadata": {},
     "output_type": "execute_result"
    }
   ],
   "source": [
    "## 🔸 서로 다른 타입의 혼합 1 : int + str = str\n",
    "\n",
    "### (설명)\n",
    "\n",
    "### 파이썬은 배열에 다른 자료형이 들어갈 수 있다\n",
    "tmp = [1, 2, 3, \"4\"]\n",
    "print(tmp)\n",
    "\n",
    "### 근데 넘파이 배열에서는 안됨. 같은 데이터 자료형만 받아야함.\n",
    "arr1 = np.array(tmp)\n",
    "\n",
    "### 넘파이에서는 교환 요청을 넣을때, 다른 자료로 들어와도 받아주기는 한다.\n",
    "### 다만 ! ! ! 넘파이 배열에서 💛'강제로'💛 같은 데이터 타입으로 변환시키는 것\n",
    "arr1"
   ]
  },
  {
   "cell_type": "code",
   "execution_count": 25,
   "id": "020987df",
   "metadata": {},
   "outputs": [
    {
     "name": "stdout",
     "output_type": "stream",
     "text": [
      "\n",
      "    type : <class 'numpy.ndarray'>\n",
      "    shape : (4,)\n",
      "    ndim : 1\n",
      "    dtype : <U11\n",
      "    array data : \n",
      " ['1' '2' '3' '4']\n"
     ]
    }
   ],
   "source": [
    "### 위쪽에서 선언한 걸로 확인\n",
    "\n",
    "np_print(arr1)"
   ]
  },
  {
   "cell_type": "code",
   "execution_count": 26,
   "id": "022c85ee",
   "metadata": {},
   "outputs": [
    {
     "name": "stdout",
     "output_type": "stream",
     "text": [
      "\n",
      "    type : <class 'numpy.ndarray'>\n",
      "    shape : (4,)\n",
      "    ndim : 1\n",
      "    dtype : float64\n",
      "    array data : \n",
      " [1.  2.  3.3 4. ]\n"
     ]
    }
   ],
   "source": [
    "## 🔸 서로 다른 타입 혼합 2 : int + float = float (콤마는 표현이 안됨)\n",
    "tmp = [1, 2, 3.3, 4]\n",
    "arr = np.array(tmp)\n",
    "np_print(arr)"
   ]
  },
  {
   "cell_type": "code",
   "execution_count": 27,
   "id": "c45e602d",
   "metadata": {},
   "outputs": [
    {
     "name": "stdout",
     "output_type": "stream",
     "text": [
      "\n",
      "    type : <class 'numpy.ndarray'>\n",
      "    shape : (3,)\n",
      "    ndim : 1\n",
      "    dtype : <U32\n",
      "    array data : \n",
      " ['1' '1.2' '0.3']\n"
     ]
    }
   ],
   "source": [
    "## 🔸 서로 다른 타입 혼한 3 : float + str = str\n",
    "\n",
    "tmp = ['1', 1.2, 0.3]\n",
    "arr = np.array(tmp)\n",
    "np_print(arr)"
   ]
  },
  {
   "cell_type": "markdown",
   "id": "5b849543",
   "metadata": {},
   "source": [
    " "
   ]
  },
  {
   "cell_type": "markdown",
   "id": "e2de1871",
   "metadata": {},
   "source": [
    " "
   ]
  },
  {
   "cell_type": "code",
   "execution_count": 30,
   "id": "cc2bae5a",
   "metadata": {},
   "outputs": [
    {
     "name": "stdout",
     "output_type": "stream",
     "text": [
      "\n",
      "    type : <class 'numpy.ndarray'>\n",
      "    shape : (2, 4)\n",
      "    ndim : 2\n",
      "    dtype : int32\n",
      "    array data : \n",
      " [[1 2 3 4]\n",
      " [5 6 7 8]]\n"
     ]
    }
   ],
   "source": [
    "# 🟥 파이썬 2차원 리스트로 Numpy 배열 생성\n",
    "\n",
    "## 2차원 배열의 shape 속성은 (행(row), 세로축개수), 열(column, 가로축개수))만 반환\n",
    "\n",
    "tmp = [[1, 2, 3, 4], [5, 6, 7, 8]]\n",
    "\n",
    "arr = np.array(tmp)\n",
    "np_print(arr)"
   ]
  },
  {
   "cell_type": "code",
   "execution_count": 32,
   "id": "6a2f3f38",
   "metadata": {},
   "outputs": [
    {
     "data": {
      "text/plain": [
       "[[[1, 2, 3], [4, 5, 6]], [[7, 8, 9], [10, 11, 12]]]"
      ]
     },
     "execution_count": 32,
     "metadata": {},
     "output_type": "execute_result"
    }
   ],
   "source": [
    "# 🟥 파이썬 3차원 리스트로 numpy 배열 생성\n",
    "\n",
    "tmp = [[[1,2,3], [4,5,6]],\n",
    "       [[7, 8, 9], [10,11,12]]]\n",
    "\n",
    "tmp"
   ]
  },
  {
   "cell_type": "code",
   "execution_count": 33,
   "id": "a8a06a92",
   "metadata": {},
   "outputs": [
    {
     "name": "stdout",
     "output_type": "stream",
     "text": [
      "\n",
      "    type : <class 'numpy.ndarray'>\n",
      "    shape : (2, 2, 3)\n",
      "    ndim : 3\n",
      "    dtype : int32\n",
      "    array data : \n",
      " [[[ 1  2  3]\n",
      "  [ 4  5  6]]\n",
      "\n",
      " [[ 7  8  9]\n",
      "  [10 11 12]]]\n"
     ]
    }
   ],
   "source": [
    "arr = np.array(tmp)\n",
    "np_print(arr)"
   ]
  },
  {
   "cell_type": "code",
   "execution_count": null,
   "id": "b2f4dead",
   "metadata": {},
   "outputs": [],
   "source": [
    "# 🔴 위의 arr의 타입을 실수로 바꾼다음, np_print()로 확인해주세요"
   ]
  },
  {
   "cell_type": "code",
   "execution_count": 34,
   "id": "12c40126",
   "metadata": {},
   "outputs": [
    {
     "name": "stdout",
     "output_type": "stream",
     "text": [
      "\n",
      "    type : <class 'numpy.ndarray'>\n",
      "    shape : (2, 2, 3)\n",
      "    ndim : 3\n",
      "    dtype : float64\n",
      "    array data : \n",
      " [[[ 1.  2.  3.]\n",
      "  [ 4.  5.  6.]]\n",
      "\n",
      " [[ 7.  8.  9.]\n",
      "  [10. 11. 12.]]]\n"
     ]
    }
   ],
   "source": [
    "arr2 = arr.astype(float)\n",
    "np_print(arr2)"
   ]
  },
  {
   "cell_type": "markdown",
   "id": "e9992a5b",
   "metadata": {},
   "source": [
    " "
   ]
  },
  {
   "cell_type": "markdown",
   "id": "c44088af",
   "metadata": {},
   "source": [
    "### 2. 생성 및 초기화\n",
    "\n",
    "1. 초기값을 지정하여 데이터를 자동으로 가지는 배열을 생성\n",
    "    - np.zeros()\n",
    "    - np.ones()\n",
    "    - np.full()\n",
    "    - np.eye()\n",
    "    - np.empty()"
   ]
  },
  {
   "cell_type": "markdown",
   "id": "bc8913ae",
   "metadata": {},
   "source": [
    "#### 1-1 np.zeros(shape(모양), dtype=float) : 0행열\n",
    "\n",
    "- 지정된 구조의 배열을 생성하고 모든 요소를 0으로 초기화(zeros)\n",
    "- shape : tuple 형태로 행, 열을 지정\n",
    "- dtype : 배열에서 사용하는 데이터 타입을 지정, 기본값은 numpy.float64"
   ]
  },
  {
   "cell_type": "code",
   "execution_count": 35,
   "id": "64b3937e",
   "metadata": {},
   "outputs": [
    {
     "name": "stdout",
     "output_type": "stream",
     "text": [
      "\n",
      "    type : <class 'numpy.ndarray'>\n",
      "    shape : (3, 4)\n",
      "    ndim : 2\n",
      "    dtype : float64\n",
      "    array data : \n",
      " [[0. 0. 0. 0.]\n",
      " [0. 0. 0. 0.]\n",
      " [0. 0. 0. 0.]]\n"
     ]
    }
   ],
   "source": [
    "# 🔴 3행 4열 구조 안에서 초기값을 모두 0으로 가지는 배열 (튜플로 감싸줘야 에러 안 남.)\n",
    "\n",
    "arr = np.zeros((3, 4))\n",
    "np_print(arr)"
   ]
  },
  {
   "cell_type": "markdown",
   "id": "4c7992ed",
   "metadata": {},
   "source": [
    "#### 1-2 np.ones(shape(행,열), dtype=float)\n",
    "\n",
    "- 지정된 구조의 배열을 생성하고 모든 요소를 1로(ones) 초기화\n",
    "- shape : tuple 자료로 행, 열 구조를 지정\n",
    "- dtype : 배열의 데이터 타입을 지정, 기본값 = numpy.float64"
   ]
  },
  {
   "cell_type": "code",
   "execution_count": 36,
   "id": "4e931133",
   "metadata": {},
   "outputs": [
    {
     "name": "stdout",
     "output_type": "stream",
     "text": [
      "\n",
      "    type : <class 'numpy.ndarray'>\n",
      "    shape : (3, 4)\n",
      "    ndim : 2\n",
      "    dtype : float64\n",
      "    array data : \n",
      " [[1. 1. 1. 1.]\n",
      " [1. 1. 1. 1.]\n",
      " [1. 1. 1. 1.]]\n"
     ]
    }
   ],
   "source": [
    "arr = np.ones((3, 4))\n",
    "np_print(arr)"
   ]
  },
  {
   "cell_type": "markdown",
   "id": "db794518",
   "metadata": {},
   "source": [
    "#### 1-3. np.full(shape, fill_value, dtype)\n",
    "\n",
    "- 지정된 구조의 배열을 생성하고 모든 요소를 fill_value값으로 초기화\n",
    "- shape : tuple 자료형으로 행, 열 구조를 지정\n",
    "- dtype = 배열의 데이터 타입을 지정, 기본값 = 들어오는 데이터의 자료형"
   ]
  },
  {
   "cell_type": "code",
   "execution_count": 4,
   "id": "4203ea8e",
   "metadata": {},
   "outputs": [
    {
     "name": "stdout",
     "output_type": "stream",
     "text": [
      "\n",
      "    type : <class 'numpy.ndarray'>\n",
      "    shape : (3, 4)\n",
      "    ndim : 2\n",
      "    dtype : int32\n",
      "    array data : \n",
      " [[5 5 5 5]\n",
      " [5 5 5 5]\n",
      " [5 5 5 5]]\n"
     ]
    }
   ],
   "source": [
    "# 🔴 3행 4열 구조 안에서, 초기값을 모두 5로 가지는 배열\n",
    "\n",
    "arr = np.full((3,4),5)\n",
    "np_print(arr)"
   ]
  },
  {
   "cell_type": "markdown",
   "id": "15d0f158",
   "metadata": {},
   "source": [
    "#### 1-4. np.eye(N, M=None, dtype=float) = 단위 행렬\n",
    "\n",
    "- (N,M) 구조의 단위 행렬을 생성\n",
    "- M : 열 개수를 지정, 기본값 = N\n",
    "- dtype : 배열의 데이터 타입을 지정, 기본값 = numpy.float64\n",
    "\n",
    "\n",
    "- 어떤 행렬을 단위 행렬과 행렬 곱했을때 => 같은 행렬(자기 자신)이 나옴\n",
    "- 대각선으로만 1이 들어감\n",
    "- 정사각형으로만 생성이 됨"
   ]
  },
  {
   "cell_type": "code",
   "execution_count": 5,
   "id": "13f32b51",
   "metadata": {},
   "outputs": [
    {
     "name": "stdout",
     "output_type": "stream",
     "text": [
      "\n",
      "    type : <class 'numpy.ndarray'>\n",
      "    shape : (3, 3)\n",
      "    ndim : 2\n",
      "    dtype : float64\n",
      "    array data : \n",
      " [[1. 0. 0.]\n",
      " [0. 1. 0.]\n",
      " [0. 0. 1.]]\n"
     ]
    }
   ],
   "source": [
    "# 🔴 3행 3열의 단위 행렬\n",
    "\n",
    "arr = np.eye(3)\n",
    "np_print(arr)"
   ]
  },
  {
   "cell_type": "code",
   "execution_count": 6,
   "id": "2b9e22a4",
   "metadata": {},
   "outputs": [
    {
     "name": "stdout",
     "output_type": "stream",
     "text": [
      "\n",
      "    type : <class 'numpy.ndarray'>\n",
      "    shape : (5, 3)\n",
      "    ndim : 2\n",
      "    dtype : float64\n",
      "    array data : \n",
      " [[1. 0. 0.]\n",
      " [0. 1. 0.]\n",
      " [0. 0. 1.]\n",
      " [0. 0. 0.]\n",
      " [0. 0. 0.]]\n"
     ]
    }
   ],
   "source": [
    "# 🔴 (거의 안 씀) 세로 길이5(row =5), 가로길이3(column 개수 3개)인 단위 행렬을 .eye()로 만들기\n",
    "\n",
    "arr = np.eye(5,3)\n",
    "np_print(arr)"
   ]
  },
  {
   "cell_type": "markdown",
   "id": "e85c7d42",
   "metadata": {},
   "source": [
    "#### 1-5. np.empty(shape, dtype=float)\n",
    "\n",
    "- 지정된 구조의 배열을 생성하고 모든 요소에 대한 초기화 과정 없이 직전 메모리에 저장된 값을 사용\n",
    "\n",
    "- 배열을 생성하는데 가장 빠르고 효율적인 방법\n",
    "\n",
    "- shape : tuple type으로 행, 열 구조를 지정\n",
    "\n",
    "- dtype : 배열의 데이터 타입을 지정, 기본값 = numpy.float64"
   ]
  },
  {
   "cell_type": "code",
   "execution_count": 7,
   "id": "3bfa121d",
   "metadata": {},
   "outputs": [
    {
     "name": "stdout",
     "output_type": "stream",
     "text": [
      "\n",
      "    type : <class 'numpy.ndarray'>\n",
      "    shape : (5, 3)\n",
      "    ndim : 2\n",
      "    dtype : float64\n",
      "    array data : \n",
      " [[1. 0. 0.]\n",
      " [0. 1. 0.]\n",
      " [0. 0. 1.]\n",
      " [0. 0. 0.]\n",
      " [0. 0. 0.]]\n"
     ]
    }
   ],
   "source": [
    "# 🔴 직전에 메모리에 저장된 값을 사용하기 위해서는, 직전에 만들었던 것과 동일한 shape의 배열을 생성해야 한다.\n",
    "\n",
    "## 3행 4열의 구조 => 직전에 만든 적이 없어서 이상한 값이 들어옴\n",
    "## 5행 3열의 구조 => np.eye(5,3)로 만들었던 단위 행렬이 다시 복구됨.\n",
    "\n",
    "arr = np.empty((5,3))\n",
    "np_print(arr)"
   ]
  },
  {
   "cell_type": "markdown",
   "id": "abda0942",
   "metadata": {},
   "source": [
    "#### like 함수\n",
    "\n",
    "- 전달 받은 배열과 동일한 shape으로 초기값을 설정하여 새로운 배열을 생성\n",
    "\n",
    "\n",
    "    - np.zeros_like() : 초기값을 0으로 가지는 배열 생성\n",
    "    - np.ones_like()  : 초기값을 1로 가지는 배열 생성\n",
    "    - np.full_like()  : 초기값을 fill_value값으로 가지는 배열 생성"
   ]
  },
  {
   "cell_type": "code",
   "execution_count": 10,
   "id": "24426389",
   "metadata": {},
   "outputs": [
    {
     "name": "stdout",
     "output_type": "stream",
     "text": [
      "\n",
      "    type : <class 'numpy.ndarray'>\n",
      "    shape : (2, 3)\n",
      "    ndim : 2\n",
      "    dtype : int32\n",
      "    array data : \n",
      " [[1 2 3]\n",
      " [4 5 6]]\n"
     ]
    }
   ],
   "source": [
    "# 🔴 ones_like\n",
    "\n",
    "# 2행 3열의 구조에서 1~6 숫자로 구성된 배열\n",
    "\n",
    "data = [[1, 2, 3], [4, 5, 6]]\n",
    "\n",
    "arr1 = np.array(data)\n",
    "np_print(arr1)"
   ]
  },
  {
   "cell_type": "code",
   "execution_count": 11,
   "id": "7b7a9451",
   "metadata": {},
   "outputs": [
    {
     "name": "stdout",
     "output_type": "stream",
     "text": [
      "\n",
      "    type : <class 'numpy.ndarray'>\n",
      "    shape : (2, 3)\n",
      "    ndim : 2\n",
      "    dtype : int32\n",
      "    array data : \n",
      " [[1 1 1]\n",
      " [1 1 1]]\n"
     ]
    }
   ],
   "source": [
    "## 위의 행렬을 np.ones_like()를 사용하면, 구조는 유지하는데 값을 모두 1로 바꾸어버림\n",
    "\n",
    "arr2 = np.ones_like(arr1)\n",
    "np_print(arr2)"
   ]
  },
  {
   "cell_type": "code",
   "execution_count": 12,
   "id": "26ba292d",
   "metadata": {},
   "outputs": [
    {
     "name": "stdout",
     "output_type": "stream",
     "text": [
      "\n",
      "    type : <class 'numpy.ndarray'>\n",
      "    shape : (2, 3)\n",
      "    ndim : 2\n",
      "    dtype : int32\n",
      "    array data : \n",
      " [[5 5 5]\n",
      " [5 5 5]]\n"
     ]
    }
   ],
   "source": [
    "# 🔴 full_like\n",
    "## np.full_like는 해당 행렬(arr1)을 5로 채워버림\n",
    "\n",
    "arr2 = np.full_like(arr1, 5)\n",
    "np_print(arr2)"
   ]
  },
  {
   "cell_type": "markdown",
   "id": "b279ef76",
   "metadata": {},
   "source": [
    " "
   ]
  },
  {
   "cell_type": "markdown",
   "id": "06c40087",
   "metadata": {},
   "source": [
    "### 2. 배열 생성 및 초기화(이어서)\n",
    "\n",
    "2. 범위와 조건이 있는 데이터를 가지는 1차원 배열 생성\n",
    "    - np.linspace()\n",
    "    \n",
    "    - np.arange()\n",
    "    \n",
    "    - np.logspace()\n",
    "    \n",
    "    \n",
    "    \n",
    "        - linspace와 arange는 => 간격을 지정하는 방법이 조금 다름\n",
    "        - logspace는 => 로그를 알아야...ㅎ...\n",
    "\n",
    "#### 2-1. np.linspace(start, stop, num=50, endpoint=True, retstep=False, dtype=None)\n",
    "\n",
    "- 시작값(start)부터 마지막값(stop) 사이의 범위에서 균등한 간격으로 일정 개수(num)개의 데이터를 가지는 배열 생성\n",
    "    - 간격을 지정하는게 아니라, '몇 개를 만들겠다' 라고 지정하면 알아서 만들어줌\n",
    "\n",
    "- num : 데이터 개수, 기본값 = 50\n",
    "\n",
    "- endpoint : 마지막값에 stop을 포함/제외하는 조건 지정, 기본값 = True(포함)\n",
    "\n",
    "- retstep : True로 전달하면 (배열, 데이터 사이의 간격)의 데이터를 담은 tuple을 반환\n",
    "\n",
    "- dtype : 배열의 데이터 타입을 지정, 기본값 = None"
   ]
  },
  {
   "cell_type": "code",
   "execution_count": 16,
   "id": "afa536ba",
   "metadata": {},
   "outputs": [
    {
     "name": "stdout",
     "output_type": "stream",
     "text": [
      "\n",
      "    type : <class 'numpy.ndarray'>\n",
      "    shape : (5,)\n",
      "    ndim : 1\n",
      "    dtype : float64\n",
      "    array data : \n",
      " [0.   0.25 0.5  0.75 1.  ]\n"
     ]
    }
   ],
   "source": [
    "# 🔴 기본값\n",
    "\n",
    "## 0 이상 1이하의 범위에서 발생한 숫자 5개를 포함하는 배열\n",
    "\n",
    "arr = np.linspace(0, 1, num=5)\n",
    "np_print(arr)"
   ]
  },
  {
   "cell_type": "code",
   "execution_count": 18,
   "id": "14bff869",
   "metadata": {},
   "outputs": [
    {
     "name": "stdout",
     "output_type": "stream",
     "text": [
      "\n",
      "    type : <class 'numpy.ndarray'>\n",
      "    shape : (5,)\n",
      "    ndim : 1\n",
      "    dtype : float64\n",
      "    array data : \n",
      " [0.  0.2 0.4 0.6 0.8]\n"
     ]
    }
   ],
   "source": [
    "# 🔴 endpoint를 False로 변환 (1은 안 들어감)\n",
    "\n",
    "arr = np.linspace(0, 1, num=5, endpoint=False)\n",
    "np_print(arr)"
   ]
  },
  {
   "cell_type": "code",
   "execution_count": 19,
   "id": "a4b52ac3",
   "metadata": {},
   "outputs": [
    {
     "name": "stdout",
     "output_type": "stream",
     "text": [
      "(array([0.  , 0.25, 0.5 , 0.75, 1.  ]), 0.25)\n",
      "\n",
      "    type : <class 'numpy.ndarray'>\n",
      "    shape : (5,)\n",
      "    ndim : 1\n",
      "    dtype : float64\n",
      "    array data : \n",
      " [0.   0.25 0.5  0.75 1.  ]\n"
     ]
    }
   ],
   "source": [
    "# 🔴 retstep 설정 -> 반환값 tuple => (배열객체, 간격값)\n",
    "\n",
    "arr = np.linspace(0, 1, num=5, retstep=True)\n",
    "print(arr)\n",
    "np_print(arr[0])\n",
    "\n",
    "## 결과값 : (array([0.  , 0.25, 0.5 , 0.75, 1.  ]), 0.25) ===> (배열정보, 간격값=0.25)"
   ]
  },
  {
   "cell_type": "markdown",
   "id": "b1360828",
   "metadata": {},
   "source": [
    "#### 2-1. np.arange(start=0, stop, step=1, dtype=None)\n",
    "\n",
    "- 시작값(start)부터 마지막값(stop) 사이의 범위에서 지정한 간격(step)으로 일정 개수(num)개의 데이터를 가지는 배열 생성\n",
    "    - 개수 상관없이 정한 '간격'으로 생성\n",
    "    - 간격값을 주니까 간격값의 리턴타입이 없음\n",
    "    \n",
    "    \n",
    "- 파이썬 내장 함수 range()와 유사\n",
    "- start : 시작값, 기본값 = 0\n",
    "- stop : 마지막값으로 범위에 포함되지 않음\n",
    "- step : 데이터 사이의 간격, 기본값 = 1\n",
    "- dtype : 배열의 데이터 타입을 지정, 기본값 = None"
   ]
  },
  {
   "cell_type": "code",
   "execution_count": 20,
   "id": "89438840",
   "metadata": {},
   "outputs": [
    {
     "data": {
      "text/plain": [
       "[0, 1, 2, 3, 4]"
      ]
     },
     "execution_count": 20,
     "metadata": {},
     "output_type": "execute_result"
    }
   ],
   "source": [
    "list(range(5))"
   ]
  },
  {
   "cell_type": "code",
   "execution_count": 21,
   "id": "612140ae",
   "metadata": {},
   "outputs": [
    {
     "name": "stdout",
     "output_type": "stream",
     "text": [
      "\n",
      "    type : <class 'numpy.ndarray'>\n",
      "    shape : (5,)\n",
      "    ndim : 1\n",
      "    dtype : int32\n",
      "    array data : \n",
      " [0 1 2 3 4]\n"
     ]
    }
   ],
   "source": [
    "# 🔴 기본값\n",
    "\n",
    "## 0 이상 5미만의 범위에서 1씩 증가하는 숫자(정수)를 가지는 배열\n",
    "## 5가 stop의 값인 것.\n",
    "\n",
    "arr = np.arange(5)\n",
    "np_print(arr)"
   ]
  },
  {
   "cell_type": "code",
   "execution_count": 22,
   "id": "3c758590",
   "metadata": {},
   "outputs": [
    {
     "name": "stdout",
     "output_type": "stream",
     "text": [
      "\n",
      "    type : <class 'numpy.ndarray'>\n",
      "    shape : (10,)\n",
      "    ndim : 1\n",
      "    dtype : float64\n",
      "    array data : \n",
      " [0.  0.5 1.  1.5 2.  2.5 3.  3.5 4.  4.5]\n"
     ]
    }
   ],
   "source": [
    "# 🔴 시작, 끝, 간격 주기\n",
    "\n",
    "## 0 이상 5 미만의 범위에서 0.5씩 증가하는 숫자를 가지는 배열(마지막 숫자 포함 안됨)\n",
    "\n",
    "arr = np.arange(0, 5, 0.5)\n",
    "np_print(arr)"
   ]
  },
  {
   "cell_type": "code",
   "execution_count": 23,
   "id": "a146bb0c",
   "metadata": {},
   "outputs": [
    {
     "name": "stdout",
     "output_type": "stream",
     "text": [
      "\n",
      "    type : <class 'numpy.ndarray'>\n",
      "    shape : (4,)\n",
      "    ndim : 1\n",
      "    dtype : int32\n",
      "    array data : \n",
      " [1 2 3 4]\n"
     ]
    }
   ],
   "source": [
    "# 🔴 arange() 메서드로 생성된 배열과 shape(1,5)인 배열은 동일해보이지만 shape와 dimention이 서로 다르다.\n",
    "\n",
    "## 🔸 arange()로 생성 => 기본적으로 1차원으로 나옴\n",
    "\n",
    "arr = np.arange(1,5)\n",
    "np_print(arr)"
   ]
  },
  {
   "cell_type": "code",
   "execution_count": 24,
   "id": "8030d5d6",
   "metadata": {},
   "outputs": [
    {
     "name": "stdout",
     "output_type": "stream",
     "text": [
      "\n",
      "    type : <class 'numpy.ndarray'>\n",
      "    shape : (1, 4)\n",
      "    ndim : 2\n",
      "    dtype : int32\n",
      "    array data : \n",
      " [[1 2 3 4]]\n"
     ]
    }
   ],
   "source": [
    "## 🔸 reshape로 만든 것  => 1줄만 있는 2차원 배열(1 x 4)\n",
    "\n",
    "arr2 = arr.reshape(1,4)\n",
    "np_print(arr2)"
   ]
  },
  {
   "cell_type": "markdown",
   "id": "26be0e29",
   "metadata": {},
   "source": [
    "#### 2-3. np.logspace(start, stop, num=50, endpoint=True, dtype=None)\n",
    "\n",
    "- 시작값(start)부터 마지막값(stop) 사이의 로그 스케일로 지정된 범위에서 균등한 간격으로 일정 개수(num)개의 데이터를 가지는 배열 생성\n",
    "\n",
    "- num : 데이터 개수, 기본값 = 50\n",
    "\n",
    "- endpoint : 마지막 값에 stop을 포함/ 제외하는 조건 지정, 기본값 = True(포함)\n",
    "\n",
    "- dtype : 배열의 데이터 타입을 지정, 기본값= None"
   ]
  },
  {
   "cell_type": "code",
   "execution_count": 25,
   "id": "b3ec2c6e",
   "metadata": {},
   "outputs": [
    {
     "name": "stdout",
     "output_type": "stream",
     "text": [
      "\n",
      "    type : <class 'numpy.ndarray'>\n",
      "    shape : (50,)\n",
      "    ndim : 1\n",
      "    dtype : float64\n",
      "    array data : \n",
      " [ 1.          1.04811313  1.09854114  1.1513954   1.20679264  1.26485522\n",
      "  1.32571137  1.38949549  1.45634848  1.52641797  1.59985872  1.67683294\n",
      "  1.75751062  1.84206997  1.93069773  2.02358965  2.12095089  2.22299648\n",
      "  2.32995181  2.44205309  2.55954792  2.6826958   2.8117687   2.9470517\n",
      "  3.0888436   3.23745754  3.39322177  3.55648031  3.72759372  3.90693994\n",
      "  4.09491506  4.29193426  4.49843267  4.71486636  4.94171336  5.17947468\n",
      "  5.42867544  5.68986603  5.96362332  6.25055193  6.55128557  6.86648845\n",
      "  7.19685673  7.54312006  7.90604321  8.28642773  8.68511374  9.10298178\n",
      "  9.54095476 10.        ]\n"
     ]
    }
   ],
   "source": [
    "# 🔴 기본값\n",
    "\n",
    "## 0 이상 1이하의 범위에서 로그스케일을 적용한 값(50개)를 가진 배열\n",
    "## 밑수가 10인 로그를 기준으로 만들어줌\n",
    "\n",
    "## 1. ~ 10. 인 이유\n",
    "### log10의 1(10의 0승) ~ log10의 10(10의 1승)\n",
    "\n",
    "arr = np.logspace(0,1)\n",
    "np_print(arr)"
   ]
  },
  {
   "cell_type": "code",
   "execution_count": 26,
   "id": "fa43d3c0",
   "metadata": {},
   "outputs": [
    {
     "name": "stdout",
     "output_type": "stream",
     "text": [
      "\n",
      "    type : <class 'numpy.ndarray'>\n",
      "    shape : (40,)\n",
      "    ndim : 1\n",
      "    dtype : float64\n",
      "    array data : \n",
      " [ 1.          1.06081836  1.12533558  1.19377664  1.26638017  1.34339933\n",
      "  1.42510267  1.51177507  1.60371874  1.70125428  1.80472177  1.91448198\n",
      "  2.03091762  2.15443469  2.28546386  2.42446202  2.57191381  2.72833338\n",
      "  2.89426612  3.07029063  3.25702066  3.45510729  3.66524124  3.88815518\n",
      "  4.12462638  4.37547938  4.64158883  4.92388263  5.22334507  5.54102033\n",
      "  5.87801607  6.23550734  6.61474064  7.01703829  7.44380301  7.89652287\n",
      "  8.3767764   8.88623816  9.42668455 10.        ]\n"
     ]
    }
   ],
   "source": [
    "# 🔴 시작, 끝, 개수 바꾸기\n",
    "\n",
    "arr = np.logspace(0, 1, 40)\n",
    "np_print(arr)"
   ]
  },
  {
   "cell_type": "code",
   "execution_count": 28,
   "id": "7f970707",
   "metadata": {},
   "outputs": [
    {
     "name": "stdout",
     "output_type": "stream",
     "text": [
      "\n",
      "    type : <class 'numpy.ndarray'>\n",
      "    shape : (40,)\n",
      "    ndim : 1\n",
      "    dtype : float64\n",
      "    array data : \n",
      " [1.         1.05925373 1.12201845 1.18850223 1.25892541 1.33352143\n",
      " 1.41253754 1.49623566 1.58489319 1.67880402 1.77827941 1.88364909\n",
      " 1.99526231 2.11348904 2.23872114 2.37137371 2.51188643 2.66072506\n",
      " 2.81838293 2.98538262 3.16227766 3.34965439 3.54813389 3.75837404\n",
      " 3.98107171 4.21696503 4.46683592 4.73151259 5.01187234 5.30884444\n",
      " 5.62341325 5.95662144 6.30957344 6.68343918 7.07945784 7.49894209\n",
      " 7.94328235 8.41395142 8.91250938 9.44060876]\n"
     ]
    }
   ],
   "source": [
    "# 🔴 endpoint 설정\n",
    "\n",
    "## endpoint가 False이기 때문에 => 10. (=1)이 포함이 안됨\n",
    "\n",
    "arr = np.logspace(0, 1, 40, endpoint=False)\n",
    "np_print(arr)"
   ]
  },
  {
   "cell_type": "markdown",
   "id": "90d6ebef",
   "metadata": {},
   "source": [
    " "
   ]
  },
  {
   "cell_type": "markdown",
   "id": "34a0f1ff",
   "metadata": {},
   "source": [
    "### 2. 배열 생성 및 초기화(이어서)\n",
    "\n",
    "3. 난수(특정한 순서나 규칙을 가지지 않는 무작위의 수)를 데이터로 가지는 배열을 생성\n",
    "    - np.random.normal()\n",
    "    \n",
    "    - np.random.rand()\n",
    "    \n",
    "    - np.random.randn()\n",
    "    \n",
    "    - np.random.randint()\n",
    "    \n",
    "    - np.random.random()\n",
    "    \n",
    "\n",
    "\n",
    "\n",
    "#### 3-1. np.random.normal(loc=0.0, scale=1.0, size=None) : 정규분포\n",
    "\n",
    "- 정규 분포 확률 밀도에서 표본을 추출하여 데이터로 가지는 배열을 생성\n",
    "\n",
    "- loc : 정규분포의 평균, 기본값 = 0.0\n",
    "\n",
    "- scale : 정규분포의 표준편차, 기본값 = 1.0\n",
    "\n",
    "- size : (행,열,차원)의 배열 구조, 기본값 = single value(배열이 아닌 하나의 값을 반환)"
   ]
  },
  {
   "cell_type": "code",
   "execution_count": 29,
   "id": "e9a0b55a",
   "metadata": {},
   "outputs": [
    {
     "data": {
      "text/plain": [
       "-0.4621742947405467"
      ]
     },
     "execution_count": 29,
     "metadata": {},
     "output_type": "execute_result"
    }
   ],
   "source": [
    "# 🔴 기본값\n",
    "\n",
    "## 기본값이 0이고 표준편차가 1이면 -> -1 ~ +1 사이의 수가 나올 확률이 70%\n",
    "## 기본값이 0이고 표준편차가 2이면 -> -2 ~ +2 사이의 수가 나올 확률이 95%\n",
    "\n",
    "v = np.random.normal(0, 1)\n",
    "v"
   ]
  },
  {
   "cell_type": "code",
   "execution_count": null,
   "id": "9c02e0a6",
   "metadata": {},
   "outputs": [],
   "source": [
    "# 아닐수도 . . .\n",
    "\n",
    "# 평균이 60이고 표준편차가 6이면 \n",
    "## 54~66이 약 70%\n",
    "## 48~72는 약 95% => 75의 점수를 받으면 상위 2.5%인 것\n",
    "\n",
    "# 1표준편차  => 70%의 데이터 (앞 뒤로 15%)\n",
    "# 2표준편차(표준편차에 2를 곱한 것) => 95%의 데이터 (앞 뒤로 2.5%)\n",
    "# 3표준편차 => 99.7%"
   ]
  },
  {
   "cell_type": "code",
   "execution_count": 33,
   "id": "81774721",
   "metadata": {},
   "outputs": [
    {
     "name": "stdout",
     "output_type": "stream",
     "text": [
      "\n",
      "    type : <class 'numpy.ndarray'>\n",
      "    shape : (2, 3)\n",
      "    ndim : 2\n",
      "    dtype : float64\n",
      "    array data : \n",
      " [[-0.26659964 -1.41834046 -0.69443007]\n",
      " [ 0.48877346  0.61333245  2.18013012]]\n"
     ]
    }
   ],
   "source": [
    "# 🔴 size 설정 : 2행 3열의 구조 설정\n",
    "\n",
    "## 평균:0, 표준편차:1의 데이터를 6개 뽑겠다.\n",
    "## 주된 데이터는 -1 ~ +1 사이에 있을 것.\n",
    "\n",
    "arr = np.random.normal(0, 1, size=(2,3))\n",
    "np_print(arr)"
   ]
  },
  {
   "cell_type": "code",
   "execution_count": 34,
   "id": "d0c305f7",
   "metadata": {},
   "outputs": [
    {
     "data": {
      "text/plain": [
       "array([ 9.38683007,  9.33802395, 13.00997349, ..., 13.86659747,\n",
       "       10.74980946, 15.41622591])"
      ]
     },
     "execution_count": 34,
     "metadata": {},
     "output_type": "execute_result"
    }
   ],
   "source": [
    "# 🔴 정규분포 데이터로 이루어진 배열에 대한 시각화\n",
    "\n",
    "## 🔸 평균 10, 표준편차 2인 표준 정규분포에서 추출한 10000개의 데이터\n",
    "\n",
    "## 1표준편차 : 8~12가 70% 구간임.\n",
    "## 2표준편차 : 6~14는 95% 구간임.(아주 정확하게 구하자면 6.08 ~ 13.92 => 2 * 1.96)\n",
    "\n",
    "data = np.random.normal(10,2, 10000)\n",
    "data"
   ]
  },
  {
   "cell_type": "code",
   "execution_count": 35,
   "id": "8f9edf87",
   "metadata": {},
   "outputs": [],
   "source": [
    "# ⬛ 시각화 라이브러리\n",
    "import matplotlib.pyplot as plt"
   ]
  },
  {
   "cell_type": "code",
   "execution_count": 36,
   "id": "2851e5af",
   "metadata": {},
   "outputs": [
    {
     "data": {
      "image/png": "[encoded data removed]",
      "text/plain": [
       "<Figure size 432x288 with 1 Axes>"
      ]
     },
     "metadata": {
      "needs_background": "light"
     },
     "output_type": "display_data"
    }
   ],
   "source": [
    "## 🔸 100개 구간으로 구분한 분포\n",
    "\n",
    "# bins : 구간의 개수 -> bins가 작을수록 세분화됨\n",
    "plt.hist(data, bins=100) \n",
    "plt.show()\n",
    "\n",
    "### 70% : 8 ~ 12\n",
    "### 95% : 6 ~ 14\n",
    "### 99.7% : 4 ~ 16"
   ]
  },
  {
   "cell_type": "code",
   "execution_count": 37,
   "id": "829ce7fc",
   "metadata": {},
   "outputs": [
    {
     "data": {
      "image/png": "[encoded data removed]",
      "text/plain": [
       "<Figure size 432x288 with 1 Axes>"
      ]
     },
     "metadata": {
      "needs_background": "light"
     },
     "output_type": "display_data"
    }
   ],
   "source": [
    "plt.hist(data, bins=10) \n",
    "plt.show()"
   ]
  },
  {
   "cell_type": "markdown",
   "id": "414a929d",
   "metadata": {},
   "source": [
    " "
   ]
  },
  {
   "cell_type": "markdown",
   "id": "2f38e17c",
   "metadata": {},
   "source": [
    "#### 3-2. np.random.rand(d0, d1, ..., dn) : 균등 분포\n",
    "\n",
    "- 지정한 shape(d0, d1, ...)에 따라 배열을 생성한 후 난수로 초기화\n",
    "- 사용되는 난수는 0이상 1미만의 범위에서 균등 분포로 추출"
   ]
  },
  {
   "cell_type": "code",
   "execution_count": 38,
   "id": "c22da461",
   "metadata": {},
   "outputs": [
    {
     "name": "stdout",
     "output_type": "stream",
     "text": [
      "\n",
      "    type : <class 'numpy.ndarray'>\n",
      "    shape : (2, 3)\n",
      "    ndim : 2\n",
      "    dtype : float64\n",
      "    array data : \n",
      " [[0.266213   0.27963157 0.15396509]\n",
      " [0.71147396 0.79869812 0.97157936]]\n"
     ]
    }
   ],
   "source": [
    "# 🔴 2행 3열의 구조\n",
    "\n",
    "arr = np.random.rand(2,3)\n",
    "np_print(arr)\n",
    "\n",
    "## 0 ~ 1사이의 숫자가 나올 확률이 모두 '균등'함."
   ]
  },
  {
   "cell_type": "code",
   "execution_count": 40,
   "id": "3ac198b4",
   "metadata": {},
   "outputs": [
    {
     "data": {
      "image/png": "[encoded data removed]",
      "text/plain": [
       "<Figure size 432x288 with 1 Axes>"
      ]
     },
     "metadata": {
      "needs_background": "light"
     },
     "output_type": "display_data"
    }
   ],
   "source": [
    "# 🔴 균등분포 데이터로 이루어진 배열에 대한 시각화\n",
    "\n",
    "## 10000개의 데이터로 이루어진 배열을 10개 구간으로 구분한 분포(bins값을 안주면 10개 고정)\n",
    "data = np.random.rand(10000)\n",
    "data\n",
    "\n",
    "## 시각화(구간 100개)\n",
    "plt.hist(data, bins=100) \n",
    "plt.show()"
   ]
  },
  {
   "cell_type": "markdown",
   "id": "3c6a9df4",
   "metadata": {},
   "source": [
    " "
   ]
  },
  {
   "cell_type": "markdown",
   "id": "de0ada2f",
   "metadata": {},
   "source": [
    "#### 3-3. np.random.randn(d0, d1, ..., dn)\n",
    "\n",
    "- 지정한 shape(d0, d1, ..)에 따라 배열을 생성한 후 난수로 초기화\n",
    "\n",
    "- 사용되는 난수는 표준 정규 분포에서 추출된 데이터\n",
    "\n",
    "- 위쪽의 normal과 큰 차이는 없음"
   ]
  },
  {
   "cell_type": "code",
   "execution_count": 41,
   "id": "2512de10",
   "metadata": {},
   "outputs": [
    {
     "name": "stdout",
     "output_type": "stream",
     "text": [
      "\n",
      "    type : <class 'numpy.ndarray'>\n",
      "    shape : (2, 4)\n",
      "    ndim : 2\n",
      "    dtype : float64\n",
      "    array data : \n",
      " [[ 0.26822072 -2.03864533  1.17684391  0.38461312]\n",
      " [ 1.38739018 -1.45889453 -1.1491936  -1.10511473]]\n"
     ]
    }
   ],
   "source": [
    "# 🔴 2행 4열\n",
    "arr = np.random.randn(2, 4)\n",
    "np_print(arr)\n",
    "\n",
    "## 평균 0에 표준편차1인데 8개(2x4)"
   ]
  },
  {
   "cell_type": "code",
   "execution_count": 43,
   "id": "299d1d0a",
   "metadata": {},
   "outputs": [
    {
     "data": {
      "image/png": "[encoded data removed]",
      "text/plain": [
       "<Figure size 432x288 with 1 Axes>"
      ]
     },
     "metadata": {
      "needs_background": "light"
     },
     "output_type": "display_data"
    }
   ],
   "source": [
    "# 🔴 정규분포 데이터로 이루어진 배열에 대한 시각화\n",
    "\n",
    "## 평균0, 표준편차1인 표준정규분포에서 추출한 10000개의 데이터에 대해 100개의 구간으로 구분한 분포\n",
    "\n",
    "data = np.random.randn(10000)\n",
    "\n",
    "## 시각화\n",
    "plt.hist(data, bins=100) \n",
    "plt.show()"
   ]
  },
  {
   "cell_type": "markdown",
   "id": "3abe0ad7",
   "metadata": {},
   "source": [
    " "
   ]
  },
  {
   "cell_type": "markdown",
   "id": "a620a3f2",
   "metadata": {},
   "source": [
    "#### 3-4. np.random.randint(low, high=None, size=None, dtype='i')\n",
    "\n",
    "- low 이상 high 미만의 범위에서 정수로 구성된 데이터를 가지고 지정한 size의 배열을 생성\n",
    "\n",
    "- low : high 값이 지정되지 않으면 low값이 최대값(포함하지 않음)으로 설정\n",
    "\n",
    "- high : 최대값(포함하지 않음), 기본값 = None\n",
    "\n",
    "- size : 배열의 구조, 기본값 = None (배열이 아닌 하나의 값으로 반환)"
   ]
  },
  {
   "cell_type": "code",
   "execution_count": 52,
   "id": "d9f1f47f",
   "metadata": {},
   "outputs": [
    {
     "data": {
      "text/plain": [
       "0"
      ]
     },
     "execution_count": 52,
     "metadata": {},
     "output_type": "execute_result"
    }
   ],
   "source": [
    "# 🔴 1 미만의 정수 중 하나의 값 추출 ('정수'만!)\n",
    "\n",
    "a = np.random.randint(1)\n",
    "\n",
    "a"
   ]
  },
  {
   "cell_type": "code",
   "execution_count": 54,
   "id": "39a8c7da",
   "metadata": {},
   "outputs": [
    {
     "name": "stdout",
     "output_type": "stream",
     "text": [
      "\n",
      "    type : <class 'numpy.ndarray'>\n",
      "    shape : (10,)\n",
      "    ndim : 1\n",
      "    dtype : int32\n",
      "    array data : \n",
      " [0 0 0 0 0 0 0 0 0 0]\n"
     ]
    }
   ],
   "source": [
    "# 🔴 1미만 정수 10개 추출\n",
    "arr = np.random.randint(1, size=10)\n",
    "np_print(arr)"
   ]
  },
  {
   "cell_type": "code",
   "execution_count": 55,
   "id": "5dc020cc",
   "metadata": {},
   "outputs": [
    {
     "name": "stdout",
     "output_type": "stream",
     "text": [
      "\n",
      "    type : <class 'numpy.ndarray'>\n",
      "    shape : (10,)\n",
      "    ndim : 1\n",
      "    dtype : int32\n",
      "    array data : \n",
      " [1 2 0 1 2 2 0 0 1 0]\n"
     ]
    }
   ],
   "source": [
    "# 🔴 3미만 정수 10개 추출\n",
    "\n",
    "arr = np.random.randint(3, size=10)\n",
    "np_print(arr)"
   ]
  },
  {
   "cell_type": "code",
   "execution_count": 66,
   "id": "c38da082",
   "metadata": {},
   "outputs": [
    {
     "name": "stdout",
     "output_type": "stream",
     "text": [
      "\n",
      "    type : <class 'numpy.ndarray'>\n",
      "    shape : (2, 4)\n",
      "    ndim : 2\n",
      "    dtype : int32\n",
      "    array data : \n",
      " [[3 3 4 7]\n",
      " [4 3 5 9]]\n"
     ]
    }
   ],
   "source": [
    "# 🔴 3이상 10미만의 정수로 구성된 2행(row2) 4열(column 4개)짜리 배열\n",
    "\n",
    "arr = np.random.randint(3, high=10, size=(2,4))\n",
    "np_print(arr)"
   ]
  },
  {
   "cell_type": "code",
   "execution_count": 88,
   "id": "808d6247",
   "metadata": {},
   "outputs": [
    {
     "name": "stdout",
     "output_type": "stream",
     "text": [
      "\n",
      "    type : <class 'numpy.ndarray'>\n",
      "    shape : (10000,)\n",
      "    ndim : 1\n",
      "    dtype : int32\n",
      "    array data : \n",
      " [-24  33 -72 ...  52  97  16]\n"
     ]
    },
    {
     "data": {
      "image/png": "[encoded data removed]",
      "text/plain": [
       "<Figure size 432x288 with 1 Axes>"
      ]
     },
     "metadata": {
      "needs_background": "light"
     },
     "output_type": "display_data"
    }
   ],
   "source": [
    "# 🔴 균등 분포로 이루어진 배열에 대한 시각화\n",
    "\n",
    "# -100 ~ 100 범위에서 추출한 10000개의 데이터에 대해 5개의 구간으로 히스토그램을 만들어주세요\n",
    "\n",
    "arr = np.random.randint(-100, 101, 10000)\n",
    "np_print(arr)\n",
    "\n",
    "## 시각화(구간 5개)\n",
    "plt.hist(arr, bins=5) \n",
    "plt.show()"
   ]
  },
  {
   "cell_type": "markdown",
   "id": "7fb3ea37",
   "metadata": {},
   "source": [
    " "
   ]
  },
  {
   "cell_type": "markdown",
   "id": "34bf8fb2",
   "metadata": {},
   "source": [
    "### ※ 난수 = 무작위의 숫자\n",
    "\n",
    "- 프로그래밍에서 추출되는 난수는 무작위로 만들어진 것 처럼 보이지만 실제로는 고정된 기준(시작점)을 가지고 규칙적으로 생성\n",
    "- 시작점을 설정한다면 동일한 난수를 똑같이 생성 가능\n",
    "- 난수의 시작점 설정 : np.random.seed()"
   ]
  },
  {
   "cell_type": "code",
   "execution_count": 90,
   "id": "76591c0d",
   "metadata": {},
   "outputs": [],
   "source": [
    "# 🔴 난수 시작점 설정하기\n",
    "\n",
    "## seed 값 : 100 ==> 100번 패턴\n",
    "\n",
    "np.random.seed(100)"
   ]
  },
  {
   "cell_type": "code",
   "execution_count": 91,
   "id": "74d0688f",
   "metadata": {},
   "outputs": [
    {
     "data": {
      "text/plain": [
       "array([[0.54340494, 0.27836939, 0.42451759],\n",
       "       [0.84477613, 0.00471886, 0.12156912],\n",
       "       [0.67074908, 0.82585276, 0.13670659]])"
      ]
     },
     "execution_count": 91,
     "metadata": {},
     "output_type": "execute_result"
    }
   ],
   "source": [
    "# 🔸 0 이상 1미만의 범위(고정범위)에서 실수값을 가지는 3행 3열의 난수 생성\n",
    "\n",
    "## 100번 패턴이기 때문에, 난수인데도 선생님 값과 같은 값이 나옴.\n",
    "np.random.random((3,3))"
   ]
  },
  {
   "cell_type": "code",
   "execution_count": 112,
   "id": "ac4dbc47",
   "metadata": {},
   "outputs": [
    {
     "name": "stdout",
     "output_type": "stream",
     "text": [
      "\n",
      "    type : <class 'numpy.ndarray'>\n",
      "    shape : (2, 2)\n",
      "    ndim : 2\n",
      "    dtype : int32\n",
      "    array data : \n",
      " [[2 4]\n",
      " [3 1]]\n"
     ]
    }
   ],
   "source": [
    "# 🔴 0 이상 5미만의 범위(지정범위)에서 정수값을 가지는 2행 2열의 난수 생성\n",
    "\n",
    "arr = np.random.randint(0, 5, (2,2))\n",
    "np_print(arr)"
   ]
  },
  {
   "cell_type": "code",
   "execution_count": 113,
   "id": "822e4353",
   "metadata": {},
   "outputs": [],
   "source": [
    "# 🔴 시작점 초기화를 시키고 싶다면?\n",
    "## np.random.seed()의 안쪽에 정수를 기입하지 않고 실행하면 초기화\n",
    "\n",
    "np.random.seed()"
   ]
  },
  {
   "cell_type": "code",
   "execution_count": 114,
   "id": "d89ab113",
   "metadata": {},
   "outputs": [
    {
     "data": {
      "text/plain": [
       "array([[0.67617648, 0.39729694, 0.41858581],\n",
       "       [0.72739833, 0.02509152, 0.70674542],\n",
       "       [0.61314449, 0.59573904, 0.48145383]])"
      ]
     },
     "execution_count": 114,
     "metadata": {},
     "output_type": "execute_result"
    }
   ],
   "source": [
    "np.random.random((3,3))"
   ]
  },
  {
   "cell_type": "code",
   "execution_count": null,
   "id": "0a2fe5d5",
   "metadata": {},
   "outputs": [],
   "source": []
  },
  {
   "cell_type": "code",
   "execution_count": null,
   "id": "15ba1d12",
   "metadata": {},
   "outputs": [],
   "source": []
  },
  {
   "cell_type": "code",
   "execution_count": null,
   "id": "9c6e643b",
   "metadata": {},
   "outputs": [],
   "source": []
  },
  {
   "cell_type": "code",
   "execution_count": null,
   "id": "92ec9ca2",
   "metadata": {},
   "outputs": [],
   "source": []
  },
  {
   "cell_type": "code",
   "execution_count": null,
   "id": "e5fdfadc",
   "metadata": {},
   "outputs": [],
   "source": []
  },
  {
   "cell_type": "code",
   "execution_count": null,
   "id": "a6e50dac",
   "metadata": {},
   "outputs": [],
   "source": []
  },
  {
   "cell_type": "code",
   "execution_count": null,
   "id": "f3c1f95f",
   "metadata": {},
   "outputs": [],
   "source": []
  },
  {
   "cell_type": "code",
   "execution_count": null,
   "id": "57a75bec",
   "metadata": {},
   "outputs": [],
   "source": []
  }
 ],
 "metadata": {
  "kernelspec": {
   "display_name": "Python 3",
   "language": "python",
   "name": "python3"
  },
  "language_info": {
   "codemirror_mode": {
    "name": "ipython",
    "version": 3
   },
   "file_extension": ".py",
   "mimetype": "text/x-python",
   "name": "python",
   "nbconvert_exporter": "python",
   "pygments_lexer": "ipython3",
   "version": "3.8.8"
  }
 },
 "nbformat": 4,
 "nbformat_minor": 5
}
