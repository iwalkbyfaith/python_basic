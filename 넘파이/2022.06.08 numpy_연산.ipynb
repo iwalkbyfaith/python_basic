{
 "cells": [
  {
   "cell_type": "code",
   "execution_count": 63,
   "id": "6a703662",
   "metadata": {},
   "outputs": [],
   "source": [
    "# 라이브러리 불러오기\n",
    "\n",
    "import numpy as np"
   ]
  },
  {
   "cell_type": "code",
   "execution_count": 64,
   "id": "c5d60b31",
   "metadata": {},
   "outputs": [],
   "source": [
    "# np_print\n",
    "\n",
    "def np_print(arr):\n",
    "    text = '''\n",
    "    type : %s\n",
    "    shape : %s\n",
    "    ndim : %s\n",
    "    dtype : %s\n",
    "    array data : \\n %s''' % (type(arr), arr.shape, arr.ndim, arr.dtype, arr)\n",
    "    print(text)"
   ]
  },
  {
   "cell_type": "markdown",
   "id": "d1ae47eb",
   "metadata": {},
   "source": [
    "# 산술 연산\n",
    "\n",
    "- 더하기 : +, add()\n",
    "- 빼기 : -, subtract()\n",
    "- 나누기 : /, divide()\n",
    "- 곱하기 : *, multiply()\n",
    "- 지수곱 표현 : exp()\n",
    "- 제곱근 : sqrt()\n",
    "- 로그 : log()\n",
    "- 내적(행렬곱) :dot()"
   ]
  },
  {
   "cell_type": "code",
   "execution_count": 3,
   "id": "87e817bd",
   "metadata": {},
   "outputs": [
    {
     "data": {
      "text/plain": [
       "array([1, 2, 3, 4, 5, 6, 7, 8, 9])"
      ]
     },
     "execution_count": 3,
     "metadata": {},
     "output_type": "execute_result"
    }
   ],
   "source": [
    "# 🔴 1부터 10미만의 범위(지정범위)에서 1씩 증가하는 숫자를 데이터로 가진 3행 3열의 배열\n",
    "\n",
    "## 🔸 1) 1부터 10미만의 범위\n",
    "a = np.arange(1,10)\n",
    "a"
   ]
  },
  {
   "cell_type": "code",
   "execution_count": 11,
   "id": "ca237369",
   "metadata": {},
   "outputs": [
    {
     "data": {
      "text/plain": [
       "array([[1, 2, 3],\n",
       "       [4, 5, 6],\n",
       "       [7, 8, 9]])"
      ]
     },
     "execution_count": 11,
     "metadata": {},
     "output_type": "execute_result"
    }
   ],
   "source": [
    "## 🔸 2) 위의 데이터를 reshape를 통해 3x3 배열로 만듦\n",
    "\n",
    "a = np.arange(1,10).reshape(3,3)\n",
    "a"
   ]
  },
  {
   "cell_type": "code",
   "execution_count": 9,
   "id": "417b3e04",
   "metadata": {},
   "outputs": [
    {
     "data": {
      "text/plain": [
       "array([[ 4,  5,  6],\n",
       "       [ 7,  8,  9],\n",
       "       [10, 11, 12]])"
      ]
     },
     "execution_count": 9,
     "metadata": {},
     "output_type": "execute_result"
    }
   ],
   "source": [
    "# 🔴 4이상 13미만의 범위에서 1씩 증가하는 숫자를 데이터로 가진 3행 3열 배열 생성\n",
    "\n",
    "b = np.arange(4,13).reshape(3,3)\n",
    "b"
   ]
  },
  {
   "cell_type": "code",
   "execution_count": 10,
   "id": "a025ba37",
   "metadata": {},
   "outputs": [
    {
     "data": {
      "text/plain": [
       "array([[10, 11, 12, 13],\n",
       "       [14, 15, 16, 17],\n",
       "       [18, 19, 20, 21]])"
      ]
     },
     "execution_count": 10,
     "metadata": {},
     "output_type": "execute_result"
    }
   ],
   "source": [
    "# 🔴 10 ~ 21까지 3행 4열 형태로 만들기\n",
    "\n",
    "c = np.arange(10, 22).reshape(3,4)\n",
    "c"
   ]
  },
  {
   "cell_type": "markdown",
   "id": "0a99aa99",
   "metadata": {},
   "source": [
    "## 1. 더하기\n",
    "\n",
    "- 배열 + 배열\n",
    "- np.add(arr1, arr2)\n",
    "- 파이썬에서 배열끼리 더하면 원래는 연장을 해주는데, 얘는 배열끼리 더해줌\n",
    "- 배열의 크기가 맞아야한다"
   ]
  },
  {
   "cell_type": "code",
   "execution_count": 13,
   "id": "bb8508e2",
   "metadata": {},
   "outputs": [
    {
     "name": "stdout",
     "output_type": "stream",
     "text": [
      "[[1 2 3]\n",
      " [4 5 6]\n",
      " [7 8 9]]\n"
     ]
    }
   ],
   "source": [
    "print(a)"
   ]
  },
  {
   "cell_type": "code",
   "execution_count": 12,
   "id": "9f3eb104",
   "metadata": {},
   "outputs": [
    {
     "name": "stdout",
     "output_type": "stream",
     "text": [
      "[[ 4  5  6]\n",
      " [ 7  8  9]\n",
      " [10 11 12]]\n"
     ]
    }
   ],
   "source": [
    "print(b)"
   ]
  },
  {
   "cell_type": "code",
   "execution_count": 15,
   "id": "2bb5550c",
   "metadata": {},
   "outputs": [
    {
     "data": {
      "text/plain": [
       "array([[ 5,  7,  9],\n",
       "       [11, 13, 15],\n",
       "       [17, 19, 21]])"
      ]
     },
     "execution_count": 15,
     "metadata": {},
     "output_type": "execute_result"
    }
   ],
   "source": [
    "# 🔴 산술 연산자 1) +\n",
    "\n",
    "a + b"
   ]
  },
  {
   "cell_type": "code",
   "execution_count": 16,
   "id": "0b7c7537",
   "metadata": {},
   "outputs": [
    {
     "data": {
      "text/plain": [
       "array([[ 5,  7,  9],\n",
       "       [11, 13, 15],\n",
       "       [17, 19, 21]])"
      ]
     },
     "execution_count": 16,
     "metadata": {},
     "output_type": "execute_result"
    }
   ],
   "source": [
    "# 🔴 산술 연산자 2) np.add(a, b)\n",
    "\n",
    "np.add(a, b)"
   ]
  },
  {
   "cell_type": "code",
   "execution_count": 17,
   "id": "0834b427",
   "metadata": {},
   "outputs": [
    {
     "ename": "ValueError",
     "evalue": "operands could not be broadcast together with shapes (3,3) (3,4) ",
     "output_type": "error",
     "traceback": [
      "\u001b[1;31m---------------------------------------------------------------------------\u001b[0m",
      "\u001b[1;31mValueError\u001b[0m                                Traceback (most recent call last)",
      "\u001b[1;32m<ipython-input-17-c81e395c5465>\u001b[0m in \u001b[0;36m<module>\u001b[1;34m\u001b[0m\n\u001b[0;32m      3\u001b[0m \u001b[1;31m## 3x3 과 3x4의 형태\u001b[0m\u001b[1;33m\u001b[0m\u001b[1;33m\u001b[0m\u001b[1;33m\u001b[0m\u001b[0m\n\u001b[0;32m      4\u001b[0m \u001b[1;33m\u001b[0m\u001b[0m\n\u001b[1;32m----> 5\u001b[1;33m \u001b[0ma\u001b[0m \u001b[1;33m+\u001b[0m \u001b[0mc\u001b[0m\u001b[1;33m\u001b[0m\u001b[1;33m\u001b[0m\u001b[0m\n\u001b[0m",
      "\u001b[1;31mValueError\u001b[0m: operands could not be broadcast together with shapes (3,3) (3,4) "
     ]
    }
   ],
   "source": [
    "# 🔴 구조가 다른 배열간의 산술 연산시 에러 발생\n",
    "\n",
    "## 3x3 과 3x4의 형태\n",
    "## ValueError: operands could not be broadcast together with shapes (3,3) (3,4) \n",
    "\n",
    "a + c"
   ]
  },
  {
   "cell_type": "markdown",
   "id": "300ef204",
   "metadata": {},
   "source": [
    "## 2. 빼기\n",
    "\n",
    "- 배열 - 배열\n",
    "- np.subtract(arr1, arr2)"
   ]
  },
  {
   "cell_type": "code",
   "execution_count": 19,
   "id": "86d43269",
   "metadata": {},
   "outputs": [
    {
     "name": "stdout",
     "output_type": "stream",
     "text": [
      "[[1 2 3]\n",
      " [4 5 6]\n",
      " [7 8 9]]\n",
      "[[ 4  5  6]\n",
      " [ 7  8  9]\n",
      " [10 11 12]]\n"
     ]
    }
   ],
   "source": [
    "print(a)\n",
    "print(b)"
   ]
  },
  {
   "cell_type": "code",
   "execution_count": 18,
   "id": "6360a977",
   "metadata": {},
   "outputs": [
    {
     "data": {
      "text/plain": [
       "array([[-3, -3, -3],\n",
       "       [-3, -3, -3],\n",
       "       [-3, -3, -3]])"
      ]
     },
     "execution_count": 18,
     "metadata": {},
     "output_type": "execute_result"
    }
   ],
   "source": [
    "# 🔴 산술 연산자 1) -\n",
    "\n",
    "a - b"
   ]
  },
  {
   "cell_type": "code",
   "execution_count": 23,
   "id": "24d4402c",
   "metadata": {},
   "outputs": [
    {
     "data": {
      "text/plain": [
       "array([[3, 3, 3],\n",
       "       [3, 3, 3],\n",
       "       [3, 3, 3]])"
      ]
     },
     "execution_count": 23,
     "metadata": {},
     "output_type": "execute_result"
    }
   ],
   "source": [
    "# 🔴 산술 연산자 2) np.subtract(a, b)\n",
    "\n",
    "np.subtract(b, a)"
   ]
  },
  {
   "cell_type": "markdown",
   "id": "1b7f0fdc",
   "metadata": {},
   "source": [
    "## 3. 나누기\n",
    "- 배열 / 배열\n",
    "- np.divide(arr1, arr2)"
   ]
  },
  {
   "cell_type": "code",
   "execution_count": 24,
   "id": "6669cca4",
   "metadata": {},
   "outputs": [
    {
     "data": {
      "text/plain": [
       "array([[0.25      , 0.4       , 0.5       ],\n",
       "       [0.57142857, 0.625     , 0.66666667],\n",
       "       [0.7       , 0.72727273, 0.75      ]])"
      ]
     },
     "execution_count": 24,
     "metadata": {},
     "output_type": "execute_result"
    }
   ],
   "source": [
    "# 🔴 산술 연산자 1) /\n",
    "\n",
    "a / b"
   ]
  },
  {
   "cell_type": "code",
   "execution_count": 26,
   "id": "6afd80c8",
   "metadata": {
    "scrolled": true
   },
   "outputs": [
    {
     "data": {
      "text/plain": [
       "array([[4.        , 2.5       , 2.        ],\n",
       "       [1.75      , 1.6       , 1.5       ],\n",
       "       [1.42857143, 1.375     , 1.33333333]])"
      ]
     },
     "execution_count": 26,
     "metadata": {},
     "output_type": "execute_result"
    }
   ],
   "source": [
    "# 🔴 산술 연산자 2) np.divide(a, b)\n",
    "np.divide(b, a)"
   ]
  },
  {
   "cell_type": "markdown",
   "id": "b160f79e",
   "metadata": {},
   "source": [
    " "
   ]
  },
  {
   "cell_type": "markdown",
   "id": "0c7d463e",
   "metadata": {},
   "source": [
    "## 4. 곱하기\n",
    "\n",
    "- 배열 * 배열\n",
    "- np.multiply(arr1, arr2)"
   ]
  },
  {
   "cell_type": "code",
   "execution_count": 27,
   "id": "e69c2fc5",
   "metadata": {},
   "outputs": [
    {
     "data": {
      "text/plain": [
       "array([[  4,  10,  18],\n",
       "       [ 28,  40,  54],\n",
       "       [ 70,  88, 108]])"
      ]
     },
     "execution_count": 27,
     "metadata": {},
     "output_type": "execute_result"
    }
   ],
   "source": [
    "# 🔴 산술 연산자 1) *\n",
    "a * b"
   ]
  },
  {
   "cell_type": "code",
   "execution_count": 28,
   "id": "ec217e8c",
   "metadata": {
    "scrolled": true
   },
   "outputs": [
    {
     "data": {
      "text/plain": [
       "array([[  4,  10,  18],\n",
       "       [ 28,  40,  54],\n",
       "       [ 70,  88, 108]])"
      ]
     },
     "execution_count": 28,
     "metadata": {},
     "output_type": "execute_result"
    }
   ],
   "source": [
    "# 🔴 산술 연산자 2) np.multiply(a, b)\n",
    "np.multiply(a, b)"
   ]
  },
  {
   "cell_type": "markdown",
   "id": "016b47d5",
   "metadata": {},
   "source": [
    " "
   ]
  },
  {
   "cell_type": "markdown",
   "id": "18f44f2a",
   "metadata": {},
   "source": [
    "## 5. 지수곱 표현\n",
    "\n",
    "- 지수(exponent) : 부동 소수점으로 숫자를 표시할 때 거듭제곱을 사용하여 표현. <br>\n",
    "(예) 2.14e+2 = 2.14 x 102 = 214 / 2.98e-8 = 2.98 x 10-8 = 0.0000000298\n",
    "- np.exp(arr) : 밑(base)이 자연상수 e 인 지수함수로 변환(y = e**x)"
   ]
  },
  {
   "cell_type": "code",
   "execution_count": 29,
   "id": "ba9f6ded",
   "metadata": {},
   "outputs": [
    {
     "data": {
      "text/plain": [
       "array([[1, 2, 3],\n",
       "       [4, 5, 6],\n",
       "       [7, 8, 9]])"
      ]
     },
     "execution_count": 29,
     "metadata": {},
     "output_type": "execute_result"
    }
   ],
   "source": [
    "a"
   ]
  },
  {
   "cell_type": "code",
   "execution_count": 30,
   "id": "4b701f69",
   "metadata": {},
   "outputs": [
    {
     "data": {
      "text/plain": [
       "array([[2.71828183e+00, 7.38905610e+00, 2.00855369e+01],\n",
       "       [5.45981500e+01, 1.48413159e+02, 4.03428793e+02],\n",
       "       [1.09663316e+03, 2.98095799e+03, 8.10308393e+03]])"
      ]
     },
     "execution_count": 30,
     "metadata": {},
     "output_type": "execute_result"
    }
   ],
   "source": [
    "# 🔴 a를 지수함수로 바꾸기\n",
    "\n",
    "np.exp(a)\n",
    "\n",
    "## 2.71의 1제곱, 2제곱, 3제곱, ... 9제곱\n",
    "## 2.7, 7.3, 20, 54, 148, ... 8103"
   ]
  },
  {
   "cell_type": "markdown",
   "id": "eefcc139",
   "metadata": {},
   "source": [
    " "
   ]
  },
  {
   "cell_type": "markdown",
   "id": "50522b1d",
   "metadata": {},
   "source": [
    "## 6. 제곱근\n",
    "\n",
    "- np.sqrt(arr)\n",
    "\n",
    "<img src='img/sqrt.gif' width='400' height='200' align='left'>"
   ]
  },
  {
   "cell_type": "code",
   "execution_count": 32,
   "id": "31c00c30",
   "metadata": {},
   "outputs": [
    {
     "data": {
      "text/plain": [
       "array([[1.        , 1.41421356, 1.73205081],\n",
       "       [2.        , 2.23606798, 2.44948974],\n",
       "       [2.64575131, 2.82842712, 3.        ]])"
      ]
     },
     "execution_count": 32,
     "metadata": {},
     "output_type": "execute_result"
    }
   ],
   "source": [
    "# 🔴 배열을 넣으면 모든 제곱근을 구해줌\n",
    "\n",
    "np.sqrt(a)"
   ]
  },
  {
   "cell_type": "markdown",
   "id": "a5784142",
   "metadata": {},
   "source": [
    " "
   ]
  },
  {
   "cell_type": "markdown",
   "id": "9f31ea03",
   "metadata": {},
   "source": [
    "## 7. 내적(행렬곱)\n",
    "\n",
    "- np.dot(a,b)\n",
    "\n",
    "<img src='img/dotProduct.png' width='400' height='200' align='left'>"
   ]
  },
  {
   "cell_type": "code",
   "execution_count": 33,
   "id": "19faa1dc",
   "metadata": {},
   "outputs": [
    {
     "data": {
      "text/plain": [
       "array([[  4,  10,  18],\n",
       "       [ 28,  40,  54],\n",
       "       [ 70,  88, 108]])"
      ]
     },
     "execution_count": 33,
     "metadata": {},
     "output_type": "execute_result"
    }
   ],
   "source": [
    "# 🔸 그냥 *으로 하면 => 좌표끼리 곱한다.\n",
    "\n",
    "a * b"
   ]
  },
  {
   "cell_type": "code",
   "execution_count": 34,
   "id": "468a780e",
   "metadata": {},
   "outputs": [
    {
     "data": {
      "text/plain": [
       "array([[ 48,  54,  60],\n",
       "       [111, 126, 141],\n",
       "       [174, 198, 222]])"
      ]
     },
     "execution_count": 34,
     "metadata": {},
     "output_type": "execute_result"
    }
   ],
   "source": [
    "# 🔴 행렬곱은 .dot을 사용\n",
    "\n",
    "np.dot(a, b)"
   ]
  },
  {
   "cell_type": "markdown",
   "id": "a2336839",
   "metadata": {},
   "source": [
    " "
   ]
  },
  {
   "cell_type": "markdown",
   "id": "505a9035",
   "metadata": {},
   "source": [
    "## 8. Numpy 배열 연산\n",
    "\n",
    "###  비교 연산\n",
    "\n",
    "1) 요소\n",
    "- 값에 대한 비교 : ==, !=\n",
    "- 크기에 대한 비교 : >, <, >=, <=\n",
    "\n",
    "2) 배열\n",
    "- 두 배열 전체에 대한 비교 : array_equal(a, b)"
   ]
  },
  {
   "cell_type": "code",
   "execution_count": 35,
   "id": "ee879674",
   "metadata": {},
   "outputs": [
    {
     "name": "stdout",
     "output_type": "stream",
     "text": [
      "[[1 2 3]\n",
      " [4 5 6]\n",
      " [7 8 9]]\n",
      "[[ 4  5  6]\n",
      " [ 7  8  9]\n",
      " [10 11 12]]\n"
     ]
    }
   ],
   "source": [
    "print(a)\n",
    "print(b)"
   ]
  },
  {
   "cell_type": "code",
   "execution_count": 36,
   "id": "51c6b3a9",
   "metadata": {},
   "outputs": [
    {
     "data": {
      "text/plain": [
       "array([[False, False, False],\n",
       "       [False, False, False],\n",
       "       [False, False, False]])"
      ]
     },
     "execution_count": 36,
     "metadata": {},
     "output_type": "execute_result"
    }
   ],
   "source": [
    "# 🔴 두 배열 요소에 대하여 값이 동일한지를 비교\n",
    "\n",
    "## 반환 : 각 요소마다의 비교 결과 (True, False)가 배열로 표현된다.\n",
    "\n",
    "## 같은 좌표에 있는 애들끼리 같은가?\n",
    "a == b"
   ]
  },
  {
   "cell_type": "code",
   "execution_count": 37,
   "id": "ea4d9598",
   "metadata": {
    "collapsed": true
   },
   "outputs": [
    {
     "name": "stdout",
     "output_type": "stream",
     "text": [
      "\n",
      "    type : <class 'numpy.ndarray'>\n",
      "    shape : (3, 3)\n",
      "    ndim : 2\n",
      "    dtype : bool\n",
      "    array data : \n",
      " [[False False False]\n",
      " [False False False]\n",
      " [False False False]]\n"
     ]
    }
   ],
   "source": [
    "np_print(a == b)"
   ]
  },
  {
   "cell_type": "code",
   "execution_count": 38,
   "id": "b4668a62",
   "metadata": {},
   "outputs": [
    {
     "name": "stdout",
     "output_type": "stream",
     "text": [
      "\n",
      "    type : <class 'numpy.ndarray'>\n",
      "    shape : (3, 3)\n",
      "    ndim : 2\n",
      "    dtype : bool\n",
      "    array data : \n",
      " [[ True  True  True]\n",
      " [ True  True  True]\n",
      " [ True  True  True]]\n"
     ]
    }
   ],
   "source": [
    "# 🔴 두 배열 요소에 대하여 값이 다른지 비교\n",
    "np_print(a != b)"
   ]
  },
  {
   "cell_type": "code",
   "execution_count": 41,
   "id": "5c4a990e",
   "metadata": {},
   "outputs": [
    {
     "data": {
      "text/plain": [
       "array([[ True,  True,  True],\n",
       "       [ True,  True,  True],\n",
       "       [ True,  True,  True]])"
      ]
     },
     "execution_count": 41,
     "metadata": {},
     "output_type": "execute_result"
    }
   ],
   "source": [
    "# 🔴 두 배열 요소에 대해 크기 비교\n",
    "\n",
    "a < b"
   ]
  },
  {
   "cell_type": "code",
   "execution_count": 42,
   "id": "4cf8e745",
   "metadata": {},
   "outputs": [
    {
     "data": {
      "text/plain": [
       "False"
      ]
     },
     "execution_count": 42,
     "metadata": {},
     "output_type": "execute_result"
    }
   ],
   "source": [
    "# 🔴 두 배열이 완전히 일치하는지 여부만 조회\n",
    "## 하나의 True, False로 반환\n",
    "\n",
    "np.array_equal(a, b)"
   ]
  },
  {
   "cell_type": "code",
   "execution_count": 43,
   "id": "71f8f253",
   "metadata": {},
   "outputs": [
    {
     "data": {
      "text/plain": [
       "True"
      ]
     },
     "execution_count": 43,
     "metadata": {},
     "output_type": "execute_result"
    }
   ],
   "source": [
    "np.array_equal(a, a)"
   ]
  },
  {
   "cell_type": "markdown",
   "id": "1a2b0bd8",
   "metadata": {},
   "source": [
    " "
   ]
  },
  {
   "cell_type": "markdown",
   "id": "01c92a2b",
   "metadata": {},
   "source": [
    "## Numpy 배열 연산(이어서)\n",
    "\n",
    "### 집계 함수\n",
    "\n",
    "- Numpy 배열에 대해 집계 함수를 적용할 때는 반드시 axis로 설정된 기준에 따라 연산 수행\n",
    "- 별도로 값을 지정하지 않으면 기본값은 axis = None으로 지정\n",
    "- axis\n",
    "    - axis = None <br>\n",
    "    - 전체 데이터를 하나의 배열로 간주하고 집계 함수의 연산 범위를 전체 배열로 지정\n",
    "        <br>\n",
    "        <img src='img/axis_None.jpg' width='150' height='150' align='left'>\n",
    "        <br>\n",
    "        <br>\n",
    "        <br>\n",
    "        <br>\n",
    "        <br>\n",
    "        <br>\n",
    "        <br>\n",
    "        <br>\n",
    "        <br>\n",
    "        <br>\n",
    "        - axis = 0 <br>\n",
    "        열을 기준으로 동일한 열에 있는 요소를 하나의 그룹으로 묶어 집계 함수의 연산 범위로 지정\n",
    "        <br>\n",
    "        <img src='img/axis_0.jpg' width='150' height='150' align='left'>\n",
    "        <br>\n",
    "        <br>\n",
    "        <br>\n",
    "        <br>\n",
    "        <br>\n",
    "        <br>\n",
    "        <br>\n",
    "        <br>\n",
    "        <br>\n",
    "        <br>\n",
    "        - axis = 1 <br>\n",
    "        행을 기준으로 동일한 행에 있는 요소를 하나의 그룹으로 묶어 집계 함수의 연산 범위로 지정\n",
    "        <br>\n",
    "        <img src='img/axis_1.jpg' width='150' height='150' align='left'>\n",
    "        <br>\n",
    "        <br>\n",
    "        <br>\n",
    "        <br>\n",
    "        <br>\n",
    "        <br>\n",
    "        <br>\n",
    "        <br>\n",
    "        <br>\n",
    "        <br>\n",
    "        \n",
    "    - 집계 함수 : 배열객체에 대한 메소드로 사용하거나 Numpy 라이브러리의 메소드로 사용하는 두 가지 방법\n",
    "        - 합계 : sum()\n",
    "        - 최소값 : min()\n",
    "        - 최대값 : max()\n",
    "        - 누적 합계 : cumsum()\n",
    "        - 평균 : mean()\n",
    "        - 중앙값 : median()\n",
    "            - 크기 순으로 나열된 데이터에 대해 중앙에 위치하는 값\n",
    "        - 상관계수 : corrcoef()\n",
    "            - 데이터 간의 상관관계를 나타내는 수치(-1 <= r <= 1)\n",
    "            - a라는 요소와 b라는 요소가 얼마나 상관이 있는지\n",
    "                - '키'가 커지면 대체로 '체중'이 크다 (=> 상관도 0.7 정도)\n",
    "                - a라는 요소에 따라 b가 무조건 커지면 (=> 상관도 1)\n",
    "                - a라는 요소에 따라 b가 무조건 작아지면 (=> 상관도 0)\n",
    "            \n",
    "        - 표준편차 : std()\n",
    "            - 분산의 제곱근, 데이터가 평균으로부터 흩어져 있는 정도\n",
    "            - 분산 = 편차(요소-전체평균)제곱의 평균\n",
    "        - 고유값 : unique()\n",
    "            - 중복된 값은 무조건 하나로 계산"
   ]
  },
  {
   "cell_type": "code",
   "execution_count": 44,
   "id": "50ca8c89",
   "metadata": {},
   "outputs": [
    {
     "name": "stdout",
     "output_type": "stream",
     "text": [
      "\n",
      "    type : <class 'numpy.ndarray'>\n",
      "    shape : (3, 3)\n",
      "    ndim : 2\n",
      "    dtype : int32\n",
      "    array data : \n",
      " [[1 2 3]\n",
      " [4 5 6]\n",
      " [7 8 9]]\n"
     ]
    }
   ],
   "source": [
    "# 🔴 사용할 배열 객체 확인\n",
    "\n",
    "np_print(a)"
   ]
  },
  {
   "cell_type": "code",
   "execution_count": 47,
   "id": "107fd1bb",
   "metadata": {},
   "outputs": [
    {
     "data": {
      "text/plain": [
       "45"
      ]
     },
     "execution_count": 47,
     "metadata": {},
     "output_type": "execute_result"
    }
   ],
   "source": [
    "# 🔴 합계 - 전체 기준 => 모든 요소에 대한 합\n",
    "\n",
    "## 🔸 1) 배열 타입의 메서드 : arr.sum()\n",
    "\n",
    "### axis를 주지 않았으므로 배열 전체(9개)를 더한 것\n",
    "a.sum()"
   ]
  },
  {
   "cell_type": "code",
   "execution_count": 48,
   "id": "cf851c0e",
   "metadata": {},
   "outputs": [
    {
     "data": {
      "text/plain": [
       "45"
      ]
     },
     "execution_count": 48,
     "metadata": {},
     "output_type": "execute_result"
    }
   ],
   "source": [
    "## 🔸 2) numpy함수 : np.sum(arr)\n",
    "\n",
    "np.sum(a)"
   ]
  },
  {
   "cell_type": "code",
   "execution_count": 50,
   "id": "490f0977",
   "metadata": {},
   "outputs": [
    {
     "name": "stdout",
     "output_type": "stream",
     "text": [
      "[[10 11 12 13]\n",
      " [14 15 16 17]\n",
      " [18 19 20 21]]\n",
      "[46 62 78]\n"
     ]
    }
   ],
   "source": [
    "# 🔴합계 - row, 가로출별 합산\n",
    "\n",
    "## 🔸 메서드, np함수의 파라미터 값 : axis = 1로 주면 됨\n",
    "## 결과값 : [0번row합, 1번row합, 2번 row합]\n",
    "\n",
    "print(c)\n",
    "print(c.sum(axis=1))"
   ]
  },
  {
   "cell_type": "code",
   "execution_count": 52,
   "id": "e9be5a1a",
   "metadata": {},
   "outputs": [
    {
     "name": "stdout",
     "output_type": "stream",
     "text": [
      "[[10 11 12 13]\n",
      " [14 15 16 17]\n",
      " [18 19 20 21]]\n",
      "[42 45 48 51]\n"
     ]
    }
   ],
   "source": [
    "# 🔴 합계 - column, 세로줄별 합산\n",
    "\n",
    "## 🔸 메서드, np함수의 파라미터 값 : axis=0으로 주면 됨\n",
    "## 결과값 : [0번째 column합, 1번째 column합 ...]\n",
    "\n",
    "print(c)\n",
    "print(c.sum(axis=0))"
   ]
  },
  {
   "cell_type": "code",
   "execution_count": 53,
   "id": "1fcd90d6",
   "metadata": {},
   "outputs": [
    {
     "data": {
      "text/plain": [
       "10"
      ]
     },
     "execution_count": 53,
     "metadata": {},
     "output_type": "execute_result"
    }
   ],
   "source": [
    "# 🔴 최소값 - 전체 기준\n",
    "\n",
    "## 🔸 1) 배열 타입의 메서드 : arr.min()\n",
    "c.min()"
   ]
  },
  {
   "cell_type": "code",
   "execution_count": 54,
   "id": "3e88f784",
   "metadata": {},
   "outputs": [
    {
     "data": {
      "text/plain": [
       "10"
      ]
     },
     "execution_count": 54,
     "metadata": {},
     "output_type": "execute_result"
    }
   ],
   "source": [
    "## 🔸 2) numpy함수 : np.min(arr)\n",
    "np.min(c)"
   ]
  },
  {
   "cell_type": "code",
   "execution_count": 55,
   "id": "43da5203",
   "metadata": {},
   "outputs": [
    {
     "data": {
      "text/plain": [
       "1"
      ]
     },
     "execution_count": 55,
     "metadata": {},
     "output_type": "execute_result"
    }
   ],
   "source": [
    "## 🔸 (참고) 파이썬 리스트에서 최소값 찾기\n",
    "x = [1, 2, 3, 4]\n",
    "min(x)"
   ]
  },
  {
   "cell_type": "code",
   "execution_count": 60,
   "id": "7feb34a8",
   "metadata": {},
   "outputs": [
    {
     "name": "stdout",
     "output_type": "stream",
     "text": [
      "[[10 11 12 13]\n",
      " [14 15 16 17]\n",
      " [18 19 20 21]]\n",
      "[10 14 18]\n",
      "[10 14 18]\n"
     ]
    }
   ],
   "source": [
    "# 🔴 최소값 - 각 가로축(row)별 최소값 찾기\n",
    "## 결과값 : [0번째 row최소값, 1번째 row최소값 ...]\n",
    "\n",
    "print(c)\n",
    "print(c.min(axis=1))\n",
    "print(np.min(c, axis=1))"
   ]
  },
  {
   "cell_type": "code",
   "execution_count": 62,
   "id": "7e1744cc",
   "metadata": {},
   "outputs": [
    {
     "name": "stdout",
     "output_type": "stream",
     "text": [
      "[[10 11 12 13]\n",
      " [14 15 16 17]\n",
      " [18 19 20 21]]\n",
      "[10 11 12 13]\n",
      "[10 11 12 13]\n"
     ]
    }
   ],
   "source": [
    "# 🔴 최소값 - 각 세로축(column)별 최소값 찾기\n",
    "## 결과값 : [0번째 컬럼값, 1번째 컬럼값 ...]\n",
    "\n",
    "print(c)\n",
    "print(c.min(axis=0))\n",
    "print(np.min(c, axis=0))"
   ]
  },
  {
   "cell_type": "code",
   "execution_count": null,
   "id": "a622ad3e",
   "metadata": {},
   "outputs": [],
   "source": []
  },
  {
   "cell_type": "code",
   "execution_count": null,
   "id": "663baf96",
   "metadata": {},
   "outputs": [],
   "source": []
  }
 ],
 "metadata": {
  "kernelspec": {
   "display_name": "Python 3",
   "language": "python",
   "name": "python3"
  },
  "language_info": {
   "codemirror_mode": {
    "name": "ipython",
    "version": 3
   },
   "file_extension": ".py",
   "mimetype": "text/x-python",
   "name": "python",
   "nbconvert_exporter": "python",
   "pygments_lexer": "ipython3",
   "version": "3.8.8"
  }
 },
 "nbformat": 4,
 "nbformat_minor": 5
}
