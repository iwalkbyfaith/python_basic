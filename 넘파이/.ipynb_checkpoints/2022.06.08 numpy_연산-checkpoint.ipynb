{
 "cells": [
  {
   "cell_type": "code",
   "execution_count": 65,
   "id": "6a703662",
   "metadata": {},
   "outputs": [],
   "source": [
    "# 라이브러리 불러오기\n",
    "\n",
    "import numpy as np"
   ]
  },
  {
   "cell_type": "code",
   "execution_count": 66,
   "id": "c5d60b31",
   "metadata": {},
   "outputs": [],
   "source": [
    "# np_print\n",
    "\n",
    "def np_print(arr):\n",
    "    text = '''\n",
    "    type : %s\n",
    "    shape : %s\n",
    "    ndim : %s\n",
    "    dtype : %s\n",
    "    array data : \\n %s''' % (type(arr), arr.shape, arr.ndim, arr.dtype, arr)\n",
    "    print(text)"
   ]
  },
  {
   "cell_type": "markdown",
   "id": "d1ae47eb",
   "metadata": {},
   "source": [
    "# 산술 연산\n",
    "\n",
    "- 더하기 : +, add()\n",
    "- 빼기 : -, subtract()\n",
    "- 나누기 : /, divide()\n",
    "- 곱하기 : *, multiply()\n",
    "- 지수곱 표현 : exp()\n",
    "- 제곱근 : sqrt()\n",
    "- 로그 : log()\n",
    "- 내적(행렬곱) :dot()"
   ]
  },
  {
   "cell_type": "code",
   "execution_count": 67,
   "id": "87e817bd",
   "metadata": {},
   "outputs": [
    {
     "data": {
      "text/plain": [
       "array([1, 2, 3, 4, 5, 6, 7, 8, 9])"
      ]
     },
     "execution_count": 67,
     "metadata": {},
     "output_type": "execute_result"
    }
   ],
   "source": [
    "# 🔴 1부터 10미만의 범위(지정범위)에서 1씩 증가하는 숫자를 데이터로 가진 3행 3열의 배열\n",
    "\n",
    "## 🔸 1) 1부터 10미만의 범위\n",
    "a = np.arange(1,10)\n",
    "a"
   ]
  },
  {
   "cell_type": "code",
   "execution_count": 68,
   "id": "ca237369",
   "metadata": {},
   "outputs": [
    {
     "data": {
      "text/plain": [
       "array([[1, 2, 3],\n",
       "       [4, 5, 6],\n",
       "       [7, 8, 9]])"
      ]
     },
     "execution_count": 68,
     "metadata": {},
     "output_type": "execute_result"
    }
   ],
   "source": [
    "## 🔸 2) 위의 데이터를 reshape를 통해 3x3 배열로 만듦\n",
    "\n",
    "a = np.arange(1,10).reshape(3,3)\n",
    "a"
   ]
  },
  {
   "cell_type": "code",
   "execution_count": 69,
   "id": "417b3e04",
   "metadata": {},
   "outputs": [
    {
     "data": {
      "text/plain": [
       "array([[ 4,  5,  6],\n",
       "       [ 7,  8,  9],\n",
       "       [10, 11, 12]])"
      ]
     },
     "execution_count": 69,
     "metadata": {},
     "output_type": "execute_result"
    }
   ],
   "source": [
    "# 🔴 4이상 13미만의 범위에서 1씩 증가하는 숫자를 데이터로 가진 3행 3열 배열 생성\n",
    "\n",
    "b = np.arange(4,13).reshape(3,3)\n",
    "b"
   ]
  },
  {
   "cell_type": "code",
   "execution_count": 70,
   "id": "a025ba37",
   "metadata": {},
   "outputs": [
    {
     "data": {
      "text/plain": [
       "array([[10, 11, 12, 13],\n",
       "       [14, 15, 16, 17],\n",
       "       [18, 19, 20, 21]])"
      ]
     },
     "execution_count": 70,
     "metadata": {},
     "output_type": "execute_result"
    }
   ],
   "source": [
    "# 🔴 10 ~ 21까지 3행 4열 형태로 만들기\n",
    "\n",
    "c = np.arange(10, 22).reshape(3,4)\n",
    "c"
   ]
  },
  {
   "cell_type": "markdown",
   "id": "0a99aa99",
   "metadata": {},
   "source": [
    "## 1. 더하기\n",
    "\n",
    "- 배열 + 배열\n",
    "- np.add(arr1, arr2)\n",
    "- 파이썬에서 배열끼리 더하면 원래는 연장을 해주는데, 얘는 배열끼리 더해줌\n",
    "- 배열의 크기가 맞아야한다"
   ]
  },
  {
   "cell_type": "code",
   "execution_count": 13,
   "id": "bb8508e2",
   "metadata": {},
   "outputs": [
    {
     "name": "stdout",
     "output_type": "stream",
     "text": [
      "[[1 2 3]\n",
      " [4 5 6]\n",
      " [7 8 9]]\n"
     ]
    }
   ],
   "source": [
    "print(a)"
   ]
  },
  {
   "cell_type": "code",
   "execution_count": 12,
   "id": "9f3eb104",
   "metadata": {},
   "outputs": [
    {
     "name": "stdout",
     "output_type": "stream",
     "text": [
      "[[ 4  5  6]\n",
      " [ 7  8  9]\n",
      " [10 11 12]]\n"
     ]
    }
   ],
   "source": [
    "print(b)"
   ]
  },
  {
   "cell_type": "code",
   "execution_count": 15,
   "id": "2bb5550c",
   "metadata": {},
   "outputs": [
    {
     "data": {
      "text/plain": [
       "array([[ 5,  7,  9],\n",
       "       [11, 13, 15],\n",
       "       [17, 19, 21]])"
      ]
     },
     "execution_count": 15,
     "metadata": {},
     "output_type": "execute_result"
    }
   ],
   "source": [
    "# 🔴 산술 연산자 1) +\n",
    "\n",
    "a + b"
   ]
  },
  {
   "cell_type": "code",
   "execution_count": 16,
   "id": "0b7c7537",
   "metadata": {},
   "outputs": [
    {
     "data": {
      "text/plain": [
       "array([[ 5,  7,  9],\n",
       "       [11, 13, 15],\n",
       "       [17, 19, 21]])"
      ]
     },
     "execution_count": 16,
     "metadata": {},
     "output_type": "execute_result"
    }
   ],
   "source": [
    "# 🔴 산술 연산자 2) np.add(a, b)\n",
    "\n",
    "np.add(a, b)"
   ]
  },
  {
   "cell_type": "code",
   "execution_count": 17,
   "id": "0834b427",
   "metadata": {},
   "outputs": [
    {
     "ename": "ValueError",
     "evalue": "operands could not be broadcast together with shapes (3,3) (3,4) ",
     "output_type": "error",
     "traceback": [
      "\u001b[1;31m---------------------------------------------------------------------------\u001b[0m",
      "\u001b[1;31mValueError\u001b[0m                                Traceback (most recent call last)",
      "\u001b[1;32m<ipython-input-17-c81e395c5465>\u001b[0m in \u001b[0;36m<module>\u001b[1;34m\u001b[0m\n\u001b[0;32m      3\u001b[0m \u001b[1;31m## 3x3 과 3x4의 형태\u001b[0m\u001b[1;33m\u001b[0m\u001b[1;33m\u001b[0m\u001b[1;33m\u001b[0m\u001b[0m\n\u001b[0;32m      4\u001b[0m \u001b[1;33m\u001b[0m\u001b[0m\n\u001b[1;32m----> 5\u001b[1;33m \u001b[0ma\u001b[0m \u001b[1;33m+\u001b[0m \u001b[0mc\u001b[0m\u001b[1;33m\u001b[0m\u001b[1;33m\u001b[0m\u001b[0m\n\u001b[0m",
      "\u001b[1;31mValueError\u001b[0m: operands could not be broadcast together with shapes (3,3) (3,4) "
     ]
    }
   ],
   "source": [
    "# 🔴 구조가 다른 배열간의 산술 연산시 에러 발생\n",
    "\n",
    "## 3x3 과 3x4의 형태\n",
    "## ValueError: operands could not be broadcast together with shapes (3,3) (3,4) \n",
    "\n",
    "a + c"
   ]
  },
  {
   "cell_type": "markdown",
   "id": "300ef204",
   "metadata": {},
   "source": [
    "## 2. 빼기\n",
    "\n",
    "- 배열 - 배열\n",
    "- np.subtract(arr1, arr2)"
   ]
  },
  {
   "cell_type": "code",
   "execution_count": 19,
   "id": "86d43269",
   "metadata": {},
   "outputs": [
    {
     "name": "stdout",
     "output_type": "stream",
     "text": [
      "[[1 2 3]\n",
      " [4 5 6]\n",
      " [7 8 9]]\n",
      "[[ 4  5  6]\n",
      " [ 7  8  9]\n",
      " [10 11 12]]\n"
     ]
    }
   ],
   "source": [
    "print(a)\n",
    "print(b)"
   ]
  },
  {
   "cell_type": "code",
   "execution_count": 18,
   "id": "6360a977",
   "metadata": {},
   "outputs": [
    {
     "data": {
      "text/plain": [
       "array([[-3, -3, -3],\n",
       "       [-3, -3, -3],\n",
       "       [-3, -3, -3]])"
      ]
     },
     "execution_count": 18,
     "metadata": {},
     "output_type": "execute_result"
    }
   ],
   "source": [
    "# 🔴 산술 연산자 1) -\n",
    "\n",
    "a - b"
   ]
  },
  {
   "cell_type": "code",
   "execution_count": 23,
   "id": "24d4402c",
   "metadata": {},
   "outputs": [
    {
     "data": {
      "text/plain": [
       "array([[3, 3, 3],\n",
       "       [3, 3, 3],\n",
       "       [3, 3, 3]])"
      ]
     },
     "execution_count": 23,
     "metadata": {},
     "output_type": "execute_result"
    }
   ],
   "source": [
    "# 🔴 산술 연산자 2) np.subtract(a, b)\n",
    "\n",
    "np.subtract(b, a)"
   ]
  },
  {
   "cell_type": "markdown",
   "id": "1b7f0fdc",
   "metadata": {},
   "source": [
    "## 3. 나누기\n",
    "- 배열 / 배열\n",
    "- np.divide(arr1, arr2)"
   ]
  },
  {
   "cell_type": "code",
   "execution_count": 24,
   "id": "6669cca4",
   "metadata": {},
   "outputs": [
    {
     "data": {
      "text/plain": [
       "array([[0.25      , 0.4       , 0.5       ],\n",
       "       [0.57142857, 0.625     , 0.66666667],\n",
       "       [0.7       , 0.72727273, 0.75      ]])"
      ]
     },
     "execution_count": 24,
     "metadata": {},
     "output_type": "execute_result"
    }
   ],
   "source": [
    "# 🔴 산술 연산자 1) /\n",
    "\n",
    "a / b"
   ]
  },
  {
   "cell_type": "code",
   "execution_count": 26,
   "id": "6afd80c8",
   "metadata": {
    "scrolled": true
   },
   "outputs": [
    {
     "data": {
      "text/plain": [
       "array([[4.        , 2.5       , 2.        ],\n",
       "       [1.75      , 1.6       , 1.5       ],\n",
       "       [1.42857143, 1.375     , 1.33333333]])"
      ]
     },
     "execution_count": 26,
     "metadata": {},
     "output_type": "execute_result"
    }
   ],
   "source": [
    "# 🔴 산술 연산자 2) np.divide(a, b)\n",
    "np.divide(b, a)"
   ]
  },
  {
   "cell_type": "markdown",
   "id": "b160f79e",
   "metadata": {},
   "source": [
    " "
   ]
  },
  {
   "cell_type": "markdown",
   "id": "0c7d463e",
   "metadata": {},
   "source": [
    "## 4. 곱하기\n",
    "\n",
    "- 배열 * 배열\n",
    "- np.multiply(arr1, arr2)"
   ]
  },
  {
   "cell_type": "code",
   "execution_count": 27,
   "id": "e69c2fc5",
   "metadata": {},
   "outputs": [
    {
     "data": {
      "text/plain": [
       "array([[  4,  10,  18],\n",
       "       [ 28,  40,  54],\n",
       "       [ 70,  88, 108]])"
      ]
     },
     "execution_count": 27,
     "metadata": {},
     "output_type": "execute_result"
    }
   ],
   "source": [
    "# 🔴 산술 연산자 1) *\n",
    "a * b"
   ]
  },
  {
   "cell_type": "code",
   "execution_count": 28,
   "id": "ec217e8c",
   "metadata": {
    "scrolled": true
   },
   "outputs": [
    {
     "data": {
      "text/plain": [
       "array([[  4,  10,  18],\n",
       "       [ 28,  40,  54],\n",
       "       [ 70,  88, 108]])"
      ]
     },
     "execution_count": 28,
     "metadata": {},
     "output_type": "execute_result"
    }
   ],
   "source": [
    "# 🔴 산술 연산자 2) np.multiply(a, b)\n",
    "np.multiply(a, b)"
   ]
  },
  {
   "cell_type": "markdown",
   "id": "016b47d5",
   "metadata": {},
   "source": [
    " "
   ]
  },
  {
   "cell_type": "markdown",
   "id": "18f44f2a",
   "metadata": {},
   "source": [
    "## 5. 지수곱 표현\n",
    "\n",
    "- 지수(exponent) : 부동 소수점으로 숫자를 표시할 때 거듭제곱을 사용하여 표현. <br>\n",
    "(예) 2.14e+2 = 2.14 x 102 = 214 / 2.98e-8 = 2.98 x 10-8 = 0.0000000298\n",
    "- np.exp(arr) : 밑(base)이 자연상수 e 인 지수함수로 변환(y = e**x)"
   ]
  },
  {
   "cell_type": "code",
   "execution_count": 29,
   "id": "ba9f6ded",
   "metadata": {},
   "outputs": [
    {
     "data": {
      "text/plain": [
       "array([[1, 2, 3],\n",
       "       [4, 5, 6],\n",
       "       [7, 8, 9]])"
      ]
     },
     "execution_count": 29,
     "metadata": {},
     "output_type": "execute_result"
    }
   ],
   "source": [
    "a"
   ]
  },
  {
   "cell_type": "code",
   "execution_count": 30,
   "id": "4b701f69",
   "metadata": {},
   "outputs": [
    {
     "data": {
      "text/plain": [
       "array([[2.71828183e+00, 7.38905610e+00, 2.00855369e+01],\n",
       "       [5.45981500e+01, 1.48413159e+02, 4.03428793e+02],\n",
       "       [1.09663316e+03, 2.98095799e+03, 8.10308393e+03]])"
      ]
     },
     "execution_count": 30,
     "metadata": {},
     "output_type": "execute_result"
    }
   ],
   "source": [
    "# 🔴 a를 지수함수로 바꾸기\n",
    "\n",
    "np.exp(a)\n",
    "\n",
    "## 2.71의 1제곱, 2제곱, 3제곱, ... 9제곱\n",
    "## 2.7, 7.3, 20, 54, 148, ... 8103"
   ]
  },
  {
   "cell_type": "markdown",
   "id": "eefcc139",
   "metadata": {},
   "source": [
    " "
   ]
  },
  {
   "cell_type": "markdown",
   "id": "50522b1d",
   "metadata": {},
   "source": [
    "## 6. 제곱근\n",
    "\n",
    "- np.sqrt(arr)\n",
    "\n",
    "<img src='img/sqrt.gif' width='400' height='200' align='left'>"
   ]
  },
  {
   "cell_type": "code",
   "execution_count": 32,
   "id": "31c00c30",
   "metadata": {},
   "outputs": [
    {
     "data": {
      "text/plain": [
       "array([[1.        , 1.41421356, 1.73205081],\n",
       "       [2.        , 2.23606798, 2.44948974],\n",
       "       [2.64575131, 2.82842712, 3.        ]])"
      ]
     },
     "execution_count": 32,
     "metadata": {},
     "output_type": "execute_result"
    }
   ],
   "source": [
    "# 🔴 배열을 넣으면 모든 제곱근을 구해줌\n",
    "\n",
    "np.sqrt(a)"
   ]
  },
  {
   "cell_type": "markdown",
   "id": "a5784142",
   "metadata": {},
   "source": [
    " "
   ]
  },
  {
   "cell_type": "markdown",
   "id": "9f31ea03",
   "metadata": {},
   "source": [
    "## 7. 내적(행렬곱)\n",
    "\n",
    "- np.dot(a,b)\n",
    "\n",
    "<img src='img/dotProduct.png' width='400' height='200' align='left'>"
   ]
  },
  {
   "cell_type": "code",
   "execution_count": 33,
   "id": "19faa1dc",
   "metadata": {},
   "outputs": [
    {
     "data": {
      "text/plain": [
       "array([[  4,  10,  18],\n",
       "       [ 28,  40,  54],\n",
       "       [ 70,  88, 108]])"
      ]
     },
     "execution_count": 33,
     "metadata": {},
     "output_type": "execute_result"
    }
   ],
   "source": [
    "# 🔸 그냥 *으로 하면 => 좌표끼리 곱한다.\n",
    "\n",
    "a * b"
   ]
  },
  {
   "cell_type": "code",
   "execution_count": 34,
   "id": "468a780e",
   "metadata": {},
   "outputs": [
    {
     "data": {
      "text/plain": [
       "array([[ 48,  54,  60],\n",
       "       [111, 126, 141],\n",
       "       [174, 198, 222]])"
      ]
     },
     "execution_count": 34,
     "metadata": {},
     "output_type": "execute_result"
    }
   ],
   "source": [
    "# 🔴 행렬곱은 .dot을 사용\n",
    "\n",
    "np.dot(a, b)"
   ]
  },
  {
   "cell_type": "markdown",
   "id": "a2336839",
   "metadata": {},
   "source": [
    " "
   ]
  },
  {
   "cell_type": "markdown",
   "id": "505a9035",
   "metadata": {},
   "source": [
    "## 8. Numpy 배열 연산\n",
    "\n",
    "###  비교 연산\n",
    "\n",
    "1) 요소\n",
    "- 값에 대한 비교 : ==, !=\n",
    "- 크기에 대한 비교 : >, <, >=, <=\n",
    "\n",
    "2) 배열\n",
    "- 두 배열 전체에 대한 비교 : array_equal(a, b)"
   ]
  },
  {
   "cell_type": "code",
   "execution_count": 35,
   "id": "ee879674",
   "metadata": {},
   "outputs": [
    {
     "name": "stdout",
     "output_type": "stream",
     "text": [
      "[[1 2 3]\n",
      " [4 5 6]\n",
      " [7 8 9]]\n",
      "[[ 4  5  6]\n",
      " [ 7  8  9]\n",
      " [10 11 12]]\n"
     ]
    }
   ],
   "source": [
    "print(a)\n",
    "print(b)"
   ]
  },
  {
   "cell_type": "code",
   "execution_count": 36,
   "id": "51c6b3a9",
   "metadata": {},
   "outputs": [
    {
     "data": {
      "text/plain": [
       "array([[False, False, False],\n",
       "       [False, False, False],\n",
       "       [False, False, False]])"
      ]
     },
     "execution_count": 36,
     "metadata": {},
     "output_type": "execute_result"
    }
   ],
   "source": [
    "# 🔴 두 배열 요소에 대하여 값이 동일한지를 비교\n",
    "\n",
    "## 반환 : 각 요소마다의 비교 결과 (True, False)가 배열로 표현된다.\n",
    "\n",
    "## 같은 좌표에 있는 애들끼리 같은가?\n",
    "a == b"
   ]
  },
  {
   "cell_type": "code",
   "execution_count": 37,
   "id": "ea4d9598",
   "metadata": {
    "collapsed": true
   },
   "outputs": [
    {
     "name": "stdout",
     "output_type": "stream",
     "text": [
      "\n",
      "    type : <class 'numpy.ndarray'>\n",
      "    shape : (3, 3)\n",
      "    ndim : 2\n",
      "    dtype : bool\n",
      "    array data : \n",
      " [[False False False]\n",
      " [False False False]\n",
      " [False False False]]\n"
     ]
    }
   ],
   "source": [
    "np_print(a == b)"
   ]
  },
  {
   "cell_type": "code",
   "execution_count": 38,
   "id": "b4668a62",
   "metadata": {},
   "outputs": [
    {
     "name": "stdout",
     "output_type": "stream",
     "text": [
      "\n",
      "    type : <class 'numpy.ndarray'>\n",
      "    shape : (3, 3)\n",
      "    ndim : 2\n",
      "    dtype : bool\n",
      "    array data : \n",
      " [[ True  True  True]\n",
      " [ True  True  True]\n",
      " [ True  True  True]]\n"
     ]
    }
   ],
   "source": [
    "# 🔴 두 배열 요소에 대하여 값이 다른지 비교\n",
    "np_print(a != b)"
   ]
  },
  {
   "cell_type": "code",
   "execution_count": 41,
   "id": "5c4a990e",
   "metadata": {},
   "outputs": [
    {
     "data": {
      "text/plain": [
       "array([[ True,  True,  True],\n",
       "       [ True,  True,  True],\n",
       "       [ True,  True,  True]])"
      ]
     },
     "execution_count": 41,
     "metadata": {},
     "output_type": "execute_result"
    }
   ],
   "source": [
    "# 🔴 두 배열 요소에 대해 크기 비교\n",
    "\n",
    "a < b"
   ]
  },
  {
   "cell_type": "code",
   "execution_count": 42,
   "id": "4cf8e745",
   "metadata": {},
   "outputs": [
    {
     "data": {
      "text/plain": [
       "False"
      ]
     },
     "execution_count": 42,
     "metadata": {},
     "output_type": "execute_result"
    }
   ],
   "source": [
    "# 🔴 두 배열이 완전히 일치하는지 여부만 조회\n",
    "## 하나의 True, False로 반환\n",
    "\n",
    "np.array_equal(a, b)"
   ]
  },
  {
   "cell_type": "code",
   "execution_count": 43,
   "id": "71f8f253",
   "metadata": {},
   "outputs": [
    {
     "data": {
      "text/plain": [
       "True"
      ]
     },
     "execution_count": 43,
     "metadata": {},
     "output_type": "execute_result"
    }
   ],
   "source": [
    "np.array_equal(a, a)"
   ]
  },
  {
   "cell_type": "markdown",
   "id": "1a2b0bd8",
   "metadata": {},
   "source": [
    " "
   ]
  },
  {
   "cell_type": "markdown",
   "id": "01c92a2b",
   "metadata": {},
   "source": [
    "## Numpy 배열 연산(이어서)\n",
    "\n",
    "### 집계 함수\n",
    "\n",
    "- Numpy 배열에 대해 집계 함수를 적용할 때는 반드시 axis로 설정된 기준에 따라 연산 수행\n",
    "- 별도로 값을 지정하지 않으면 기본값은 axis = None으로 지정\n",
    "- axis\n",
    "    - axis = None <br>\n",
    "    - 전체 데이터를 하나의 배열로 간주하고 집계 함수의 연산 범위를 전체 배열로 지정\n",
    "        <br>\n",
    "        <img src='img/axis_None.jpg' width='150' height='150' align='left'>\n",
    "        <br>\n",
    "        <br>\n",
    "        <br>\n",
    "        <br>\n",
    "        <br>\n",
    "        <br>\n",
    "        <br>\n",
    "        <br>\n",
    "        <br>\n",
    "        <br>\n",
    "        - axis = 0 <br>\n",
    "        열을 기준으로 동일한 열에 있는 요소를 하나의 그룹으로 묶어 집계 함수의 연산 범위로 지정\n",
    "        <br>\n",
    "        <img src='img/axis_0.jpg' width='150' height='150' align='left'>\n",
    "        <br>\n",
    "        <br>\n",
    "        <br>\n",
    "        <br>\n",
    "        <br>\n",
    "        <br>\n",
    "        <br>\n",
    "        <br>\n",
    "        <br>\n",
    "        <br>\n",
    "        - axis = 1 <br>\n",
    "        행을 기준으로 동일한 행에 있는 요소를 하나의 그룹으로 묶어 집계 함수의 연산 범위로 지정\n",
    "        <br>\n",
    "        <img src='img/axis_1.jpg' width='150' height='150' align='left'>\n",
    "        <br>\n",
    "        <br>\n",
    "        <br>\n",
    "        <br>\n",
    "        <br>\n",
    "        <br>\n",
    "        <br>\n",
    "        <br>\n",
    "        <br>\n",
    "        <br>\n",
    "        \n",
    "    - 집계 함수 : 배열객체에 대한 메소드로 사용하거나 Numpy 라이브러리의 메소드로 사용하는 두 가지 방법\n",
    "        - 합계 : sum()\n",
    "        - 최소값 : min()\n",
    "        - 최대값 : max()\n",
    "        - 누적 합계 : cumsum()\n",
    "        - 평균 : mean()\n",
    "        - 중앙값 : median()\n",
    "            - 크기 순으로 나열된 데이터에 대해 중앙에 위치하는 값\n",
    "        - 상관계수 : corrcoef()\n",
    "            - 데이터 간의 상관관계를 나타내는 수치(-1 <= r <= 1)\n",
    "            - a라는 요소와 b라는 요소가 얼마나 상관이 있는지\n",
    "                - '키'가 커지면 대체로 '체중'이 크다 (=> 상관도 0.7 정도)\n",
    "                - a라는 요소에 따라 b가 무조건 커지면 (=> 상관도 1)\n",
    "                - a라는 요소에 따라 b가 무조건 작아지면 (=> 상관도 0)\n",
    "            \n",
    "        - 표준편차 : std()\n",
    "            - 분산의 제곱근, 데이터가 평균으로부터 흩어져 있는 정도\n",
    "            - 분산 = 편차(요소-전체평균)제곱의 평균\n",
    "        - 고유값 : unique()\n",
    "            - 중복된 값은 무조건 하나로 계산"
   ]
  },
  {
   "cell_type": "code",
   "execution_count": 44,
   "id": "50ca8c89",
   "metadata": {},
   "outputs": [
    {
     "name": "stdout",
     "output_type": "stream",
     "text": [
      "\n",
      "    type : <class 'numpy.ndarray'>\n",
      "    shape : (3, 3)\n",
      "    ndim : 2\n",
      "    dtype : int32\n",
      "    array data : \n",
      " [[1 2 3]\n",
      " [4 5 6]\n",
      " [7 8 9]]\n"
     ]
    }
   ],
   "source": [
    "# 🔴 사용할 배열 객체 확인\n",
    "\n",
    "np_print(a)"
   ]
  },
  {
   "cell_type": "code",
   "execution_count": 47,
   "id": "107fd1bb",
   "metadata": {},
   "outputs": [
    {
     "data": {
      "text/plain": [
       "45"
      ]
     },
     "execution_count": 47,
     "metadata": {},
     "output_type": "execute_result"
    }
   ],
   "source": [
    "# 🔴 합계 - 전체 기준 => 모든 요소에 대한 합\n",
    "\n",
    "## 🔸 1) 배열 타입의 메서드 : arr.sum()\n",
    "\n",
    "### axis를 주지 않았으므로 배열 전체(9개)를 더한 것\n",
    "a.sum()"
   ]
  },
  {
   "cell_type": "code",
   "execution_count": 48,
   "id": "cf851c0e",
   "metadata": {},
   "outputs": [
    {
     "data": {
      "text/plain": [
       "45"
      ]
     },
     "execution_count": 48,
     "metadata": {},
     "output_type": "execute_result"
    }
   ],
   "source": [
    "## 🔸 2) numpy함수 : np.sum(arr)\n",
    "\n",
    "np.sum(a)"
   ]
  },
  {
   "cell_type": "code",
   "execution_count": 50,
   "id": "490f0977",
   "metadata": {},
   "outputs": [
    {
     "name": "stdout",
     "output_type": "stream",
     "text": [
      "[[10 11 12 13]\n",
      " [14 15 16 17]\n",
      " [18 19 20 21]]\n",
      "[46 62 78]\n"
     ]
    }
   ],
   "source": [
    "# 🔴합계 - row, 가로출별 합산\n",
    "\n",
    "## 🔸 메서드, np함수의 파라미터 값 : axis = 1로 주면 됨\n",
    "## 결과값 : [0번row합, 1번row합, 2번 row합]\n",
    "\n",
    "print(c)\n",
    "print(c.sum(axis=1))"
   ]
  },
  {
   "cell_type": "code",
   "execution_count": 52,
   "id": "e9be5a1a",
   "metadata": {},
   "outputs": [
    {
     "name": "stdout",
     "output_type": "stream",
     "text": [
      "[[10 11 12 13]\n",
      " [14 15 16 17]\n",
      " [18 19 20 21]]\n",
      "[42 45 48 51]\n"
     ]
    }
   ],
   "source": [
    "# 🔴 합계 - column, 세로줄별 합산\n",
    "\n",
    "## 🔸 메서드, np함수의 파라미터 값 : axis=0으로 주면 됨\n",
    "## 결과값 : [0번째 column합, 1번째 column합 ...]\n",
    "\n",
    "print(c)\n",
    "print(c.sum(axis=0))"
   ]
  },
  {
   "cell_type": "code",
   "execution_count": 53,
   "id": "1fcd90d6",
   "metadata": {},
   "outputs": [
    {
     "data": {
      "text/plain": [
       "10"
      ]
     },
     "execution_count": 53,
     "metadata": {},
     "output_type": "execute_result"
    }
   ],
   "source": [
    "# 🔴 최소값 - 전체 기준\n",
    "\n",
    "## 🔸 1) 배열 타입의 메서드 : arr.min()\n",
    "c.min()"
   ]
  },
  {
   "cell_type": "code",
   "execution_count": 54,
   "id": "3e88f784",
   "metadata": {},
   "outputs": [
    {
     "data": {
      "text/plain": [
       "10"
      ]
     },
     "execution_count": 54,
     "metadata": {},
     "output_type": "execute_result"
    }
   ],
   "source": [
    "## 🔸 2) numpy함수 : np.min(arr)\n",
    "np.min(c)"
   ]
  },
  {
   "cell_type": "code",
   "execution_count": 55,
   "id": "43da5203",
   "metadata": {},
   "outputs": [
    {
     "data": {
      "text/plain": [
       "1"
      ]
     },
     "execution_count": 55,
     "metadata": {},
     "output_type": "execute_result"
    }
   ],
   "source": [
    "## 🔸 (참고) 파이썬 리스트에서 최소값 찾기\n",
    "x = [1, 2, 3, 4]\n",
    "min(x)"
   ]
  },
  {
   "cell_type": "code",
   "execution_count": 60,
   "id": "7feb34a8",
   "metadata": {},
   "outputs": [
    {
     "name": "stdout",
     "output_type": "stream",
     "text": [
      "[[10 11 12 13]\n",
      " [14 15 16 17]\n",
      " [18 19 20 21]]\n",
      "[10 14 18]\n",
      "[10 14 18]\n"
     ]
    }
   ],
   "source": [
    "# 🔴 최소값 - 각 가로축(row)별 최소값 찾기\n",
    "## 결과값 : [0번째 row최소값, 1번째 row최소값 ...]\n",
    "\n",
    "print(c)\n",
    "print(c.min(axis=1))\n",
    "print(np.min(c, axis=1))"
   ]
  },
  {
   "cell_type": "code",
   "execution_count": 62,
   "id": "7e1744cc",
   "metadata": {},
   "outputs": [
    {
     "name": "stdout",
     "output_type": "stream",
     "text": [
      "[[10 11 12 13]\n",
      " [14 15 16 17]\n",
      " [18 19 20 21]]\n",
      "[10 11 12 13]\n",
      "[10 11 12 13]\n"
     ]
    }
   ],
   "source": [
    "# 🔴 최소값 - 각 세로축(column)별 최소값 찾기\n",
    "## 결과값 : [0번째 컬럼값, 1번째 컬럼값 ...]\n",
    "\n",
    "print(c)\n",
    "print(c.min(axis=0))\n",
    "print(np.min(c, axis=0))"
   ]
  },
  {
   "cell_type": "code",
   "execution_count": 72,
   "id": "663baf96",
   "metadata": {},
   "outputs": [
    {
     "data": {
      "text/plain": [
       "21"
      ]
     },
     "execution_count": 72,
     "metadata": {},
     "output_type": "execute_result"
    }
   ],
   "source": [
    "# 🔴 최대값 - 전체 기준\n",
    "\n",
    "## 🔸 1) 배열 타입의 메서드 : arr.max()\n",
    "c.max()"
   ]
  },
  {
   "cell_type": "code",
   "execution_count": 73,
   "id": "00b5527a",
   "metadata": {},
   "outputs": [
    {
     "data": {
      "text/plain": [
       "21"
      ]
     },
     "execution_count": 73,
     "metadata": {},
     "output_type": "execute_result"
    }
   ],
   "source": [
    "## 🔸 2) numpy 함수 : np.max(arr)\n",
    "np.max(c)"
   ]
  },
  {
   "cell_type": "code",
   "execution_count": 75,
   "id": "d3a2a381",
   "metadata": {},
   "outputs": [
    {
     "name": "stdout",
     "output_type": "stream",
     "text": [
      "[[10 11 12 13]\n",
      " [14 15 16 17]\n",
      " [18 19 20 21]]\n"
     ]
    },
    {
     "data": {
      "text/plain": [
       "array([13, 17, 21])"
      ]
     },
     "execution_count": 75,
     "metadata": {},
     "output_type": "execute_result"
    }
   ],
   "source": [
    "# 🔴 최대값 - 가로축 기준 (row)\n",
    "\n",
    "## 🔸 1) 배열 타입의 메서드 : arr.max(axis=1)\n",
    "print(c)\n",
    "c.max(axis=1)"
   ]
  },
  {
   "cell_type": "code",
   "execution_count": 76,
   "id": "53d962e3",
   "metadata": {},
   "outputs": [
    {
     "name": "stdout",
     "output_type": "stream",
     "text": [
      "[[10 11 12 13]\n",
      " [14 15 16 17]\n",
      " [18 19 20 21]]\n"
     ]
    },
    {
     "data": {
      "text/plain": [
       "array([13, 17, 21])"
      ]
     },
     "execution_count": 76,
     "metadata": {},
     "output_type": "execute_result"
    }
   ],
   "source": [
    "## 🔸 2) numpy 함수\n",
    "\n",
    "print(c)\n",
    "np.max(c, axis=1)"
   ]
  },
  {
   "cell_type": "code",
   "execution_count": 79,
   "id": "471b8c0b",
   "metadata": {},
   "outputs": [
    {
     "name": "stdout",
     "output_type": "stream",
     "text": [
      "[[10 11 12 13]\n",
      " [14 15 16 17]\n",
      " [18 19 20 21]]\n",
      "[18 19 20 21]\n"
     ]
    }
   ],
   "source": [
    "# 🔴 최대값 - 세로축 기준 (column)\n",
    "\n",
    "## 🔸 1) 배열 타입의 메서드 : arr.max(axis=0)\n",
    "print(c)\n",
    "print(c.max(axis=0))"
   ]
  },
  {
   "cell_type": "code",
   "execution_count": 80,
   "id": "bd517aac",
   "metadata": {},
   "outputs": [
    {
     "name": "stdout",
     "output_type": "stream",
     "text": [
      "[[10 11 12 13]\n",
      " [14 15 16 17]\n",
      " [18 19 20 21]]\n",
      "[18 19 20 21]\n"
     ]
    }
   ],
   "source": [
    "## 🔸 2) numpy 함수\n",
    "\n",
    "print(c)\n",
    "print(np.max(c, axis=0))"
   ]
  },
  {
   "cell_type": "code",
   "execution_count": 81,
   "id": "1bbaa2ec",
   "metadata": {},
   "outputs": [
    {
     "name": "stdout",
     "output_type": "stream",
     "text": [
      "[[10 11 12 13]\n",
      " [14 15 16 17]\n",
      " [18 19 20 21]]\n",
      "[ 10  21  33  46  60  75  91 108 126 145 165 186]\n"
     ]
    }
   ],
   "source": [
    "# 🔴 누적합계 - 전체 기준\n",
    "\n",
    "## 🔸 1) 배열 타입의 메서드 : arr.cumsum()\n",
    "\n",
    "print(c)\n",
    "print(c.cumsum())\n",
    "\n",
    "## 10, 10+11, 10+11,+12 ... , 10+11+...+20+21"
   ]
  },
  {
   "cell_type": "code",
   "execution_count": 82,
   "id": "2e8f7475",
   "metadata": {},
   "outputs": [
    {
     "data": {
      "text/plain": [
       "array([ 10,  21,  33,  46,  60,  75,  91, 108, 126, 145, 165, 186],\n",
       "      dtype=int32)"
      ]
     },
     "execution_count": 82,
     "metadata": {},
     "output_type": "execute_result"
    }
   ],
   "source": [
    "## 🔸 2) numpy함수 : np.cumsum(arr)\n",
    "\n",
    "np.cumsum(c)"
   ]
  },
  {
   "cell_type": "code",
   "execution_count": 85,
   "id": "4571ab26",
   "metadata": {
    "scrolled": true
   },
   "outputs": [
    {
     "name": "stdout",
     "output_type": "stream",
     "text": [
      "[[10 11 12 13]\n",
      " [14 15 16 17]\n",
      " [18 19 20 21]]\n",
      "[[10 21 33 46]\n",
      " [14 29 45 62]\n",
      " [18 37 57 78]]\n",
      "[[10 21 33 46]\n",
      " [14 29 45 62]\n",
      " [18 37 57 78]]\n"
     ]
    }
   ],
   "source": [
    "# 🔴 누적합계 - 가로축 (row) 기준\n",
    "\n",
    "## 🔸 1) 배열 타입의 메서드 : arr.cumsum(axis=1)\n",
    "print(c.cumsum(axis=1))"
   ]
  },
  {
   "cell_type": "code",
   "execution_count": 87,
   "id": "fb77c1f3",
   "metadata": {},
   "outputs": [
    {
     "name": "stdout",
     "output_type": "stream",
     "text": [
      "[[10 21 33 46]\n",
      " [14 29 45 62]\n",
      " [18 37 57 78]]\n"
     ]
    }
   ],
   "source": [
    "## 🔸 2) numpy함수 : np.cumsum(arr, axis=1)\n",
    "print(np.cumsum(c, axis=1))"
   ]
  },
  {
   "cell_type": "code",
   "execution_count": 88,
   "id": "dec574ca",
   "metadata": {},
   "outputs": [
    {
     "name": "stdout",
     "output_type": "stream",
     "text": [
      "[[10 11 12 13]\n",
      " [24 26 28 30]\n",
      " [42 45 48 51]]\n"
     ]
    }
   ],
   "source": [
    "# 🔴 누적합계 - 세로축 (column) 기준\n",
    "\n",
    "## 🔸 1) 배열 타입의 메서드 : arr.cumsum(axis=0)\n",
    "print(c.cumsum(axis=0))"
   ]
  },
  {
   "cell_type": "code",
   "execution_count": 89,
   "id": "45a21d65",
   "metadata": {},
   "outputs": [
    {
     "name": "stdout",
     "output_type": "stream",
     "text": [
      "[[10 11 12 13]\n",
      " [24 26 28 30]\n",
      " [42 45 48 51]]\n"
     ]
    }
   ],
   "source": [
    "## 🔸 2) numpy함수 : np.cumsum(arr, axis=0)\n",
    "print(np.cumsum(c, axis=0))"
   ]
  },
  {
   "cell_type": "code",
   "execution_count": 92,
   "id": "e9a77094",
   "metadata": {},
   "outputs": [
    {
     "data": {
      "text/plain": [
       "15.5"
      ]
     },
     "execution_count": 92,
     "metadata": {},
     "output_type": "execute_result"
    }
   ],
   "source": [
    "# 🔴 평균 - 전체 데이터 기준\n",
    "\n",
    "## 🔸 1) 배열 타입의 메서드 : arr.mean()\n",
    "c.mean()"
   ]
  },
  {
   "cell_type": "code",
   "execution_count": 93,
   "id": "6c7e792c",
   "metadata": {},
   "outputs": [
    {
     "data": {
      "text/plain": [
       "15.5"
      ]
     },
     "execution_count": 93,
     "metadata": {},
     "output_type": "execute_result"
    }
   ],
   "source": [
    "## 🔸 2) numpy 함수 : np.mean(arr)\n",
    "np.mean(c)"
   ]
  },
  {
   "cell_type": "code",
   "execution_count": 97,
   "id": "6054b8e7",
   "metadata": {},
   "outputs": [
    {
     "name": "stdout",
     "output_type": "stream",
     "text": [
      "[[10 11 12 13]\n",
      " [14 15 16 17]\n",
      " [18 19 20 21]]\n"
     ]
    },
    {
     "data": {
      "text/plain": [
       "array([11.5, 15.5, 19.5])"
      ]
     },
     "execution_count": 97,
     "metadata": {},
     "output_type": "execute_result"
    }
   ],
   "source": [
    "# 🔴 평균 - 가로축 (row) 기준\n",
    "\n",
    "## 🔸 1) 배열 타입의 메서드 : arr.mean(axis=1)\n",
    "print(c)\n",
    "c.mean(axis=1)"
   ]
  },
  {
   "cell_type": "code",
   "execution_count": 98,
   "id": "31d17064",
   "metadata": {},
   "outputs": [
    {
     "name": "stdout",
     "output_type": "stream",
     "text": [
      "[[10 11 12 13]\n",
      " [14 15 16 17]\n",
      " [18 19 20 21]]\n"
     ]
    },
    {
     "data": {
      "text/plain": [
       "array([11.5, 15.5, 19.5])"
      ]
     },
     "execution_count": 98,
     "metadata": {},
     "output_type": "execute_result"
    }
   ],
   "source": [
    "## 🔸 2) numpy 함수 : np.mean(arr, axis=1)\n",
    "print(c)\n",
    "np.mean(c, axis=1)"
   ]
  },
  {
   "cell_type": "code",
   "execution_count": 99,
   "id": "03012c08",
   "metadata": {},
   "outputs": [
    {
     "name": "stdout",
     "output_type": "stream",
     "text": [
      "[[10 11 12 13]\n",
      " [14 15 16 17]\n",
      " [18 19 20 21]]\n"
     ]
    },
    {
     "data": {
      "text/plain": [
       "array([14., 15., 16., 17.])"
      ]
     },
     "execution_count": 99,
     "metadata": {},
     "output_type": "execute_result"
    }
   ],
   "source": [
    "# 🔴 평균 - 세로축 기존(column) 기준\n",
    "\n",
    "## 🔸 1) 배열 타입의 메서드 : arr.mean(axis=0)\n",
    "print(c)\n",
    "c.mean(axis=0)"
   ]
  },
  {
   "cell_type": "code",
   "execution_count": 100,
   "id": "fbb5c9c5",
   "metadata": {},
   "outputs": [
    {
     "name": "stdout",
     "output_type": "stream",
     "text": [
      "[[10 11 12 13]\n",
      " [14 15 16 17]\n",
      " [18 19 20 21]]\n"
     ]
    },
    {
     "data": {
      "text/plain": [
       "array([14., 15., 16., 17.])"
      ]
     },
     "execution_count": 100,
     "metadata": {},
     "output_type": "execute_result"
    }
   ],
   "source": [
    "## 🔸 2) numpy 함수 : np.mean(arr, axis=0)\n",
    "print(c)\n",
    "np.mean(c, axis=0)"
   ]
  },
  {
   "cell_type": "code",
   "execution_count": 104,
   "id": "ff29d275",
   "metadata": {},
   "outputs": [
    {
     "name": "stdout",
     "output_type": "stream",
     "text": [
      "[[10 11 12 13]\n",
      " [14 15 16 17]\n",
      " [18 19 20 21]]\n"
     ]
    },
    {
     "data": {
      "text/plain": [
       "15.5"
      ]
     },
     "execution_count": 104,
     "metadata": {},
     "output_type": "execute_result"
    }
   ],
   "source": [
    "# 🔴 중앙값 - 전체 기준\n",
    "\n",
    "## 중앙값 : 단순히 크시 순으로 나열했을때, 중앙에 위치하는 값(인덱스 번호 = 중간에 있는)\n",
    "\n",
    "## ❓ Q) 근데 여기서 15.5라는 값이 없는데 왜 15.5가 나올까?\n",
    "## ❗ A) 1(첫 인덱스) + 12(마지막 인덱스) 를 2로 나누면 6.5번이다\n",
    "##    요소가 홀수개면 중앙값을 얻는것이 쉽지만, \n",
    "##    (정렬이 되어 있을 때) 짝수개인 경우는 순번으로 나타낸 후 가운데 두개(15+16)를 더해서 2를 나눈다.\n",
    "\n",
    "## 🔸 1) numpy 함수 : np.median(c)\n",
    "print(c)\n",
    "np.median(c)"
   ]
  },
  {
   "cell_type": "code",
   "execution_count": 105,
   "id": "6c3c6fd5",
   "metadata": {},
   "outputs": [
    {
     "ename": "AttributeError",
     "evalue": "'numpy.ndarray' object has no attribute 'median'",
     "output_type": "error",
     "traceback": [
      "\u001b[1;31m---------------------------------------------------------------------------\u001b[0m",
      "\u001b[1;31mAttributeError\u001b[0m                            Traceback (most recent call last)",
      "\u001b[1;32m<ipython-input-105-a37ee98b9c07>\u001b[0m in \u001b[0;36m<module>\u001b[1;34m\u001b[0m\n\u001b[0;32m      1\u001b[0m \u001b[1;31m## arr.median()을 직접 호출할 수 없음.\u001b[0m\u001b[1;33m\u001b[0m\u001b[1;33m\u001b[0m\u001b[1;33m\u001b[0m\u001b[0m\n\u001b[1;32m----> 2\u001b[1;33m \u001b[0mc\u001b[0m\u001b[1;33m.\u001b[0m\u001b[0mmedian\u001b[0m\u001b[1;33m(\u001b[0m\u001b[1;33m)\u001b[0m\u001b[1;33m\u001b[0m\u001b[1;33m\u001b[0m\u001b[0m\n\u001b[0m",
      "\u001b[1;31mAttributeError\u001b[0m: 'numpy.ndarray' object has no attribute 'median'"
     ]
    }
   ],
   "source": [
    "## 🔸 2) arr.median()을 직접 호출할 수 없음.\n",
    "## AttributeError: 'numpy.ndarray' object has no attribute 'median'\n",
    "c.median()"
   ]
  },
  {
   "cell_type": "code",
   "execution_count": 107,
   "id": "a847e5b0",
   "metadata": {},
   "outputs": [
    {
     "name": "stdout",
     "output_type": "stream",
     "text": [
      "[[1 2 3]\n",
      " [4 5 6]\n",
      " [7 8 9]]\n"
     ]
    },
    {
     "data": {
      "text/plain": [
       "5.0"
      ]
     },
     "execution_count": 107,
     "metadata": {},
     "output_type": "execute_result"
    }
   ],
   "source": [
    "## 🔸 a 를 가지고(9개) 중앙값을 구하면 원본에 있는 숫자로 잡힌다.\n",
    "\n",
    "print(a)\n",
    "np.median(a)"
   ]
  },
  {
   "cell_type": "code",
   "execution_count": 112,
   "id": "a90a4829",
   "metadata": {},
   "outputs": [
    {
     "name": "stdout",
     "output_type": "stream",
     "text": [
      "[[1 2 3]\n",
      " [4 5 6]\n",
      " [7 8 9]]\n",
      "[2. 5. 8.]\n",
      "[[10 11 12 13]\n",
      " [14 15 16 17]\n",
      " [18 19 20 21]]\n",
      "[11.5 15.5 19.5]\n"
     ]
    }
   ],
   "source": [
    "# 🔴 중앙값 - 가로축 기준\n",
    "\n",
    "print(a)\n",
    "print(np.median(a, axis=1))\n",
    "\n",
    "print(c)\n",
    "print(np.median(c, axis=1))"
   ]
  },
  {
   "cell_type": "code",
   "execution_count": 113,
   "id": "55650e74",
   "metadata": {},
   "outputs": [
    {
     "name": "stdout",
     "output_type": "stream",
     "text": [
      "[[1 2 3]\n",
      " [4 5 6]\n",
      " [7 8 9]]\n",
      "[4. 5. 6.]\n",
      "[[10 11 12 13]\n",
      " [14 15 16 17]\n",
      " [18 19 20 21]]\n",
      "[14. 15. 16. 17.]\n"
     ]
    }
   ],
   "source": [
    "# 🔴 중앙값 - 세로축 기준\n",
    "\n",
    "print(a)\n",
    "print(np.median(a, axis=0))\n",
    "\n",
    "print(c)\n",
    "print(np.median(c, axis=0))"
   ]
  },
  {
   "cell_type": "code",
   "execution_count": null,
   "id": "51c59cb9",
   "metadata": {},
   "outputs": [],
   "source": [
    "# 🔴 상관계수 : 두 데이터간의 상관관계(양/음의 상관관계)  💛중요💛\n",
    "\n",
    "## 🔸 numpy 함수 : np.corrcoef(arr1, arr2)"
   ]
  },
  {
   "cell_type": "code",
   "execution_count": 114,
   "id": "d9699115",
   "metadata": {},
   "outputs": [],
   "source": [
    "### * 사용할 데이터 세팅\n",
    "\n",
    "x = np.array([163, 175, 181, 155, 157, 167, 178, 170])\n",
    "y = np.array([52, 70, 69, 48, 43, 70, 81, 75])"
   ]
  },
  {
   "cell_type": "code",
   "execution_count": 115,
   "id": "7ba98611",
   "metadata": {},
   "outputs": [
    {
     "name": "stdout",
     "output_type": "stream",
     "text": [
      "[163 175 181 155 157 167 178 170]\n",
      "[52 70 69 48 43 70 81 75]\n"
     ]
    }
   ],
   "source": [
    "print(x)\n",
    "print(y)"
   ]
  },
  {
   "cell_type": "code",
   "execution_count": 117,
   "id": "00af9964",
   "metadata": {},
   "outputs": [
    {
     "data": {
      "text/plain": [
       "array([[1., 1.],\n",
       "       [1., 1.]])"
      ]
     },
     "execution_count": 117,
     "metadata": {},
     "output_type": "execute_result"
    }
   ],
   "source": [
    "### * 자기 자신을 대상으로 한 상관관계\n",
    "\n",
    "np.corrcoef(x, x)"
   ]
  },
  {
   "cell_type": "code",
   "execution_count": 119,
   "id": "c3b594c0",
   "metadata": {},
   "outputs": [
    {
     "name": "stdout",
     "output_type": "stream",
     "text": [
      "[163 175 181 155 157 167 178 170]\n",
      "[52 70 69 48 43 70 81 75]\n",
      "----\n"
     ]
    },
    {
     "data": {
      "text/plain": [
       "array([[1.        , 0.85607253],\n",
       "       [0.85607253, 1.        ]])"
      ]
     },
     "execution_count": 119,
     "metadata": {},
     "output_type": "execute_result"
    }
   ],
   "source": [
    "### * 서로 다른 배열의 상관관계 matrix\n",
    "\n",
    "#### 결과 : 대칭형 매트릭스 (대각선을 경계로 상위, 하위 삼각형 중 하나만 해석해도 된다.)\n",
    "####      : 오른쪽 아래로 향하는 대각선은 자기 자신과의 상관관계(항상 1)\n",
    "\n",
    "print(x)\n",
    "print(y)\n",
    "print(\"----\")\n",
    "np.corrcoef(x, y)"
   ]
  },
  {
   "cell_type": "markdown",
   "id": "86903b02",
   "metadata": {},
   "source": [
    "- 위의 결과 해석하기\n",
    "\n",
    "    - 강한 상관관계가 있음\n",
    "    \n",
    "    \n",
    "    - 0.3 미만  : 관계 없음\n",
    "    - 0.3 ~ 0.7 : 관계 있음\n",
    "    - 0.8 ~     : 강한 상관관계\n",
    "    \n",
    "    \n",
    "    - 키가 1 정도 올라가면 체중은 0.85 정도 올라가는 경향"
   ]
  },
  {
   "cell_type": "code",
   "execution_count": 120,
   "id": "4cbf5e54",
   "metadata": {},
   "outputs": [],
   "source": [
    "### * numpy에서는 3개 요소를 상관관계로 구할 수 없다.\n",
    "\n",
    "#### 상관 관계는 원래 2개 요소 간의 관계만 구할 수 있다.\n",
    "\n",
    "z = np.array([0.3, 0.5, 0.6, 0.8, 1.3])"
   ]
  },
  {
   "cell_type": "code",
   "execution_count": 122,
   "id": "92bcc6ca",
   "metadata": {
    "collapsed": true
   },
   "outputs": [
    {
     "ename": "ValueError",
     "evalue": "The truth value of an array with more than one element is ambiguous. Use a.any() or a.all()",
     "output_type": "error",
     "traceback": [
      "\u001b[1;31m---------------------------------------------------------------------------\u001b[0m",
      "\u001b[1;31mValueError\u001b[0m                                Traceback (most recent call last)",
      "\u001b[1;32m<ipython-input-122-8e19a19b179b>\u001b[0m in \u001b[0;36m<module>\u001b[1;34m\u001b[0m\n\u001b[1;32m----> 1\u001b[1;33m \u001b[0mnp\u001b[0m\u001b[1;33m.\u001b[0m\u001b[0mcorrcoef\u001b[0m\u001b[1;33m(\u001b[0m\u001b[0mx\u001b[0m\u001b[1;33m,\u001b[0m \u001b[0my\u001b[0m\u001b[1;33m,\u001b[0m \u001b[0mz\u001b[0m\u001b[1;33m)\u001b[0m\u001b[1;33m\u001b[0m\u001b[1;33m\u001b[0m\u001b[0m\n\u001b[0m",
      "\u001b[1;32m<__array_function__ internals>\u001b[0m in \u001b[0;36mcorrcoef\u001b[1;34m(*args, **kwargs)\u001b[0m\n",
      "\u001b[1;32mC:\\ProgramData\\Anaconda3\\lib\\site-packages\\numpy\\lib\\function_base.py\u001b[0m in \u001b[0;36mcorrcoef\u001b[1;34m(x, y, rowvar, bias, ddof, dtype)\u001b[0m\n\u001b[0;32m   2632\u001b[0m         warnings.warn('bias and ddof have no effect and are deprecated',\n\u001b[0;32m   2633\u001b[0m                       DeprecationWarning, stacklevel=3)\n\u001b[1;32m-> 2634\u001b[1;33m     \u001b[0mc\u001b[0m \u001b[1;33m=\u001b[0m \u001b[0mcov\u001b[0m\u001b[1;33m(\u001b[0m\u001b[0mx\u001b[0m\u001b[1;33m,\u001b[0m \u001b[0my\u001b[0m\u001b[1;33m,\u001b[0m \u001b[0mrowvar\u001b[0m\u001b[1;33m,\u001b[0m \u001b[0mdtype\u001b[0m\u001b[1;33m=\u001b[0m\u001b[0mdtype\u001b[0m\u001b[1;33m)\u001b[0m\u001b[1;33m\u001b[0m\u001b[1;33m\u001b[0m\u001b[0m\n\u001b[0m\u001b[0;32m   2635\u001b[0m     \u001b[1;32mtry\u001b[0m\u001b[1;33m:\u001b[0m\u001b[1;33m\u001b[0m\u001b[1;33m\u001b[0m\u001b[0m\n\u001b[0;32m   2636\u001b[0m         \u001b[0md\u001b[0m \u001b[1;33m=\u001b[0m \u001b[0mdiag\u001b[0m\u001b[1;33m(\u001b[0m\u001b[0mc\u001b[0m\u001b[1;33m)\u001b[0m\u001b[1;33m\u001b[0m\u001b[1;33m\u001b[0m\u001b[0m\n",
      "\u001b[1;32m<__array_function__ internals>\u001b[0m in \u001b[0;36mcov\u001b[1;34m(*args, **kwargs)\u001b[0m\n",
      "\u001b[1;32mC:\\ProgramData\\Anaconda3\\lib\\site-packages\\numpy\\lib\\function_base.py\u001b[0m in \u001b[0;36mcov\u001b[1;34m(m, y, rowvar, bias, ddof, fweights, aweights, dtype)\u001b[0m\n\u001b[0;32m   2418\u001b[0m \u001b[1;33m\u001b[0m\u001b[0m\n\u001b[0;32m   2419\u001b[0m     \u001b[0mX\u001b[0m \u001b[1;33m=\u001b[0m \u001b[0marray\u001b[0m\u001b[1;33m(\u001b[0m\u001b[0mm\u001b[0m\u001b[1;33m,\u001b[0m \u001b[0mndmin\u001b[0m\u001b[1;33m=\u001b[0m\u001b[1;36m2\u001b[0m\u001b[1;33m,\u001b[0m \u001b[0mdtype\u001b[0m\u001b[1;33m=\u001b[0m\u001b[0mdtype\u001b[0m\u001b[1;33m)\u001b[0m\u001b[1;33m\u001b[0m\u001b[1;33m\u001b[0m\u001b[0m\n\u001b[1;32m-> 2420\u001b[1;33m     \u001b[1;32mif\u001b[0m \u001b[1;32mnot\u001b[0m \u001b[0mrowvar\u001b[0m \u001b[1;32mand\u001b[0m \u001b[0mX\u001b[0m\u001b[1;33m.\u001b[0m\u001b[0mshape\u001b[0m\u001b[1;33m[\u001b[0m\u001b[1;36m0\u001b[0m\u001b[1;33m]\u001b[0m \u001b[1;33m!=\u001b[0m \u001b[1;36m1\u001b[0m\u001b[1;33m:\u001b[0m\u001b[1;33m\u001b[0m\u001b[1;33m\u001b[0m\u001b[0m\n\u001b[0m\u001b[0;32m   2421\u001b[0m         \u001b[0mX\u001b[0m \u001b[1;33m=\u001b[0m \u001b[0mX\u001b[0m\u001b[1;33m.\u001b[0m\u001b[0mT\u001b[0m\u001b[1;33m\u001b[0m\u001b[1;33m\u001b[0m\u001b[0m\n\u001b[0;32m   2422\u001b[0m     \u001b[1;32mif\u001b[0m \u001b[0mX\u001b[0m\u001b[1;33m.\u001b[0m\u001b[0mshape\u001b[0m\u001b[1;33m[\u001b[0m\u001b[1;36m0\u001b[0m\u001b[1;33m]\u001b[0m \u001b[1;33m==\u001b[0m \u001b[1;36m0\u001b[0m\u001b[1;33m:\u001b[0m\u001b[1;33m\u001b[0m\u001b[1;33m\u001b[0m\u001b[0m\n",
      "\u001b[1;31mValueError\u001b[0m: The truth value of an array with more than one element is ambiguous. Use a.any() or a.all()"
     ]
    }
   ],
   "source": [
    "np.corrcoef(x, y, z)\n",
    "\n",
    "## ValueError: The truth value of an array with more than one element is ambiguous. Use a.any() or a.all()"
   ]
  },
  {
   "cell_type": "code",
   "execution_count": 123,
   "id": "4d79c445",
   "metadata": {},
   "outputs": [
    {
     "data": {
      "text/plain": [
       "array([[1, 2, 3],\n",
       "       [4, 5, 6],\n",
       "       [7, 8, 9]])"
      ]
     },
     "execution_count": 123,
     "metadata": {},
     "output_type": "execute_result"
    }
   ],
   "source": [
    "# 🔴 표준편차 - 전체 데이터 기준\n",
    "\n",
    "## 🔸 1) 배열 타입 메서드 : arr.std()\n",
    "## 🔸 2) numpy 함수 : np.std(arr)\n",
    "\n",
    "a"
   ]
  },
  {
   "cell_type": "code",
   "execution_count": 124,
   "id": "d55a20e4",
   "metadata": {},
   "outputs": [
    {
     "data": {
      "text/plain": [
       "2.581988897471611"
      ]
     },
     "execution_count": 124,
     "metadata": {},
     "output_type": "execute_result"
    }
   ],
   "source": [
    "a.std()\n",
    "\n",
    "## 2.5 ~ 7.5의 데이터가 나올 확률이 대충 70%"
   ]
  },
  {
   "cell_type": "markdown",
   "id": "e03ff5e3",
   "metadata": {},
   "source": [
    "#### (참고) 데이터가 퍼져있는 정도를 나타내는 개념\n",
    "\n",
    "1. 편차(std/sd) : 단위에 대한 보정이 들어가 있지 않아서 상대적인 비교가 어려움\n",
    "2. 변동계수(cv) : 편차 / 평균\n",
    "    - 두 개 이상의 변수(서로 다른 단위를 사용하는 경우)에 대해 데이터가 퍼져있는 정도를 파악하는 경우"
   ]
  },
  {
   "cell_type": "code",
   "execution_count": 126,
   "id": "2f0dc9d0",
   "metadata": {},
   "outputs": [
    {
     "name": "stdout",
     "output_type": "stream",
     "text": [
      "\n",
      "    type : <class 'numpy.ndarray'>\n",
      "    shape : (3, 3)\n",
      "    ndim : 2\n",
      "    dtype : int32\n",
      "    array data : \n",
      " [[1 2 3]\n",
      " [4 5 6]\n",
      " [7 8 9]]\n"
     ]
    }
   ],
   "source": [
    "# 🔴 a 데이터 생성\n",
    "\n",
    "a = np.array([[1, 2, 3], [4, 5, 6], [7, 8, 9]])\n",
    "\n",
    "# 🔸 결과는 위와 같은데 다른 코드 => a = np.arange(1,10).reshape(3,3)\n",
    "np_print(a)"
   ]
  },
  {
   "cell_type": "code",
   "execution_count": 128,
   "id": "ebfc90e8",
   "metadata": {},
   "outputs": [
    {
     "name": "stdout",
     "output_type": "stream",
     "text": [
      "[[1 2 3]\n",
      " [4 5 6]\n",
      " [7 8 9]]\n"
     ]
    },
    {
     "data": {
      "text/plain": [
       "array([0.81649658, 0.81649658, 0.81649658])"
      ]
     },
     "execution_count": 128,
     "metadata": {},
     "output_type": "execute_result"
    }
   ],
   "source": [
    "# 🔸 표준 편차 row기준(가로줄)\n",
    "\n",
    "print(a)\n",
    "a.std(axis=1)\n",
    "\n",
    "## 표준편차는 평균과는 상관없이 평균과 얼마나 떨어져있는지를 구하는 것"
   ]
  },
  {
   "cell_type": "code",
   "execution_count": 129,
   "id": "e4395a92",
   "metadata": {},
   "outputs": [
    {
     "name": "stdout",
     "output_type": "stream",
     "text": [
      "[[1 2 3]\n",
      " [4 5 6]\n",
      " [7 8 9]]\n"
     ]
    },
    {
     "data": {
      "text/plain": [
       "array([2.44948974, 2.44948974, 2.44948974])"
      ]
     },
     "execution_count": 129,
     "metadata": {},
     "output_type": "execute_result"
    }
   ],
   "source": [
    "# 🔸 표준 편차 columns 기준(세로줄)\n",
    "\n",
    "print(a)\n",
    "a.std(axis=0)"
   ]
  },
  {
   "cell_type": "code",
   "execution_count": 130,
   "id": "5621b526",
   "metadata": {},
   "outputs": [
    {
     "data": {
      "text/plain": [
       "array([1, 2, 3, 4, 5, 6, 7, 8, 9])"
      ]
     },
     "execution_count": 130,
     "metadata": {},
     "output_type": "execute_result"
    }
   ],
   "source": [
    "# 🔴 고유값 : 전체 값에 적용\n",
    "\n",
    "## 🔸 numpy 함수 : np.unique(arr)\n",
    "\n",
    "np.unique(a)"
   ]
  },
  {
   "cell_type": "code",
   "execution_count": 131,
   "id": "3db429b8",
   "metadata": {},
   "outputs": [
    {
     "data": {
      "text/plain": [
       "array([1, 2, 3, 4, 5, 6, 7])"
      ]
     },
     "execution_count": 131,
     "metadata": {},
     "output_type": "execute_result"
    }
   ],
   "source": [
    "d = np.array([1, 1, 1, 1, 2, 2, 3, 3, 3, 4, 5, 6, 6, 7])\n",
    "np.unique(d)"
   ]
  },
  {
   "cell_type": "code",
   "execution_count": 132,
   "id": "7c64403c",
   "metadata": {},
   "outputs": [],
   "source": [
    "# 🔴 난수 패턴 고정\n",
    "\n",
    "np.random.seed(1000)"
   ]
  },
  {
   "cell_type": "code",
   "execution_count": 140,
   "id": "857e55b9",
   "metadata": {},
   "outputs": [
    {
     "name": "stdout",
     "output_type": "stream",
     "text": [
      "\n",
      "    type : <class 'numpy.ndarray'>\n",
      "    shape : (3, 3)\n",
      "    ndim : 2\n",
      "    dtype : int32\n",
      "    array data : \n",
      " [[0 3 2]\n",
      " [1 2 1]\n",
      " [3 2 3]]\n"
     ]
    }
   ],
   "source": [
    "# 🔴 0이상 3 이하의 정수 값을 가지는 3행 3열 배열 생성\n",
    "## hint : randint를 쓰세요\n",
    "\n",
    "d = np.random.randint(0, 4, (3,3))\n",
    "np_print(d)"
   ]
  },
  {
   "cell_type": "code",
   "execution_count": 141,
   "id": "6cfce9b0",
   "metadata": {},
   "outputs": [
    {
     "data": {
      "text/plain": [
       "array([0, 1, 2, 3])"
      ]
     },
     "execution_count": 141,
     "metadata": {},
     "output_type": "execute_result"
    }
   ],
   "source": [
    "## 🔸 d에 유니크를 걸면?\n",
    "\n",
    "np.unique(d)"
   ]
  },
  {
   "cell_type": "code",
   "execution_count": 143,
   "id": "4e83d345",
   "metadata": {},
   "outputs": [
    {
     "name": "stdout",
     "output_type": "stream",
     "text": [
      "[[0 3 2]\n",
      " [1 2 1]\n",
      " [3 2 3]]\n",
      "[[0 2 3]\n",
      " [1 1 2]\n",
      " [3 3 2]]\n"
     ]
    }
   ],
   "source": [
    "# 🔸 고유값 - 가로축\n",
    "\n",
    "print(d)\n",
    "print(np.unique(d, axis=1))\n",
    "\n",
    "## 가로에서 [0, 3, 2]를 고유한 하나로 보는 것\n",
    "## 만약 [0, 3, 2] [0, 3, 2] [0, 1, 1] => [0, 3, 2], [0, 1, 1]만 남는 것"
   ]
  },
  {
   "cell_type": "code",
   "execution_count": 144,
   "id": "3e9175ca",
   "metadata": {},
   "outputs": [
    {
     "name": "stdout",
     "output_type": "stream",
     "text": [
      "[[0 3 2]\n",
      " [1 2 1]\n",
      " [3 2 3]]\n",
      "[[0 3 2]\n",
      " [1 2 1]\n",
      " [3 2 3]]\n"
     ]
    }
   ],
   "source": [
    "# 🔸 고유값 - 세로축\n",
    "\n",
    "print(d)\n",
    "print(np.unique(d, axis=0))"
   ]
  },
  {
   "cell_type": "code",
   "execution_count": 145,
   "id": "2e9fe2bc",
   "metadata": {},
   "outputs": [
    {
     "name": "stdout",
     "output_type": "stream",
     "text": [
      "[[1 1 1]\n",
      " [1 1 0]\n",
      " [1 1 0]]\n"
     ]
    }
   ],
   "source": [
    "## 🔸 범위 줄여서 다시 하나 만들어 봄\n",
    "\n",
    "e = np.random.randint(0, 2, (3,3))\n",
    "print(e)"
   ]
  },
  {
   "cell_type": "code",
   "execution_count": 148,
   "id": "b4e3d504",
   "metadata": {},
   "outputs": [
    {
     "name": "stdout",
     "output_type": "stream",
     "text": [
      "[[1 1 1]\n",
      " [1 1 0]\n",
      " [1 1 0]]\n",
      "--------------\n",
      "[[1 1]\n",
      " [0 1]\n",
      " [0 1]]\n",
      "--------------\n",
      "[[1 1 0]\n",
      " [1 1 1]]\n"
     ]
    }
   ],
   "source": [
    "print(e)\n",
    "print(\"--------------\")\n",
    "print(np.unique(e, axis=1))\n",
    "print(\"--------------\")\n",
    "print(np.unique(e, axis=0))"
   ]
  },
  {
   "cell_type": "markdown",
   "id": "264ea88c",
   "metadata": {},
   "source": [
    " "
   ]
  },
  {
   "cell_type": "markdown",
   "id": "f27dbb01",
   "metadata": {},
   "source": [
    "### 브로드캐스팅(BroadCasting)\n",
    "\n",
    "- 서로 다른 구조(shape)를 가진 배열에 대해 연산을 수행할 때 구조를 맞추는 과정\n",
    "    - 구조가 다를 때도 가능하지만, 몇 가지 규칙 하에서만 가능\n",
    "    \n",
    "    \n",
    "- 배열과 스칼라값 간의 연산\n",
    "    - 스칼라값 : 일반 숫자 하나\n",
    "    \n",
    "    \n",
    "- 배열과 배열 간의 연산\n",
    "\n",
    "\n",
    "- 브로드캐스팅 규칙 : 축의 길이가 일치하거나 둘 중 하나의 길이가 1인 두 배열에 대해 호환성을 가짐\n"
   ]
  },
  {
   "cell_type": "markdown",
   "id": "7941002f",
   "metadata": {},
   "source": [
    "<img src='img/broadcast.png' width='600' height='400' align='left'>"
   ]
  },
  {
   "cell_type": "markdown",
   "id": "10170513",
   "metadata": {},
   "source": [
    "- 1. 변의 길이가 일치하는 경우\n",
    "\n",
    "\n",
    "- 2. 한쪽 변이 일치하고, 나머지 한 쪽 변이 1이면 밑으로 복사해줌\n",
    "    - (4,3) + (1,3) => (4,3) + (4,3)\n",
    "\n",
    "\n",
    "- 3. 서로 길이가 1인 변이 다른 경우는, 양쪽 모두를 늘려서 같은 크기로 만든다.\n",
    "    - (4,1) + (1,3) => (4,3) + (4,3)\n"
   ]
  },
  {
   "cell_type": "code",
   "execution_count": 149,
   "id": "3cac9969",
   "metadata": {},
   "outputs": [
    {
     "name": "stdout",
     "output_type": "stream",
     "text": [
      "\n",
      "    type : <class 'numpy.ndarray'>\n",
      "    shape : (3, 3)\n",
      "    ndim : 2\n",
      "    dtype : int32\n",
      "    array data : \n",
      " [[1 2 3]\n",
      " [4 5 6]\n",
      " [7 8 9]]\n",
      "\n",
      "    type : <class 'numpy.ndarray'>\n",
      "    shape : (3, 3)\n",
      "    ndim : 2\n",
      "    dtype : int32\n",
      "    array data : \n",
      " [[ 4  5  6]\n",
      " [ 7  8  9]\n",
      " [10 11 12]]\n"
     ]
    }
   ],
   "source": [
    "# 🔴 사용할 배열 객체 다시 확인\n",
    "\n",
    "np_print(a)\n",
    "np_print(b)"
   ]
  },
  {
   "cell_type": "code",
   "execution_count": 151,
   "id": "f1a926df",
   "metadata": {},
   "outputs": [
    {
     "data": {
      "text/plain": [
       "array([[ 5,  7,  9],\n",
       "       [11, 13, 15],\n",
       "       [17, 19, 21]])"
      ]
     },
     "execution_count": 151,
     "metadata": {},
     "output_type": "execute_result"
    }
   ],
   "source": [
    "## 🔸 양 변의 길이가 일치하는 경우\n",
    "\n",
    "a + b"
   ]
  },
  {
   "cell_type": "markdown",
   "id": "0fd778e3",
   "metadata": {},
   "source": [
    " "
   ]
  },
  {
   "cell_type": "markdown",
   "id": "1c4657ac",
   "metadata": {},
   "source": [
    "#### 1. 배열과 값 (single value, scala)\n",
    "\n",
    "- 스칼라 값을 배열의 구조와 동일한 배열로 변형하여 연산 수행"
   ]
  },
  {
   "cell_type": "code",
   "execution_count": 154,
   "id": "0c3857c6",
   "metadata": {},
   "outputs": [
    {
     "name": "stdout",
     "output_type": "stream",
     "text": [
      "[[1 2 3]\n",
      " [4 5 6]\n",
      " [7 8 9]]\n",
      "[[11 12 13]\n",
      " [14 15 16]\n",
      " [17 18 19]]\n"
     ]
    }
   ],
   "source": [
    "# 🔴 구조가 다른 배열간의 연산\n",
    "\n",
    "## a 배열의 모든 요소에 각각 10씩 더하기\n",
    "## 스칼라값 = 단일 값\n",
    "\n",
    "print(a)\n",
    "print(a + 10)\n",
    "\n",
    "## 원래는 다른 자료형간의 더하기는 안되는데 얘는 됨"
   ]
  },
  {
   "cell_type": "code",
   "execution_count": 155,
   "id": "b5f89dcc",
   "metadata": {},
   "outputs": [
    {
     "name": "stdout",
     "output_type": "stream",
     "text": [
      "\n",
      "    type : <class 'numpy.ndarray'>\n",
      "    shape : (3, 3)\n",
      "    ndim : 2\n",
      "    dtype : int32\n",
      "    array data : \n",
      " [[10 10 10]\n",
      " [10 10 10]\n",
      " [10 10 10]]\n"
     ]
    }
   ],
   "source": [
    "# 🔴 스칼라 -> 배열 변형\n",
    "## 3행 3열 구조에 모든 요소가 10인 배열 요소 생성\n",
    "\n",
    "### a가 3x3 형태인데, 나중에 형태가 몇*몇이 올지 모르니 배열 자체를 넣어 크기를 자동으로 구하게 처리\n",
    "### 그냥 3x3으로 고정하고 싶다면 scalar_arr = np.full_like((3,3), 10)으로 만들면 됨\n",
    "\n",
    "scalar_arr = np.full_like(a, 10)\n",
    "np_print(scalar_arr)"
   ]
  },
  {
   "cell_type": "code",
   "execution_count": 156,
   "id": "871d35b6",
   "metadata": {},
   "outputs": [
    {
     "data": {
      "text/plain": [
       "array([[11, 12, 13],\n",
       "       [14, 15, 16],\n",
       "       [17, 18, 19]])"
      ]
     },
     "execution_count": 156,
     "metadata": {},
     "output_type": "execute_result"
    }
   ],
   "source": [
    "# 🔴 스칼라값을 직접 더하나 or 해당 숫자가 들어간 배열을 만들어 더하나 차이가 없음\n",
    "\n",
    "a + scalar_arr"
   ]
  },
  {
   "cell_type": "markdown",
   "id": "21252f10",
   "metadata": {},
   "source": [
    " "
   ]
  },
  {
   "cell_type": "markdown",
   "id": "812995da",
   "metadata": {},
   "source": [
    "#### 2. 서로 다른 구조의 배열\n",
    "\n",
    "- 행, 열의 최대 길이를 기준으로 구조를 생성한 배열로 변형하여 연산 수행\n",
    "- 확장된 행, 열에 대해서 기존 배열과 동일한 데이터로 구성\n",
    "\n",
    "\n",
    "\n",
    "- 조건 : 한 쪽이 1이어야함"
   ]
  },
  {
   "cell_type": "code",
   "execution_count": 161,
   "id": "e940e92d",
   "metadata": {},
   "outputs": [
    {
     "name": "stdout",
     "output_type": "stream",
     "text": [
      "[[1 2 3 4]]\n",
      "[[1]\n",
      " [2]\n",
      " [3]\n",
      " [4]]\n"
     ]
    }
   ],
   "source": [
    "# 🔴 1행 4열의 구조에서 1, 2, 3, 4를 값으로 가지는 배열 x 생성\n",
    "\n",
    "x = np.array([1, 2, 3, 4]).reshape(1,4)\n",
    "## arange사용 : np.arange(1, 5).reshape(1,4)\n",
    "print(x)\n",
    "\n",
    "# 🔴 4행 1열의 구조에서 1, 2, 3, 4를 값으로 가지는 배열 y 생성\n",
    "\n",
    "y = np.array([1, 2, 3, 4]).reshape(4, 1)\n",
    "## arange사용 : np.arange(1, 5).reshape(4,1)\n",
    "print(y)"
   ]
  },
  {
   "cell_type": "code",
   "execution_count": 162,
   "id": "abde3110",
   "metadata": {},
   "outputs": [
    {
     "name": "stdout",
     "output_type": "stream",
     "text": [
      "[[1 2 3 4]\n",
      " [1 2 3 4]]\n"
     ]
    }
   ],
   "source": [
    "# 🔴 배열 x를 동일한 값으로 4행으로 확장한 새로운 배열 생성\n",
    "\n",
    "## 🔸 행 방향으로 배열 추가하기(세로길이 증가) 메서드 : np.append(arr1, arr2, axis=0) 💛 \n",
    "\n",
    "new_x = np.append(x, x, axis=0)\n",
    "print(new_x)"
   ]
  },
  {
   "cell_type": "code",
   "execution_count": 163,
   "id": "d10b0d6e",
   "metadata": {},
   "outputs": [
    {
     "name": "stdout",
     "output_type": "stream",
     "text": [
      "[[1 2 3 4]\n",
      " [1 2 3 4]\n",
      " [1 2 3 4]\n",
      " [1 2 3 4]]\n"
     ]
    }
   ],
   "source": [
    "## 🔸 new_x로 네 줄로 만들기\n",
    "\n",
    "new_x = np.append(new_x, new_x, axis=0)\n",
    "print(new_x)"
   ]
  },
  {
   "cell_type": "code",
   "execution_count": 164,
   "id": "9a3e3bce",
   "metadata": {},
   "outputs": [
    {
     "name": "stdout",
     "output_type": "stream",
     "text": [
      "[[1 1]\n",
      " [2 2]\n",
      " [3 3]\n",
      " [4 4]]\n"
     ]
    }
   ],
   "source": [
    "# 🔴 배열 y를 이용해서 4*4 형태로 만들기\n",
    "\n",
    "new_y = np.append(y, y, axis=1)\n",
    "print(new_y)"
   ]
  },
  {
   "cell_type": "code",
   "execution_count": 165,
   "id": "8ae857f0",
   "metadata": {},
   "outputs": [
    {
     "name": "stdout",
     "output_type": "stream",
     "text": [
      "[[1 1 1 1]\n",
      " [2 2 2 2]\n",
      " [3 3 3 3]\n",
      " [4 4 4 4]]\n"
     ]
    }
   ],
   "source": [
    "new_y = np.append(new_y, new_y, axis=1)\n",
    "print(new_y)"
   ]
  },
  {
   "cell_type": "code",
   "execution_count": 170,
   "id": "ab811462",
   "metadata": {},
   "outputs": [
    {
     "name": "stdout",
     "output_type": "stream",
     "text": [
      "[[1 2 3 4]]\n",
      "----------\n",
      "[[1]\n",
      " [2]\n",
      " [3]\n",
      " [4]]\n",
      "----------\n",
      "[[1 2 3 4]\n",
      " [1 2 3 4]\n",
      " [1 2 3 4]\n",
      " [1 2 3 4]]\n",
      "----------\n",
      "[[1 1 1 1]\n",
      " [2 2 2 2]\n",
      " [3 3 3 3]\n",
      " [4 4 4 4]]\n"
     ]
    }
   ],
   "source": [
    "## 체크체크\n",
    "\n",
    "print(x)\n",
    "print(\"----------\")\n",
    "print(y)\n",
    "print(\"----------\")\n",
    "print(new_x)\n",
    "print(\"----------\")\n",
    "print(new_y)"
   ]
  },
  {
   "cell_type": "code",
   "execution_count": 168,
   "id": "5f97e676",
   "metadata": {},
   "outputs": [
    {
     "data": {
      "text/plain": [
       "array([[2, 3, 4, 5],\n",
       "       [3, 4, 5, 6],\n",
       "       [4, 5, 6, 7],\n",
       "       [5, 6, 7, 8]])"
      ]
     },
     "execution_count": 168,
     "metadata": {},
     "output_type": "execute_result"
    }
   ],
   "source": [
    "# 🔴 1행 4열 배열과 4행 1열 배열의 브로드캐스팅 연산(그냥 두 개 더하기)\n",
    "x + y"
   ]
  },
  {
   "cell_type": "code",
   "execution_count": 169,
   "id": "215c2a4a",
   "metadata": {},
   "outputs": [
    {
     "data": {
      "text/plain": [
       "array([[2, 3, 4, 5],\n",
       "       [3, 4, 5, 6],\n",
       "       [4, 5, 6, 7],\n",
       "       [5, 6, 7, 8]])"
      ]
     },
     "execution_count": 169,
     "metadata": {},
     "output_type": "execute_result"
    }
   ],
   "source": [
    "# 🔴 노가다로 만든 것을 더해보기 (append를 사용하는 경우가 빈번함)\n",
    "\n",
    "new_x + new_y"
   ]
  },
  {
   "cell_type": "markdown",
   "id": "8925b417",
   "metadata": {},
   "source": [
    " "
   ]
  },
  {
   "cell_type": "markdown",
   "id": "4a6511d0",
   "metadata": {},
   "source": [
    "### 벡터 연산\n",
    "\n",
    "- 요소들에 대한 연산을 벡터 연산을 처리하면, 일반적인 for반복문으로 연산 작업을 처리하는 것보다 월등히 뛰어난 처리 속도로 효율적인 작업 가능"
   ]
  },
  {
   "cell_type": "code",
   "execution_count": 176,
   "id": "d56b8b50",
   "metadata": {},
   "outputs": [
    {
     "name": "stdout",
     "output_type": "stream",
     "text": [
      "\n",
      "    type : <class 'numpy.ndarray'>\n",
      "    shape : (100000000,)\n",
      "    ndim : 1\n",
      "    dtype : int32\n",
      "    array data : \n",
      " [       0        1        2 ... 99999997 99999998 99999999]\n",
      "None\n",
      "100000000\n"
     ]
    }
   ],
   "source": [
    "# 🔴 0부터 시작해서 100000000개 요소를 가진 배열 생성\n",
    "\n",
    "z = np.arange(100000000)\n",
    "print(np_print(z))\n",
    "print(z.size)"
   ]
  },
  {
   "cell_type": "markdown",
   "id": "d7bdfb0d",
   "metadata": {},
   "source": [
    " "
   ]
  },
  {
   "cell_type": "markdown",
   "id": "822d63b5",
   "metadata": {},
   "source": [
    "- 💛 해당 셀을 수행하는데 얼마나 걸리는지 확인해주는 time 명령어"
   ]
  },
  {
   "cell_type": "code",
   "execution_count": 180,
   "id": "834a0ff0",
   "metadata": {
    "scrolled": true
   },
   "outputs": [
    {
     "name": "stderr",
     "output_type": "stream",
     "text": [
      "<timed exec>:8: RuntimeWarning: overflow encountered in long_scalars\n"
     ]
    },
    {
     "name": "stdout",
     "output_type": "stream",
     "text": [
      "887459712\n",
      "Wall time: 20 s\n"
     ]
    }
   ],
   "source": [
    "%%time\n",
    "\n",
    "# 해당 셀을 완전히 수행하는데 소요된 시간을 표시해주는 주피터노트북 명령어\n",
    "# 셀의 가장 상단에 위치해야함(주석 포함해서도 가장 상단에 위치해야 함)\n",
    "# 반복문을 통한 합계 (x변수에 저장한 넘파이 배열 자료 총합 구하기)\n",
    "# 시간 단위 : 1s = 1,00ms(밀리 세컨드) = 1,000,000us(마이크로세컨드)\n",
    "\n",
    "loop_result = 0\n",
    "for i in z :\n",
    "    loop_result += i\n",
    "print(loop_result)    "
   ]
  },
  {
   "cell_type": "code",
   "execution_count": 181,
   "id": "572654b9",
   "metadata": {},
   "outputs": [
    {
     "name": "stdout",
     "output_type": "stream",
     "text": [
      "Wall time: 39 ms\n"
     ]
    },
    {
     "data": {
      "text/plain": [
       "887459712"
      ]
     },
     "execution_count": 181,
     "metadata": {},
     "output_type": "execute_result"
    }
   ],
   "source": [
    "%%time\n",
    "\n",
    "# 넘파이 배열에서 해당 배열의 총합 .sum()을 통해 구해보세요\n",
    "\n",
    "z.sum()"
   ]
  }
 ],
 "metadata": {
  "kernelspec": {
   "display_name": "Python 3",
   "language": "python",
   "name": "python3"
  },
  "language_info": {
   "codemirror_mode": {
    "name": "ipython",
    "version": 3
   },
   "file_extension": ".py",
   "mimetype": "text/x-python",
   "name": "python",
   "nbconvert_exporter": "python",
   "pygments_lexer": "ipython3",
   "version": "3.8.8"
  }
 },
 "nbformat": 4,
 "nbformat_minor": 5
}
