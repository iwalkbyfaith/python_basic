{
 "cells": [
  {
   "cell_type": "code",
   "execution_count": 3,
   "id": "e2922653",
   "metadata": {},
   "outputs": [],
   "source": [
    "# 라이브러리 불러오기\n",
    "\n",
    "import numpy as np"
   ]
  },
  {
   "cell_type": "code",
   "execution_count": 4,
   "id": "0513b4e5",
   "metadata": {},
   "outputs": [],
   "source": [
    "# np_print\n",
    "\n",
    "def np_print(arr):\n",
    "    text = '''\n",
    "    type : %s\n",
    "    shape : %s\n",
    "    ndim : %s\n",
    "    dtype : %s\n",
    "    array data : \\n %s''' % (type(arr), arr.shape, arr.ndim, arr.dtype, arr)\n",
    "    print(text)"
   ]
  },
  {
   "cell_type": "markdown",
   "id": "4203c33a",
   "metadata": {},
   "source": [
    " "
   ]
  },
  {
   "cell_type": "markdown",
   "id": "666e6f64",
   "metadata": {},
   "source": [
    "# ⬛ 배열 정렬\n",
    "\n",
    "- sort(axis = -1) 메서드 : axis를 기준으로 요소를 오름차순 정렬\n",
    "    - 기본값(axis = -1) : 현재 배열의 마지막 axis\n",
    "    - axis = 0 : 열 단위 정렬\n",
    "    - axis = 1 : 행 단위 정렬\n",
    "    - 원본 객체에 정렬 결과가 반영됨\n",
    "    \n",
    "- np.sort(axis = -1) : axis를 기준으로 요소를 오름차순 정렬\n",
    "    - 기본값(axis = -1) : 현재 배열의 마지막 axis\n",
    "    - axis = 0 : 열 단위 정렬\n",
    "    - axis = 1 : 행 단위 정렬\n",
    "    - 정렬된 새로운 배열을 반환함\n",
    "    \n",
    "- np.argsort(arr) : 정렬 순서를 반환 💛 \n",
    "    - 기본값(axis = -1) : 현재 배열의 마지막 axis\n",
    "    - axis = 0 : 열 단위 정렬\n",
    "    - axis = 1 : 행 단위 정렬\n",
    "    - 인덱스번호'만' 준다."
   ]
  },
  {
   "cell_type": "code",
   "execution_count": 5,
   "id": "d8d61640",
   "metadata": {},
   "outputs": [
    {
     "name": "stdout",
     "output_type": "stream",
     "text": [
      "\n",
      "    type : <class 'numpy.ndarray'>\n",
      "    shape : (5,)\n",
      "    ndim : 1\n",
      "    dtype : int32\n",
      "    array data : \n",
      " [0 1 2 3 4]\n"
     ]
    }
   ],
   "source": [
    "# 🔴 1차원 배열 생성\n",
    "\n",
    "x = np.arange(0, 5)\n",
    "np_print(x)"
   ]
  },
  {
   "cell_type": "code",
   "execution_count": 6,
   "id": "269914b5",
   "metadata": {},
   "outputs": [
    {
     "data": {
      "text/plain": [
       "array([4, 3, 2, 1, 0])"
      ]
     },
     "execution_count": 6,
     "metadata": {},
     "output_type": "execute_result"
    }
   ],
   "source": [
    "# 🔴 기존 파이썬 문법으로 순번 뒤집기\n",
    "\n",
    "x[::-1]"
   ]
  },
  {
   "cell_type": "code",
   "execution_count": 7,
   "id": "17c5a525",
   "metadata": {},
   "outputs": [
    {
     "name": "stdout",
     "output_type": "stream",
     "text": [
      "\n",
      "    type : <class 'numpy.ndarray'>\n",
      "    shape : (5,)\n",
      "    ndim : 1\n",
      "    dtype : int32\n",
      "    array data : \n",
      " [8 8 1 4 6]\n"
     ]
    }
   ],
   "source": [
    "# 🔴 오름차순 정렬 테스트용 난수 배열 만들기\n",
    "\n",
    "# 0 이상 9이하 숫자 5개를 난수 생성으로 만들어서 찍어주세요\n",
    "\n",
    "a = np.random.randint(0, 10, 5)\n",
    "np_print(a)"
   ]
  },
  {
   "cell_type": "code",
   "execution_count": 8,
   "id": "cbcc1150",
   "metadata": {},
   "outputs": [
    {
     "name": "stdout",
     "output_type": "stream",
     "text": [
      "[1 4 6 8 8]\n",
      "[8 8 1 4 6]\n"
     ]
    }
   ],
   "source": [
    "# 🔴 오름차순 정렬 1) => np.sort(자료) : 원본 자료가 바뀌지는 않음\n",
    "\n",
    "print(np.sort(a))\n",
    "print(a)"
   ]
  },
  {
   "cell_type": "code",
   "execution_count": 9,
   "id": "173bc67c",
   "metadata": {},
   "outputs": [],
   "source": [
    "# 🔴 오름차순 정렬 2) 자료.sort() -> 원본자료가 바뀜\n",
    "a.sort()"
   ]
  },
  {
   "cell_type": "code",
   "execution_count": 10,
   "id": "cd9c8c91",
   "metadata": {},
   "outputs": [
    {
     "name": "stdout",
     "output_type": "stream",
     "text": [
      "[1 4 6 8 8]\n"
     ]
    }
   ],
   "source": [
    "print(a)"
   ]
  },
  {
   "cell_type": "code",
   "execution_count": 11,
   "id": "9e3a69c3",
   "metadata": {
    "scrolled": true
   },
   "outputs": [
    {
     "name": "stdout",
     "output_type": "stream",
     "text": [
      "\n",
      "    type : <class 'numpy.ndarray'>\n",
      "    shape : (5,)\n",
      "    ndim : 1\n",
      "    dtype : int32\n",
      "    array data : \n",
      " [5 7 8 6 9]\n"
     ]
    }
   ],
   "source": [
    "# 🔴 난수 생성\n",
    "\n",
    "b = np.random.randint(0, 10, 5)\n",
    "np_print(b)"
   ]
  },
  {
   "cell_type": "code",
   "execution_count": 12,
   "id": "c1513bfa",
   "metadata": {},
   "outputs": [
    {
     "data": {
      "text/plain": [
       "array([0, 3, 1, 2, 4], dtype=int64)"
      ]
     },
     "execution_count": 12,
     "metadata": {},
     "output_type": "execute_result"
    }
   ],
   "source": [
    "# 🔴 np.argsort(자료)는 내부의 아이템들을 오름차순 정렬하기 위해서는\n",
    "#     현재 몇 번 인덱스에 있는 자료를 어디에 배치해야 하는지 보여줌\n",
    "\n",
    "np.argsort(b)\n",
    "\n",
    "## 0 > 8\n",
    "## 1 > 1\n",
    "## 2 > 7\n",
    "## 3 > 3\n",
    "## 4 > 9\n",
    "\n",
    "## array([1, 3, 2, 0, 4], dtype=int64)\n",
    "## 1, 3, 7, 8, 9"
   ]
  },
  {
   "cell_type": "code",
   "execution_count": 13,
   "id": "7118c9b5",
   "metadata": {},
   "outputs": [],
   "source": [
    "# 🔴 0이상 1미만의 범위에서 무작위로 실수값을 가지는 3행 3열의 배열 2개 생성\n",
    "\n",
    "a = np.random.random((3,3))\n",
    "b = np.random.random((3,3))\n",
    "\n",
    "## 혹은 np.random.random(9).reshape(3,3)"
   ]
  },
  {
   "cell_type": "code",
   "execution_count": 14,
   "id": "568e9110",
   "metadata": {},
   "outputs": [
    {
     "name": "stdout",
     "output_type": "stream",
     "text": [
      "[[0.30508701 0.01491793 0.37683066]\n",
      " [0.83125634 0.93629603 0.61567669]\n",
      " [0.98612645 0.09059088 0.13094195]]\n",
      "[[0.58888224 0.6475997  0.59896852]\n",
      " [0.65660719 0.90149767 0.03600726]\n",
      " [0.86866931 0.29983833 0.98666861]]\n"
     ]
    }
   ],
   "source": [
    "print(a)\n",
    "print(b)"
   ]
  },
  {
   "cell_type": "markdown",
   "id": "0f1c9748",
   "metadata": {},
   "source": [
    "##### 예) 2차원 배열의 경우\n",
    "\n",
    "- 기본값 axis = -1\n",
    "- 현재 배열의 axis = 0, 1\n",
    "- 마지막 axis = 1 (열 별 정렬)\n",
    "\n",
    "<img src='img/sortaxis1.jpg' width='200' height='200' align='left'>"
   ]
  },
  {
   "cell_type": "code",
   "execution_count": 15,
   "id": "9a371578",
   "metadata": {},
   "outputs": [
    {
     "name": "stdout",
     "output_type": "stream",
     "text": [
      "\n",
      "    type : <class 'numpy.ndarray'>\n",
      "    shape : (3, 3)\n",
      "    ndim : 2\n",
      "    dtype : float64\n",
      "    array data : \n",
      " [[0.30508701 0.01491793 0.37683066]\n",
      " [0.83125634 0.93629603 0.61567669]\n",
      " [0.98612645 0.09059088 0.13094195]]\n"
     ]
    },
    {
     "data": {
      "text/plain": [
       "array([[0.01491793, 0.30508701, 0.37683066],\n",
       "       [0.61567669, 0.83125634, 0.93629603],\n",
       "       [0.09059088, 0.13094195, 0.98612645]])"
      ]
     },
     "execution_count": 15,
     "metadata": {},
     "output_type": "execute_result"
    }
   ],
   "source": [
    "# 🔴 기본 방향 (axis = -1) => 행별 정렬\n",
    "\n",
    "np_print(a)\n",
    "np.sort(a)\n",
    "\n",
    "## 아홉개가 전체적으로 되는 것이 아니라 ----> 오른쪽 방향으로 한 줄 한줄씩 세 줄이 정렬이 되는 것"
   ]
  },
  {
   "cell_type": "markdown",
   "id": "8db69820",
   "metadata": {},
   "source": [
    "##### axis = 0 (병렬 정렬)\n",
    "\n",
    "<img src='img/sortaxis0.jpg' width='200' height='200' align='left'>"
   ]
  },
  {
   "cell_type": "code",
   "execution_count": 16,
   "id": "35b26b28",
   "metadata": {},
   "outputs": [
    {
     "name": "stdout",
     "output_type": "stream",
     "text": [
      "\n",
      "    type : <class 'numpy.ndarray'>\n",
      "    shape : (3, 3)\n",
      "    ndim : 2\n",
      "    dtype : float64\n",
      "    array data : \n",
      " [[0.30508701 0.01491793 0.37683066]\n",
      " [0.83125634 0.93629603 0.61567669]\n",
      " [0.98612645 0.09059088 0.13094195]]\n"
     ]
    },
    {
     "data": {
      "text/plain": [
       "array([[0.30508701, 0.01491793, 0.13094195],\n",
       "       [0.83125634, 0.09059088, 0.37683066],\n",
       "       [0.98612645, 0.93629603, 0.61567669]])"
      ]
     },
     "execution_count": 16,
     "metadata": {},
     "output_type": "execute_result"
    }
   ],
   "source": [
    "# 🔴 기본 방향 (axis = 0) => 열별 정렬\n",
    "\n",
    "np_print(a)\n",
    "np.sort(a, axis=0)"
   ]
  },
  {
   "cell_type": "markdown",
   "id": "cac7bdb9",
   "metadata": {},
   "source": [
    "    "
   ]
  },
  {
   "cell_type": "markdown",
   "id": "4cf8b4d5",
   "metadata": {},
   "source": [
    "# ⬛ 인덱싱(Indexing), 슬라이싱(Slicing)\n",
    "\n",
    "## 1. 인덱싱 : 하나의 요소에 대해 참조\n",
    "- 각 차원에 따라 배열이 참조하는 인덱스의 개수가 다름\n",
    "    - 1차원 배열 : 인덱스 1개\n",
    "    - 2차원 배열 : 인덱스 2개\n",
    "    - 3차원 배열 : 인덱스 3개\n",
    "\n",
    "- 인덱싱으로 참조한 요소에 대해 수정 가능\n",
    "\n",
    "- 인덱스 배열을 전달하여 여러 개의 요소 참조"
   ]
  },
  {
   "cell_type": "code",
   "execution_count": 17,
   "id": "61c06652",
   "metadata": {},
   "outputs": [
    {
     "name": "stdout",
     "output_type": "stream",
     "text": [
      "\n",
      "    type : <class 'numpy.ndarray'>\n",
      "    shape : (24,)\n",
      "    ndim : 1\n",
      "    dtype : int32\n",
      "    array data : \n",
      " [ 0  1  2  3  4  5  6  7  8  9 10 11 12 13 14 15 16 17 18 19 20 21 22 23]\n"
     ]
    }
   ],
   "source": [
    "# 🔴 0 ~ 23 구간으로 1씩 증가하는 값을 아이템으로 가지는 1차원 배열을 생성하세요\n",
    "\n",
    "arr1 = np.arange(0, 24)\n",
    "np_print(arr1)"
   ]
  },
  {
   "cell_type": "code",
   "execution_count": 18,
   "id": "d523776e",
   "metadata": {},
   "outputs": [
    {
     "data": {
      "text/plain": [
       "1"
      ]
     },
     "execution_count": 18,
     "metadata": {},
     "output_type": "execute_result"
    }
   ],
   "source": [
    "# 🔸 1차원 배열 인덱싱 : 1차원 인덱스 요소 접근\n",
    "\n",
    "arr1[1]"
   ]
  },
  {
   "cell_type": "code",
   "execution_count": 19,
   "id": "aeda7093",
   "metadata": {},
   "outputs": [
    {
     "data": {
      "text/plain": [
       "23"
      ]
     },
     "execution_count": 19,
     "metadata": {},
     "output_type": "execute_result"
    }
   ],
   "source": [
    "# 🔸 1차원 배열 인덱싱 : 마지막 요소 접근\n",
    "\n",
    "arr1[-1]"
   ]
  },
  {
   "cell_type": "code",
   "execution_count": 20,
   "id": "c4a9a115",
   "metadata": {},
   "outputs": [
    {
     "name": "stdout",
     "output_type": "stream",
     "text": [
      "[  0   1   2   3   4   5   6   7   8   9  10  11  12  13  14  15  16  17\n",
      "  18  19  20  21  22 100]\n"
     ]
    }
   ],
   "source": [
    "# 🔸 1차원 배열 인덱싱을 통한 값 수정\n",
    "\n",
    "arr1[-1] = 100\n",
    "print(arr1)"
   ]
  },
  {
   "cell_type": "code",
   "execution_count": 21,
   "id": "a05bead6",
   "metadata": {},
   "outputs": [
    {
     "name": "stdout",
     "output_type": "stream",
     "text": [
      "\n",
      "    type : <class 'numpy.ndarray'>\n",
      "    shape : (4, 6)\n",
      "    ndim : 2\n",
      "    dtype : int32\n",
      "    array data : \n",
      " [[  0   1   2   3   4   5]\n",
      " [  6   7   8   9  10  11]\n",
      " [ 12  13  14  15  16  17]\n",
      " [ 18  19  20  21  22 100]]\n"
     ]
    }
   ],
   "source": [
    "# 🔴 배열 arr1을 이용해 4 * 6 형태의 2차원 배열 arr2 만들기\n",
    "\n",
    "arr2 = arr1.reshape(4,6)\n",
    "np_print(arr2)"
   ]
  },
  {
   "cell_type": "code",
   "execution_count": 22,
   "id": "0d354edd",
   "metadata": {},
   "outputs": [
    {
     "name": "stdout",
     "output_type": "stream",
     "text": [
      "[0 1 2 3 4 5]\n"
     ]
    }
   ],
   "source": [
    "# 🔸 2차원 배열 인덱싱 : 2차원배열[행인덱스, (열인덱스)]\n",
    "\n",
    "## 💛 파이썬에서는 안되지만 numpy에서는 됨\n",
    "\n",
    "## * 하나의 행에 접근 : 1행\n",
    "print(arr2[0])"
   ]
  },
  {
   "cell_type": "code",
   "execution_count": 23,
   "id": "355d7038",
   "metadata": {},
   "outputs": [
    {
     "data": {
      "text/plain": [
       "array([ 0,  6, 12, 18])"
      ]
     },
     "execution_count": 23,
     "metadata": {},
     "output_type": "execute_result"
    }
   ],
   "source": [
    "## * 하나의 열에 접근 : 모든 행에 대해서 하나의 열에 접근\n",
    "### 반환값 : 1d array\n",
    "### 행은 전체범위, 열은 0번째\n",
    "\n",
    "arr2[:, 0]"
   ]
  },
  {
   "cell_type": "code",
   "execution_count": 24,
   "id": "a9686961",
   "metadata": {},
   "outputs": [
    {
     "name": "stdout",
     "output_type": "stream",
     "text": [
      "[[  0   1   2   3   4   5]\n",
      " [  6   7   8   9  10  11]\n",
      " [ 12  13  14  15  16  17]\n",
      " [ 18  19  20  21  22 100]]\n",
      "14\n"
     ]
    }
   ],
   "source": [
    "## * 하나의 값에 접근\n",
    "### 3행 3열에 접근(0번쨰부터 세서 3행)\n",
    "\n",
    "print(arr2)\n",
    "print(arr2[2,2])"
   ]
  },
  {
   "cell_type": "code",
   "execution_count": 25,
   "id": "33f41839",
   "metadata": {},
   "outputs": [
    {
     "name": "stdout",
     "output_type": "stream",
     "text": [
      "[[  0   1   2   3   4   5]\n",
      " [  6   7   8   9  10  11]\n",
      " [ 12  13  14  15  16  17]\n",
      " [ 18  19  20  21  22 100]]\n",
      "--------------------------\n",
      "[[  0   1   2   3   4   5]\n",
      " [ 18  19  20  21  22 100]]\n"
     ]
    }
   ],
   "source": [
    "# 🔸 여러개의 행 조회 (2차원 배열로 조회)\n",
    "\n",
    "## 0번째, 3번째 행이 출력됨\n",
    "\n",
    "print(arr2)\n",
    "print(\"--------------------------\")\n",
    "print(arr2[[0,3]])"
   ]
  },
  {
   "cell_type": "code",
   "execution_count": 26,
   "id": "f5a909d6",
   "metadata": {},
   "outputs": [
    {
     "name": "stdout",
     "output_type": "stream",
     "text": [
      "[[  0   1   2   3   4   5]\n",
      " [  6   7   8   9  10  11]\n",
      " [ 12  13  14  15  16  17]\n",
      " [ 18  19  20  21  22 100]]\n",
      "[[ 0  2]\n",
      " [ 6  8]\n",
      " [12 14]\n",
      " [18 20]]\n"
     ]
    }
   ],
   "source": [
    "# 🔸 여러개의 열 조회(모든 행)\n",
    "\n",
    "print(arr2)\n",
    "print(arr2[:,[0,2]])\n",
    "\n",
    "## 행은 다 잡고, 그 중에서 0, 2번째 열만 조회"
   ]
  },
  {
   "cell_type": "code",
   "execution_count": 27,
   "id": "9251526d",
   "metadata": {},
   "outputs": [
    {
     "name": "stdout",
     "output_type": "stream",
     "text": [
      "[[  0   1   2   3   4   5]\n",
      " [  6   7   8   9  10  11]\n",
      " [ 12  13  14  15  16  17]\n",
      " [ 18  19  20  21  22 100]]\n",
      "[[0 2]\n",
      " [6 8]]\n"
     ]
    }
   ],
   "source": [
    "# 🔸 여러개의 열 조회 (특정 행)\n",
    "\n",
    "print(arr2)\n",
    "print(arr2[0:2,[0,2]])"
   ]
  },
  {
   "cell_type": "code",
   "execution_count": 28,
   "id": "62f5a8a4",
   "metadata": {},
   "outputs": [
    {
     "data": {
      "text/plain": [
       "array([[  0,   1,   2,   3,   4,   5],\n",
       "       [  6,   7,   8,   9,  10,  11],\n",
       "       [  9,   9,   9,   9,   9,   9],\n",
       "       [ 18,  19,  20,  21,  22, 100]])"
      ]
     },
     "execution_count": 28,
     "metadata": {},
     "output_type": "execute_result"
    }
   ],
   "source": [
    "# 🔸 2차원 배열 인덱싱을 통한 값 수정\n",
    "\n",
    "## 하나의 행/열에 대해 모두 동일한 값으로 수정 : 전달하려는 값을 스칼라값으로 전달\n",
    "## 서로 다른 값으로 수정 : 배열 요소 개수에 맞춰서 전달\n",
    "\n",
    "## * 하나의 값을 수정하는 예시 (모두 바뀌어 버림)\n",
    "arr2[2] = 9\n",
    "arr2"
   ]
  },
  {
   "cell_type": "code",
   "execution_count": 29,
   "id": "1400ffe7",
   "metadata": {},
   "outputs": [
    {
     "data": {
      "text/plain": [
       "array([[  0,   1,   2,   3,   4,   5],\n",
       "       [  9,   9,   9,  99,  99,  99],\n",
       "       [  9,   9,   9,   9,   9,   9],\n",
       "       [ 18,  19,  20,  21,  22, 100]])"
      ]
     },
     "execution_count": 29,
     "metadata": {},
     "output_type": "execute_result"
    }
   ],
   "source": [
    "## * 단일 값이 아닌 여러 값을 대입하고 싶다면? => 같은 길이의 배열을 넣으면 된다.\n",
    "\n",
    "arr2[1] = [9, 9, 9, 99, 99, 99]\n",
    "arr2"
   ]
  },
  {
   "cell_type": "markdown",
   "id": "9e2aecad",
   "metadata": {},
   "source": [
    "    "
   ]
  },
  {
   "cell_type": "code",
   "execution_count": 30,
   "id": "619036a1",
   "metadata": {},
   "outputs": [
    {
     "name": "stdout",
     "output_type": "stream",
     "text": [
      "\n",
      "    type : <class 'numpy.ndarray'>\n",
      "    shape : (2, 4, 3)\n",
      "    ndim : 3\n",
      "    dtype : int32\n",
      "    array data : \n",
      " [[[ 0  1  2]\n",
      "  [ 3  4  5]\n",
      "  [ 6  7  8]\n",
      "  [ 9 10 11]]\n",
      "\n",
      " [[12 13 14]\n",
      "  [15 16 17]\n",
      "  [18 19 20]\n",
      "  [21 22 23]]]\n"
     ]
    }
   ],
   "source": [
    "# 🔴 3차원 배열 생성\n",
    "\n",
    "## 구조 : 2개의 층(면), 4행 3열\n",
    "\n",
    "## np.arange() => 0 ~ 23까지 24개를 집어넣고, 3차원으로 재조정해보세요\n",
    "\n",
    "arr3 = np.arange(24).reshape((2, 4, 3))\n",
    "\n",
    "np_print(arr3)"
   ]
  },
  {
   "cell_type": "code",
   "execution_count": 31,
   "id": "3f07fcd3",
   "metadata": {},
   "outputs": [
    {
     "data": {
      "text/plain": [
       "array([[ 0,  1,  2],\n",
       "       [ 3,  4,  5],\n",
       "       [ 6,  7,  8],\n",
       "       [ 9, 10, 11]])"
      ]
     },
     "execution_count": 31,
     "metadata": {},
     "output_type": "execute_result"
    }
   ],
   "source": [
    "# 🔸 3차원 배열 인덱싱 : arr[면, 행, 열]\n",
    "\n",
    "## ◾ 0번째 면(페이지)에 접근\n",
    "arr3[0]"
   ]
  },
  {
   "cell_type": "code",
   "execution_count": 32,
   "id": "eafc17cf",
   "metadata": {},
   "outputs": [
    {
     "data": {
      "text/plain": [
       "array([3, 4, 5])"
      ]
     },
     "execution_count": 32,
     "metadata": {},
     "output_type": "execute_result"
    }
   ],
   "source": [
    "## ◾ 0번째 면, 첫 번째 행에 접근\n",
    "\n",
    "arr3[0,1]"
   ]
  },
  {
   "cell_type": "code",
   "execution_count": 33,
   "id": "6a1649da",
   "metadata": {},
   "outputs": [
    {
     "data": {
      "text/plain": [
       "20"
      ]
     },
     "execution_count": 33,
     "metadata": {},
     "output_type": "execute_result"
    }
   ],
   "source": [
    "## ◾ 1번째 면, 2번째 행, 2번 열에 접근\n",
    "\n",
    "arr3[1, 2, 2]"
   ]
  },
  {
   "cell_type": "code",
   "execution_count": 34,
   "id": "6fa3fb52",
   "metadata": {},
   "outputs": [
    {
     "name": "stdout",
     "output_type": "stream",
     "text": [
      "[[[ 0  1  2]\n",
      "  [ 3  4  5]\n",
      "  [ 6  7  8]\n",
      "  [ 9 10 11]]\n",
      "\n",
      " [[ 0  0  0]\n",
      "  [ 0  0  0]\n",
      "  [ 0  0  0]\n",
      "  [ 0  0  0]]]\n"
     ]
    }
   ],
   "source": [
    "# 🔸 3차원 배열 역시, 배열 인덱싱으로 값 수정이 가능합니다.\n",
    "\n",
    "## ◾ 스칼라값을 이용한 변경\n",
    "## arr3의 2번면(0번째부터 세면 1번째)을 0으로 일괄 수정해주세요\n",
    "\n",
    "arr3[1] = 0\n",
    "print(arr3)"
   ]
  },
  {
   "cell_type": "code",
   "execution_count": 35,
   "id": "29edd957",
   "metadata": {},
   "outputs": [
    {
     "name": "stdout",
     "output_type": "stream",
     "text": [
      "[[[ 0  1  2]\n",
      "  [ 3  4  5]\n",
      "  [ 6  7  8]\n",
      "  [ 9 10 11]]\n",
      "\n",
      " [[ 0  0  0]\n",
      "  [ 1  2  3]\n",
      "  [ 0  0  0]\n",
      "  [ 0  0  0]]]\n"
     ]
    }
   ],
   "source": [
    "## ◾ 하나의 면에 대해 서로 다른 값으로 수정 : 요소의 값을 같은 구조, 개수로 전달\n",
    "## [1, 1]의 값이 현재 0, 0, 0인데 각각 1, 2, 3으로 바꿔주세요\n",
    "\n",
    "arr3[1,1] = [1, 2, 3]\n",
    "print(arr3)"
   ]
  },
  {
   "cell_type": "code",
   "execution_count": 36,
   "id": "cd565d3b",
   "metadata": {},
   "outputs": [
    {
     "name": "stdout",
     "output_type": "stream",
     "text": [
      "[[[10 20 30]\n",
      "  [40 50 60]\n",
      "  [ 0  0  0]\n",
      "  [ 0  0  0]]\n",
      "\n",
      " [[ 0  0  0]\n",
      "  [ 1  2  3]\n",
      "  [ 0  0  0]\n",
      "  [ 0  0  0]]]\n"
     ]
    }
   ],
   "source": [
    "## ◾ 한 면을 통째로 바꾸고 싶다면 같은 크기의 2차원 배열을 대입해줍니다.\n",
    "\n",
    "arr3[0] = [[10, 20, 30],\n",
    "           [40, 50, 60],\n",
    "           [0, 0, 0],\n",
    "           [0, 0, 0]]\n",
    "\n",
    "print(arr3)"
   ]
  },
  {
   "cell_type": "code",
   "execution_count": 37,
   "id": "5ec36a24",
   "metadata": {},
   "outputs": [
    {
     "name": "stdout",
     "output_type": "stream",
     "text": [
      "[[10 20 30]\n",
      " [40 50 60]\n",
      " [ 0  0  0]\n",
      " [ 0  0  0]]\n",
      "------------------\n",
      "[[[10 20 30]\n",
      "  [40 50 60]\n",
      "  [ 0  0  0]]\n",
      "\n",
      " [[10 20 30]\n",
      "  [ 0  0  0]\n",
      "  [ 0  0  0]]]\n"
     ]
    }
   ],
   "source": [
    "## ◾ 여러개의 인덱싱을 배열로 전달\n",
    "\n",
    "## (행0, 열0), (행1, 열1), (행2, 열2)\n",
    "\n",
    "## 3차원 배열일 경우에 : [페이지, [[0, 1, 2], [0, 1, 2]]]\n",
    "## arr3[면, 행, 열] -> 만약 여러 단위를 조회할 때는 이중 리스트로 입력\n",
    "## 삼중 리스트 입력시 이중리스트 요소를 반복\n",
    "\n",
    "print(arr3[0])\n",
    "print(\"------------------\")\n",
    "print(arr3[0, [[0, 1 ,2], [0, 2, 3]]])\n",
    "\n",
    "## 해석 : 0번째 면을 가지고 오는데, 같은 범위를 두 번 지정한 (0, 1, 2)와 (0, 2, 3)의 조합으로 하나씩 보겠다\n",
    "## 하나의 면에 여러 번 지목할 수 있는 것. (3차원으로 넣어주어야 함)\n",
    "\n",
    "## 💛 2차원 배열 조회시 2차원으로, 3차원 배열 조회시 3차원으로 넣어주어야 함."
   ]
  },
  {
   "cell_type": "code",
   "execution_count": 39,
   "id": "c71cf76b",
   "metadata": {},
   "outputs": [
    {
     "data": {
      "text/plain": [
       "array([10, 50,  0])"
      ]
     },
     "execution_count": 39,
     "metadata": {},
     "output_type": "execute_result"
    }
   ],
   "source": [
    "# ◾ 내부 요소 인덱싱시 일반 리스트를 사용하는 경우\n",
    "\n",
    "## 줄 단위로 가져오는게 아니라 내부 요소 하나하나를 단위로 가져옴\n",
    "\n",
    "arr3[0, [0, 1, 2], [0, 1, 2]]\n",
    "\n",
    "### 0번째의 면에서 0번째의 0번째, 1번째의 1번째, 2번째의 2번째를 가져온다."
   ]
  },
  {
   "cell_type": "markdown",
   "id": "9ca94679",
   "metadata": {},
   "source": [
    "    "
   ]
  },
  {
   "cell_type": "markdown",
   "id": "1f760c3d",
   "metadata": {},
   "source": [
    "## 2. 슬라이싱 : 여러 개의 요소에 대해 참조\n",
    "\n",
    "- axis 별로 범위 지정\n",
    "    - from_index : 시작 인덱스(포함), 0일 경우 생략 가능\n",
    "    - to_index : 종료 인덱스(미포함), 마지막 인덱스일 경우 생략 가능\n",
    "    - step : 연속되지 않은 범위의 경우 간격 지정\n",
    "- 열만 조회하는 경우 : 전체 행에 슬라이싱으로 접근 후 특정 열을 조회"
   ]
  },
  {
   "cell_type": "code",
   "execution_count": 40,
   "id": "b5ac8917",
   "metadata": {},
   "outputs": [
    {
     "name": "stdout",
     "output_type": "stream",
     "text": [
      "\n",
      "    type : <class 'numpy.ndarray'>\n",
      "    shape : (24,)\n",
      "    ndim : 1\n",
      "    dtype : int32\n",
      "    array data : \n",
      " [ 0  1  2  3  4  5  6  7  8  9 10 11 12 13 14 15 16 17 18 19 20 21 22 23]\n"
     ]
    }
   ],
   "source": [
    "# 🔴 0부터 23까지 1씩 증가하는 정수값을 가지는 1차원 배열을 변수 a에 저장해서 조회해주세요\n",
    "\n",
    "a = np.arange(0, 24)\n",
    "np_print(a)"
   ]
  },
  {
   "cell_type": "code",
   "execution_count": 42,
   "id": "b38b398d",
   "metadata": {},
   "outputs": [
    {
     "data": {
      "text/plain": [
       "array([1, 2, 3, 4])"
      ]
     },
     "execution_count": 42,
     "metadata": {},
     "output_type": "execute_result"
    }
   ],
   "source": [
    "# 🔴 1차원 배열 슬라이싱 : 1번부터 4번까지 접근\n",
    "\n",
    "a[1:5]"
   ]
  },
  {
   "cell_type": "code",
   "execution_count": 47,
   "id": "f41fd7e3",
   "metadata": {},
   "outputs": [
    {
     "data": {
      "text/plain": [
       "array([ 1,  3,  5,  7,  9, 11, 13])"
      ]
     },
     "execution_count": 47,
     "metadata": {},
     "output_type": "execute_result"
    }
   ],
   "source": [
    "# 🔴 1번째 인덱스부터 14번째 인덱스까지 2씩 증가시키며 접근\n",
    "\n",
    "a[1:15:2]"
   ]
  },
  {
   "cell_type": "code",
   "execution_count": 53,
   "id": "2c5bcdb5",
   "metadata": {},
   "outputs": [
    {
     "name": "stdout",
     "output_type": "stream",
     "text": [
      "\n",
      "    type : <class 'numpy.ndarray'>\n",
      "    shape : (6, 4)\n",
      "    ndim : 2\n",
      "    dtype : int32\n",
      "    array data : \n",
      " [[ 0  1  2  3]\n",
      " [ 4  5  6  7]\n",
      " [ 8  9 10 11]\n",
      " [12 13 14 15]\n",
      " [16 17 18 19]\n",
      " [20 21 22 23]]\n"
     ]
    }
   ],
   "source": [
    "# 🔴 2차원 배열(6 * 4 )로 a의 형태를 바꿔 변수 b에 저장하고 화면에 찍기\n",
    "\n",
    "b = a.reshape(6,4)\n",
    "np_print(b)"
   ]
  },
  {
   "cell_type": "code",
   "execution_count": 58,
   "id": "67eb5bd0",
   "metadata": {},
   "outputs": [
    {
     "data": {
      "text/plain": [
       "array([[ 4,  5,  6,  7],\n",
       "       [ 8,  9, 10, 11],\n",
       "       [12, 13, 14, 15],\n",
       "       [16, 17, 18, 19]])"
      ]
     },
     "execution_count": 58,
     "metadata": {},
     "output_type": "execute_result"
    }
   ],
   "source": [
    "# 🔴 2차원 배열 슬라이싱 : 1행부터 4행까지 접근\n",
    "\n",
    "## 🔸 2d_array[행(:열:간격)]\n",
    "\n",
    "b[1:5]"
   ]
  },
  {
   "cell_type": "code",
   "execution_count": 59,
   "id": "981a9ce0",
   "metadata": {},
   "outputs": [
    {
     "data": {
      "text/plain": [
       "array([[ 6,  7],\n",
       "       [10, 11],\n",
       "       [14, 15],\n",
       "       [18, 19]])"
      ]
     },
     "execution_count": 59,
     "metadata": {},
     "output_type": "execute_result"
    }
   ],
   "source": [
    "## 🔸 1행부터 4행에 대해서 2열부터 3열까지 접근 (콤마로 구분 => 행범위, 열범위)\n",
    "\n",
    "b[1:5,2:4]"
   ]
  },
  {
   "cell_type": "code",
   "execution_count": 60,
   "id": "f87cccae",
   "metadata": {},
   "outputs": [
    {
     "data": {
      "text/plain": [
       "array([[ 6,  7],\n",
       "       [10, 11],\n",
       "       [14, 15],\n",
       "       [18, 19]])"
      ]
     },
     "execution_count": 60,
     "metadata": {},
     "output_type": "execute_result"
    }
   ],
   "source": [
    "# 🔴 2차원 배열 슬라이싱을 통한 값 수정\n",
    "\n",
    "## 🔸 1행부터 4행에 대해 2열부터 3열까지의 모든 배열에 대해서 수정\n",
    "\n",
    "s_arr = b[1:5, 2:]\n",
    "s_arr"
   ]
  },
  {
   "cell_type": "code",
   "execution_count": 64,
   "id": "30b6abcf",
   "metadata": {},
   "outputs": [
    {
     "name": "stdout",
     "output_type": "stream",
     "text": [
      "\n",
      "    type : <class 'numpy.ndarray'>\n",
      "    shape : (4, 2)\n",
      "    ndim : 2\n",
      "    dtype : int32\n",
      "    array data : \n",
      " [[ 6  7]\n",
      " [99 11]\n",
      " [99 15]\n",
      " [99 19]]\n"
     ]
    }
   ],
   "source": [
    "## 🔸 0번째 행과 마지막 열을 제외한 모든 값을 99로 수정\n",
    "\n",
    "s_arr[1:4, 0] = 99\n",
    "np_print(s_arr)"
   ]
  },
  {
   "cell_type": "code",
   "execution_count": 65,
   "id": "5beab7a0",
   "metadata": {},
   "outputs": [
    {
     "data": {
      "text/plain": [
       "array([[ 0,  1,  2,  3],\n",
       "       [ 4,  5,  6,  7],\n",
       "       [ 8,  9, 99, 11],\n",
       "       [12, 13, 99, 15],\n",
       "       [16, 17, 99, 19],\n",
       "       [20, 21, 22, 23]])"
      ]
     },
     "execution_count": 65,
     "metadata": {},
     "output_type": "execute_result"
    }
   ],
   "source": [
    "## 💛 (주의!) b를 활용한 s_arr의 값을 바꾸면 '얕은 복사'이기 때문에 b값(원본배열)까지 변한다.\n",
    "b"
   ]
  },
  {
   "cell_type": "code",
   "execution_count": 67,
   "id": "661da149",
   "metadata": {},
   "outputs": [
    {
     "data": {
      "text/plain": [
       "array([[ 0,  1,  2,  3],\n",
       "       [ 4,  5,  6,  7],\n",
       "       [ 8,  9, 99, 11],\n",
       "       [12, 13, 99, 15],\n",
       "       [16, 17, 99, 19],\n",
       "       [20, 21, 22, 23]])"
      ]
     },
     "execution_count": 67,
     "metadata": {},
     "output_type": "execute_result"
    }
   ],
   "source": [
    "# 🔴 2차원 배열 슬라이싱 : 연속되지 않은 범위의 열(컬럼)에 대한 인덱싱\n",
    "\n",
    "## 🔸 step1. 전체 행에 대해서 접근(콜론 : 만 써주면 됨)\n",
    "\n",
    "b[:]"
   ]
  },
  {
   "cell_type": "code",
   "execution_count": 68,
   "id": "d5824544",
   "metadata": {},
   "outputs": [
    {
     "data": {
      "text/plain": [
       "array([[ 1,  3],\n",
       "       [ 5,  7],\n",
       "       [ 9, 11],\n",
       "       [13, 15],\n",
       "       [17, 19],\n",
       "       [21, 23]])"
      ]
     },
     "execution_count": 68,
     "metadata": {},
     "output_type": "execute_result"
    }
   ],
   "source": [
    "## 🔸 step2. 여러개의 열 인덱싱 배열 전달(:, 내가 원하는 열에 대해 리스트 형식으로)\n",
    "\n",
    "## 🔸 b의 전체 행 + 1, 3번 열을 조회해주세요\n",
    "\n",
    "b[:, [1, 3]]"
   ]
  },
  {
   "cell_type": "markdown",
   "id": "31266885",
   "metadata": {},
   "source": [
    "### 연습문제\n",
    "\n",
    "아래 정보는 학생들의 학번, 영어 성적, 국어 성적, 수학 성적 정보 입니다. <br>\n",
    "해당 정보를 첫번째 행(row)에 학번, 두번째 행에 영어 성적, 세번째 행에 국어 성적, 네번째 행에 수학 성적을 저장한 배열로 만들고 학생별로 영어 성적을 오름차순 기준으로 각 열(column)을 정렬하세요.\n",
    "\n",
    "<img src='img/sort_q1.png' align='left'>"
   ]
  },
  {
   "cell_type": "code",
   "execution_count": 71,
   "id": "b353a8c1",
   "metadata": {},
   "outputs": [
    {
     "name": "stdout",
     "output_type": "stream",
     "text": [
      "[[ 1  2  3  4]\n",
      " [70 97 45 56]\n",
      " [87 84 33 67]\n",
      " [46 80 75 78]]\n"
     ]
    }
   ],
   "source": [
    "data = [[1, 2, 3, 4],\n",
    "        [70, 97, 45, 56],\n",
    "        [87, 84, 33, 67],\n",
    "        [46, 80, 75, 78]]\n",
    "\n",
    "arr = np.array(data)\n",
    "print(arr)"
   ]
  },
  {
   "cell_type": "code",
   "execution_count": 80,
   "id": "54b3688f",
   "metadata": {},
   "outputs": [],
   "source": [
    "# 영어 성적을 기준으로 오름차순 정렬"
   ]
  },
  {
   "cell_type": "code",
   "execution_count": null,
   "id": "156951b6",
   "metadata": {},
   "outputs": [],
   "source": [
    "# 영어 성적을 기준으로 오름차순 정렬 순위(argsort()기능 사용하기)"
   ]
  },
  {
   "cell_type": "code",
   "execution_count": 82,
   "id": "72245894",
   "metadata": {},
   "outputs": [
    {
     "data": {
      "text/plain": [
       "array([2, 3, 0, 1], dtype=int64)"
      ]
     },
     "execution_count": 82,
     "metadata": {},
     "output_type": "execute_result"
    }
   ],
   "source": [
    "np.argsort(arr[1])"
   ]
  },
  {
   "cell_type": "code",
   "execution_count": 83,
   "id": "04bbbd5a",
   "metadata": {},
   "outputs": [
    {
     "data": {
      "text/plain": [
       "array([[ 3,  4,  1,  2],\n",
       "       [45, 56, 70, 97],\n",
       "       [33, 67, 87, 84],\n",
       "       [75, 78, 46, 80]])"
      ]
     },
     "execution_count": 83,
     "metadata": {},
     "output_type": "execute_result"
    }
   ],
   "source": [
    "arr[:, [2, 3, 0, 1]]"
   ]
  },
  {
   "cell_type": "code",
   "execution_count": 84,
   "id": "e18898a5",
   "metadata": {},
   "outputs": [
    {
     "data": {
      "text/plain": [
       "array([[ 3,  4,  1,  2],\n",
       "       [45, 56, 70, 97],\n",
       "       [33, 67, 87, 84],\n",
       "       [75, 78, 46, 80]])"
      ]
     },
     "execution_count": 84,
     "metadata": {},
     "output_type": "execute_result"
    }
   ],
   "source": [
    "arr[:, np.argsort(arr[1])]"
   ]
  },
  {
   "cell_type": "code",
   "execution_count": null,
   "id": "b4ed7c89",
   "metadata": {},
   "outputs": [],
   "source": []
  },
  {
   "cell_type": "code",
   "execution_count": null,
   "id": "88a8e690",
   "metadata": {},
   "outputs": [],
   "source": []
  }
 ],
 "metadata": {
  "kernelspec": {
   "display_name": "Python 3",
   "language": "python",
   "name": "python3"
  },
  "language_info": {
   "codemirror_mode": {
    "name": "ipython",
    "version": 3
   },
   "file_extension": ".py",
   "mimetype": "text/x-python",
   "name": "python",
   "nbconvert_exporter": "python",
   "pygments_lexer": "ipython3",
   "version": "3.8.8"
  }
 },
 "nbformat": 4,
 "nbformat_minor": 5
}
