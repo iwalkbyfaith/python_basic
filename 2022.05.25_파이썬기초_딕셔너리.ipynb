{
 "cells": [
  {
   "cell_type": "markdown",
   "id": "da33a8d0",
   "metadata": {},
   "source": [
    "# 3. 딕셔너리(Dictionary) <br/>\n",
    "\n",
    "\n",
    "\n",
    "\n",
    "\n",
    "▶ 문법 기호/함수 : {key1 : value1, key2 : value2, key3 : value3 ... } / 함수 : dict()\n",
    "\n",
    "\n",
    "▶ key로 가질 수 있는 데이터 타입 : 문자, 숫자, 튜플(Tuple)\n",
    "\n",
    "▶ value로 가질 수 있는 데이터 타입 : 문자, 숫자, 리스트(List), 딕셔너리(Dict) ...\n",
    "\n",
    "▶ 아이템 = key&value 하나의 쌍\n",
    "\n",
    "▶ 종류\n",
    "\n",
    "     * 아이템이 없는 딕셔너리\n",
    "    \n",
    "     * 1차원 딕셔너리\n",
    "    \n",
    "     * 다차원 딕셔너리 (트리로 구현한다)\n",
    "    \n",
    "    \n",
    "▶ 특징\n",
    "\n",
    "     * key, value의 차이점\n",
    "    \n",
    "     * 인덱스 번호를 가지지 않는다."
   ]
  },
  {
   "cell_type": "code",
   "execution_count": null,
   "id": "327beeba",
   "metadata": {},
   "outputs": [],
   "source": [
    "# 특정한 단어를 검색하면 매칭되는 뜻을 보여주는 것이 사전\n",
    "\n",
    "# 키를 조회하면 매칭된 밸류를 보여줌"
   ]
  },
  {
   "cell_type": "markdown",
   "id": "047f5739",
   "metadata": {},
   "source": [
    "## 3.1 생성하기 "
   ]
  },
  {
   "cell_type": "code",
   "execution_count": 1,
   "id": "305478ef",
   "metadata": {},
   "outputs": [],
   "source": [
    "# 딕셔너리 생성하기"
   ]
  },
  {
   "cell_type": "code",
   "execution_count": 2,
   "id": "182b6827",
   "metadata": {},
   "outputs": [],
   "source": [
    "## 문법 기호 : {k1:v1, k2:v2, k3:v3 ...} or dict()"
   ]
  },
  {
   "cell_type": "code",
   "execution_count": 3,
   "id": "cc2c1de7",
   "metadata": {},
   "outputs": [
    {
     "data": {
      "text/plain": [
       "dict"
      ]
     },
     "execution_count": 3,
     "metadata": {},
     "output_type": "execute_result"
    }
   ],
   "source": [
    "d1 = {1:10, 2:20, 3:30}\n",
    "type(d1)"
   ]
  },
  {
   "cell_type": "code",
   "execution_count": 5,
   "id": "4142fe81",
   "metadata": {},
   "outputs": [
    {
     "data": {
      "text/plain": [
       "{1: 10, 2: 20, 3: 30}"
      ]
     },
     "execution_count": 5,
     "metadata": {},
     "output_type": "execute_result"
    }
   ],
   "source": [
    "d1"
   ]
  },
  {
   "cell_type": "code",
   "execution_count": 6,
   "id": "fbb841ae",
   "metadata": {},
   "outputs": [
    {
     "data": {
      "text/plain": [
       "{}"
      ]
     },
     "execution_count": 6,
     "metadata": {},
     "output_type": "execute_result"
    }
   ],
   "source": [
    "## 함수 dict()를 이용해서 딕셔너리를 만들 수도 있습니다.\n",
    "\n",
    "d2 = dict()\n",
    "d2"
   ]
  },
  {
   "cell_type": "code",
   "execution_count": 7,
   "id": "90aa7410",
   "metadata": {},
   "outputs": [
    {
     "data": {
      "text/plain": [
       "list"
      ]
     },
     "execution_count": 7,
     "metadata": {},
     "output_type": "execute_result"
    }
   ],
   "source": [
    "# 2차원 자료를 이용해 딕셔너리로 변환 가능\n",
    "\n",
    "x = [['a', 'b'], ['a1', 'b1'], ['a2', 'b2']]\n",
    "type(x)"
   ]
  },
  {
   "cell_type": "code",
   "execution_count": 8,
   "id": "1e642342",
   "metadata": {},
   "outputs": [
    {
     "data": {
      "text/plain": [
       "[['a', 'b'], ['a1', 'b1'], ['a2', 'b2']]"
      ]
     },
     "execution_count": 8,
     "metadata": {},
     "output_type": "execute_result"
    }
   ],
   "source": [
    "x"
   ]
  },
  {
   "cell_type": "code",
   "execution_count": 9,
   "id": "c8432cbf",
   "metadata": {},
   "outputs": [
    {
     "data": {
      "text/plain": [
       "{'a': 'b', 'a1': 'b1', 'a2': 'b2'}"
      ]
     },
     "execution_count": 9,
     "metadata": {},
     "output_type": "execute_result"
    }
   ],
   "source": [
    "## 2차원 배열 x를 딕셔너리로 변환\n",
    "\n",
    "dict(x)"
   ]
  },
  {
   "cell_type": "code",
   "execution_count": 11,
   "id": "adb5cdfe",
   "metadata": {},
   "outputs": [
    {
     "data": {
      "text/plain": [
       "{1: [1, 2, 3], 2: {'a': 'b'}}"
      ]
     },
     "execution_count": 11,
     "metadata": {},
     "output_type": "execute_result"
    }
   ],
   "source": [
    "# 딕셔너리의 value값에 들어갈 수 있는 자료에는 제약이 없다.\n",
    "\n",
    "{1:[1,2,3], 2:{'a' : 'b'}}\n",
    "\n",
    "## value에는 리스트도 되고, 딕셔너리 안에 딕셔너리를 넣을 수도 있음."
   ]
  },
  {
   "cell_type": "code",
   "execution_count": 12,
   "id": "e89b1df4",
   "metadata": {},
   "outputs": [
    {
     "data": {
      "text/plain": [
       "{'name': '임껌정', 'name2': '이순신'}"
      ]
     },
     "execution_count": 12,
     "metadata": {},
     "output_type": "execute_result"
    }
   ],
   "source": [
    "# key와 value의 차이\n",
    "\n",
    "## key값에는 중복된 자료가 들어갈 수 없으며, 만약 선언단계에서 중복된 key를 선언시 가장 마지막 하나만 남습니다.\n",
    "\n",
    "{'name' : '홍길동', 'name' : '임껌정', 'name2' : '이순신'}"
   ]
  },
  {
   "cell_type": "code",
   "execution_count": null,
   "id": "34f9b6b5",
   "metadata": {},
   "outputs": [],
   "source": [
    "# 키를 검색하면 value가 나옴 (자바에서의 맵과 같음)"
   ]
  },
  {
   "cell_type": "markdown",
   "id": "580a360a",
   "metadata": {},
   "source": [
    "## 3.2 딕셔너리 인덱싱\n",
    "\n",
    "\n",
    "* 3.2.1 인덱싱 문법 기호\n",
    "\n",
    "\n",
    "* 3.2.2 일차원 vs 다차원 인덱싱\n",
    "\n",
    "\n",
    "* 3.2.3 딕셔너리 내장 함수로 인덱싱"
   ]
  },
  {
   "cell_type": "code",
   "execution_count": 13,
   "id": "27370a6e",
   "metadata": {},
   "outputs": [
    {
     "data": {
      "text/plain": [
       "1"
      ]
     },
     "execution_count": 13,
     "metadata": {},
     "output_type": "execute_result"
    }
   ],
   "source": [
    "# 기존의 인덱싱 방법 : 객체[인덱싱번호]\n",
    "\n",
    "a = [1,2,3]\n",
    "a[0]"
   ]
  },
  {
   "cell_type": "code",
   "execution_count": 14,
   "id": "6c18a2d0",
   "metadata": {},
   "outputs": [],
   "source": [
    "# 문자, 리스트타입 인덱싱과의 차이점 : 기준값을 인덱스번호가 아닌 key값을 이용"
   ]
  },
  {
   "cell_type": "code",
   "execution_count": 15,
   "id": "1da18bdf",
   "metadata": {},
   "outputs": [],
   "source": [
    "d1 = {'a':10, 'b':20, 'c':30}"
   ]
  },
  {
   "cell_type": "code",
   "execution_count": 16,
   "id": "f7e4e26b",
   "metadata": {},
   "outputs": [
    {
     "ename": "KeyError",
     "evalue": "0",
     "output_type": "error",
     "traceback": [
      "\u001b[1;31m---------------------------------------------------------------------------\u001b[0m",
      "\u001b[1;31mKeyError\u001b[0m                                  Traceback (most recent call last)",
      "\u001b[1;32m<ipython-input-16-14908936bbdc>\u001b[0m in \u001b[0;36m<module>\u001b[1;34m\u001b[0m\n\u001b[0;32m      1\u001b[0m \u001b[1;31m# 인덱싱 방식 : 없는 값을 조회하면 에러\u001b[0m\u001b[1;33m\u001b[0m\u001b[1;33m\u001b[0m\u001b[1;33m\u001b[0m\u001b[0m\n\u001b[1;32m----> 2\u001b[1;33m \u001b[0md1\u001b[0m\u001b[1;33m[\u001b[0m\u001b[1;36m0\u001b[0m\u001b[1;33m]\u001b[0m\u001b[1;33m\u001b[0m\u001b[1;33m\u001b[0m\u001b[0m\n\u001b[0m",
      "\u001b[1;31mKeyError\u001b[0m: 0"
     ]
    }
   ],
   "source": [
    "# 인덱싱 방식 : 없는 값을 조회하면 에러  => KeyError: 0\n",
    "d1[0]"
   ]
  },
  {
   "cell_type": "code",
   "execution_count": 18,
   "id": "c4e304ec",
   "metadata": {},
   "outputs": [
    {
     "data": {
      "text/plain": [
       "10"
      ]
     },
     "execution_count": 18,
     "metadata": {},
     "output_type": "execute_result"
    }
   ],
   "source": [
    "d1['a']"
   ]
  },
  {
   "cell_type": "code",
   "execution_count": 19,
   "id": "8d0c47b5",
   "metadata": {},
   "outputs": [
    {
     "data": {
      "text/plain": [
       "10"
      ]
     },
     "execution_count": 19,
     "metadata": {},
     "output_type": "execute_result"
    }
   ],
   "source": [
    "# 내장함수 .get()을 사용하면 없는 키값으로 조회해도 에러는 나지 않는다.\n",
    "\n",
    "\n",
    "## 있는 데이터 조회\n",
    "d1.get('a')"
   ]
  },
  {
   "cell_type": "code",
   "execution_count": 20,
   "id": "c3efa2c1",
   "metadata": {},
   "outputs": [],
   "source": [
    "## 없는 것 .get()으로 조회 => 아무 일도 안 일어남\n",
    "\n",
    "d1.get('dd')"
   ]
  },
  {
   "cell_type": "code",
   "execution_count": 21,
   "id": "ea4afac5",
   "metadata": {},
   "outputs": [
    {
     "ename": "TypeError",
     "evalue": "unhashable type: 'slice'",
     "output_type": "error",
     "traceback": [
      "\u001b[1;31m---------------------------------------------------------------------------\u001b[0m",
      "\u001b[1;31mTypeError\u001b[0m                                 Traceback (most recent call last)",
      "\u001b[1;32m<ipython-input-21-7612dfbe02da>\u001b[0m in \u001b[0;36m<module>\u001b[1;34m\u001b[0m\n\u001b[0;32m      2\u001b[0m \u001b[1;31m# 슬라이싱 대신 반복문을 사용하는 수밖에 없다.\u001b[0m\u001b[1;33m\u001b[0m\u001b[1;33m\u001b[0m\u001b[1;33m\u001b[0m\u001b[0m\n\u001b[0;32m      3\u001b[0m \u001b[1;33m\u001b[0m\u001b[0m\n\u001b[1;32m----> 4\u001b[1;33m \u001b[0md1\u001b[0m\u001b[1;33m[\u001b[0m\u001b[1;34m'a'\u001b[0m\u001b[1;33m:\u001b[0m\u001b[1;34m'c'\u001b[0m\u001b[1;33m]\u001b[0m\u001b[1;33m\u001b[0m\u001b[1;33m\u001b[0m\u001b[0m\n\u001b[0m",
      "\u001b[1;31mTypeError\u001b[0m: unhashable type: 'slice'"
     ]
    }
   ],
   "source": [
    "# 딕셔너리는 순번이 없기 때문에 '슬라이싱' 자체가 안된다.  => TypeError: unhashable type: 'slice'\n",
    "# 슬라이싱 대신 반복문을 사용하는 수밖에 없다.\n",
    "\n",
    "d1['a':'c']"
   ]
  },
  {
   "cell_type": "markdown",
   "id": "f726aaf3",
   "metadata": {},
   "source": [
    "## <<연습문제>>\n",
    "\n",
    "아래와 같은 다차원 딕셔너리를 만들고 제시한 값을 출력해보세요."
   ]
  },
  {
   "cell_type": "code",
   "execution_count": 22,
   "id": "ce0ea21b",
   "metadata": {},
   "outputs": [
    {
     "data": {
      "text/plain": [
       "{'a': [1, 2, 3],\n",
       " 'b': 100,\n",
       " 'c': {'key1': ['파인애플', '포도', '바나나'], 'key2': (55, 66)}}"
      ]
     },
     "execution_count": 22,
     "metadata": {},
     "output_type": "execute_result"
    }
   ],
   "source": [
    "test = {'a' : [1,2,3], \n",
    "        'b' : 100, \n",
    "        'c' : {'key1' : ['파인애플', '포도', '바나나'], 'key2' : (55, 66)}\n",
    "       }\n",
    "\n",
    "test"
   ]
  },
  {
   "cell_type": "code",
   "execution_count": 48,
   "id": "66d140f4",
   "metadata": {},
   "outputs": [
    {
     "data": {
      "text/plain": [
       "3"
      ]
     },
     "execution_count": 48,
     "metadata": {},
     "output_type": "execute_result"
    }
   ],
   "source": [
    "# 1. 3출력\n",
    "\n",
    "test.get('a')[2]\n",
    "\n",
    "## test['a'][2]"
   ]
  },
  {
   "cell_type": "code",
   "execution_count": 49,
   "id": "1f9ec3ae",
   "metadata": {},
   "outputs": [
    {
     "data": {
      "text/plain": [
       "['파인애플', '포도', '바나나']"
      ]
     },
     "execution_count": 49,
     "metadata": {},
     "output_type": "execute_result"
    }
   ],
   "source": [
    "# 2. [파인애플포도바나나]\n",
    "\n",
    "test.get('c').get('key1')\n",
    "\n",
    "## test['c']['key1']"
   ]
  },
  {
   "cell_type": "code",
   "execution_count": 50,
   "id": "2d1ebf68",
   "metadata": {},
   "outputs": [
    {
     "data": {
      "text/plain": [
       "'포도'"
      ]
     },
     "execution_count": 50,
     "metadata": {},
     "output_type": "execute_result"
    }
   ],
   "source": [
    "#3. 포도 출력\n",
    "\n",
    "test.get('c').get('key1')[1]\n",
    "\n",
    "## test['c']['key1'][1]"
   ]
  },
  {
   "cell_type": "code",
   "execution_count": 51,
   "id": "22b7bc5b",
   "metadata": {},
   "outputs": [],
   "source": [
    "#4. 55 출력"
   ]
  },
  {
   "cell_type": "code",
   "execution_count": 33,
   "id": "fe08b7ea",
   "metadata": {},
   "outputs": [
    {
     "data": {
      "text/plain": [
       "55"
      ]
     },
     "execution_count": 33,
     "metadata": {},
     "output_type": "execute_result"
    }
   ],
   "source": [
    "test.get('c').get('key2')[0]\n",
    "\n",
    "## test['c']['key2'][0]"
   ]
  },
  {
   "cell_type": "markdown",
   "id": "e5fbfba6",
   "metadata": {},
   "source": [
    "## 3.3 아이템 추가하기\n",
    "\n",
    "- 인덱싱 방식으로 새로운 아이템 추가\n",
    "\n",
    "- 메소드 : update()"
   ]
  },
  {
   "cell_type": "code",
   "execution_count": 53,
   "id": "48e347c6",
   "metadata": {},
   "outputs": [
    {
     "data": {
      "text/plain": [
       "{'a': 1, 'b': 2, 'c': 3}"
      ]
     },
     "execution_count": 53,
     "metadata": {},
     "output_type": "execute_result"
    }
   ],
   "source": [
    "d1 = {'a':1, 'b':2, 'c':3}\n",
    "\n",
    "d1"
   ]
  },
  {
   "cell_type": "code",
   "execution_count": 54,
   "id": "401af4d5",
   "metadata": {},
   "outputs": [
    {
     "data": {
      "text/plain": [
       "{'a': 1, 'b': 2, 'c': 3, 'd': 4}"
      ]
     },
     "execution_count": 54,
     "metadata": {},
     "output_type": "execute_result"
    }
   ],
   "source": [
    "# 새로운 key값(인덱싱)에 value값을 할당하여 아이템 추가\n",
    "\n",
    "## 없는 키 값을 적고 값을 할당하면 딕셔너리에 추가가 됨\n",
    "\n",
    "d1['d'] = 4\n",
    "\n",
    "d1"
   ]
  },
  {
   "cell_type": "code",
   "execution_count": 55,
   "id": "f3bbdc33",
   "metadata": {},
   "outputs": [
    {
     "data": {
      "text/plain": [
       "{'a': 10, 'b': 2, 'c': 3, 'd': 4}"
      ]
     },
     "execution_count": 55,
     "metadata": {},
     "output_type": "execute_result"
    }
   ],
   "source": [
    "# 기존에 존재하는 key값에 대해서 value를 할당하면 값이 갱신됨\n",
    "\n",
    "d1['a'] = 10\n",
    "\n",
    "d1"
   ]
  },
  {
   "cell_type": "code",
   "execution_count": 56,
   "id": "9d29bc0b",
   "metadata": {},
   "outputs": [],
   "source": [
    "# 하나 이상의 아이템(key & value) 추가/수정 : 딕셔너리자료.update()  ==> list의 expend?와 비슷\n",
    "\n",
    "# 추가할 아이템 타입 : 딕셔너리, 리스트(2차원으로 내부 요소가 2개씩 쌍으로 있는 경우)\n",
    "\n",
    "# 'e' : 10, 'z' : 40, 'v' : 100"
   ]
  },
  {
   "cell_type": "code",
   "execution_count": 61,
   "id": "15bcfd09",
   "metadata": {},
   "outputs": [
    {
     "data": {
      "text/plain": [
       "{'a': 10, 'b': 2, 'c': 3, 'd': 4, 'e': 10, 'z': 40, 'v': 100}"
      ]
     },
     "execution_count": 61,
     "metadata": {},
     "output_type": "execute_result"
    }
   ],
   "source": [
    "d1.update({'e' : 10, 'z' : 40, 'v' : 100})\n",
    "    \n",
    "d1"
   ]
  },
  {
   "cell_type": "code",
   "execution_count": 62,
   "id": "ecd9e97b",
   "metadata": {},
   "outputs": [
    {
     "data": {
      "text/plain": [
       "{'a': 10, 'b': 2, 'c': 3, 'd': 4}"
      ]
     },
     "execution_count": 62,
     "metadata": {},
     "output_type": "execute_result"
    }
   ],
   "source": [
    "# 리스트로 처리하기\n",
    "\n",
    "d2 = {'a':10, 'b':2, 'c':3, 'd':4}\n",
    "d2"
   ]
  },
  {
   "cell_type": "code",
   "execution_count": 64,
   "id": "3c4c8090",
   "metadata": {},
   "outputs": [
    {
     "data": {
      "text/plain": [
       "[('b', 10), ('e', 50), ('f', 10)]"
      ]
     },
     "execution_count": 64,
     "metadata": {},
     "output_type": "execute_result"
    }
   ],
   "source": [
    "data = [('b',10), ('e', 50), ('f', 10)]\n",
    "data"
   ]
  },
  {
   "cell_type": "code",
   "execution_count": 65,
   "id": "937a63c8",
   "metadata": {},
   "outputs": [
    {
     "data": {
      "text/plain": [
       "{'a': 10, 'b': 10, 'c': 3, 'd': 4, 'e': 50, 'f': 10}"
      ]
     },
     "execution_count": 65,
     "metadata": {},
     "output_type": "execute_result"
    }
   ],
   "source": [
    "d2.update(data)\n",
    "d2"
   ]
  },
  {
   "cell_type": "markdown",
   "id": "01f7c210",
   "metadata": {},
   "source": [
    "## 3.4 딕셔너리 아이템 삭제하기\n",
    "\n",
    "- 하나의 아이템 삭제하기\n",
    "\n",
    "- 모든 아이템 삭제하기 : 객체는 삭제되지 않는다."
   ]
  },
  {
   "cell_type": "code",
   "execution_count": null,
   "id": "ef2a6ede",
   "metadata": {},
   "outputs": [],
   "source": [
    "# 하나의 아이템 삭제하기 : del키워드 + 딕셔너리인덱싱(단, .get()은 적용이 안됨)\n",
    "\n",
    "## 예를 들면\n",
    "## del d2.get('d')가 안된다는 것 (X)"
   ]
  },
  {
   "cell_type": "code",
   "execution_count": 67,
   "id": "e9c3afc2",
   "metadata": {},
   "outputs": [
    {
     "data": {
      "text/plain": [
       "{'a': 10, 'b': 10, 'c': 3, 'e': 50, 'f': 10}"
      ]
     },
     "execution_count": 67,
     "metadata": {},
     "output_type": "execute_result"
    }
   ],
   "source": [
    "del d2['d']\n",
    "d2\n",
    "\n",
    "## 결과 : 'd' : 4 가 삭제됨"
   ]
  },
  {
   "cell_type": "code",
   "execution_count": 68,
   "id": "3a2add07",
   "metadata": {},
   "outputs": [
    {
     "data": {
      "text/plain": [
       "{}"
      ]
     },
     "execution_count": 68,
     "metadata": {},
     "output_type": "execute_result"
    }
   ],
   "source": [
    "# 딕셔너리 비우기 : 딕셔너리.clear()\n",
    "\n",
    "# del은 변수 자체가 삭제되지만, .clear()는 변수는 남아있되 내부만 비워준다.\n",
    "\n",
    "d2.clear()\n",
    "d2"
   ]
  },
  {
   "cell_type": "code",
   "execution_count": 69,
   "id": "0d8bb8b0",
   "metadata": {},
   "outputs": [
    {
     "data": {
      "text/plain": [
       "{'a': 10, 'b': 2, 'c': 3, 'd': 4, 'e': 10, 'z': 40, 'v': 100}"
      ]
     },
     "execution_count": 69,
     "metadata": {},
     "output_type": "execute_result"
    }
   ],
   "source": [
    "# 주의 ! : clear()가 아닌 del 키워드로 전체 삭제시 빈 딕셔너리조차 남지 않음\n",
    "\n",
    "d1"
   ]
  },
  {
   "cell_type": "code",
   "execution_count": 70,
   "id": "a9913ebf",
   "metadata": {},
   "outputs": [
    {
     "ename": "NameError",
     "evalue": "name 'd1' is not defined",
     "output_type": "error",
     "traceback": [
      "\u001b[1;31m---------------------------------------------------------------------------\u001b[0m",
      "\u001b[1;31mNameError\u001b[0m                                 Traceback (most recent call last)",
      "\u001b[1;32m<ipython-input-70-8a1cb67cb563>\u001b[0m in \u001b[0;36m<module>\u001b[1;34m\u001b[0m\n\u001b[0;32m      1\u001b[0m \u001b[1;32mdel\u001b[0m \u001b[0md1\u001b[0m\u001b[1;33m\u001b[0m\u001b[1;33m\u001b[0m\u001b[0m\n\u001b[1;32m----> 2\u001b[1;33m \u001b[0md1\u001b[0m\u001b[1;33m\u001b[0m\u001b[1;33m\u001b[0m\u001b[0m\n\u001b[0m",
      "\u001b[1;31mNameError\u001b[0m: name 'd1' is not defined"
     ]
    }
   ],
   "source": [
    "del d1\n",
    "d1\n",
    "\n",
    "## 메모리에서 아예 사라져버림 => NameError: name 'd1' is not defined"
   ]
  },
  {
   "cell_type": "markdown",
   "id": "1511f437",
   "metadata": {},
   "source": [
    "## 3.5 딕셔너리 내장함수 & 관련 연산자\n",
    "\n",
    "- 딕셔너리타입.keys()\n",
    "\n",
    "\n",
    "- 딕셔너리타입.values()\n",
    "\n",
    "\n",
    "- 딕셔너리타입.items()  : 키 + 밸류\n",
    "\n",
    "\n",
    "- in 연산자 : 특정한 키 값이 딕셔너리에 포함 되었는지"
   ]
  },
  {
   "cell_type": "code",
   "execution_count": 1,
   "id": "5dbbe5f2",
   "metadata": {},
   "outputs": [],
   "source": [
    "# 딕셔너리가 가지고 있는 key만 리스트 형식으로 반환 : .keys()"
   ]
  },
  {
   "cell_type": "code",
   "execution_count": 2,
   "id": "f4aaa7ae",
   "metadata": {},
   "outputs": [],
   "source": [
    "d1 = {'name':'홍길동', 'age':18, 'job':'학생'}"
   ]
  },
  {
   "cell_type": "code",
   "execution_count": 3,
   "id": "d5d50b56",
   "metadata": {},
   "outputs": [
    {
     "data": {
      "text/plain": [
       "dict_keys(['name', 'age', 'job'])"
      ]
     },
     "execution_count": 3,
     "metadata": {},
     "output_type": "execute_result"
    }
   ],
   "source": [
    "## 키 값만 볼 수 있다.\n",
    "\n",
    "d1.keys()"
   ]
  },
  {
   "cell_type": "code",
   "execution_count": 4,
   "id": "5603a389",
   "metadata": {},
   "outputs": [
    {
     "data": {
      "text/plain": [
       "['name', 'age', 'job']"
      ]
     },
     "execution_count": 4,
     "metadata": {},
     "output_type": "execute_result"
    }
   ],
   "source": [
    "# 리스트로 바꿔주고 싶다면? (dic_keys는 유사 리스트임) => 리스트로 감싼다.\n",
    "\n",
    "list(d1.keys())"
   ]
  },
  {
   "cell_type": "code",
   "execution_count": 5,
   "id": "dbc8f258",
   "metadata": {},
   "outputs": [
    {
     "data": {
      "text/plain": [
       "dict_values(['홍길동', 18, '학생'])"
      ]
     },
     "execution_count": 5,
     "metadata": {},
     "output_type": "execute_result"
    }
   ],
   "source": [
    "# 딕셔너리가 가지고 있는 value만 리스트 형식으로 반환 : .value()\n",
    "\n",
    "d1.values()"
   ]
  },
  {
   "cell_type": "code",
   "execution_count": 6,
   "id": "c459fdd3",
   "metadata": {},
   "outputs": [
    {
     "data": {
      "text/plain": [
       "['홍길동', 18, '학생']"
      ]
     },
     "execution_count": 6,
     "metadata": {},
     "output_type": "execute_result"
    }
   ],
   "source": [
    "## 마찬가지로 리스트로 바꿀 수 있음\n",
    "\n",
    "list(d1.values())"
   ]
  },
  {
   "cell_type": "code",
   "execution_count": null,
   "id": "f7c2b659",
   "metadata": {},
   "outputs": [],
   "source": [
    "# 딕셔너리가 가진 아이템(key & value 쌍)을 튜플로 묶어서 리스트 형식으로 : .items()"
   ]
  },
  {
   "cell_type": "code",
   "execution_count": 7,
   "id": "e5c84ef2",
   "metadata": {},
   "outputs": [
    {
     "data": {
      "text/plain": [
       "dict_items([('name', '홍길동'), ('age', 18), ('job', '학생')])"
      ]
     },
     "execution_count": 7,
     "metadata": {},
     "output_type": "execute_result"
    }
   ],
   "source": [
    "d1.items()"
   ]
  },
  {
   "cell_type": "markdown",
   "id": "ddec0ef6",
   "metadata": {},
   "source": [
    "### <<연습문제>>\n",
    "\n",
    "1. 아래와 같은 딕셔너리를 생성하고 해당 딕셔너리의 value 중 최소값을 구하여 형식에 맞게 출력하세요.\n",
    "    최소값은 min(리스트)로 구할 수 있습니다.\n",
    "    \n",
    "    - 생성 딕셔너리 : {'A':9, 'B':80, 'C':70}\n",
    "    \n",
    "    - 조건 1 : 생성한 딕셔너리에 \" 'D':20, 'E':100, 'F':10 \" 아이템 3개를 추가하세요 ( 방법 2개 )\n",
    "    \n",
    "    - 조건 2 : key 'A'의 값을 9에서 90으로 변경하세요\n",
    "    \n",
    "    - 조건 3 : '최소값 10을 가진 key는 F입니다'로 포맷팅을 사용하여 출력하고 10을 포맷팅 값으로 사용하세요\n",
    "    \n",
    "    - 조건 4 :  최소값은 딕셔너리에 속한 내장함수와 파이썬 내장함수를 모두 사용하여 구해보셍ㅛ."
   ]
  },
  {
   "cell_type": "code",
   "execution_count": 9,
   "id": "c2b0b5da",
   "metadata": {},
   "outputs": [
    {
     "data": {
      "text/plain": [
       "{'A': 9, 'B': 80, 'C': 70}"
      ]
     },
     "execution_count": 9,
     "metadata": {},
     "output_type": "execute_result"
    }
   ],
   "source": [
    "prac = {'A':9, 'B':80, 'C':70}\n",
    "prac"
   ]
  },
  {
   "cell_type": "code",
   "execution_count": 10,
   "id": "c72c860e",
   "metadata": {},
   "outputs": [
    {
     "data": {
      "text/plain": [
       "[('D', 20), ('E', 100), ('F', 10)]"
      ]
     },
     "execution_count": 10,
     "metadata": {},
     "output_type": "execute_result"
    }
   ],
   "source": [
    "data = [('D',20), ('E', 100), ('F', 10)]\n",
    "data\n",
    "\n",
    "## 다른 방법\n",
    "### prac['D'] = 20\n",
    "\n",
    "\n",
    "## 혹은\n",
    "### xx.update({'E':100, 'Z':20 ... }) 이런 방법도 가능"
   ]
  },
  {
   "cell_type": "code",
   "execution_count": 11,
   "id": "492c1da1",
   "metadata": {},
   "outputs": [
    {
     "data": {
      "text/plain": [
       "{'A': 9, 'B': 80, 'C': 70, 'D': 20, 'E': 100, 'F': 10}"
      ]
     },
     "execution_count": 11,
     "metadata": {},
     "output_type": "execute_result"
    }
   ],
   "source": [
    "prac.update(data)\n",
    "prac"
   ]
  },
  {
   "cell_type": "code",
   "execution_count": 14,
   "id": "ae4cbe93",
   "metadata": {},
   "outputs": [
    {
     "data": {
      "text/plain": [
       "{'A': 90, 'B': 80, 'C': 70, 'D': 20, 'E': 100, 'F': 10}"
      ]
     },
     "execution_count": 14,
     "metadata": {},
     "output_type": "execute_result"
    }
   ],
   "source": [
    "prac['A'] = 90\n",
    "\n",
    "prac"
   ]
  },
  {
   "cell_type": "code",
   "execution_count": 17,
   "id": "3c0566e4",
   "metadata": {},
   "outputs": [
    {
     "data": {
      "text/plain": [
       "'최소값 10을 가진 key는 F입니다.'"
      ]
     },
     "execution_count": 17,
     "metadata": {},
     "output_type": "execute_result"
    }
   ],
   "source": [
    "\"최소값 %s을 가진 key는 F입니다.\" % min(prac.values())"
   ]
  },
  {
   "cell_type": "markdown",
   "id": "c22824f1",
   "metadata": {},
   "source": [
    "2. 1번에서 사용한 d1 딕셔너리를 출력했을 때 아래와 같이 보여지게 작성해보세요\n",
    "\n",
    "    [('A', 90), ('B', 80) .... ]"
   ]
  },
  {
   "cell_type": "code",
   "execution_count": 18,
   "id": "b2ce3fb4",
   "metadata": {},
   "outputs": [
    {
     "data": {
      "text/plain": [
       "[('A', 90), ('B', 80), ('C', 70), ('D', 20), ('E', 100), ('F', 10)]"
      ]
     },
     "execution_count": 18,
     "metadata": {},
     "output_type": "execute_result"
    }
   ],
   "source": [
    "list(prac.items())"
   ]
  },
  {
   "cell_type": "code",
   "execution_count": 19,
   "id": "879cdd41",
   "metadata": {},
   "outputs": [],
   "source": [
    "# 딕셔너리의 in, not in 키워드는 key값만을 고려해서 결과를 보여줍니다."
   ]
  },
  {
   "cell_type": "code",
   "execution_count": 20,
   "id": "2d10c6b3",
   "metadata": {},
   "outputs": [
    {
     "data": {
      "text/plain": [
       "True"
      ]
     },
     "execution_count": 20,
     "metadata": {},
     "output_type": "execute_result"
    }
   ],
   "source": [
    "## prac이라는 딕셔너리에 'A'값이 들어있습니까?\n",
    "\n",
    "'A' in prac"
   ]
  },
  {
   "cell_type": "code",
   "execution_count": 21,
   "id": "345ee287",
   "metadata": {},
   "outputs": [
    {
     "data": {
      "text/plain": [
       "False"
      ]
     },
     "execution_count": 21,
     "metadata": {},
     "output_type": "execute_result"
    }
   ],
   "source": [
    "## 90이 prac에 들어있나요? False (키 값만을 고려하기 때문)\n",
    "\n",
    "90 in prac"
   ]
  },
  {
   "cell_type": "code",
   "execution_count": null,
   "id": "5ddcf813",
   "metadata": {},
   "outputs": [],
   "source": []
  },
  {
   "cell_type": "code",
   "execution_count": null,
   "id": "caef09bd",
   "metadata": {},
   "outputs": [],
   "source": []
  },
  {
   "cell_type": "code",
   "execution_count": null,
   "id": "5fc7199d",
   "metadata": {},
   "outputs": [],
   "source": []
  },
  {
   "cell_type": "code",
   "execution_count": null,
   "id": "feba9f99",
   "metadata": {},
   "outputs": [],
   "source": []
  },
  {
   "cell_type": "code",
   "execution_count": null,
   "id": "3f097a6a",
   "metadata": {},
   "outputs": [],
   "source": []
  },
  {
   "cell_type": "code",
   "execution_count": null,
   "id": "215a6658",
   "metadata": {},
   "outputs": [],
   "source": []
  },
  {
   "cell_type": "code",
   "execution_count": null,
   "id": "c67689d4",
   "metadata": {},
   "outputs": [],
   "source": []
  },
  {
   "cell_type": "code",
   "execution_count": null,
   "id": "118c05fd",
   "metadata": {},
   "outputs": [],
   "source": []
  },
  {
   "cell_type": "code",
   "execution_count": null,
   "id": "2798ba62",
   "metadata": {},
   "outputs": [],
   "source": []
  },
  {
   "cell_type": "code",
   "execution_count": null,
   "id": "c374ac0f",
   "metadata": {},
   "outputs": [],
   "source": []
  },
  {
   "cell_type": "code",
   "execution_count": null,
   "id": "0d045896",
   "metadata": {},
   "outputs": [],
   "source": []
  },
  {
   "cell_type": "code",
   "execution_count": null,
   "id": "0d6c7939",
   "metadata": {},
   "outputs": [],
   "source": []
  },
  {
   "cell_type": "code",
   "execution_count": null,
   "id": "cf7e01d4",
   "metadata": {},
   "outputs": [],
   "source": []
  },
  {
   "cell_type": "code",
   "execution_count": null,
   "id": "16c4aa3f",
   "metadata": {},
   "outputs": [],
   "source": []
  }
 ],
 "metadata": {
  "kernelspec": {
   "display_name": "Python 3",
   "language": "python",
   "name": "python3"
  },
  "language_info": {
   "codemirror_mode": {
    "name": "ipython",
    "version": 3
   },
   "file_extension": ".py",
   "mimetype": "text/x-python",
   "name": "python",
   "nbconvert_exporter": "python",
   "pygments_lexer": "ipython3",
   "version": "3.8.8"
  }
 },
 "nbformat": 4,
 "nbformat_minor": 5
}
