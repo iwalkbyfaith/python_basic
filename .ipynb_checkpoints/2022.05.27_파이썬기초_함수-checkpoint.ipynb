{
 "cells": [
  {
   "cell_type": "code",
   "execution_count": 1,
   "id": "330236e9",
   "metadata": {},
   "outputs": [],
   "source": [
    "## 자바에서의 메서드라고 생각하면 된다."
   ]
  },
  {
   "cell_type": "markdown",
   "id": "f3e805ef",
   "metadata": {},
   "source": [
    "# << 함수 >>\n",
    "\n",
    "반복적으로 사용하는 기능을 묶어서 함수로 정의하면 간편하게 사용할 수 있다.\n",
    "\n",
    "▶ 기본 문법 \n",
    "\n",
    "         def 함수이름(매개변수) :\n",
    "\n",
    "             <수행할 내용1>\n",
    "             <수행할 내용2>\n",
    "             <수행할 내용3>\n",
    "             \n",
    "             return \n",
    "             \n",
    "         => 파이썬에서는 리턴 자료를 써주지 않고, def만 써도 된다.\n",
    "\n",
    "            \n",
    "\n",
    "▶ 매개변수 \n",
    "\n",
    "        - 함수 안에서 사용할 값을 전달하는 변수로 <수행할 내용> 문장에서 변수로 사용된다.\n",
    "        \n",
    "        - 함수 정의문에서는 매개변수로서 선언되며 실제로 함수를 호출할 때는 인자값으로 전달된다.\n",
    "        \n",
    "        \n",
    "▶ 용어\n",
    "\n",
    "        - def : 함수를 정의할 때 사용하는 키워드\n",
    "        \n",
    "        - return : 함수의 결과값을 반환하는 키워드\n",
    "        \n",
    "        - 입력값 = 인수, 입력 인수, 인자  : 함수를 돌리는데 필요한 값들\n",
    "        \n",
    "        - 결과값 = 출력값, 리턴값, 돌려주는 값, 반환 값"
   ]
  },
  {
   "cell_type": "markdown",
   "id": "a1d3dbf4",
   "metadata": {},
   "source": [
    "　"
   ]
  },
  {
   "cell_type": "code",
   "execution_count": 2,
   "id": "3ee7eb72",
   "metadata": {},
   "outputs": [],
   "source": [
    "# ■ 기본적인 함수의 예제 (불완전한 실행문)"
   ]
  },
  {
   "cell_type": "code",
   "execution_count": 14,
   "id": "ec59a052",
   "metadata": {},
   "outputs": [],
   "source": [
    "def plus() :\n",
    "    print(b + 1)\n",
    "\n",
    "## 함수를 호출할 때, 받는 값이 없음\n",
    "## b가 무엇인지 모르기 때문에 수행 자체를 할 수 없는 불완전한 구문임\n",
    "## 외부에서 b가 무엇인지 알려주어야 값을 구할 수 있음"
   ]
  },
  {
   "cell_type": "code",
   "execution_count": 15,
   "id": "f80c9fcb",
   "metadata": {},
   "outputs": [],
   "source": [
    "def plus(b) :\n",
    "    print(b + 1)\n",
    "    \n",
    "## plus라는 함수를 호출할 때는 b를 명시해주어야 한다"
   ]
  },
  {
   "cell_type": "code",
   "execution_count": 16,
   "id": "97f58c86",
   "metadata": {},
   "outputs": [
    {
     "name": "stdout",
     "output_type": "stream",
     "text": [
      "6\n"
     ]
    }
   ],
   "source": [
    "plus(5)"
   ]
  },
  {
   "cell_type": "code",
   "execution_count": 17,
   "id": "98cc07eb",
   "metadata": {},
   "outputs": [
    {
     "name": "stdout",
     "output_type": "stream",
     "text": [
      "6\n",
      "None\n"
     ]
    }
   ],
   "source": [
    "result = plus(5)\n",
    "\n",
    "print(result)\n",
    "\n",
    "## plus(5)는 찍히지만, 리턴되는 값이 없으므로 None이라고 나옴."
   ]
  },
  {
   "cell_type": "markdown",
   "id": "67885082",
   "metadata": {},
   "source": [
    "　"
   ]
  },
  {
   "cell_type": "code",
   "execution_count": null,
   "id": "f90e0ff2",
   "metadata": {},
   "outputs": [],
   "source": [
    "# ■ return문의 역할\n",
    "\n",
    "## 호출한 위치에 값을 가져다 놓는다."
   ]
  },
  {
   "cell_type": "code",
   "execution_count": 10,
   "id": "8f02a034",
   "metadata": {},
   "outputs": [],
   "source": [
    "def plus2(a) :\n",
    "    return a + 1"
   ]
  },
  {
   "cell_type": "code",
   "execution_count": 12,
   "id": "f862f604",
   "metadata": {},
   "outputs": [
    {
     "data": {
      "text/plain": [
       "6"
      ]
     },
     "execution_count": 12,
     "metadata": {},
     "output_type": "execute_result"
    }
   ],
   "source": [
    "result = plus2(5)\n",
    "\n",
    "result"
   ]
  },
  {
   "cell_type": "markdown",
   "id": "6b60580f",
   "metadata": {},
   "source": [
    "　"
   ]
  },
  {
   "cell_type": "markdown",
   "id": "69936d07",
   "metadata": {},
   "source": [
    "### (참고)\n",
    "\n",
    "### 1. 매개 변수와 인수\n",
    "\n",
    "#### 매개 변수 (parameter, 입력인자, 입력값)\n",
    "- 함수에 전달된 값을 저장하는 변수 / 함수를 선언할 때 정의하는 변수\n",
    "- def plus2(a) : .... => a = 매개 변수\n",
    "    \n",
    "#### 인수 / 인자 (argument)\n",
    "- 함수를 호출(=사용)할 때 전달하는 입력 값\n",
    "- result plues2(5) .. => 5 = 인수/인자"
   ]
  },
  {
   "cell_type": "code",
   "execution_count": null,
   "id": "0fcbbc4f",
   "metadata": {},
   "outputs": [],
   "source": [
    "# ■ 매개변수를 2개 이상 받는 케이스"
   ]
  },
  {
   "cell_type": "code",
   "execution_count": 19,
   "id": "073d60c0",
   "metadata": {},
   "outputs": [],
   "source": [
    "def sum(a, b) :\n",
    "    result = a + b\n",
    "    return result"
   ]
  },
  {
   "cell_type": "code",
   "execution_count": 20,
   "id": "5a903954",
   "metadata": {},
   "outputs": [
    {
     "data": {
      "text/plain": [
       "8"
      ]
     },
     "execution_count": 20,
     "metadata": {},
     "output_type": "execute_result"
    }
   ],
   "source": [
    "sum(3, 5)"
   ]
  },
  {
   "cell_type": "raw",
   "id": "3bc7f1ea",
   "metadata": {},
   "source": []
  },
  {
   "cell_type": "markdown",
   "id": "f317ebdb",
   "metadata": {},
   "source": [
    "### 2. 매개변수가 있는 함수\n",
    "\n",
    "- 인자 값을 전달 할 때, 값만 입력하면 순서대로 매개변수에 할당된다. (자바/파이썬 공통)\n",
    "\n",
    "- 매개 변수명을 지정하여 전달할 수 있다. (파이썬만)"
   ]
  },
  {
   "cell_type": "code",
   "execution_count": null,
   "id": "4604922c",
   "metadata": {},
   "outputs": [],
   "source": [
    "# ■ 매개 변수가 3개인 함수 설정"
   ]
  },
  {
   "cell_type": "code",
   "execution_count": 21,
   "id": "dcd1f8fd",
   "metadata": {},
   "outputs": [],
   "source": [
    "def test1(a, b, c) :\n",
    "    print(a, b, c)\n",
    "    result = a + b + c\n",
    "    return result"
   ]
  },
  {
   "cell_type": "code",
   "execution_count": 22,
   "id": "071cc7b0",
   "metadata": {},
   "outputs": [
    {
     "name": "stdout",
     "output_type": "stream",
     "text": [
      "10 20 30\n"
     ]
    },
    {
     "data": {
      "text/plain": [
       "60"
      ]
     },
     "execution_count": 22,
     "metadata": {},
     "output_type": "execute_result"
    }
   ],
   "source": [
    "test1(10, 20, 30)"
   ]
  },
  {
   "cell_type": "markdown",
   "id": "6c8c58af",
   "metadata": {},
   "source": [
    "　"
   ]
  },
  {
   "cell_type": "code",
   "execution_count": 24,
   "id": "26382993",
   "metadata": {},
   "outputs": [],
   "source": [
    "# ■ 인자값 순서를 바꿔서 전달 ( 반드시 매개변수명으로 지정한 변수명에 대입해줘야함)"
   ]
  },
  {
   "cell_type": "code",
   "execution_count": 25,
   "id": "088a7ce9",
   "metadata": {},
   "outputs": [
    {
     "name": "stdout",
     "output_type": "stream",
     "text": [
      "10 30 20\n"
     ]
    },
    {
     "data": {
      "text/plain": [
       "60"
      ]
     },
     "execution_count": 25,
     "metadata": {},
     "output_type": "execute_result"
    }
   ],
   "source": [
    "test1 (c=20, a=10, b=30)"
   ]
  },
  {
   "cell_type": "markdown",
   "id": "e5cf93a6",
   "metadata": {},
   "source": [
    "　　"
   ]
  },
  {
   "cell_type": "markdown",
   "id": "53c5f65d",
   "metadata": {},
   "source": [
    "### 2-1 매개변수 초기값 설정\n",
    "\n",
    "- 함수 정의문에서 매개변수 값을 할당하면 초기값으로 설정\n",
    "\n",
    "- 함수 호출 시 값을 입력하지 않으면 초기 값으로 사용\n",
    "\n",
    "- 초기화시키고 싶은 매개변수들을 항상 뒤쪽에 위치\n",
    "\n",
    "(참고) 포맷팅 함수에서 인덱스번호, 변수명 사용했던 규칙과 유사"
   ]
  },
  {
   "cell_type": "code",
   "execution_count": 27,
   "id": "ebcd6c4b",
   "metadata": {},
   "outputs": [],
   "source": [
    "# 파라미터를 안 줘도 알아서 들어가게 하는 것"
   ]
  },
  {
   "cell_type": "markdown",
   "id": "3b1efffd",
   "metadata": {},
   "source": [
    "　"
   ]
  },
  {
   "cell_type": "code",
   "execution_count": null,
   "id": "7297a09c",
   "metadata": {},
   "outputs": [],
   "source": [
    "# ■ 디폴트값 선언을 사용한 예시"
   ]
  },
  {
   "cell_type": "code",
   "execution_count": 28,
   "id": "e504b4eb",
   "metadata": {},
   "outputs": [],
   "source": [
    "def test2(a=1, b=2, c=3) :\n",
    "    result = a + b + c\n",
    "    return result\n",
    "\n",
    "## 값을 주면 주는대로 실행, 안 주면 미리 적어놓은 디폴트값으로 실행한다는 뜻"
   ]
  },
  {
   "cell_type": "code",
   "execution_count": 31,
   "id": "40b9f3a2",
   "metadata": {},
   "outputs": [
    {
     "data": {
      "text/plain": [
       "6"
      ]
     },
     "execution_count": 31,
     "metadata": {},
     "output_type": "execute_result"
    }
   ],
   "source": [
    "## 아무 값도 주지 않으면 디폴트 값으로 실행 ( 1 + 2 + 3 = 6)\n",
    "\n",
    "test2()"
   ]
  },
  {
   "cell_type": "code",
   "execution_count": 32,
   "id": "1dbba9c3",
   "metadata": {},
   "outputs": [
    {
     "data": {
      "text/plain": [
       "90"
      ]
     },
     "execution_count": 32,
     "metadata": {},
     "output_type": "execute_result"
    }
   ],
   "source": [
    "## 값을 받으면, 해당 값으로 실행\n",
    "\n",
    "test2(a=20, b =30, c =40)"
   ]
  },
  {
   "cell_type": "code",
   "execution_count": 34,
   "id": "d5f46a9b",
   "metadata": {},
   "outputs": [
    {
     "data": {
      "text/plain": [
       "15"
      ]
     },
     "execution_count": 34,
     "metadata": {},
     "output_type": "execute_result"
    }
   ],
   "source": [
    "## 값을 하나만 주면, 왼쪽부터 하나만 들어감\n",
    "### a = 10, b = 2, c = 3으로 실행\n",
    "\n",
    "test2(10)"
   ]
  },
  {
   "cell_type": "code",
   "execution_count": 36,
   "id": "bd227362",
   "metadata": {},
   "outputs": [
    {
     "data": {
      "text/plain": [
       "33"
      ]
     },
     "execution_count": 36,
     "metadata": {},
     "output_type": "execute_result"
    }
   ],
   "source": [
    "## 값을 두 개 주면, a = 10, b = 20, c = 3 => 33\n",
    "\n",
    "test2(10, 20)"
   ]
  },
  {
   "cell_type": "markdown",
   "id": "d3679a47",
   "metadata": {},
   "source": [
    "　"
   ]
  },
  {
   "cell_type": "code",
   "execution_count": 38,
   "id": "6cfc09f8",
   "metadata": {},
   "outputs": [],
   "source": [
    "# ■ 디폴트값 설정은 반드시 오른쪽 요소부터 지정한다 (※ 주의)"
   ]
  },
  {
   "cell_type": "code",
   "execution_count": 39,
   "id": "b7c4b94c",
   "metadata": {},
   "outputs": [
    {
     "ename": "SyntaxError",
     "evalue": "non-default argument follows default argument (<ipython-input-39-0d7a4f7fcd70>, line 3)",
     "output_type": "error",
     "traceback": [
      "\u001b[1;36m  File \u001b[1;32m\"<ipython-input-39-0d7a4f7fcd70>\"\u001b[1;36m, line \u001b[1;32m3\u001b[0m\n\u001b[1;33m    def test3(a=1, b=2, c) :\u001b[0m\n\u001b[1;37m              ^\u001b[0m\n\u001b[1;31mSyntaxError\u001b[0m\u001b[1;31m:\u001b[0m non-default argument follows default argument\n"
     ]
    }
   ],
   "source": [
    "## (문제상황) a와 b는 디폴트 값을 주고싶고, c는 받고 싶은 상황\n",
    "\n",
    "def test3(a=1, b=2, c) :\n",
    "    result = a + b + c\n",
    "    return result\n",
    "\n",
    "### 세상이 좋아져서~~~~~ 안되는건 막아준다. => SyntaxError: non-default argument follows default argument"
   ]
  },
  {
   "cell_type": "code",
   "execution_count": null,
   "id": "efa8f6f1",
   "metadata": {},
   "outputs": [],
   "source": [
    "### 우리는 이렇게 보내면 c에 10이 들어갈거라고 생각하는데\n",
    "### 컴퓨터 입장에서는 왼쪽부터 하나씩 넣으라는 요청을 받고있기 때문에 a에 10 을 넣어준다.\n",
    "### b는 디폴트값이기 때문에 상관 없지만, c는 아무 값도 받지 못한다.\n",
    "\n",
    "test3(10)"
   ]
  },
  {
   "cell_type": "code",
   "execution_count": 40,
   "id": "9f0a2979",
   "metadata": {},
   "outputs": [],
   "source": [
    "## (해결) 디폴트값이 없는 값을 왼쪽으로 넣어주면 해결\n",
    "\n",
    "def test3(c, a=1, b=2) :\n",
    "    result = a + b + c\n",
    "    return result"
   ]
  },
  {
   "cell_type": "code",
   "execution_count": 41,
   "id": "ed3a5ce0",
   "metadata": {},
   "outputs": [
    {
     "data": {
      "text/plain": [
       "13"
      ]
     },
     "execution_count": 41,
     "metadata": {},
     "output_type": "execute_result"
    }
   ],
   "source": [
    "test3(10)"
   ]
  },
  {
   "cell_type": "markdown",
   "id": "5512bce1",
   "metadata": {},
   "source": [
    "　"
   ]
  },
  {
   "cell_type": "markdown",
   "id": "ecf2902c",
   "metadata": {},
   "source": [
    "### 가변인자 리스트\n",
    "\n",
    "- 입력할 파라미터의 개수가 몇 개인지 모를때 사용함\n",
    "- 파라미터명 왼쪽에 *을 붙인다."
   ]
  },
  {
   "cell_type": "code",
   "execution_count": null,
   "id": "a290978e",
   "metadata": {},
   "outputs": [],
   "source": [
    "# 출석자들을 출력해주는 프로그램"
   ]
  },
  {
   "cell_type": "code",
   "execution_count": 45,
   "id": "e36a6e36",
   "metadata": {},
   "outputs": [],
   "source": [
    "def get_member_list(p1) : \n",
    "    print(\"출석 학생은 %s님 입니다.\" %p1) "
   ]
  },
  {
   "cell_type": "code",
   "execution_count": 47,
   "id": "cf656bd1",
   "metadata": {},
   "outputs": [
    {
     "name": "stdout",
     "output_type": "stream",
     "text": [
      "출석 학생은 다은님 입니다.\n"
     ]
    }
   ],
   "source": [
    "get_member_list(\"다은\")"
   ]
  },
  {
   "cell_type": "markdown",
   "id": "b460d240",
   "metadata": {},
   "source": [
    "　"
   ]
  },
  {
   "cell_type": "code",
   "execution_count": null,
   "id": "4ddce79a",
   "metadata": {},
   "outputs": [],
   "source": [
    "# 출석자가 두 명인 것을 만들고 싶다면"
   ]
  },
  {
   "cell_type": "code",
   "execution_count": 50,
   "id": "971a8a3a",
   "metadata": {},
   "outputs": [],
   "source": [
    "def get_member_list2(p1, p2) :\n",
    "    print(\"출석 학생은 %s님, %s님입니다.\" %(p1, p2))"
   ]
  },
  {
   "cell_type": "code",
   "execution_count": 51,
   "id": "71f39528",
   "metadata": {},
   "outputs": [
    {
     "name": "stdout",
     "output_type": "stream",
     "text": [
      "출석 학생은 다은님, 박자바님입니다.\n"
     ]
    }
   ],
   "source": [
    "get_member_list2(\"다은\", \"박자바\")"
   ]
  },
  {
   "cell_type": "markdown",
   "id": "584ea0c2",
   "metadata": {},
   "source": [
    "　"
   ]
  },
  {
   "cell_type": "code",
   "execution_count": null,
   "id": "539d57e9",
   "metadata": {},
   "outputs": [],
   "source": [
    "# ■ 몇 명 들어올지 모르는 상황에서는 ..?  ==> \"가변 인자 리스트\" 라고 부름"
   ]
  },
  {
   "cell_type": "code",
   "execution_count": 58,
   "id": "2f785fef",
   "metadata": {},
   "outputs": [],
   "source": [
    "## 옆에 *이 붙으면 데이터가 몇 개이건 상관없이 stu라는 변수에 넣어주겠다는 뜻이다.\n",
    "\n",
    "def get_members(*stu) :\n",
    "    print(stu)\n",
    "    print(type(stu))"
   ]
  },
  {
   "cell_type": "code",
   "execution_count": 59,
   "id": "41717aa1",
   "metadata": {},
   "outputs": [
    {
     "name": "stdout",
     "output_type": "stream",
     "text": [
      "('고다은', '박자바', '김파이썬', '윤스프링', '이장고', 1, 2, 3, 4, 5)\n",
      "<class 'tuple'>\n"
     ]
    }
   ],
   "source": [
    "## stu 변수에 tuple 형식으로 들어간다.\n",
    "\n",
    "get_members(\"고다은\", \"박자바\", \"김파이썬\", \"윤스프링\", \"이장고\", 1, 2, 3, 4, 5)"
   ]
  },
  {
   "cell_type": "code",
   "execution_count": null,
   "id": "82a15dbd",
   "metadata": {},
   "outputs": [],
   "source": [
    "## 위와 같이 한다기 보다는 반복문을 이용해서 처리"
   ]
  },
  {
   "cell_type": "code",
   "execution_count": 56,
   "id": "0ba9e92a",
   "metadata": {},
   "outputs": [],
   "source": [
    "def get_members(*stu) :\n",
    "    print(stu)\n",
    "    print(type(stu))\n",
    "    \n",
    "    message = \"출석 학생은 \"\n",
    "    \n",
    "    for i in stu :\n",
    "        message += str(i) + \", \"\n",
    "    \n",
    "    message += \"입니다. \"\n",
    "    \n",
    "    print(message)"
   ]
  },
  {
   "cell_type": "code",
   "execution_count": 57,
   "id": "c772043b",
   "metadata": {},
   "outputs": [
    {
     "name": "stdout",
     "output_type": "stream",
     "text": [
      "('고다은', '박자바', '김파이썬', '윤스프링', '이장고', 1, 2, 3, 4, 5)\n",
      "<class 'tuple'>\n",
      "출석 학생은 고다은, 박자바, 김파이썬, 윤스프링, 이장고, 1, 2, 3, 4, 5, 입니다. \n"
     ]
    }
   ],
   "source": [
    "get_members(\"고다은\", \"박자바\", \"김파이썬\", \"윤스프링\", \"이장고\", 1, 2, 3, 4, 5)"
   ]
  },
  {
   "cell_type": "markdown",
   "id": "1dd17095",
   "metadata": {},
   "source": [
    "　"
   ]
  },
  {
   "cell_type": "markdown",
   "id": "b2dbc0c0",
   "metadata": {},
   "source": [
    "### 키워드 파라미터 kwargs(keyword arguments)\n",
    "\n",
    "- 딕셔너리 형태로 저장되는 매개 변수로 정의"
   ]
  },
  {
   "cell_type": "code",
   "execution_count": 60,
   "id": "f693f0ad",
   "metadata": {},
   "outputs": [],
   "source": [
    "def test4(**kwargs) :\n",
    "    return kwargs"
   ]
  },
  {
   "cell_type": "code",
   "execution_count": 61,
   "id": "4e141c8b",
   "metadata": {},
   "outputs": [
    {
     "data": {
      "text/plain": [
       "{'name': '홍길동', 'age': 19}"
      ]
     },
     "execution_count": 61,
     "metadata": {},
     "output_type": "execute_result"
    }
   ],
   "source": [
    "test4(name=\"홍길동\", age=19)"
   ]
  },
  {
   "cell_type": "code",
   "execution_count": 62,
   "id": "31acdb54",
   "metadata": {},
   "outputs": [
    {
     "data": {
      "text/plain": [
       "{'name': '고다은', 'like': 'java', 'user_num': 19}"
      ]
     },
     "execution_count": 62,
     "metadata": {},
     "output_type": "execute_result"
    }
   ],
   "source": [
    "test4(name=\"고다은\", like=\"java\", user_num=19)"
   ]
  },
  {
   "cell_type": "markdown",
   "id": "7e44c8ee",
   "metadata": {},
   "source": [
    "　"
   ]
  },
  {
   "cell_type": "markdown",
   "id": "d17bd673",
   "metadata": {},
   "source": [
    "### 함수의 결과 값\n",
    "\n",
    "- 함수의 결과 값은 항상 한 개 ( 한 개 이거나, 한 개로 패키징이 됨 )\n",
    "\n",
    "- 여러 개의 결과를 가질 수 있지만, 하나의 튜플로 전달.\n",
    "\n",
    "\n",
    "▶ 기본 문법\n",
    "\n",
    "    def 함수이름 (매개변수 이름) :\n",
    "    \n",
    "        return 결과값1, 결과값2"
   ]
  },
  {
   "cell_type": "code",
   "execution_count": null,
   "id": "50c8dd7b",
   "metadata": {},
   "outputs": [],
   "source": [
    "# ■ return 키워드는 전달받은 결과물이 2 개 이상인 경우( 콤마(,)로 구분지어서 보내는 경우)\n",
    "# 하나의 튜플로 묶어서 반환한다.\n",
    "\n",
    "# ■ 최종적으로 '하나의 변수'에 담을 수 있는 '하나의 값'으로 처리된다."
   ]
  },
  {
   "cell_type": "code",
   "execution_count": 63,
   "id": "8476128a",
   "metadata": {},
   "outputs": [],
   "source": [
    "def test(a, b) :\n",
    "    sum_ = a + b\n",
    "    mul = a * b\n",
    "    return sum_, mul"
   ]
  },
  {
   "cell_type": "code",
   "execution_count": 64,
   "id": "4e24ee42",
   "metadata": {},
   "outputs": [
    {
     "name": "stdout",
     "output_type": "stream",
     "text": [
      "(7, 12)\n"
     ]
    }
   ],
   "source": [
    "# ■ 결과를 통째로 가져오기\n",
    "\n",
    "a = test(3, 4)\n",
    "\n",
    "## 결과값 ( a + b ), (a * b) => 하나(a)를 리턴 받았는데 두가지 값이 나옴\n",
    "print(a)"
   ]
  },
  {
   "cell_type": "code",
   "execution_count": 65,
   "id": "e8a5902a",
   "metadata": {},
   "outputs": [
    {
     "name": "stdout",
     "output_type": "stream",
     "text": [
      "11\n",
      "30\n"
     ]
    }
   ],
   "source": [
    "# ■ 결과를 개별 변수에 쪼개서 가져오기\n",
    "\n",
    "s, m = test(5, 6)\n",
    "print(s)\n",
    "print(m)"
   ]
  },
  {
   "cell_type": "code",
   "execution_count": null,
   "id": "a3bfbae7",
   "metadata": {},
   "outputs": [],
   "source": []
  },
  {
   "cell_type": "markdown",
   "id": "2f64e5ea",
   "metadata": {},
   "source": [
    "## <<연습문제>>\n",
    "\n",
    "#### 1. 입력 받은 모든 수의 평균값을 계산하는 함수를 작성해보세요.\n",
    "\n",
    "    - 조건1. 숫자의 개수는 정해져있지 않다."
   ]
  },
  {
   "cell_type": "code",
   "execution_count": 86,
   "id": "d896935f",
   "metadata": {},
   "outputs": [],
   "source": [
    "def avg(*number) :\n",
    "    print(number)\n",
    "    \n",
    "    total = 0\n",
    "    \n",
    "    for i in number :\n",
    "        total += i\n",
    "        \n",
    "    print(total)\n",
    "    \n",
    "    print(len(number))\n",
    "    \n",
    "    print(\"평균값 : \", total/len(number))"
   ]
  },
  {
   "cell_type": "code",
   "execution_count": 88,
   "id": "ec04d064",
   "metadata": {},
   "outputs": [
    {
     "name": "stdout",
     "output_type": "stream",
     "text": [
      "(100, 200, 300, 400)\n",
      "1000\n",
      "4\n",
      "평균값 :  250.0\n"
     ]
    }
   ],
   "source": [
    "avg(100, 200, 300, 400)"
   ]
  },
  {
   "cell_type": "code",
   "execution_count": null,
   "id": "5b9559f5",
   "metadata": {},
   "outputs": [],
   "source": [
    "## 선생님 답 (Kernel에서 셧다운 -> 리스타트 누르고 해야함. 위에 sum으로 함수 선언한게 있어서)"
   ]
  },
  {
   "cell_type": "code",
   "execution_count": null,
   "id": "f64bb0b1",
   "metadata": {},
   "outputs": [],
   "source": [
    "def get_average(*num_list) :\n",
    "    return sum(num_list)/len(num_list)"
   ]
  },
  {
   "cell_type": "markdown",
   "id": "872753ee",
   "metadata": {},
   "source": [
    "#### 2. 리스트로 입력받은 수들에 대해 양수만 필터링하여 반환해주는 함수를 작성해보세요\n",
    "\n",
    "- 조건 : 입력 값은 인자값으로 리스트를 전달\n",
    "\n",
    "- 조건 : 결과값은 양수로만 구성된 새로운 리스트"
   ]
  },
  {
   "cell_type": "code",
   "execution_count": 111,
   "id": "d1c29701",
   "metadata": {},
   "outputs": [],
   "source": [
    "## 내 답\n",
    "\n",
    "def prac(*number) :\n",
    "    \n",
    "    print(\"들어온 수 -> \", number)\n",
    "    \n",
    "    new_list = \"\" ## 선생님은 [] 이렇게 만드심\n",
    "    \n",
    "    for i in number :\n",
    "        if i <= 0 :\n",
    "            continue\n",
    "            \n",
    "        new_list += str(i) + \", \"\n",
    "        \n",
    "    print(new_list)\n",
    "    \n",
    "    "
   ]
  },
  {
   "cell_type": "code",
   "execution_count": 112,
   "id": "1047ae0e",
   "metadata": {},
   "outputs": [
    {
     "name": "stdout",
     "output_type": "stream",
     "text": [
      "들어온 수 ->  (0, 1, 2, 3, 4, 5, -1, -3, -44, -22, 0, 4)\n",
      "1, 2, 3, 4, 5, 4, \n"
     ]
    }
   ],
   "source": [
    "prac(0, 1, 2, 3, 4, 5, -1, -3, -44, -22, 0, 4)"
   ]
  },
  {
   "cell_type": "code",
   "execution_count": null,
   "id": "7c1c0de9",
   "metadata": {},
   "outputs": [],
   "source": [
    "## 선생님 답\n",
    "\n",
    "def get_positive_list(*num_list) :\n",
    "    \n",
    "    print(\"들어온 수 -> \", num_list)\n",
    "    \n",
    "    new_list = []\n",
    "    \n",
    "    for i in num_list :\n",
    "        if i > 0\n",
    "            new_list.appen(i)        \n",
    "    print(new_list)    "
   ]
  },
  {
   "cell_type": "code",
   "execution_count": null,
   "id": "bb49ff0a",
   "metadata": {},
   "outputs": [],
   "source": []
  }
 ],
 "metadata": {
  "kernelspec": {
   "display_name": "Python 3",
   "language": "python",
   "name": "python3"
  },
  "language_info": {
   "codemirror_mode": {
    "name": "ipython",
    "version": 3
   },
   "file_extension": ".py",
   "mimetype": "text/x-python",
   "name": "python",
   "nbconvert_exporter": "python",
   "pygments_lexer": "ipython3",
   "version": "3.8.8"
  }
 },
 "nbformat": 4,
 "nbformat_minor": 5
}
