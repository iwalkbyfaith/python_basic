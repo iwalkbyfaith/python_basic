{
 "cells": [
  {
   "cell_type": "markdown",
   "id": "e22b6de7",
   "metadata": {},
   "source": [
    "# << 제어문 >>\n",
    "\n",
    "\n",
    "\n",
    "## 3. for 반복문\n",
    "\n",
    "자료형(리스트, 튜플, 문자열)의 모든 아이템에 대하여 처음부터 마지막까지 차례대로 접근하여 실행문을 적용한다.\n",
    "    - 자바로 따지면 향상된 for문이라고 생각하면 된다.\n",
    "\n",
    "▶ 기본 문법 \n",
    "\n",
    "        for 임시변수 in 자료형 :\n",
    "            수행할 문장1\n",
    "            수행할 문장2\n",
    "            ...\n",
    "            \n",
    "\n",
    "▶ 임시변수 \n",
    "\n",
    "        - for 반복문이 실행되면 자료형의 아이템이 차례대로 임시변수에 할당된다.\n",
    "        \n",
    "        - 기본적으로 변수는 할당문이 존재해야 하지만 임시변수는 할당문이 필요 없는 객체이다.\n",
    "            - = 대입 연산자 이퀄을 이용해서 안 받아도, 자동으로 데이터가 들어간다는 뜻\n",
    "        \n",
    "        - '임시변수' 이름은 적고 싶은 아무거나 적으면 되고, '자료형'에는 리스트가 온다."
   ]
  },
  {
   "cell_type": "markdown",
   "id": "a71fbaf3",
   "metadata": {},
   "source": [
    "　"
   ]
  },
  {
   "cell_type": "code",
   "execution_count": 14,
   "id": "fea298af",
   "metadata": {},
   "outputs": [],
   "source": [
    "# 하나의 아이템에 접근 : 리스트 자료형\n",
    "\n",
    "a = [1, 2, 3]"
   ]
  },
  {
   "cell_type": "code",
   "execution_count": 15,
   "id": "e780b8e7",
   "metadata": {},
   "outputs": [
    {
     "name": "stdout",
     "output_type": "stream",
     "text": [
      "Hello World 1\n",
      "---------------\n",
      "Hello World 2\n",
      "---------------\n",
      "Hello World 3\n",
      "---------------\n"
     ]
    }
   ],
   "source": [
    "for i in a :\n",
    "    print(\"Hello World\", i)\n",
    "    print(\"---------------\")"
   ]
  },
  {
   "cell_type": "code",
   "execution_count": 16,
   "id": "8c24c1f9",
   "metadata": {},
   "outputs": [],
   "source": [
    "## 리스트에 들어있는 데이터의 개수만큼 돌게 된다.\n",
    "\n",
    "    ### 첫 번째 바퀴에는 i에 1이 들어간채로 프린트문을 돌림\n",
    "    ### 두 번째 바취에는 i에 2..\n",
    "    ### 마지막 바퀴에는 i에 3.."
   ]
  },
  {
   "cell_type": "markdown",
   "id": "ac89c6a5",
   "metadata": {},
   "source": [
    "　"
   ]
  },
  {
   "cell_type": "code",
   "execution_count": 17,
   "id": "1a4d5c96",
   "metadata": {},
   "outputs": [
    {
     "name": "stdout",
     "output_type": "stream",
     "text": [
      "10\n",
      "20\n",
      "30\n"
     ]
    }
   ],
   "source": [
    "# 하나의 아이템에 접근 : 튜플 자료형\n",
    "\n",
    "tu = 10, 20, 30\n",
    "\n",
    "for i in tu:\n",
    "    print(i)"
   ]
  },
  {
   "cell_type": "markdown",
   "id": "3bfd3b29",
   "metadata": {},
   "source": [
    "　"
   ]
  },
  {
   "cell_type": "code",
   "execution_count": 18,
   "id": "3f172a9d",
   "metadata": {},
   "outputs": [
    {
     "name": "stdout",
     "output_type": "stream",
     "text": [
      "a\n",
      "b\n",
      "c\n",
      "d\n"
     ]
    }
   ],
   "source": [
    "# 하나의 아이템에 접근 : 문자열\n",
    "\n",
    "for t in 'abcd' :\n",
    "    print(t)"
   ]
  },
  {
   "cell_type": "code",
   "execution_count": 19,
   "id": "57ab483e",
   "metadata": {},
   "outputs": [
    {
     "data": {
      "text/plain": [
       "{'a': 1, 'b': 2, 'c': 3}"
      ]
     },
     "execution_count": 19,
     "metadata": {},
     "output_type": "execute_result"
    }
   ],
   "source": [
    "# 하나의 아이템에 접근 : 딕셔너리 자료형\n",
    "\n",
    "    ## 딕셔너리 자료형에 대해서는 반복문 접근시 key값 기준으로 접근됨\n",
    "    ## 따라서 딕셔너리 접근은 .keys()의 요소에 접근하는 것과 결과가 동일함\n",
    "\n",
    "d1 = {'a':1, 'b':2, 'c':3}\n",
    "d1"
   ]
  },
  {
   "cell_type": "code",
   "execution_count": 20,
   "id": "9d106200",
   "metadata": {},
   "outputs": [
    {
     "name": "stdout",
     "output_type": "stream",
     "text": [
      "a\n",
      "b\n",
      "c\n"
     ]
    }
   ],
   "source": [
    "for key in d1 :\n",
    "    print(key)"
   ]
  },
  {
   "cell_type": "code",
   "execution_count": 21,
   "id": "413bb3a8",
   "metadata": {},
   "outputs": [
    {
     "name": "stdout",
     "output_type": "stream",
     "text": [
      "a\n",
      "b\n",
      "c\n"
     ]
    }
   ],
   "source": [
    "for k in d1.keys() :\n",
    "    print(k)"
   ]
  },
  {
   "cell_type": "code",
   "execution_count": 22,
   "id": "56865d73",
   "metadata": {},
   "outputs": [
    {
     "name": "stdout",
     "output_type": "stream",
     "text": [
      "1\n",
      "2\n",
      "3\n"
     ]
    }
   ],
   "source": [
    "for v in d1.values() :\n",
    "    print(v)"
   ]
  },
  {
   "cell_type": "code",
   "execution_count": 23,
   "id": "98400820",
   "metadata": {},
   "outputs": [
    {
     "name": "stdout",
     "output_type": "stream",
     "text": [
      "a 1\n",
      "b 2\n",
      "c 3\n"
     ]
    }
   ],
   "source": [
    "## dic 타입에서 value값 가져오기 (.value()를 사용하지 않고 가져오기)\n",
    "\n",
    "\n",
    "for k in d1 :\n",
    "    print(k, d1[k])"
   ]
  },
  {
   "cell_type": "code",
   "execution_count": 24,
   "id": "b3762925",
   "metadata": {},
   "outputs": [
    {
     "name": "stdout",
     "output_type": "stream",
     "text": [
      "1\n",
      "2\n",
      "3\n"
     ]
    }
   ],
   "source": [
    "## values()를 이용해서 value값만 조회\n",
    "\n",
    "for k in d1.values() :\n",
    "    print(k)"
   ]
  },
  {
   "cell_type": "code",
   "execution_count": 26,
   "id": "0a34b442",
   "metadata": {},
   "outputs": [
    {
     "name": "stdout",
     "output_type": "stream",
     "text": [
      "('a', 1)\n",
      "('b', 2)\n",
      "('c', 3)\n"
     ]
    }
   ],
   "source": [
    "# 아이템에 접근하기\n",
    "\n",
    "for i in d1.items() :\n",
    "        print(i)"
   ]
  },
  {
   "cell_type": "code",
   "execution_count": 28,
   "id": "16074373",
   "metadata": {},
   "outputs": [
    {
     "name": "stdout",
     "output_type": "stream",
     "text": [
      "1 2\n"
     ]
    }
   ],
   "source": [
    "## 파이썬 특성상 \n",
    "\n",
    "a, b = 1, 2 \n",
    "\n",
    "###=> 하나씩 맞춰서 대입이 됨\n",
    "\n",
    "print(a, b)"
   ]
  },
  {
   "cell_type": "code",
   "execution_count": 29,
   "id": "0c7d05b2",
   "metadata": {},
   "outputs": [
    {
     "name": "stdout",
     "output_type": "stream",
     "text": [
      "a\n",
      "1\n",
      "b\n",
      "2\n",
      "c\n",
      "3\n"
     ]
    }
   ],
   "source": [
    "### 튜플 특성을 이용한 .items() 요소에 접근하기 ( 키와 밸류를 각각 다른 변수에 저장할 수 있음.)\n",
    "\n",
    "for k, v in d1.items() :\n",
    "    print(k)\n",
    "    print(v)"
   ]
  },
  {
   "cell_type": "raw",
   "id": "d308a07a",
   "metadata": {},
   "source": [
    "　"
   ]
  },
  {
   "cell_type": "markdown",
   "id": "88008753",
   "metadata": {},
   "source": [
    "## range 함수\n",
    "\n",
    "    - 지정된 시작값과 끝 값 사이의 숫자들을 자동으로 생성하여 range 객체로 반환하는 함수\n",
    "    \n",
    "    - 문법 : range(시작값, 끝값, [간격] )\n",
    "    \n",
    "    - 특징 : 슬라이싱과 유사하게 끝나는 값은 포함되지 않는다."
   ]
  },
  {
   "cell_type": "code",
   "execution_count": 32,
   "id": "7734054d",
   "metadata": {},
   "outputs": [
    {
     "name": "stdout",
     "output_type": "stream",
     "text": [
      "hello world\n",
      "hello world\n",
      "hello world\n",
      "hello world\n",
      "hello world\n"
     ]
    }
   ],
   "source": [
    "# range 함수 왜 쓰냐?\n",
    "\n",
    "## 만약 for문을 5번 반복하고 싶다면 우리는\n",
    "    \n",
    "for i in [1, 2, 3, 4, 5] :\n",
    "    print(\"hello world\")\n",
    "    \n",
    "## 이렇게 사용한다. 근데 이건 좀.."
   ]
  },
  {
   "cell_type": "code",
   "execution_count": 35,
   "id": "903f7af8",
   "metadata": {},
   "outputs": [
    {
     "data": {
      "text/plain": [
       "range(0, 10)"
      ]
     },
     "execution_count": 35,
     "metadata": {},
     "output_type": "execute_result"
    }
   ],
   "source": [
    "## range()는 숫자를 하나만 넣으면 0 ~ 넣은 숫자-1 까지의 범위를 만들어준다.\n",
    "\n",
    "range(10)\n",
    "\n",
    "## 숫ㅈㅏ를 하나만 넣으면 자동으로 시작값을 0으로 잡는다."
   ]
  },
  {
   "cell_type": "code",
   "execution_count": 37,
   "id": "746e3870",
   "metadata": {},
   "outputs": [
    {
     "data": {
      "text/plain": [
       "[0, 1, 2, 3, 4, 5, 6, 7, 8, 9]"
      ]
     },
     "execution_count": 37,
     "metadata": {},
     "output_type": "execute_result"
    }
   ],
   "source": [
    "## range()를 list()로 감싸면 0~ 9까지 나열된 리스트가 완성된다.\n",
    "## ★ for in 문에서는 굳이 list로 바꿀 필요는 없다.\n",
    "\n",
    "list(range(10))"
   ]
  },
  {
   "cell_type": "code",
   "execution_count": 38,
   "id": "0438e594",
   "metadata": {
    "collapsed": true
   },
   "outputs": [
    {
     "name": "stdout",
     "output_type": "stream",
     "text": [
      "0\n",
      "1\n",
      "2\n",
      "3\n",
      "4\n",
      "5\n",
      "6\n",
      "7\n",
      "8\n",
      "9\n",
      "10\n",
      "11\n",
      "12\n",
      "13\n",
      "14\n",
      "15\n",
      "16\n",
      "17\n",
      "18\n",
      "19\n",
      "20\n",
      "21\n",
      "22\n",
      "23\n",
      "24\n",
      "25\n",
      "26\n",
      "27\n",
      "28\n",
      "29\n",
      "30\n",
      "31\n",
      "32\n",
      "33\n",
      "34\n",
      "35\n",
      "36\n",
      "37\n",
      "38\n",
      "39\n",
      "40\n",
      "41\n",
      "42\n",
      "43\n",
      "44\n",
      "45\n",
      "46\n",
      "47\n",
      "48\n",
      "49\n",
      "50\n",
      "51\n",
      "52\n",
      "53\n",
      "54\n",
      "55\n",
      "56\n",
      "57\n",
      "58\n",
      "59\n",
      "60\n",
      "61\n",
      "62\n",
      "63\n",
      "64\n",
      "65\n",
      "66\n",
      "67\n",
      "68\n",
      "69\n",
      "70\n",
      "71\n",
      "72\n",
      "73\n",
      "74\n",
      "75\n",
      "76\n",
      "77\n",
      "78\n",
      "79\n",
      "80\n",
      "81\n",
      "82\n",
      "83\n",
      "84\n",
      "85\n",
      "86\n",
      "87\n",
      "88\n",
      "89\n",
      "90\n",
      "91\n",
      "92\n",
      "93\n",
      "94\n",
      "95\n",
      "96\n",
      "97\n",
      "98\n",
      "99\n"
     ]
    }
   ],
   "source": [
    "## ★ 공식\n",
    "\n",
    "### range(반복횟수)를 넣으면 알아서 원하는 바퀴만큼 돌려준다.\n",
    "\n",
    "for i in range(100) :\n",
    "    print(i)"
   ]
  },
  {
   "cell_type": "code",
   "execution_count": 39,
   "id": "44d71320",
   "metadata": {},
   "outputs": [],
   "source": [
    "## 만약에 0부터 시작하게 하고 싶지 않다면, 숫자 두 개를 넣습니다.\n",
    "\n",
    "### 시작값 : 시작값 그대로\n",
    "### 끝 값 : -1 (했을때 원하는 값이 되도록)\n"
   ]
  },
  {
   "cell_type": "code",
   "execution_count": 42,
   "id": "3d377c00",
   "metadata": {},
   "outputs": [
    {
     "name": "stdout",
     "output_type": "stream",
     "text": [
      "1\n",
      "2\n",
      "3\n",
      "4\n",
      "5\n"
     ]
    }
   ],
   "source": [
    "### 1~5까지 콘솔창에 한 줄씩 세로로 출력해주세요\n",
    "\n",
    "for i in range(1, 6) :\n",
    "    print(i)"
   ]
  },
  {
   "cell_type": "code",
   "execution_count": 44,
   "id": "9c1d8421",
   "metadata": {},
   "outputs": [
    {
     "data": {
      "text/plain": [
       "[1, 2, 3, 4, 5]"
      ]
     },
     "execution_count": 44,
     "metadata": {},
     "output_type": "execute_result"
    }
   ],
   "source": [
    "list (range(1, 6))"
   ]
  },
  {
   "cell_type": "code",
   "execution_count": 45,
   "id": "6afb442d",
   "metadata": {},
   "outputs": [
    {
     "data": {
      "text/plain": [
       "range(1, 6)"
      ]
     },
     "execution_count": 45,
     "metadata": {},
     "output_type": "execute_result"
    }
   ],
   "source": [
    "range(1, 6)"
   ]
  },
  {
   "cell_type": "code",
   "execution_count": 46,
   "id": "12c05e56",
   "metadata": {},
   "outputs": [
    {
     "name": "stdout",
     "output_type": "stream",
     "text": [
      "5\n",
      "4\n",
      "3\n",
      "2\n",
      "1\n"
     ]
    }
   ],
   "source": [
    "## 세 번째 숫자는 증가값이 아닌, '증감값'이므로 음수가 들어갈 수 있다.\n",
    "### 이 경우, 시작 숫자가 목표 숫ㅈㅏ보다 커야한다.\n",
    "\n",
    "for i in range(5, 0, -1) :\n",
    "    print(i)"
   ]
  },
  {
   "cell_type": "markdown",
   "id": "66f5006e",
   "metadata": {},
   "source": [
    "## << 연습 문제 >> 별 찍기\n",
    "\n",
    "print(출력할자료, end=\"\")\n",
    "\n",
    "구문을 이용해서 출력하면 개행이 일어나지 않고\n",
    "\n",
    "print()를 적으면 그 때 개행이 일어납니다.\n",
    "\n",
    "위 원리를 이용해\n",
    "\n",
    "*\n",
    "**\n",
    "***\n",
    "****\n",
    "\n",
    "형태의 별을 찍어주세요\n",
    "\n",
    "중첩 반복문을 써주시면 됩니다."
   ]
  },
  {
   "cell_type": "code",
   "execution_count": 68,
   "id": "487d427a",
   "metadata": {},
   "outputs": [
    {
     "name": "stdout",
     "output_type": "stream",
     "text": [
      "*\n",
      "**\n",
      "***\n",
      "****\n"
     ]
    }
   ],
   "source": [
    "## 그냥 찍히는대로 풀어봄\n",
    "\n",
    "for i in range(1, 5) :\n",
    "    for j in range(1) :\n",
    "        print(\"*\" * i, end =\"\")\n",
    "    print(\"\")"
   ]
  },
  {
   "cell_type": "code",
   "execution_count": 60,
   "id": "ae0e1c33",
   "metadata": {},
   "outputs": [
    {
     "data": {
      "text/plain": [
       "[1, 2, 3, 4]"
      ]
     },
     "execution_count": 60,
     "metadata": {},
     "output_type": "execute_result"
    }
   ],
   "source": [
    "list (range(1, 5))"
   ]
  },
  {
   "cell_type": "code",
   "execution_count": 66,
   "id": "cddedac6",
   "metadata": {},
   "outputs": [
    {
     "data": {
      "text/plain": [
       "[0]"
      ]
     },
     "execution_count": 66,
     "metadata": {},
     "output_type": "execute_result"
    }
   ],
   "source": [
    "list(range(1))"
   ]
  },
  {
   "cell_type": "code",
   "execution_count": 70,
   "id": "2fde3ccb",
   "metadata": {},
   "outputs": [
    {
     "name": "stdout",
     "output_type": "stream",
     "text": [
      "*\n",
      "**\n",
      "***\n",
      "****\n"
     ]
    }
   ],
   "source": [
    "## 선생님 힌트 받고 다시 품\n",
    "\n",
    "for i in range(1, 5) :\n",
    "    for j in range(i) :\n",
    "        print(\"*\", end =\"\")\n",
    "    print(\"\")"
   ]
  },
  {
   "cell_type": "code",
   "execution_count": 74,
   "id": "61a3eed1",
   "metadata": {},
   "outputs": [
    {
     "name": "stdout",
     "output_type": "stream",
     "text": [
      "****"
     ]
    }
   ],
   "source": [
    "for j in range(4) :\n",
    "        print(\"*\", end =\"\")"
   ]
  },
  {
   "cell_type": "code",
   "execution_count": 75,
   "id": "16b26d82",
   "metadata": {},
   "outputs": [
    {
     "data": {
      "text/plain": [
       "[0]"
      ]
     },
     "execution_count": 75,
     "metadata": {},
     "output_type": "execute_result"
    }
   ],
   "source": [
    "list(range(1))"
   ]
  },
  {
   "cell_type": "code",
   "execution_count": null,
   "id": "e6ca7bae",
   "metadata": {},
   "outputs": [],
   "source": []
  }
 ],
 "metadata": {
  "kernelspec": {
   "display_name": "Python 3",
   "language": "python",
   "name": "python3"
  },
  "language_info": {
   "codemirror_mode": {
    "name": "ipython",
    "version": 3
   },
   "file_extension": ".py",
   "mimetype": "text/x-python",
   "name": "python",
   "nbconvert_exporter": "python",
   "pygments_lexer": "ipython3",
   "version": "3.8.8"
  }
 },
 "nbformat": 4,
 "nbformat_minor": 5
}
